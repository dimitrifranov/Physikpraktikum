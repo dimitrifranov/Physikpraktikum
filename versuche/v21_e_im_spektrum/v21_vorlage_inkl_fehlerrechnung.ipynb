{
 "cells": [
  {
   "cell_type": "markdown",
   "id": "d507c8b7",
   "metadata": {},
   "source": [
    "# Bericht zu Versuch NN \"Versuchstitel\""
   ]
  },
  {
   "cell_type": "markdown",
   "id": "04e05eff",
   "metadata": {},
   "source": [
    "**Datum:** <2022-1M-DD>\n",
    " \n",
    " - **Student 1:** <vollständiger Name>\n",
    " - **Student 2:** <vollständiger Name>"
   ]
  },
  {
   "cell_type": "markdown",
   "id": "0e484b96",
   "metadata": {},
   "source": [
    "## 1. Überblick\n",
    "\n",
    "### Einführung\n",
    "\n",
    "- Um was geht es in dem Versuch? Was ist das Ziel?\n",
    "\n",
    "### 1.2 Zusammenfassung der Theorie\n",
    "\n",
    "- Erläuterung der benutzten Formeln inkl. Variablenbeschriftung (Bsp. vom Vorversuch)\n",
    "    - Darstellung z.B. durch \"\\\\$\\\\$ T = 2\\pi \\sqrt{\\frac{L}{g}} \\\\$\\\\$\" --> $$T=2\\pi\\sqrt{\\frac{L}{g}}$$, wobei $T$ die Schinwungsdauer des Pendels für eine Oszillation, $L$ die Länge des Pendels und $g$ die Erdbeschleunigung.\n",
    "    - $$\\phi = A \\exp(-\\frac{\\gamma t}{2})\\cos(\\omega t + \\alpha)$$, wobei $\\phi$ die Auslenkung der Schwingung, $A$ die ursprüngliche Amplitude der Schwingung, $\\gamma$ der Reibungskoeffizient und $\\omega$ die Kreisfrequenz.\n",
    "\n",
    "### 1.3 Aufgaben\n",
    "\n",
    "- Was sind die Aufgabenstellungen für den Versuch?\n",
    "\n",
    "### 1.4 Umweltrelevanz\n",
    "\n",
    "- Inwiefern ist der Versuch relevant für euer Studium in Umweltwissenschaften? (1-2 Sätze)"
   ]
  },
  {
   "cell_type": "markdown",
   "id": "0ecc9542",
   "metadata": {},
   "source": [
    "### 2. Messdaten"
   ]
  },
  {
   "cell_type": "code",
   "execution_count": 1,
   "id": "244afd3e",
   "metadata": {},
   "outputs": [],
   "source": [
    "# Importieren der benutzten Packages\n",
    "\n",
    "# Meist benötigt: \n",
    "import numpy as np  # Math\n",
    "from uncertainties import ufloat # ufloat( , ) für die Fehlerrechnung\n",
    "from uncertainties.umath import *  # Für Funktionen wie sin, cos\n",
    "\n",
    "# Falls benutzt\n",
    "import pandas as pd # z.B. zum Importieren von Excel-Tabellen (csv-Files)\n",
    "# import matplotlib.pyplot as plt # Plotting\n",
    "# from uncertainties import unumpy # für uncertainties in arrays\n",
    "# from scipy import linregress # Lineare regression"
   ]
  },
  {
   "cell_type": "markdown",
   "id": "f98106da",
   "metadata": {},
   "source": [
    "#### Einlesen und Darstellen der Messdaten (z.B. manuell oder aus CSV-, Excel-Dateien)"
   ]
  },
  {
   "cell_type": "code",
   "execution_count": 2,
   "id": "29931216-e52c-4c37-b305-8fd1d5f86142",
   "metadata": {},
   "outputs": [],
   "source": [
    "## Beispieldaten aus Vorversuch: Gravitationskonstante\n",
    "\n",
    "# Pendellänge\n",
    "L = ufloat(0.72, 0.02) # [m]\n",
    "\n",
    "# Anzahl Oszillationen\n",
    "n = 15\n",
    "\n",
    "# Gemessene Zeit tn für diese Oszillationen\n",
    "tn = ufloat(25, 0.5) # [s]"
   ]
  },
  {
   "cell_type": "code",
   "execution_count": 3,
   "id": "3a0dd307-23c2-4750-b6e1-6de8679ed2f8",
   "metadata": {},
   "outputs": [],
   "source": [
    "## Beispieldaten aus Vorversuch: Aufgabe 4\n",
    "\n",
    "# Daten in csv-Datei\n",
    "#table = pd.read_csv(\"messdaten/messdaten.csv\") # Tabelle der Daten (in Pandas \"data frame\")\n",
    "# Daten in Excel, Openoffice oder ähnlichem Format\n",
    "#table = pd.read_excel(\"messdaten/messdaten.xls\")\n",
    "\n",
    "# Anzeige der Daten\n",
    "#table  "
   ]
  },
  {
   "cell_type": "markdown",
   "id": "fcca4f47-f358-478f-877b-cb1cf9e51ef3",
   "metadata": {},
   "source": [
    "## 3. Auswertung"
   ]
  },
  {
   "cell_type": "markdown",
   "id": "ac64e588-fb1b-40a7-a16d-51080697c129",
   "metadata": {},
   "source": [
    "#### Je nach Aufgabenstellung\n",
    "- Graphische Darstellungen\n",
    "- Berechnungen aller Resultate (inkl. Fehlerrechnung)\n",
    "- Beantwortung der Aufgabenstellungen von 1.3.### 3.1 Abbildungen "
   ]
  },
  {
   "cell_type": "markdown",
   "id": "2ede144a-46d2-4313-a086-289232481244",
   "metadata": {},
   "source": [
    "### 3.1 Graphiken\n"
   ]
  },
  {
   "cell_type": "code",
   "execution_count": 4,
   "id": "50d43a5c-1620-4ce3-ba79-55ba0e9a5337",
   "metadata": {},
   "outputs": [],
   "source": [
    "# Graphiken \n",
    "#table.plot(x=\"Time (s)\",y=\"Gyroscope x (rad/s)\")"
   ]
  },
  {
   "cell_type": "markdown",
   "id": "81e32466-f320-4bc2-b163-aada64d6bae3",
   "metadata": {},
   "source": [
    "### 3.2 Berechnungen der Resultate"
   ]
  },
  {
   "cell_type": "code",
   "execution_count": 5,
   "id": "4d465b5b",
   "metadata": {},
   "outputs": [],
   "source": [
    "## Beispiel Vorversuch,  Gravitationskonstante\n",
    "\n",
    "# Periode T\n",
    "T = tn/n\n",
    "\n",
    "# Gravitationskonstante\n",
    "g = L * (2*np.pi/T)**2"
   ]
  },
  {
   "cell_type": "markdown",
   "id": "8d348b0c-3148-48ff-a3e4-276c62a00b3a",
   "metadata": {
    "tags": []
   },
   "source": [
    "#### __Hilfsfunktionen zur Berechnung__"
   ]
  },
  {
   "cell_type": "markdown",
   "id": "53bbe6e2-c691-44d4-ae8f-d344de26d8c9",
   "metadata": {
    "tags": []
   },
   "source": [
    "#### Fitfunkion der Eichkurve\n",
    "Kann verwendet werden, um  die Werte nicht manuell aus der Eichkurve ablesen zu müssen.  \n",
    "Vor allem für Aufgabe 2 sinnvoll!!"
   ]
  },
  {
   "cell_type": "code",
   "execution_count": 6,
   "id": "9666911a-29fc-41be-bb1e-a42f39078764",
   "metadata": {
    "tags": []
   },
   "outputs": [],
   "source": [
    "# generisches Polynom\n",
    "def polynom(coefficients, x): # coefficients: array mit den Koeffizienten\n",
    "    poly = 0\n",
    "    for i in range(len(coefficients)):\n",
    "        poly = poly + coefficients[i]*x**i\n",
    "    return poly\n",
    "\n",
    "# Fitfunktion für log10(lambda)\n",
    "def log10lambda(x): # lambda in Mikrometer, x = gamma0-gamma [°] \n",
    "    coefficients = [-0.23991, -0.01573, 0.00226, -1.21005E-4, -7.53654E-5, -4.09306E-6, 1.70008E-6, 1.30007E-7] # B0 ... B7 von der Eichkurven-Fitfunktion\n",
    "    return polynom(coefficients, x)\n",
    "\n",
    "# Fitfunktion von log10(|dlambda/dgamma|)\n",
    "def log10dlambda_dgamma(x): # lambda in Mikrometer, x = gamma0 - gamma [°] \n",
    "    coefficients = [-1.63959,-0.08758,0.00106,5.9517E-4,1.86036E-4,-2.01466E-5,-3.45518E-6,-5.57806E-8]\n",
    "    return polynom(coefficients,x)"
   ]
  },
  {
   "cell_type": "markdown",
   "id": "21a513a5-43f3-488a-a888-9f8b5978337e",
   "metadata": {
    "tags": []
   },
   "source": [
    "#### Einlesen der Messdatentabelle und erstellen einer Tabelle mit Ergebnissen (für Aufgabe 2) \n",
    "Messwerte für de Ablenkwinkel $\\gamma$ und die Intensität $I$ können in die Tabelle '21_Messdaten/21_Messdaten1.csv' eingetragen werden.  \n",
    "  \n",
    "Diese Funktion \n",
    "- liest die Messdaten aus der csv-Tabelle ein (__Tipp:__ Erstelle für jede der 3 Messreihen eine eigene Messdatentabelle)\n",
    "- berechnet alle gesuchten Werte (siehe Tabelle auf dem Messblatt)  \n",
    "<font color='red'>Der Code zur Berechnung von $\\log(\\lambda)\\ldots, \\ldots, CE$ muss von euch noch ergänzt werden! </font>\n",
    "- erstellt eine Tabelle mit Messergebnissen + berechneten Werte als output  \n",
    "<font color='red'>Einheiten eurer Ergebnisse bitte ergänzen!</font>"
   ]
  },
  {
   "cell_type": "code",
   "execution_count": 7,
   "id": "82c13498-10a5-42cb-a346-fb18953d794c",
   "metadata": {},
   "outputs": [],
   "source": [
    "from uncertainties import unumpy as unp\n",
    "\n",
    "# Tabelle erstellen für Aufgabe 2 - Energieverteilung einer Wolframband-/Halogenlampe \n",
    "\n",
    "def createResultsTable(filename,gamma0,deltagamma,deltaI): \n",
    "    # input: filename: Name/Path der csv-Messdatentabelle, z.B.'21_Messdaten/21_Messdaten1.csv'\n",
    "    #        gamma0: aus Aufgabe 1\n",
    "    #        deltagamma: Messfehler für gamma\n",
    "    #        deltaI: Messfehler für I\n",
    "                                                            \n",
    "    \n",
    "    # EINLESEN\n",
    "    \n",
    "    # Messdatentabelle einlesen\n",
    "    messdaten = pd.read_csv(filename)\n",
    "    \n",
    "    # Gemessene Werte aus Tabelle in arrays konvertieren\n",
    "    gamma = unp.uarray(messdaten['gamma'].values,deltagamma)\n",
    "    I = unp.uarray(messdaten['I'].values, deltaI)\n",
    "\n",
    "    # BRECHNUNGEN\n",
    "    \n",
    "    # Definiere (leere) Arrays für jede Spalte der Tabelle am Messblatt \n",
    "    gammadiff = []         # gamma0-gamma [°]\n",
    "    loglambda = []         # log(lambda) \n",
    "    Lambda = []            # lambda [Einheit?]\n",
    "    logdlambda = []        # log(|dlambda/dgamma|)\n",
    "    dlambda = []           # dlambda/dgamma [Einheit?]\n",
    "    CE = []                # C*E [Einheit?]\n",
    "    gamma0err = ufloat(gamma0,deltagamma) # gamma0 with error deltagamma\n",
    "    \n",
    "    # Werte ohne Fehler (für Plot)\n",
    "    Lambdavalue = []\n",
    "    CEvalue = []\n",
    "\n",
    "    # Berechne die Elemente für obige Arrays aus den Messwerten gamma und I\n",
    "    # Die Berechnung muss für jedes Element eines Arrays separat erfolgen -> verwende for-Schleife\n",
    "    for i in range(len(gamma)): # i = index der Elemente in gamma1; z.B. gamma1 hat 10 Elemente -> i geht von 0 bis 9\n",
    "    \n",
    "        # Berechnung von gamma0-gamma (hier als Beispiel):\n",
    "        gammadiff.append(gamma0err - gamma[i]) # für jedes Element i aus gamma1 füge ein Element zu gammadiff1 hinzu, \n",
    "                                            # das dem Wert (gamma0 - gamma1[i]) hat\n",
    "        \n",
    "        # Berechnung von loglambda1\n",
    "        # loglambda.append(<formel zur Berechnung von loglambda>)\n",
    "    \n",
    "        # Berechnung von lambda1\n",
    "        #Lambda.append(<formel zur Berechnung von loglambda>)\n",
    "    \n",
    "        # Berechnung von logdlambda1\n",
    "        #logdlambda.append(<formel zur Berechnung von loglambda>)\n",
    "    \n",
    "        # Berechnung von dlambda1\n",
    "        #dlambda.append(<formel zur Berechnung von loglambda>)\n",
    "    \n",
    "        # Berechnung von CE1\n",
    "        #CE.append(<formel zur Berechnung von loglambda>)\n",
    "        \n",
    "        #  Erstelle arrays ohne den Standardabweichungen (zum Plotten)\n",
    "        Lambdavalue.append(Lambda[i].n)\n",
    "        CEvalue.append(CE[i].n)\n",
    "    \n",
    "\n",
    "    # OUTPUT\n",
    "    \n",
    "    # Erstelle pandas-Tabelle für Ergebnisse\n",
    "    # Namen der Spalten (Bitte entsprechende Einheiten eintragen in [])\n",
    "    columnnames = ['gamma ','gamma0-gamma','log(lambda)','lambda','log(dlambda)','dlambda','I' ,'C*E']\n",
    "    einheiten =   ['[°]'   ,'[°]'         ,''           ,'[]'    ,''            ,'[]'     ,'[]','[]' ]\n",
    "    \n",
    "    # Daten: Matrix mit Messdaten + berechneten Daten\n",
    "    data = np.array([gamma,gammadiff,loglambda,Lambda,logdlambda,dlambda,I,CE], dtype=object)\n",
    "    ergebnisse = pd.DataFrame(data.transpose(), columns=[columnnames,einheiten])\n",
    "    \n",
    "    # print Tabelle\n",
    "    with pd.option_context('display.max_rows', None,\n",
    "                       'display.max_columns', None,\n",
    "                       'display.precision', 2,    # Anzahl angezeigter Nachkommastellen\n",
    "                       ):\n",
    "        print(ergebnisse)\n",
    "    \n",
    "    #Plot Ergebnisse\n",
    "    #plt.title(<...>)\n",
    "    plt.plot(Lambdavalue,CEvalue)\n",
    "    #plt.xlabel(<...>)\n",
    "    #plt.ylabel(<...>)\n",
    "    plt.show()    "
   ]
  },
  {
   "cell_type": "markdown",
   "id": "9aa6a320-9bac-43b9-869c-fcd07c9b7458",
   "metadata": {
    "tags": []
   },
   "source": [
    "### Resultate"
   ]
  },
  {
   "cell_type": "code",
   "execution_count": 9,
   "id": "3d46de96-888f-463f-82bb-d5ec51ba1bca",
   "metadata": {},
   "outputs": [
    {
     "name": "stdout",
     "output_type": "stream",
     "text": [
      "Berechnete Gravitationskonstante g = (10.2±0.5) m/^2\n"
     ]
    }
   ],
   "source": [
    "print(\"Berechnete Gravitationskonstante g = ({:P}) m/^2\".format(g))"
   ]
  },
  {
   "cell_type": "markdown",
   "id": "e0916f58",
   "metadata": {},
   "source": [
    "So wird die Funktion 'createResultsTable' aufgerufen und die Tabelle erstellt:"
   ]
  },
  {
   "cell_type": "code",
   "execution_count": 1,
   "id": "56204b9d-b662-456b-b3ad-30de500f1c05",
   "metadata": {
    "tags": []
   },
   "outputs": [],
   "source": [
    "#createResultsTable(<Dateipfad für Messdaten>,<Wert für gamma0>, <Fehler für gamma>,<Fehler für I>)"
   ]
  },
  {
   "cell_type": "markdown",
   "id": "90240c6c",
   "metadata": {
    "jp-MarkdownHeadingCollapsed": true,
    "tags": []
   },
   "source": [
    "### 3.3 Bestimmung der Genauigkeit\n",
    "\n",
    "- Welche Messfehler wurden angenommen? Warum?\n",
    "- Ausführung der Fehlerrechnung, falls nicht mit ufloat berechnet"
   ]
  },
  {
   "cell_type": "markdown",
   "id": "54670327",
   "metadata": {},
   "source": [
    "## 4. Bewertung und Einordnung der Ergebnisse\n",
    "\n",
    "**Je nach Ergebnis:**\n",
    "\n",
    "- Sind die Ergebnisse realistisch? Warum (nicht)? Vergleich mit Theorie?\n",
    "- Was sind die Hauptgründe für die Fehler eurer Ergebnisse und wie kommen sie zustande?\n",
    "- Wie würdet ihr versuchen, diese weiter zu verringern.\n",
    "- Wenn ihr den Versuch wiederholen würdet, was würdet ihr anders machen und warum?\n",
    "- Wie könnte man die Genauigkeit des Versuchs verbessern?\n",
    "\n",
    "**Anmerkung: Bitte das Messblatt mit abgeben, wenn beim Protokollieren der Messwerte benutzt wurde.**"
   ]
  },
  {
   "cell_type": "code",
   "execution_count": null,
   "id": "396dcc8f-9bdd-40f9-a2a4-340e5ae44e07",
   "metadata": {},
   "outputs": [],
   "source": []
  }
 ],
 "metadata": {
  "kernelspec": {
   "display_name": "Python 3 (ipykernel)",
   "language": "python",
   "name": "python3"
  },
  "language_info": {
   "codemirror_mode": {
    "name": "ipython",
    "version": 3
   },
   "file_extension": ".py",
   "mimetype": "text/x-python",
   "name": "python",
   "nbconvert_exporter": "python",
   "pygments_lexer": "ipython3",
   "version": "3.9.13"
  }
 },
 "nbformat": 4,
 "nbformat_minor": 5
}
