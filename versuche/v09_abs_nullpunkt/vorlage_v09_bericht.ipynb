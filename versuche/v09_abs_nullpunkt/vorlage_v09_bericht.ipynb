{
 "cells": [
  {
   "cell_type": "markdown",
   "id": "d507c8b7",
   "metadata": {},
   "source": [
    "# Bericht zu Versuch 09 \"Absoluter Nullpunkt\"\n",
    "\n",
    "\n",
    "**Hinweis:** Diese Vorlage enthält einige Tipps zur Auswertung.  Ansonsten basiert sie auf der Standardvorlage und muss angepasst werden! **Unnötiges bitte löschen!**"
   ]
  },
  {
   "cell_type": "markdown",
   "id": "04e05eff",
   "metadata": {},
   "source": [
    "**Datum:** <2022-1M-DD>\n",
    " \n",
    " - **Student 1:** <vollständiger Name>\n",
    " - **Student 2:** <vollständiger Name>"
   ]
  },
  {
   "cell_type": "markdown",
   "id": "0e484b96",
   "metadata": {
    "tags": []
   },
   "source": [
    "## 1. Überblick\n",
    "\n",
    "### Einführung\n",
    "\n",
    "- Um was geht es in dem Versuch? Was ist das Ziel?\n",
    "\n",
    "### 1.2 Zusammenfassung der Theorie\n",
    "\n",
    "- Erläuterung der benutzten Formeln inkl. Variablenbeschriftung (Bsp. vom Vorversuch)\n",
    "    - Darstellung z.B. durch \"\\\\$\\\\$ T = 2\\pi \\sqrt{\\frac{L}{g}} \\\\$\\\\$\" --> $$T=2\\pi\\sqrt{\\frac{L}{g}}$$, wobei $T$ die Schinwungsdauer des Pendels für eine Oszillation, $L$ die Länge des Pendels und $g$ die Erdbeschleunigung.\n",
    "    - $$\\phi = A \\exp(-\\frac{\\gamma t}{2})\\cos(\\omega t + \\alpha)$$, wobei $\\phi$ die Auslenkung der Schwingung, $A$ die ursprüngliche Amplitude der Schwingung, $\\gamma$ der Reibungskoeffizient und $\\omega$ die Kreisfrequenz.\n",
    "\n",
    "### 1.3 Aufgaben\n",
    "\n",
    "- Was sind die Aufgabenstellungen für den Versuch?\n",
    "\n",
    "### 1.4 Umweltrelevanz\n",
    "\n",
    "- Inwiefern ist der Versuch relevant für euer Studium in Umweltwissenschaften? (1-2 Sätze)"
   ]
  },
  {
   "cell_type": "markdown",
   "id": "0ecc9542",
   "metadata": {},
   "source": [
    "### 2. Messdaten"
   ]
  },
  {
   "cell_type": "code",
   "execution_count": null,
   "id": "244afd3e",
   "metadata": {},
   "outputs": [],
   "source": [
    "# Importieren der benutzten Packages\n",
    "\n",
    "# Meist benötigt: \n",
    "import numpy as np  # Math\n",
    "from uncertainties import ufloat # ufloat( , ) für die Fehlerrechnung\n",
    "from uncertainties.umath import *  # Für Funktionen wie sin, cos\n",
    "\n",
    "# Falls benutzt\n",
    "# import pandas as pd # z.B. zum Importieren von Excel-Tabellen (csv-Files)\n",
    "# import matplotlib.pyplot as plt # Plotting\n",
    "# from uncertainties import unumpy # für uncertainties in arrays\n",
    "# from scipy import linregress # Lineare regression"
   ]
  },
  {
   "cell_type": "markdown",
   "id": "f98106da",
   "metadata": {},
   "source": [
    "#### Einlesen und Darstellen der Messdaten (z.B. manuell oder aus CSV-, Excel-Dateien)"
   ]
  },
  {
   "cell_type": "code",
   "execution_count": null,
   "id": "29931216-e52c-4c37-b305-8fd1d5f86142",
   "metadata": {},
   "outputs": [],
   "source": [
    "## Beispieldaten aus Vorversuch: Gravitationskonstante\n",
    "\n",
    "# Pendellänge\n",
    "L = ufloat(0.72, 0.02) # [m]\n",
    "\n",
    "# Anzahl Oszillationen\n",
    "n = 15\n",
    "\n",
    "# Gemessene Zeit tn für diese Oszillationen\n",
    "tn = ufloat(25, 0.5) # [s]"
   ]
  },
  {
   "cell_type": "code",
   "execution_count": null,
   "id": "3a0dd307-23c2-4750-b6e1-6de8679ed2f8",
   "metadata": {},
   "outputs": [],
   "source": [
    "## Beispieldaten aus Vorversuch: Aufgabe 4\n",
    "\n",
    "# Daten in csv-Datei\n",
    "#table = pd.read_csv(\"messdaten/messdaten.csv\") # Tabelle der Daten (in Pandas \"data frame\")\n",
    "# Daten in Excel, Openoffice oder ähnlichem Format\n",
    "#table = pd.read_excel(\"messdaten/messdaten.xls\")\n",
    "\n",
    "# Anzeige der Daten\n",
    "#table  "
   ]
  },
  {
   "cell_type": "markdown",
   "id": "fcca4f47-f358-478f-877b-cb1cf9e51ef3",
   "metadata": {},
   "source": [
    "## 3. Auswertung"
   ]
  },
  {
   "cell_type": "markdown",
   "id": "ac64e588-fb1b-40a7-a16d-51080697c129",
   "metadata": {
    "tags": []
   },
   "source": [
    "#### Je nach Aufgabenstellung\n",
    "- Graphische Darstellungen\n",
    "- Berechnungen aller Resultate (inkl. Fehlerrechnung)\n",
    "- Beantwortung der Aufgabenstellungen von 1.3.### 3.1 Abbildungen "
   ]
  },
  {
   "cell_type": "markdown",
   "id": "3a7d2acf-486b-471a-b284-a6662a8472b9",
   "metadata": {},
   "source": [
    "## Messwerte\n",
    "Hier können nun die Messwerte mit der *ufloat* funktion eingelesen werden."
   ]
  },
  {
   "cell_type": "code",
   "execution_count": null,
   "id": "65e36678-bbff-412f-9942-f462ced5eecd",
   "metadata": {},
   "outputs": [],
   "source": [
    "# Beispiel:\n",
    "p_test = ufloat(707.42,0.1) # [mmHg]\n",
    "print(p_test)\n",
    "\n",
    "# Raumdruck und Temperatur\n",
    "# p_Lhg = ufloat(..., ...)\n",
    "\n",
    "# Druck und Spannung\n",
    "\n",
    "# Spannung im Vakuum\n",
    "\n",
    "# Siedendes Wasser\n",
    "\n",
    "# Eiswasser"
   ]
  },
  {
   "cell_type": "markdown",
   "id": "2ede144a-46d2-4313-a086-289232481244",
   "metadata": {},
   "source": [
    "### 3.1 Graphiken\n"
   ]
  },
  {
   "cell_type": "code",
   "execution_count": null,
   "id": "50d43a5c-1620-4ce3-ba79-55ba0e9a5337",
   "metadata": {},
   "outputs": [],
   "source": [
    "# Graphiken \n",
    "#table.plot(x=\"Time (s)\",y=\"Gyroscope x (rad/s)\")"
   ]
  },
  {
   "cell_type": "markdown",
   "id": "723150ea-9f2f-498b-81f9-2b0272656e20",
   "metadata": {
    "jp-MarkdownHeadingCollapsed": true,
    "tags": []
   },
   "source": [
    "### 3.2 Berechnungen der Resultate"
   ]
  },
  {
   "cell_type": "markdown",
   "id": "afbaa7d2-380b-4b43-9118-904a9a307057",
   "metadata": {},
   "source": [
    "###  Hilfsfunktionen zur Berechnung\n",
    "Die Formeln aus dem Skript werden am besten als Funktionen abgespeichert, damit man diese mit unterschiedlichen Werten leicht mehrmals anwenden kann. t00 ist dabei der absolute Nullpunkt, welcher auch im Skript unter Formel 13 angegeben ist. t0 ist die Formel für die genauere Berechnung des absoluten Nullpunkt. Mit U2p kann die Spannung in den Druck umgewandelt werden."
   ]
  },
  {
   "cell_type": "code",
   "execution_count": null,
   "id": "e3874d9b-09f6-4065-9045-a6a68afab40f",
   "metadata": {},
   "outputs": [],
   "source": [
    "def t00(p_E, p_K,t_K): \n",
    "    \"\"\" \n",
    "    Approximate absolute zero temperature\n",
    "    according to manual eq. (13)\n",
    "    Notation as in the manual. \n",
    "    \"\"\"\n",
    "    t00 = - p_E/(p_K - p_E) * t_K\n",
    "    return t00\n",
    "\n",
    "def t0(p_E, p_K, t_E, t_K, t_L, eps, gamma):\n",
    "    \"\"\"\n",
    "    More accurate formula to apsolute zero. Eq. (22) in the manual\n",
    "    Notation as in the manual.\n",
    "    \"\"\"\n",
    "    a = (1 + eps)*p_E - (1 + eps + gamma*t_K)*p_K\n",
    "    b = eps*(p_K-p_E)*t_K + (1 + gamma*t_K)*p_K*t_L - p_E*(t_L+t_K)\n",
    "    c = p_E*t_L*t_K\n",
    "    #print(\"a = {:P}, b = {:P}, c = {:P}\".format(a,b,c))\n",
    "    t0 = (-b + (b**2 - 4*a*c)**0.5)/(2*a)\n",
    "    return t0\n",
    "\n",
    "def U2p(U,U_t,U_L,p_L):\n",
    "    \"\"\"\n",
    "    Gauge of the pressure sensor.\n",
    "    Conversion of voltage to pressure [Pa]\n",
    "    \"\"\"\n",
    "    mbar2Pa = 100 # convert mbar to Pascal\n",
    "    p_t = ufloat(0.1,0.1)*mbar2Pa\n",
    "    p = p_t + (p_L - p_t)/(U_L - U_t) *(U - U_t)\n",
    "    return p"
   ]
  },
  {
   "cell_type": "code",
   "execution_count": null,
   "id": "457ecccb-13df-4503-852a-d5b91c4ca81d",
   "metadata": {},
   "outputs": [],
   "source": [
    "eps = ufloat(0.01,0.0001)\n",
    "gamma = ufloat(1.0e-5,0.1e-5)"
   ]
  },
  {
   "cell_type": "markdown",
   "id": "81e32466-f320-4bc2-b163-aada64d6bae3",
   "metadata": {},
   "source": [
    "### 3.2 Berechnungen der Resultate"
   ]
  },
  {
   "cell_type": "markdown",
   "id": "9e2338cf-14a3-4b05-a8a3-70619103f82e",
   "metadata": {},
   "source": [
    "#### Umrechnungen\n",
    "Als nächstes müssen nun die gemessenen Spannungen $U$ in Druck umgewandelt werden. Dabei kann die obige Funktion _U2p_ verwendet werden."
   ]
  },
  {
   "cell_type": "code",
   "execution_count": null,
   "id": "4d465b5b",
   "metadata": {},
   "outputs": [],
   "source": [
    "# Umrechnung gemessene Spannungen U in Drücke\n",
    "\n",
    "mmHg2Pa = ??? # Pa/mmHg Umrechnungsfaktor  mmHg -> Pascal\n",
    "\n",
    "p_L = ??? #[Pa] (pressure \"Luft\")\n",
    "p_K = ??? #[Pa] (pressure \"Kochend\")\n",
    "p_E = ??? # [Pa] (pressure \"Eis\")\n",
    "\n",
    "#print()"
   ]
  },
  {
   "cell_type": "markdown",
   "id": "2f9b73c6-7d1d-4965-9f26-f5c5fc9b77fb",
   "metadata": {},
   "source": [
    "## Berechnung des Nullpunktes"
   ]
  },
  {
   "cell_type": "markdown",
   "id": "9aa6a320-9bac-43b9-869c-fcd07c9b7458",
   "metadata": {
    "tags": []
   },
   "source": [
    "### Resultate"
   ]
  },
  {
   "cell_type": "code",
   "execution_count": null,
   "id": "3d46de96-888f-463f-82bb-d5ec51ba1bca",
   "metadata": {},
   "outputs": [],
   "source": [
    "#print(\"...\".format(...))\n",
    "#print(\"...\".format(...))\n",
    "# etc. "
   ]
  },
  {
   "cell_type": "markdown",
   "id": "90240c6c",
   "metadata": {
    "jp-MarkdownHeadingCollapsed": true,
    "tags": []
   },
   "source": [
    "### 3.2 Bestimmung der Genauigkeit\n",
    "\n",
    "- Welche Messfehler wurden angenommen? Warum?\n",
    "- Ausführung der Fehlerrechnung, falls nicht mit ufloat berechnet"
   ]
  },
  {
   "cell_type": "markdown",
   "id": "54670327",
   "metadata": {},
   "source": [
    "## 4. Bewertung und Einordnung der Ergebnisse\n",
    "\n",
    "**Je nach Ergebnis:**\n",
    "\n",
    "- Sind die Ergebnisse realistisch? Warum (nicht)? Vergleich mit Theorie?\n",
    "- Was sind die Hauptgründe für die Fehler eurer Ergebnisse und wie kommen sie zustande?\n",
    "- Wie würdet ihr versuchen, diese weiter zu verringern.\n",
    "- Wenn ihr den Versuch wiederholen würdet, was würdet ihr anders machen und warum?\n",
    "- Wie könnte man die Genauigkeit des Versuchs verbessern?\n",
    "\n",
    "**Anmerkung: Wenn vorhanden:  Messblatt des Versuchs mit abgeben!**"
   ]
  }
 ],
 "metadata": {
  "kernelspec": {
   "display_name": "Python 3 (ipykernel)",
   "language": "python",
   "name": "python3"
  },
  "language_info": {
   "codemirror_mode": {
    "name": "ipython",
    "version": 3
   },
   "file_extension": ".py",
   "mimetype": "text/x-python",
   "name": "python",
   "nbconvert_exporter": "python",
   "pygments_lexer": "ipython3",
   "version": "3.9.7"
  }
 },
 "nbformat": 4,
 "nbformat_minor": 5
}
