{
 "cells": [
  {
   "cell_type": "markdown",
   "id": "8c6c9927-d4eb-4a86-a2c0-82a14c36ae03",
   "metadata": {},
   "source": [
    "# Jupyter Notebook Cheat Sheet"
   ]
  },
  {
   "cell_type": "markdown",
   "id": "19d80ff7-ee00-47ff-87a8-6b890a7bcf02",
   "metadata": {},
   "source": [
    "## Allgemeines"
   ]
  },
  {
   "cell_type": "markdown",
   "id": "906f316d-7f83-4c92-8d15-e91d8abfb5cb",
   "metadata": {},
   "source": [
    "- Code ausführen: __Shift + Enter__\n",
    "- Code asführen und neue Zelle unterhalb erstellen: __Alt + Enter__\n",
    "- Restart kernel (Doppelpfeil oben): löscht alle gespeicherten Werte und berechnet das gesamte Notebook von vorne\n",
    "- Es gibt verschiedene Arten von Zellen (auswählen oben bei \"Code\", \"Markdown\", ... ): \n",
    "  - __Code:__ Python; für Berechnungen, Plots, ... \n",
    "  - __Markdown:__ zum Schreiben von Textpassagen (Doppelklick auf eine Textpassage, um sie zu bearbeiten)\n"
   ]
  },
  {
   "cell_type": "markdown",
   "id": "081e9fcd-4ab1-4f9f-8a99-b9b74e7c2d9f",
   "metadata": {},
   "source": [
    "## Code"
   ]
  },
  {
   "cell_type": "markdown",
   "id": "271fea6e-0a26-44d0-9b76-10a585c1085e",
   "metadata": {},
   "source": [
    "### Hilfreiche Funktionen in Python"
   ]
  },
  {
   "cell_type": "markdown",
   "id": "a5c0c6af-d4c1-4259-8030-3abae5f279d0",
   "metadata": {},
   "source": [
    "- __help()__: Gibt Infos zu einer beliebigen built-in function in Python\n",
    "- __type()__: Gibt Typ einer beliebigen Variablen an  \n",
    "- simple Rechenoperationen: __+__ , __-__ , __*__ , __/__\n",
    "- __pow(__ x, n __)__: $x^n$\n",
    "- Array: wird mit eckigen Klammern angegeben (array=__[x1, x2, ..., xn]__) \n",
    "- __print(__ '\\<Text>', \\<Variable> __)__: Text muss zwischen Anführungszeichen geschrieben werden, Variablen können mit Komma getrennt ohne Anführungszeichen oder mit dem Platzhalter __'{}'__ und __.format(__ \\<Variable> __)__ am Ende ausgegeben werden.  \n",
    "  In der {} kann das Ausgabeformat der Variablen besimmt werden:\n",
    "  - __{:f}__: floating point format\n",
    "  - __{:.2f}__: floating point format mit 2 Nachkommastellen\n",
    "  - __{:e}__: exponet format\n",
    "  \n",
    "Zusätzlich gibt es verschiedene Packages (müssen zuerst mit \"import\" importiert werden):  "
   ]
  },
  {
   "cell_type": "markdown",
   "id": "d57d0656-bbbd-4e29-8442-949f3a0cf2de",
   "metadata": {},
   "source": [
    "#### numpy "
   ]
  },
  {
   "cell_type": "markdown",
   "id": "5cfd1fe9-6b47-4d08-ba98-35002a9f49cd",
   "metadata": {},
   "source": [
    "__import__ numpy __as__ np\n",
    "- wichtige Konstanten: z.B. $\\pi$ = __np.pi__, $e$ =           __np.e__\n",
    "- __np.sin()__, __np.cos()__, __np.tan()__,... : Input in rad!\n",
    "- __np.degrees()__, __np.radians()__: Konvertiert Radianten in Grad und umgekehrt\n",
    "- __np.sqrt()__: $\\sqrt{x}$\n",
    "- __np.exp()__: $e^{x}$\n",
    "- __np.log()__\n",
    "- __np.sum(__ \\<array> __)__: Berechnet Summe aller Elemente $x_i$ eines Arrays:  \n",
    "  $\\sum_{i=1}^{n}x_i$\n",
    "- __np.mean(__ \\<array> __)__: Mittelwert  \n",
    "  $\\overline{x}=\\frac{1}{n}\\,\\sum_{i=1}^{n}x_i$\n",
    "- __np.std(__ \\<array> __)__: Standardabweichung  \n",
    "  $\\sigma=\\sqrt{\\frac{1}{n}\\sum_{i=1}^{n}(x_i-x_0)^2}$\n",
    "- __np.linspace(__ \\<min>, \\<max>, N __)__: Generiert Array mit N Werten von \\<min> bis \\<max>\n",
    "- __np.arange(__ \\<min>, \\<max>, \\<Schrittweite> __)__: Generiert Array \\<min> bis \\<max> mit definierter Schrittweite\n",
    "- __np.random.normal(__ \\<Mittelwert>, \\<Standardabweichung>, N __)__: Generiert N zufällige normalverteilte Werte"
   ]
  },
  {
   "cell_type": "markdown",
   "id": "513f76e0-8511-4ea9-bfe9-25738f0ed00e",
   "metadata": {},
   "source": [
    "#### matplotlib.pyplot (zum Plotten von Daten)"
   ]
  },
  {
   "cell_type": "markdown",
   "id": "d44efc9d-8b71-4ec9-af67-e2ac7011fa00",
   "metadata": {},
   "source": [
    "__import__ matplotlib.pyplot __as__ plt  \n",
    "- __plt.plot(__ \\<x-Werte>, \\<y-Werte> __)__\n",
    "- __plt.xlabel(__ \\<Label für x-Achse> __)\n",
    "- __plt.ylabel(__ \\<Label für y-Achse> __)\n",
    "- __plt.errorbar(__ \\<x-Werte>, \\<y-Werte>, __yerr=__ \\<Länge der Fehlerbalken> __)__ (yerr plottet vertikle Fehlerbalken, xerr horizontale\n",
    "- __plt.title(__ \\<Titel des Plots> __)"
   ]
  },
  {
   "cell_type": "markdown",
   "id": "99fb2422-db2a-4c29-a5fa-b29766150e76",
   "metadata": {},
   "source": [
    "#### uncertainties (für Fehlerberechnung)"
   ]
  },
  {
   "cell_type": "markdown",
   "id": "4e132dbb-0853-4913-914c-be24b0b19803",
   "metadata": {},
   "source": [
    "__from__ uncertainties __import__ ufloat   \n",
    "__from__ uncertainties.umath __import__ *  (Zusätzliches für höhere Funktionen (sin,cos,etc.))\n",
    "- __ufloat(__ \\<Wert>, \\<absoluter Fehler> __)__: definiert einen neuen Typ von Variablen, der die Variable selbst und ihren Fehler gleichzeitig speichert; z.B. var = ufloat(x, sigma)  \n",
    "- \\<ufloat Variable>__.n__: Zugriff auf Wert (z.B. var.n -> x)\n",
    "- \\<ufloat Variable>__.s__: Zugriff auf Fehler (z.B. var.s -> sigma)\n",
    "- printen mit __{:P}__ ('pretta-printing')\n"
   ]
  },
  {
   "cell_type": "markdown",
   "id": "447df8a3",
   "metadata": {},
   "source": [
    "<div class=\"alert alert-block alert-danger\">\n",
    "    <b>uarrays</b>: still missing <br/>\n",
    "    "
   ]
  },
  {
   "cell_type": "markdown",
   "id": "9157acfa",
   "metadata": {},
   "source": [
    "**3. Creating the plot:**"
   ]
  },
  {
   "cell_type": "markdown",
   "id": "1f2e3ad1-6da8-4918-b3d3-b5a3578c4153",
   "metadata": {},
   "source": [
    "#### linregress (Lineare Regression)"
   ]
  },
  {
   "cell_type": "markdown",
   "id": "13167fcc-d486-4449-9dd4-809665354e3b",
   "metadata": {},
   "source": [
    "from scipy.stats import linregress\n",
    "- __linregress(__ \\<x-Werte>, \\<y-Werte> __)__: Fittet eine Regressionsgerade der Form f(x) = a*x + b zu einer Liste von x-/y-Werten\n",
    "- __.slope__ -> Steigung a\n",
    "- __.stderr__ -> Standardabweichung (Fehler) der Steigung a\n",
    "- __.intercept__ -> Achsenabschnitt b\n",
    "- __.intercept_stderr__ -> Fehler von b"
   ]
  },
  {
   "cell_type": "markdown",
   "id": "db5a383c-c961-4177-9663-cff2a31ed89f",
   "metadata": {
    "tags": []
   },
   "source": [
    "Nähere Infos zu allen Funktionen gibt's mit __help()__ oder im Internet."
   ]
  },
  {
   "cell_type": "markdown",
   "id": "fce21c50-da17-4601-acd0-34a0be595516",
   "metadata": {},
   "source": [
    "## Markdown"
   ]
  },
  {
   "cell_type": "markdown",
   "id": "9025fd77-38e9-42d8-a05f-6fd7cf5fc355",
   "metadata": {},
   "source": [
    "Formatierungs-Basics:\n",
    "- __#__ Überschrift  \n",
    "  __\\##__ Unterüberschrift\n",
    "- __\\$__ \\<Formel in Latex-Style> __\\$__\n",
    "- __ fett __\n",
    "- __*__ kursiv __*__\n",
    "- Zeilenumbruch: 2 Leerzeichen oder \\<br/>\n",
    "- __-__ Aufzählung"
   ]
  },
  {
   "cell_type": "markdown",
   "id": "99269c31",
   "metadata": {},
   "source": [
    "# Useful examples for coding"
   ]
  },
  {
   "cell_type": "markdown",
   "id": "086b876d",
   "metadata": {},
   "source": [
    "## Define a function"
   ]
  },
  {
   "cell_type": "code",
   "execution_count": 1,
   "id": "c294b887",
   "metadata": {},
   "outputs": [],
   "source": [
    "def my_function(param1_placeholder, param2_placeholder):\n",
    "    \n",
    "    value = 'Replace with your calculation'\n",
    "    return value"
   ]
  },
  {
   "cell_type": "markdown",
   "id": "88aba728",
   "metadata": {},
   "source": [
    "This function takes two parameters and returns the result of your calculation.  \n",
    "\n",
    "**Parameters:**  \n",
    "param1_placeholder: Replace this with your first parameter.  \n",
    "param2_placeholder: Replace this with your second parameter.  \n",
    "    \n",
    "**Returns:**  \n",
    "\"value\" (the result of your calculation)"
   ]
  },
  {
   "cell_type": "markdown",
   "id": "c404762d",
   "metadata": {},
   "source": [
    "## Import data from a csv file"
   ]
  },
  {
   "cell_type": "markdown",
   "id": "084625e5",
   "metadata": {},
   "source": [
    "**1. Import pandas** (already done in the templates in section 'import packages')"
   ]
  },
  {
   "cell_type": "code",
   "execution_count": 2,
   "id": "486b0844",
   "metadata": {},
   "outputs": [],
   "source": [
    "import pandas as pd"
   ]
  },
  {
   "cell_type": "markdown",
   "id": "84ff01be",
   "metadata": {},
   "source": [
    "**2. Read the csv file:**  \n",
    "- save the csv file in the same directory as your notebook  \n",
    "- replace <code>./path/to/your/file.csv</code> with the path to your csv file and uncomment"
   ]
  },
  {
   "cell_type": "code",
   "execution_count": 3,
   "id": "c2ea4835",
   "metadata": {},
   "outputs": [],
   "source": [
    "# data = pd.read_csv('./path.csv') "
   ]
  },
  {
   "cell_type": "markdown",
   "id": "f17843eb",
   "metadata": {},
   "source": [
    "This returns a DataFrame (something like a matrix) called <code>data</code> in which the data of your csv file is stored.  \n",
    "The first line of your csv file is the header of the DataFrame. It can be used to acess the individual columns."
   ]
  },
  {
   "cell_type": "markdown",
   "id": "c192ffff",
   "metadata": {},
   "source": [
    "**3. Acess the columns:**  \n",
    "For further calculations it might be useful to store the columns in separate arrays"
   ]
  },
  {
   "cell_type": "code",
   "execution_count": 4,
   "id": "2c3e4597",
   "metadata": {},
   "outputs": [],
   "source": [
    "# data_column1, data_column_2 = data.column1, data.column2"
   ]
  },
  {
   "cell_type": "markdown",
   "id": "7aa512c2",
   "metadata": {},
   "source": [
    "This creates two arrays called <code>data_column1</code> and <code>data_column2</code> with the data of the columns called <i>'column1'</i> and <i>'column2'</i> in your csv file, respectively."
   ]
  },
  {
   "cell_type": "markdown",
   "id": "1c03a8d8",
   "metadata": {},
   "source": [
    "## Create a table\n",
    "You can create a table of your data either by importing the data from a csv file or by typing it manually into arrays:"
   ]
  },
  {
   "cell_type": "markdown",
   "id": "9a0ae1db",
   "metadata": {},
   "source": [
    "**1. Import necessary packages** (already done in the templates in section 'import packages')"
   ]
  },
  {
   "cell_type": "code",
   "execution_count": 5,
   "id": "03c364fa",
   "metadata": {},
   "outputs": [
    {
     "ename": "ModuleNotFoundError",
     "evalue": "No module named 'tabulate'",
     "output_type": "error",
     "traceback": [
      "\u001b[0;31m---------------------------------------------------------------------------\u001b[0m",
      "\u001b[0;31mModuleNotFoundError\u001b[0m                       Traceback (most recent call last)",
      "Cell \u001b[0;32mIn[5], line 2\u001b[0m\n\u001b[1;32m      1\u001b[0m \u001b[38;5;28;01mimport\u001b[39;00m \u001b[38;5;21;01mnumpy\u001b[39;00m \u001b[38;5;28;01mas\u001b[39;00m \u001b[38;5;21;01mnp\u001b[39;00m\n\u001b[0;32m----> 2\u001b[0m \u001b[38;5;28;01mfrom\u001b[39;00m \u001b[38;5;21;01mtabulate\u001b[39;00m \u001b[38;5;28;01mimport\u001b[39;00m tabulate\n",
      "\u001b[0;31mModuleNotFoundError\u001b[0m: No module named 'tabulate'"
     ]
    }
   ],
   "source": [
    "import numpy as np\n",
    "from tabulate import tabulate"
   ]
  },
  {
   "cell_type": "markdown",
   "id": "51db7d68",
   "metadata": {},
   "source": [
    "**2. Define a function <code>Table</code> that creates a table for the following input parameter:**\n",
    "- **table:** matrix with your data\n",
    "- **header:** array of names of your columns (has to have as many elements as your data matrix has columns)\n",
    "- **precision:** int; number of digits for rounding the values"
   ]
  },
  {
   "cell_type": "code",
   "execution_count": null,
   "id": "a095f867",
   "metadata": {
    "scrolled": true
   },
   "outputs": [],
   "source": [
    "def Table(table, header, precision):\n",
    "    for i in range(len(table)):\n",
    "        for k in range(len(table[i])):\n",
    "            table[i][k] = np.round(table[i][k], precision)\n",
    "    for i in range(len(header)):\n",
    "        table[i].insert(0,header[i])\n",
    "    table = np.matrix.transpose(np.array(table))\n",
    "    print(tabulate(table, headers='firstrow', tablefmt='fancy_grid'))\n",
    "    return "
   ]
  },
  {
   "cell_type": "markdown",
   "id": "4df7071b",
   "metadata": {},
   "source": [
    "**3. Insert the data**:  \n",
    "Either by reading it from a csv file or by manually typing it into arrays (like in this example):"
   ]
  },
  {
   "cell_type": "code",
   "execution_count": null,
   "id": "656b163d",
   "metadata": {},
   "outputs": [],
   "source": [
    "# manually creating arrays with some random data\n",
    "# each array has to have the same number of elements\n",
    "column1, errors1 = [1.42545,2.4235,3.324,4.435,5.135,6.46,7.24], [0.1,0.2,0.3,0.4,0.5,0.6,0.7], \n",
    "column2, errors2 = [1,2,3,4,5,6,7], [1,2,3,4,5,6,7]\n",
    "\n",
    "# store the data in a matrix called 'table'\n",
    "table = [column1, errors1, column2, errors2] \n",
    "\n",
    "# create an array for the header\n",
    "header = ['data1 [Einheit]', 'error_data1 [Einheit]', 'data2', 'error_data2'] # muss selbe Anzahl Einträge haben wie table."
   ]
  },
  {
   "cell_type": "markdown",
   "id": "d2977409",
   "metadata": {},
   "source": [
    "**3b. Insert the data using uarray**:  \n",
    "uncomment 3b and comment 3a to try"
   ]
  },
  {
   "cell_type": "code",
   "execution_count": null,
   "id": "fbdb4098",
   "metadata": {},
   "outputs": [],
   "source": [
    "'''\n",
    "# manually creating uarrays with some random data\n",
    "# each array has to have the same number of elements\n",
    "column1, errors1 = uarray([1.42545,2.4235,3.324,4.435,5.135,6.46,7.24], [0.1,0.2,0.3,0.4,0.5,0.6,0.7]) \n",
    "column2, errors2 = uarray([1,2,3,4,5,6,7], [1,2,3,4,5,6,7])\n",
    "\n",
    "# store the data in a matrix called 'table'\n",
    "table = [column1, errors1, column2, errors2] \n",
    "\n",
    "# create an array for the header\n",
    "header = ['data1 [Einheit]', 'error_data1 [Einheit]', 'data2', 'error_data2'] # muss selbe Anzahl Einträge haben wie table.\n",
    "'''"
   ]
  },
  {
   "cell_type": "markdown",
   "id": "d0f0756f",
   "metadata": {},
   "source": [
    "**4. Create the table:**"
   ]
  },
  {
   "cell_type": "code",
   "execution_count": null,
   "id": "bd9c5857",
   "metadata": {
    "scrolled": true
   },
   "outputs": [],
   "source": [
    "Table(table, header, 2) # Hier wird die Funktion ausgeführt"
   ]
  },
  {
   "cell_type": "markdown",
   "id": "062dc508",
   "metadata": {},
   "source": [
    "## Create a plot"
   ]
  },
  {
   "cell_type": "markdown",
   "id": "9176bd9a",
   "metadata": {},
   "source": [
    "**1. Import necessary libraries** (already done in the templates in section 'import packages')"
   ]
  },
  {
   "cell_type": "code",
   "execution_count": null,
   "id": "76bc54e8",
   "metadata": {},
   "outputs": [],
   "source": [
    "import matplotlib.pyplot as plt\n",
    "import numpy as np\n",
    "from uncertainties import ufloat, unumpy # for 2b, 3b\n",
    "from scipy.stats import linregress # for linear regression"
   ]
  },
  {
   "cell_type": "markdown",
   "id": "88279d9b",
   "metadata": {},
   "source": [
    "**2a. Data for the plot:**  \n",
    "(to be replaced with your data)"
   ]
  },
  {
   "cell_type": "code",
   "execution_count": null,
   "id": "b472bae5",
   "metadata": {},
   "outputs": [],
   "source": [
    "# Sample data for the x and y coordinates \n",
    "# You can replace this with your x and y data\n",
    "x = np.linspace(0, 10, 50)  # create an array with 50 evenly spaced numbers in the interval [0, 10]\n",
    "y = np.sin(x)              \n",
    "\n",
    "# Sample error data for x and y (you can replace these with your error values)\n",
    "x_error = 0.1\n",
    "y_error = 0.05"
   ]
  },
  {
   "cell_type": "markdown",
   "id": "e55b4035",
   "metadata": {},
   "source": [
    "**3a. Creating the plot:**"
   ]
  },
  {
   "cell_type": "code",
   "execution_count": null,
   "id": "8ff1d277",
   "metadata": {},
   "outputs": [],
   "source": [
    "# Creating the plot\n",
    "plt.figure(figsize=(10, 6))  # Adjusting the size of the plot\n",
    "\n",
    "# Plotting the data with error bars\n",
    "# There are different types of plots, you can choose the appropriate(s) one depending on your needs\n",
    "plt.plot(x, y, label='Line', color='darkblue')\n",
    "plt.scatter(x, y, s=10, label='Dots', color='darkgreen') # s = size of the dots\n",
    "plt.errorbar(x, y, xerr=x_error, yerr=y_error, fmt='.', label='Dots with errorbars', capsize=2, color='darkred')\n",
    "\n",
    "# Labeling the x and y axes\n",
    "plt.xlabel('Time (s)')  # Replace with the appropriate label for the x-axis\n",
    "plt.ylabel('Amplitude') # Replace with the appropriate label for the y-axis\n",
    "\n",
    "# Adding a title to the plot\n",
    "plt.title('Time vs Amplitude') # Replace with an appropriate title\n",
    "\n",
    "# Limiting the axes manually\n",
    "plt.xlim(0, 10) # Replace with the desired limits for the x-axis\n",
    "plt.ylim(-1.5, 1.5) # Replace with the desired limits for the y-axis\n",
    "\n",
    "\n",
    "# ---------------------------------------\n",
    "# Adding a regression line if necessary\n",
    "# ---------------------------------------\n",
    "\n",
    "# Filter the data points that lie in the desired x-interval\n",
    "interval = (x >= 2.2) & (x <= 4)\n",
    "x_filtered = x[interval]\n",
    "y_filtered = y[interval]\n",
    "\n",
    "# Calculate the regression and assign it to the variables slope, intercept, ...\n",
    "slope, intercept, r_value, p_value, std_err = linregress(x_filtered, y_filtered)\n",
    "\n",
    "# Define interval for plotting the regression line\n",
    "x_interval = np.array([1.8, 4.4])\n",
    "\n",
    "# Regression line\n",
    "y_regression = slope * x_interval + intercept\n",
    "\n",
    "# Plot the regression line\n",
    "plt.plot(x_interval, y_regression, color='green', label='Regression line (filtered data)')\n",
    "\n",
    "# ----------------------------------------\n",
    "\n",
    "# Adding a legend to the plot\n",
    "plt.legend(loc='upper right') # You can adjust the location of the legend as needed\n",
    "\n",
    "# Display the plot\n",
    "plt.show()"
   ]
  },
  {
   "cell_type": "markdown",
   "id": "6b4fbdea",
   "metadata": {},
   "source": [
    "Adding a regression line if necessary:"
   ]
  },
  {
   "cell_type": "code",
   "execution_count": null,
   "id": "afdb6322",
   "metadata": {},
   "outputs": [],
   "source": []
  },
  {
   "cell_type": "markdown",
   "id": "39bd70d9",
   "metadata": {},
   "source": [
    "**2b. Alternative: using uarray**  \n",
    "(to be replaced with your data)"
   ]
  },
  {
   "cell_type": "code",
   "execution_count": null,
   "id": "ba497185",
   "metadata": {},
   "outputs": [],
   "source": [
    "# Sample data with uncertainties (uarrays)\n",
    "# Replace these with your uarray data\n",
    "x2_uarray = unumpy.uarray(np.linspace(0, 10, 50), 0.1) # error 0.1 for all values\n",
    "y2_uarray = unumpy.sin(x2_uarray) # calculates y-error automatically from x-error\n",
    "\n",
    "# Extracting nominal values and standard deviations for x and y\n",
    "x2 = unumpy.nominal_values(x2_uarray) # create array x2 with only nominal values of x2_uarray\n",
    "y2 = unumpy.nominal_values(y2_uarray)\n",
    "x2_error = unumpy.std_devs(x2_uarray) # create array x2 with only standard deviations (errors) of x2_uarray\n",
    "y2_error = unumpy.std_devs(y2_uarray)\n",
    "\n",
    "\n"
   ]
  },
  {
   "cell_type": "markdown",
   "id": "56a05efc",
   "metadata": {},
   "source": [
    "**3b. Creating the plot:**  \n",
    "exactly the same as before, only replace the x- and y-data and errors by <code>x2, y2, x2_error, y2_error</code>"
   ]
  },
  {
   "cell_type": "code",
   "execution_count": null,
   "id": "a2d6adbf",
   "metadata": {},
   "outputs": [],
   "source": [
    "# Creating the plot\n",
    "plt.figure(figsize=(10, 6))  # Adjusting the size of the plot\n",
    "\n",
    "# Plotting the data with error bars\n",
    "# There are different types of plots, you can choose the appropriate(s) one depending on your needs\n",
    "plt.plot(x2, y2, label='Line', color='darkblue')\n",
    "plt.scatter(x2, y2, s=10, label='Dots', color='darkgreen') # s = size of the dots\n",
    "plt.errorbar(x2, y2, xerr=x2_error, yerr=y2_error, fmt='.', label='Dots with errorbars', capsize=2, color='darkred')\n",
    "\n",
    "# Labeling the x and y axes\n",
    "plt.xlabel('Time (s)')  # Replace with the appropriate label for the x-axis\n",
    "plt.ylabel('Amplitude') # Replace with the appropriate label for the y-axis\n",
    "\n",
    "# Adding a title to the plot\n",
    "plt.title('Time vs Amplitude') # Replace with an appropriate title\n",
    "\n",
    "# Adding a legend to the plot\n",
    "plt.legend(loc='upper right') # You can adjust the location of the legend as needed\n",
    "\n",
    "# Limiting the axes manually\n",
    "plt.xlim(0, 10) # Replace with the desired limits for the x-axis\n",
    "plt.ylim(-1.5, 1.5) # Replace with the desired limits for the y-axis\n",
    "\n",
    "# Displaying the plot\n",
    "plt.show()"
   ]
  },
  {
   "cell_type": "code",
   "execution_count": null,
   "id": "6ec4daf0",
   "metadata": {},
   "outputs": [],
   "source": []
  },
  {
   "cell_type": "code",
   "execution_count": null,
   "id": "c97a1f26",
   "metadata": {},
   "outputs": [],
   "source": []
  },
  {
   "cell_type": "code",
   "execution_count": null,
   "id": "838147bb",
   "metadata": {},
   "outputs": [],
   "source": []
  }
 ],
 "metadata": {
  "kernelspec": {
   "display_name": "Python 3 (ipykernel)",
   "language": "python",
   "name": "python3"
  },
  "language_info": {
   "codemirror_mode": {
    "name": "ipython",
    "version": 3
   },
   "file_extension": ".py",
   "mimetype": "text/x-python",
   "name": "python",
   "nbconvert_exporter": "python",
   "pygments_lexer": "ipython3",
   "version": "3.8.17"
  }
 },
 "nbformat": 4,
 "nbformat_minor": 5
}
