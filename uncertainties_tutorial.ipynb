{
 "cells": [
  {
   "cell_type": "markdown",
   "id": "6befb528",
   "metadata": {
    "tags": []
   },
   "source": [
    "### Error Propagation with the Uncertainties Package"
   ]
  },
  {
   "cell_type": "markdown",
   "id": "5d8e3f3b-0eaf-4ab3-80f1-65a992ab7205",
   "metadata": {
    "tags": []
   },
   "source": [
    "<div style=\"padding:8px 0 8px 15px;border-left:3px solid #B51F1F;background-color:#F3F3F3;\">\n",
    "    <span style=\"text-decoration:underline;font-weight:bold;\">How can I use this notebook?</span><br/>\n",
    "    This notebook consists of cells with text labeled \"Markdown\" and code. The code cells need to be executed to display the result. To execute a line, select it and click the \"Run\" button  (<span style=\"font: bold 12px/30px Arial, serif;\">&#9658;</span>) in the toolbar above or press s <code>shift + enter</code>. It's usually important to execute the code lines in the notebook sequentially, as they often build upon each other.\n",
    "</div>\n",
    "\n",
    "<div style=\"padding:8px 0 8px 15px;border-left:3px solid #B51F1F;background-color:#F3F3F3;\">\n",
    "<span style=\"text-decoration:underline;font-weight:bold;\">Tipp</span><br/>\n",
    "Everything that comes after a '#' in a line is a comment. It is solely there to explain what is happening in the code.\n",
    "</div>\n",
    "<div style=\"padding:8px 0 8px 15px;border-left:3px solid #B51F1F;background-color:#F3F3F3;\">\n",
    "Good luck!\n",
    "</div>"
   ]
  },
  {
   "cell_type": "markdown",
   "id": "bc5666f0",
   "metadata": {
    "jp-MarkdownHeadingCollapsed": true
   },
   "source": [
    "## Please remember\n",
    "\n",
    "- In every measurement, no matter how precise, errors occur.\n",
    "- Providing an accuracy estimate of the measurement is  essential in correct reporting.\n",
    "- In all experiments conducted in the laboratory, a computational estimation of the accuracy of the results should be performed."
   ]
  },
  {
   "cell_type": "markdown",
   "id": "fd2aa2dd-8981-4b73-b90a-c2536f0ed7e9",
   "metadata": {},
   "source": [
    "## Imports of Packages\n",
    "\n",
    "For general mathematical calculations and error analysis, it is helpful to import a few Python packages."
   ]
  },
  {
   "cell_type": "markdown",
   "id": "594504e1-9e13-4705-b712-5e06c7e84389",
   "metadata": {},
   "source": [
    "<div style=\"padding:8px 0 8px 15px;border-left:3px solid #B51F1F;background-color:#F3F3F3;\">\n",
    "    <span style=\"font-weight:bold;text-decoration:underline;\">Activity</span><br/>\n",
    "\n",
    "**Execute the lines below** to import the packages.\n",
    "\n",
    "</div>"
   ]
  },
  {
   "cell_type": "code",
   "execution_count": 1,
   "id": "c89a6980-5b03-444a-a725-75a4a7496259",
   "metadata": {},
   "outputs": [],
   "source": [
    "import numpy as np                 # Standard-Package for numerics (vectors, arrays, etc.)\n",
    "from uncertainties import ufloat   # Package for error propagation\n",
    "from uncertainties.umath import *  # Error propagation for "
   ]
  },
  {
   "cell_type": "markdown",
   "id": "6e9d4c22",
   "metadata": {},
   "source": [
    "## Error propagation examples\n",
    "\n",
    "In this section, we will show you a few examples of error calculations and how you can perform them easily using the uncertainties package."
   ]
  },
  {
   "cell_type": "markdown",
   "id": "235dd6f5",
   "metadata": {},
   "source": [
    "### Example 1: Pendulum frequency\n",
    "The angular frequency  $\\omega$  $\\ell$ und der Erdbeschleunigung $g$ ab: \n",
    "$$ f = \\frac{1}{2\\pi}\\sqrt{\\frac{g}{\\ell}} .$$\n",
    " \n",
    "- Measured length: $\\ell=50$ cm. \n",
    "- Accuracy (error) of the length: $\\delta\\ell=3$ cm.\n",
    "- Gravitational acceleration: $g=9.81$ m/s^2.\n",
    "\n",
    "**Task:** Calculate the frequency $f$ and its accuracy (error) $\\delta f$."
   ]
  },
  {
   "cell_type": "markdown",
   "id": "26f26898",
   "metadata": {},
   "source": [
    "<div style=\"padding:8px 0 8px 15px;border-left:3px solid #B51F1F;background-color:#F3F3F3;\">\n",
    "    <span style=\"font-weight:bold;text-decoration:underline;\">Activity</span><br/>\n",
    "**Execute the lines below**, to calculate the error of $f$.  \n",
    "</div>"
   ]
  },
  {
   "cell_type": "code",
   "execution_count": 2,
   "id": "239a4f95",
   "metadata": {},
   "outputs": [
    {
     "name": "stdout",
     "output_type": "stream",
     "text": [
      "f = 0.705±0.021 [1/s]\n"
     ]
    }
   ],
   "source": [
    "l = ufloat(0.5,0.03) # [m] # Remark on ufloat: 1st argument: nominal value; 2nd argument its accuracy (error).\n",
    "g = 9.81 # [m/s^2]\n",
    "f = 1/(2*np.pi) * sqrt(g/l) # [1/s] # np.pi: constant Pi, sqrt(): square root function\n",
    "print((\"f = {:P} [1/s]\".format(f))) # print(): Print result, \"{:P}\": \"Pretty print\" formatting."
   ]
  },
  {
   "cell_type": "markdown",
   "id": "e0386571",
   "metadata": {},
   "source": [
    "### Example 2: Speed $v$\n",
    "For speed, the formula $v = \\frac{s}{t}$ applies, where $s$ represents the distance traveled, and $t$ stands for the time taken.\n",
    "\n",
    "- Measurements: $s = 3$ m, $t = 5$ s.\n",
    "- Relative errors of $s$ and $t$: $r_s = 4\\%$, $r_t = 4\\%$\n",
    "\n",
    "**Objective:** Calculate the speed $v$ and its error $\\delta v$."
   ]
  },
  {
   "cell_type": "markdown",
   "id": "743d275c",
   "metadata": {},
   "source": [
    "<div style=\"padding:8px 0 8px 15px;border-left:3px solid #B51F1F;background-color:#F3F3F3;\">\n",
    "    <span style=\"font-weight:bold;text-decoration:underline;\">Aktivität</span><br/>\n",
    "\n",
    "**Execute the lines below**, to calculate the error of $v$.  Note the errors given in 2nd argument of ufloat.\n",
    "\n",
    "</div>"
   ]
  },
  {
   "cell_type": "code",
   "execution_count": 3,
   "id": "485cf87a",
   "metadata": {},
   "outputs": [
    {
     "name": "stdout",
     "output_type": "stream",
     "text": [
      "v = 6.00±0.34 [m/s]\n"
     ]
    }
   ],
   "source": [
    "s = ufloat(30, 30*0.04)  # [m] # !! NOTE 2nd Argument: absolute error = relative error * measured value  !!\n",
    "t = ufloat(5, 5*0.04)    # [s]\n",
    "v = s/t # [m/s]\n",
    "\n",
    "print(\"v = {:P} [m/s]\".format(v))"
   ]
  },
  {
   "cell_type": "markdown",
   "id": "7c988fec",
   "metadata": {},
   "source": [
    "### Beispiel 3: Brechungsgesetz\n",
    "Für den Brechungsindex $n$ von einem Medium in ein anderes gilt\n",
    "$$n = \\frac{\\sin\\alpha}{\\sin\\beta},$$ wobei $\\alpha$ und $\\beta$ die Einfalls- und Ausfallwinkel des Lichtstrahls bezeichnen.\n",
    "\n",
    "- $\\alpha = 45^\\circ \\pm 4^\\circ,\\beta = 30^\\circ \\pm 4^\\circ$.\n",
    "\n",
    "**Ziel:** Berechnung des Brechungsindexes $n$ und dessen Fehler $\\delta n$.\n",
    "\n",
    "**!Achtung!** In Python werden trigonometrische Funktionen in Radianten berechnet. $\\alpha$ und $\\beta$ müssen also zuerst in Radianten umgerechnet werden. Hierzu lohnt es sich, eine Funktion zu schreiben."
   ]
  },
  {
   "cell_type": "markdown",
   "id": "4b486091",
   "metadata": {},
   "source": [
    "<div style=\"padding:8px 0 8px 15px;border-left:3px solid #B51F1F;background-color:#F3F3F3;\">\n",
    "    <span style=\"font-weight:bold;text-decoration:underline;\">Aktivität</span><br/>\n",
    "\n",
    "**Führe die unteren 2 Zellen aus**, um die Funktion für die Umrechnung von Grad in Radianten zu definieren und die Fehlerrechnung von $n$ durchzuführen. Beachte die erklärenden Kommentare zur Funktion.\n",
    "\n",
    "</div>"
   ]
  },
  {
   "cell_type": "code",
   "execution_count": 4,
   "id": "f5edc9c2",
   "metadata": {},
   "outputs": [
    {
     "name": "stdout",
     "output_type": "stream",
     "text": [
      "Gamma in Radianten = 3.141592653589793\n"
     ]
    }
   ],
   "source": [
    "# Function\n",
    "\n",
    "def deg2rad(angle):  # deg2rad is the name of the function. The input variable are listed within the parentheses.\n",
    "    '''Convert degree  to radian'''\n",
    "    return angle*np.pi/180          # Result\n",
    "\n",
    "# Example\n",
    "gamma = 180 # [°]\n",
    "gamma_radiant = deg2rad(gamma) # Execute the function deg2rad with gamma as input and gamma_radiant as output.\n",
    "print(\"Gamma in Radianten =\",gamma_radiant)"
   ]
  },
  {
   "cell_type": "code",
   "execution_count": 5,
   "id": "76bd184d",
   "metadata": {},
   "outputs": [
    {
     "name": "stdout",
     "output_type": "stream",
     "text": [
      "Refraction index with error: n = 1.41±0.20\n"
     ]
    }
   ],
   "source": [
    "# Error propagation for n \n",
    "\n",
    "alpha = ufloat(45, 4) # [°]\n",
    "beta = ufloat(30, 4) # [°]\n",
    "n = sin(deg2rad(alpha))/sin(deg2rad(beta))\n",
    "print(\"Refraction index with error: n = {:P}\".format(n))"
   ]
  },
  {
   "cell_type": "markdown",
   "id": "718ad1f8",
   "metadata": {},
   "source": [
    "## Problem set on error propagation ###\n",
    "\n",
    "Now it's your turn.  Try to solve the following problems\n",
    "\n",
    "**Tip:**\n",
    "- Pay attention to whether we are talking about the absolute or relative error."
   ]
  },
  {
   "cell_type": "markdown",
   "id": "ebabb07a",
   "metadata": {},
   "source": [
    "### Problem 1: Size of your Room\n",
    "\n",
    "You have measured the length $L$ of your room 5 times. Your values are $3.43$ m, $3.41$ m, $3.45$ m, $3.43$ m and $3.44$ m. For the width $B$ of the room, which you measured only once you got $2.24$  m."
   ]
  },
  {
   "cell_type": "markdown",
   "id": "5038fa35",
   "metadata": {},
   "source": [
    "<div style=\"padding:8px 0 8px 15px;border-left:3px solid #B51F1F;background-color:#F3F3F3;\">\n",
    "    <span style=\"font-weight:bold;text-decoration:underline;\">Problems </span><br/>\n",
    "\n",
    "a) What is the best estimate for the length $L$ of the room? \n",
    "\n",
    "b) What is the absolute error $\\Delta L$ for each of the 5 individual measurements of the length of the room?\n",
    "    \n",
    "c) What is the absolute and relative error of the best estimate for the room's length $L$?\n",
    "    \n",
    "d) Since the measurement for the width $B$ was done in the same way as for the length $L$, the absolute error of $B$ can be assumed to be the same as for your measurement of $L$ . What is the size of the room in square meters and what is its error? \n",
    "\n",
    "</div>"
   ]
  },
  {
   "cell_type": "code",
   "execution_count": 9,
   "id": "205ab601",
   "metadata": {},
   "outputs": [],
   "source": [
    "# Enter your calculations here\n",
    "\n",
    "# a)\n",
    "\n",
    "# b)\n",
    "\n",
    "# c)\n",
    "\n",
    "# d)"
   ]
  },
  {
   "cell_type": "markdown",
   "id": "c1fb6b42",
   "metadata": {},
   "source": [
    "<div style=\"padding:10px 0 2px 15px;border-left:3px solid black;background-color:#F3F3F3;\">\n",
    "\n",
    "**Tipps**\n",
    "    \n",
    "a) - c) Use the ensemble standard deviation not the uncertainties package.\n",
    "\n",
    "d) Define $L$ und $B$ as ufloats, and calculate the area.\n",
    "\n",
    "</div>"
   ]
  },
  {
   "cell_type": "code",
   "execution_count": 7,
   "id": "aa18203a",
   "metadata": {},
   "outputs": [],
   "source": [
    "# TODO: toggle\n",
    "\n",
    "# Lösung"
   ]
  },
  {
   "cell_type": "markdown",
   "id": "f8397059",
   "metadata": {},
   "source": [
    "### Problem 2: Velocity of a Swing\n",
    "\n",
    "You like to estimate your maximum speed $v_{\\max}$ on a swing. For this, you measure the effective length $L$ and the maximum deflection angle $\\alpha$ of the swing. Neglecting friction losses, the conservation of energy yields $(mgh = mgL\\sin\\alpha = \\frac{mv_{\\max}^2}{2})$.\n",
    "$$v_{max}=\\sqrt{2gL\\sin(\\alpha)}$$ \n",
    "\n",
    "graviational acceleration: $g=9.81$ m/s$^2$, $\\alpha = (58\\pm4)°$ und $L=(2.7\\pm0.22)$ m."
   ]
  },
  {
   "cell_type": "markdown",
   "id": "55e0234a",
   "metadata": {},
   "source": [
    "<div style=\"padding:8px 0 8px 15px;border-left:3px solid #B51F1F;background-color:#F3F3F3;\">\n",
    "    <span style=\"font-weight:bold;text-decoration:underline;\">Tasks</span><br/>\n",
    "\n",
    "a) Calculate $v_{max}$ and $\\delta v_{max}$ neglecting the error of $\\alpha$?\n",
    "\n",
    "b) Calculate  $v_{max}$ and $\\delta v_{max}$, neglecting the error of $L$?\n",
    "    \n",
    "c) Calculate $v_{max}$, $\\delta v_{max}$ taking the errors of both $\\alpha$ and $L$ into account.\n",
    "    \n",
    "d) Compare the resulting $\\delta v_{max}$ of a) - c) an. Can you explain the differences?\n",
    "</div>"
   ]
  },
  {
   "cell_type": "code",
   "execution_count": 8,
   "id": "d017f50b",
   "metadata": {},
   "outputs": [],
   "source": [
    "# Calculate your solutions here\n",
    "\n",
    "# a)\n",
    "\n",
    "# b)\n",
    "\n",
    "# c)\n",
    "\n",
    "# d) Text"
   ]
  },
  {
   "cell_type": "markdown",
   "id": "0c210c8c",
   "metadata": {},
   "source": [
    "<div class=\"alert alert-block alert-info\">\n",
    "<b>Reminder</b>\n",
    "    \n",
    "\n",
    "a) - c) The sin() function is still calculated in radians. Make use of the deg2grad() function, which we defined in Example 3.\n",
    "\n",
    "</div>"
   ]
  },
  {
   "cell_type": "markdown",
   "id": "65545615-d628-46b1-90be-00d5bb019f80",
   "metadata": {},
   "source": [
    "### Problems 3 and 4\n",
    "\n",
    "Use the uncertainties package to solve the problems of last weeks exercise sheet about (__Problem 3__) shotput ball and (__Problem 4__) the distance of your commute."
   ]
  },
  {
   "cell_type": "code",
   "execution_count": null,
   "id": "c6287435-e2d6-455b-b3d6-9bfe76684313",
   "metadata": {},
   "outputs": [],
   "source": []
  }
 ],
 "metadata": {
  "kernelspec": {
   "display_name": "Python 3 (ipykernel)",
   "language": "python",
   "name": "python3"
  },
  "language_info": {
   "codemirror_mode": {
    "name": "ipython",
    "version": 3
   },
   "file_extension": ".py",
   "mimetype": "text/x-python",
   "name": "python",
   "nbconvert_exporter": "python",
   "pygments_lexer": "ipython3",
   "version": "3.11.5"
  }
 },
 "nbformat": 4,
 "nbformat_minor": 5
}
