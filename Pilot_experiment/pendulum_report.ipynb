{
 "cells": [
  {
   "cell_type": "markdown",
   "id": "8a371fae-7663-45d9-903e-4d70c5cfc165",
   "metadata": {
    "editable": true,
    "slideshow": {
     "slide_type": ""
    },
    "tags": []
   },
   "source": [
    "# Pilot Experiment Pendulum"
   ]
  },
  {
   "cell_type": "markdown",
   "id": "82226657-aba7-4be6-96e8-db44fa39d816",
   "metadata": {},
   "source": [
    "**Date of measurements:** {2023-MM-DD}  \n",
    "**Version of the report:** {1 for 1st hand-in, 2 for corrected hand-in, ...}\n",
    " \n",
    " - **Student 1:** {full name}\n",
    " - **Student 2:** {full name}\n",
    " - **Group:** {group name, e.g., _11-09 ex21.1_}\n",
    "\n",
    "Note: You find the name of you group under _Versuchsauswahl_ on Moodle.\n"
   ]
  },
  {
   "cell_type": "markdown",
   "id": "187d0eba-d5b5-4b6f-a9da-8744a3c272ba",
   "metadata": {
    "editable": true,
    "slideshow": {
     "slide_type": ""
    },
    "tags": []
   },
   "source": [
    "<div class=\"alert alert-block alert-info\">\n",
    "<b>Tip:</b> Have a look at our cheat-sheet for Python and Jupyter."
   ]
  },
  {
   "cell_type": "code",
   "execution_count": null,
   "id": "4befd98a-334f-467a-b349-ab5a756cbe13",
   "metadata": {
    "editable": true,
    "slideshow": {
     "slide_type": ""
    },
    "tags": []
   },
   "outputs": [],
   "source": [
    "%matplotlib widget\n",
    "import numpy as np                 # Standard-Package für Numerik, Vektoren, etc.\n",
    "from uncertainties import ufloat, unumpy   # Packete für Fehlerberechnung"
   ]
  },
  {
   "cell_type": "code",
   "execution_count": null,
   "id": "8e16f7ab-e506-4d46-be42-12826f1c8816",
   "metadata": {
    "editable": true,
    "slideshow": {
     "slide_type": ""
    },
    "tags": []
   },
   "outputs": [],
   "source": [
    "from uncertainties.umath import *\n",
    "import pandas as pd # Data tables \n",
    "import matplotlib.pyplot as plt # Plotting"
   ]
  },
  {
   "cell_type": "markdown",
   "id": "7c10e0a8-2255-477d-a0c6-d448538ddd34",
   "metadata": {
    "editable": true,
    "slideshow": {
     "slide_type": ""
    },
    "tags": []
   },
   "source": [
    "## 1. Introduction\n",
    "\n",
    "### 1.1 Introduction to the experiment\n",
    "\n",
    "We built a pendulum swing measured the oscillations of a pendulum. From our measurements we to determine the gravitational acceleration $g$ at the lab and to calculate the damping constant of our.  \n",
    "\n",
    "### 1.2 Summary of the Theory\n",
    "\n",
    "Neglecting friction, the period $T_0$ of a pendulum of length $L$U der Länge $L$ is \n",
    "\\begin{equation}\n",
    "T_0 = 2\\pi\\sqrt{ L\\over g}.\\tag{1}\n",
    "\\end{equation}\n",
    "\n",
    "Friction leads to a damped oscillation\n",
    "\n",
    "\\begin{equation}\n",
    "\\phi(t) = \\phi_0\\, e^{-\\gamma t} \\cos{\\omega_\\gamma t}, \\tag{3}\n",
    "\\end{equation}\n",
    "\n",
    "In this context, $\\Phi(t)$ denotes the deflection angle at time $t$ from the vertical, $\\omega_\\gamma$ represents the angular frequency of the oscillation, and $\\gamma$ is the damping constant, indicating the strength of the damping.\n",
    "\n",
    "Due to damping, the angular frequency $\\omega_\\gamma$ of the damped oscillation is lower than the angular frequency $\\omega_0$ of the undamped oscillation (1).\n",
    "\n",
    "\\begin{equation}\n",
    "\\omega_\\gamma = \\sqrt{\\omega_0^2-\\gamma^2}, \\tag{4}\n",
    "\\end{equation}\n",
    "\n",
    "We also use the standard relationship between angular frequency $\\omega$ and period $T$: $\\omega=2\\pi/T$.\n"
   ]
  },
  {
   "cell_type": "markdown",
   "id": "32f323a7-f6f0-4d0a-83e1-a9e8ba028c7e",
   "metadata": {
    "editable": true,
    "slideshow": {
     "slide_type": ""
    },
    "tags": []
   },
   "source": [
    "## Tasks\n",
    "\n",
    "\n",
    "### 1. Best estimate for the period\n",
    "Use the time measurement $T_1, \\ldots, T_4$ of yourself and our partners\n",
    "to calculate the pendulum period $T$ and its empirical standard deviation ($s$) for each of the 4 methods.\n",
    "\n",
    "### 1b Which method is best (that is, has the smallest error).\n",
    "\n",
    "### 2. Same as task 1 but for the increased pendulum weight.\n",
    "\n",
    "### 3. Do these values confirm that the pendulum period is independent of the pendulum weight? \n",
    "Hint: Consider the estimated errors.\n",
    "\n",
    "### 4. Same as exercise 1 but for the measured pendulum length $L$.\n",
    "\n",
    "### 5. Same as exercise 1 but for the calculated earth acceleration g.\n",
    "\n",
    "### 6.  Use the best estimate of task 1 and the estmate of 4 to calculated $g$ and its error using error propagation.\n",
    "\n",
    "### 7.  Plot the time series of the damped oscillation that you measured using the Phyphox App.\n",
    "### 8.  Determine the damping constant of the damped oscillation."
   ]
  },
  {
   "cell_type": "markdown",
   "id": "efd112d8-1ed2-4ca2-ab80-58ecb6412bce",
   "metadata": {
    "editable": true,
    "slideshow": {
     "slide_type": ""
    },
    "tags": []
   },
   "source": [
    "<div class=\"alert alert-block alert-info\">\n",
    "<b>Hint:</b> Use <b>np.mean( . )</b> and <b>np.std( . ,ddof=1)</b> function to calculate the mean and ensemble standard deviation. "
   ]
  },
  {
   "cell_type": "markdown",
   "id": "67d02d9b-a677-4d1b-bea3-0df296708cbb",
   "metadata": {},
   "source": [
    "#### Task 1\n",
    "Method:  Enter in the value from your measurement into a numpy array"
   ]
  },
  {
   "cell_type": "code",
   "execution_count": null,
   "id": "1e3ae11c-bc51-45fa-aa6a-93e51bd50247",
   "metadata": {},
   "outputs": [],
   "source": [
    "# ti = np.array([value1, value2, value3, ...])\n",
    "\n",
    "# Example data: \n",
    "t_i = np.array([1.2, 1.3, 0.9, 0.8]) #[s]\n",
    "print(\"Times: t_i = {} [s]\".format(t_i)) # Ausgabe der Werte [s]"
   ]
  },
  {
   "cell_type": "code",
   "execution_count": null,
   "id": "3ffcc1bb-5257-4f28-8987-a3d032242487",
   "metadata": {},
   "outputs": [],
   "source": [
    "# Mean of these value as best estimate\n",
    "t_mean = np.mean(t_i)\n",
    "print(\"Best estimate of period: T1 = {:} [s]\".format(t_mean))"
   ]
  },
  {
   "cell_type": "code",
   "execution_count": null,
   "id": "731f1421-4f93-495d-8063-2169de151269",
   "metadata": {},
   "outputs": [],
   "source": [
    "# Ensemble standard deviation of each measurement t_i.  \n",
    "# (ddof=1 is used to select the ensemble standard deviation (division by N-1 instead of N)\n",
    "\n",
    "# Estimated error of the individual measurements in t_i\n",
    "std_t_i=np.std(t_i,ddof=1)\n",
    "# Error (std) of their mean:\n",
    "std_t_mean=std_t_i/np.sqrt(t_i.size)\n",
    "print(\"Error or mean= {:.2f} [s]\".format(std_t_mean))"
   ]
  },
  {
   "cell_type": "code",
   "execution_count": null,
   "id": "bf2586f8-60de-49a4-921b-064fc8014334",
   "metadata": {},
   "outputs": [],
   "source": [
    "T_1 = ufloat(t_mean,std_t_mean)\n",
    "\n",
    "print(\"T_1 = {:P}  [s]\".format(T_1))"
   ]
  },
  {
   "cell_type": "markdown",
   "id": "1be517eb-ebda-40e8-97d2-f304bfcddf51",
   "metadata": {},
   "source": [
    "- Now proceed analogously for tasks 2 to 5"
   ]
  },
  {
   "cell_type": "markdown",
   "id": "47ddb48f-8b3a-409d-bc4f-b7c645547596",
   "metadata": {
    "editable": true,
    "slideshow": {
     "slide_type": ""
    },
    "tags": []
   },
   "source": [
    "#### Task 6\n",
    "Plot the time evolution of the measured damped oscillation with the Phyphox App.\n",
    "\n",
    "##### Using the example data in the measurements folder\n"
   ]
  },
  {
   "cell_type": "code",
   "execution_count": null,
   "id": "aec4b571-e57a-42f0-8d81-6021d14975db",
   "metadata": {},
   "outputs": [],
   "source": [
    "# Read measurement from data file using the pandas package\n",
    "# (Put your data file into the measurements folder and replace the file name with yours)\n",
    "table = pd.read_csv(\"measurements/accelerations.csv\") # in Pandas tables are called  \"data frames\" \n",
    "table # Anzeige der Daten-Tabelle\n",
    "#xtable = pd.read_excel(\"messdaten/accelerations.xls\",index_col=0)\n",
    "#xlstable = pd.read_excel(\"file:messdaten/accelerations.xls\")"
   ]
  },
  {
   "cell_type": "code",
   "execution_count": null,
   "id": "f4df8f6e-07d0-4ad7-a0b6-3a3beb995f30",
   "metadata": {},
   "outputs": [],
   "source": [
    "# Plot of the  measured accellerations\n",
    "\n",
    "table.plot(x=\"t [s]\",y=\"Acceleration a_x [m/s^2]\")\n",
    "table.plot(x=\"t [s]\",y=\"Acceleration a_y [m/s^2]\")\n",
    "table.plot(x=\"t [s]\",y=\"Acceleration a_z [m/s^2]\")"
   ]
  },
  {
   "cell_type": "code",
   "execution_count": null,
   "id": "f667e553-e65d-45f7-8ced-a09e26da35ee",
   "metadata": {},
   "outputs": [],
   "source": [
    "# Zu Aufgabe 4.1\n",
    "\n",
    "# Pakete laden\n",
    "#import numpy as np  # Math (bereits geladen)\n",
    "#from uncertainties import ufloat (bereits geladen)\n",
    "import pandas as pd # Data tables \n",
    "import matplotlib.pyplot as plt # Plotting\n",
    "\n",
    "# Messdaten einlesen mit Pandas (pd) als Tabelle (\"dataframes\")\n",
    "# Ersetze die Datei messdaten.csv mit deinen Messungen!\n",
    "table = pd.read_csv(\"measurements/accelerations.csv\") # bei Pandas heissen die Tabellen \"data frames\"\n",
    "table # Anzeige der Daten-Tabelle\n",
    "#xtable = pd.read_excel(\"messdaten/accelerations.xls\",index_col=0)\n",
    "#xlstable = pd.read_excel(\"file:messdaten/accelerations.xls\")"
   ]
  },
  {
   "cell_type": "code",
   "execution_count": null,
   "id": "a104c842-2e6f-4265-bd12-cf0e0d7b799f",
   "metadata": {},
   "outputs": [],
   "source": [
    "xtable = pd.read_excel(\"measurements/accelerations.xls\",index_col=0)"
   ]
  },
  {
   "cell_type": "code",
   "execution_count": null,
   "id": "bd50cfc4-e575-47b5-adb7-4407abc92dde",
   "metadata": {
    "editable": true,
    "slideshow": {
     "slide_type": ""
    },
    "tags": []
   },
   "outputs": [],
   "source": [
    "# Plot of the pendulum accellerations a_x, a_y, and a_z in x-, y-, and z-direction\n",
    "\n",
    "table.plot(x=\"t [s]\",y=\"Acceleration a_x [m/s^2]\")\n",
    "table.plot(x=\"t [s]\",y=\"Acceleration a_y [m/s^2]\")\n",
    "table.plot(x=\"t [s]\",y=\"Acceleration a_z [m/s^2]\")"
   ]
  },
  {
   "cell_type": "markdown",
   "id": "de4b09ad-7855-478e-8389-8cc0ffffe7eb",
   "metadata": {},
   "source": [
    "#### Determining the damping constant:\n",
    "\n",
    " 1. We choose  the direction with the highest acceleration. For the sample data it is the z-direction a_z. Note that this depends on the orientation of the mobile device. Therefore, in your measurements, it could be a different direction.\n",
    "\n",
    " 2. Graphs often exhibit significant noise at the beginning. For accurate results, it's advisable not to use the initial data for analysis. Wait until the curve decreases uniformly before starting the analysis.\n",
    "\n",
    "3. The local maxima $\\phi_m(t)$ in the above graph are where $\\cos = 1$ in equation (3). Thus \n",
    "  \\begin{equation}\n",
    "  \\phi_m(t) = \\phi_0\\, e^{-\\gamma t}.\n",
    "  \\end{equation}\n",
    "\n",
    "4. When we take the logarithm of this equation, you get a linear equation,\n",
    "   \\begin{equation}\n",
    "   \\log \\phi_m(t) = \\log\\phi_0 -\\gamma t,\\tag{5}\n",
    "   \\end{equation}\n",
    "   the slope of which represents the sought-after damping constant. One possible method to determine this is plotting the maxima against time.\n",
    "\n",
    "__Remark:__ Alternatively, one could can use one of the fitting programs in Python. This approach provides more accurate results because it considers all data points, not just the maxima. However, using such a program for the first time requires time for learning and experimentation.\n"
   ]
  },
  {
   "cell_type": "code",
   "execution_count": null,
   "id": "a17620c0-b13b-40d9-9ab0-332f480c5d73",
   "metadata": {
    "editable": true,
    "slideshow": {
     "slide_type": ""
    },
    "tags": []
   },
   "outputs": [],
   "source": [
    "import matplotlib.pyplot as plt  # Importiere Matplotlib zum Plotten ausserhalb von Pandas\n",
    "t_i = table[\"t [s]\"][:].values # Zeit [s]\n",
    "logphi=np.log(np.abs(table[\"Acceleration a_z [m/s^2]\"].values ))  # Logarithmierte absolute Beschleunigung [m/s^2]\n",
    "\n",
    "# Grafische Darstellung des lorarithmierten Absolutwerts gegen den \n",
    "fig = plt.figure()\n",
    "#plt.plot(t_i,logphi)\n",
    "plt.plot(logphi)\n",
    "#plt.xlabel(\"Zeit [s]\")\n",
    "plt.xlabel(\"Time [s] \")\n",
    "plt.ylabel(\"log($\\phi$)\")\n",
    "plt.title(\"Time evolution of $\\log(\\phi)$\")\n",
    "plt.show()"
   ]
  },
  {
   "cell_type": "markdown",
   "id": "fad09f9a-32ab-4124-a2a8-08c7846a8a52",
   "metadata": {
    "editable": true,
    "slideshow": {
     "slide_type": ""
    },
    "tags": []
   },
   "source": [
    "The maxima show a linear decrease after about 10 seconds. After approximately 40 seconds, every 2nd maximum is slightly higher. Presumably, this can be attributed to beats with the vibrations in the x and y directions. From the decay, damping can be determined according to Tip 3. For example, one can extract the maxima and, using linear regression (see Jupyter Notebook for an introduction to error analysis), determine the slope and its error."
   ]
  },
  {
   "cell_type": "markdown",
   "id": "dd1297a3-1653-4f00-888f-d8a9a8992eca",
   "metadata": {
    "editable": true,
    "slideshow": {
     "slide_type": ""
    },
    "tags": []
   },
   "source": [
    "Reading the maxima off of a plot."
   ]
  },
  {
   "cell_type": "code",
   "execution_count": null,
   "id": "bd7b4d2a-7868-4f27-9324-4a33432bc951",
   "metadata": {},
   "outputs": [],
   "source": [
    "# plot of the log(|phi|) Darstellung des lorarithmierten Absolutwerts gegen Index\n",
    "fig = plt.figure()\n",
    "plt.plot(logphi)\n",
    "plt.xlabel(\"Data Index \")\n",
    "plt.ylabel(\"log($\\Phi$)\")\n",
    "plt.title(\"Logarithm  of absolute value of $\\phi$ versus array index\")\n",
    "plt.show()"
   ]
  },
  {
   "cell_type": "markdown",
   "id": "72e51756-a2c2-492d-a217-7914aa6f2b6e",
   "metadata": {},
   "source": [
    " - Before the 3rd maximum (index < 40) the decay is not uniform.\n",
    " - The same holds for values beyond index 160"
   ]
  },
  {
   "cell_type": "code",
   "execution_count": null,
   "id": "6ff57a93-eda0-48e7-a5a7-3e89c106dcc6",
   "metadata": {},
   "outputs": [],
   "source": [
    "# Select this linear range:\n",
    "linlogphi=logphi[40:160]\n",
    "# Grafische Darstellung des lorarithmierten Absolutwerts gegen Index\n",
    "fig = plt.figure()\n",
    "plt.plot(linlogphi)\n",
    "plt.xlabel(\"Daten Index \")\n",
    "plt.ylabel(\"log($\\Phi$)\")\n",
    "plt.title(\"Selected linear range\")\n",
    "plt.show()"
   ]
  },
  {
   "cell_type": "markdown",
   "id": "66c75b8a-c02c-4649-ba06-41bf27067881",
   "metadata": {},
   "source": [
    " - By zoomin in (rectangle-symbol left to the figure) we can read off the index of the maxima. A few of them are"
   ]
  },
  {
   "cell_type": "code",
   "execution_count": null,
   "id": "60731f3c-fea0-49a1-9c4e-25efa3ab1f40",
   "metadata": {},
   "outputs": [],
   "source": [
    "# Selected indices read:\n",
    "imax = np.array([2, 25, 59, 76, 93, 110])\n",
    "\n",
    "tmax = t_i[imax] # Zeitpunkte der Maxima \n",
    "logphimax = logphi[imax]  # Werte der Maxima"
   ]
  },
  {
   "cell_type": "markdown",
   "id": "78e6a0f2-c8e8-4ed5-aa07-89cf5bf78772",
   "metadata": {},
   "source": [
    "<div class=\"alert alert-block alert-info\">\n",
    "<b>Note:</b>  \n",
    "You do not have to read off all maxima 5 or 6 <i>spread through the time (!)</i> range can be enough to get a decent value for damping constant.  Of course, reading off more data will make the slope estimate better."
   ]
  },
  {
   "cell_type": "markdown",
   "id": "35122437-856c-4662-b87a-c6590c265bc7",
   "metadata": {},
   "source": [
    "Alternatively we can use a peak finding routine"
   ]
  },
  {
   "cell_type": "code",
   "execution_count": null,
   "id": "a8f40e5d-6da6-4b1d-a9e8-5372c0daa062",
   "metadata": {},
   "outputs": [],
   "source": [
    "# We can also use a maxima finding routine (find_peaks in the scipy.signal package):\n",
    "from scipy.signal import find_peaks\n",
    "peaks=find_peaks(linlogphi)\n",
    "imax=peaks[0]\n",
    "tmax=t_i[imax]\n",
    "logphimax=logphi[imax]\n",
    "print(\"Indices of maxima: imax = {}\".format(imax))"
   ]
  },
  {
   "cell_type": "markdown",
   "id": "09ae7cd6-07c9-4bb8-8d2b-4068dd8129c7",
   "metadata": {},
   "source": [
    "#### We use a linear regression to determine the slope \n",
    "See the cheat sheet and the notebook on linear regression"
   ]
  },
  {
   "cell_type": "code",
   "execution_count": null,
   "id": "ca4d7125-0458-47eb-8a19-1833d420afd1",
   "metadata": {},
   "outputs": [],
   "source": [
    "# Load  linregress\n",
    "from scipy.stats import linregress\n",
    "\n",
    "res = linregress(tmax,logphimax) \n",
    "print(res)"
   ]
  },
  {
   "cell_type": "code",
   "execution_count": null,
   "id": "976281fa-e1f8-4e0d-a14f-150d9e24bc15",
   "metadata": {},
   "outputs": [],
   "source": [
    "# Decoded\n",
    "m = ufloat(res.slope, res.stderr)\n",
    "a = ufloat(res.intercept, res.intercept_stderr)\n",
    "print(\"Slope: m = {:P}, intercept a = {:P}\".format(m,a))"
   ]
  },
  {
   "cell_type": "code",
   "execution_count": null,
   "id": "4e387e76-9b46-41f0-8247-13b6a6b6f9d4",
   "metadata": {},
   "outputs": [],
   "source": [
    "gamma = -ufloat(res.slope, res.stderr)\n",
    "print(\"Dämpfung gamma = {:P} [s^-1]\".format(gamma))"
   ]
  },
  {
   "cell_type": "markdown",
   "id": "74e67361-f3a4-4e5e-a448-892c06f6b5da",
   "metadata": {},
   "source": [
    "According to equation (5) the slope is  $-\\gamma$.  Since the time units are [s] we get the result."
   ]
  },
  {
   "cell_type": "code",
   "execution_count": null,
   "id": "60bef13a-04c2-48f8-b7db-4d14e25b898b",
   "metadata": {},
   "outputs": [],
   "source": [
    "gamma = -ufloat(res.slope, res.stderr)\n",
    "print(\"Damping constant γ = {:P} [s^-1]\".format(gamma))"
   ]
  },
  {
   "cell_type": "markdown",
   "id": "e7c653f4-8b00-49c2-adf8-28f6b6481cf0",
   "metadata": {},
   "source": [
    "#### To check the regression fit we plot the data and the regression line."
   ]
  },
  {
   "cell_type": "code",
   "execution_count": null,
   "id": "139fe19b-adb7-42bd-bc91-75570884aa66",
   "metadata": {},
   "outputs": [],
   "source": [
    "# Check\n",
    "plt.figure()\n",
    "plt.xlabel(\"Time [s] \")\n",
    "plt.ylabel(\"log($\\Phi$)\")\n",
    "plt.title(\"log of maxima versus time\")\n",
    "plt.plot(tmax,logphimax,'*', label=\"data points\")\n",
    "plt.plot(tmax, m.n*tmax+a.n,'r', label=\"regression line\")\n",
    "plt.show()"
   ]
  },
  {
   "cell_type": "markdown",
   "id": "479ba58d-776f-4e93-ab7a-9c0d0842bd94",
   "metadata": {},
   "source": [
    "Looks like we should have dropped 2 more maxima at the start.\n",
    "\n",
    "#### Discussion\n",
    "  - Report to your TA were you had problems using this notebook.\n",
    "  - What would you change if you were to repeat the experiment?\n",
    "  - How could the accuracy of the measurement be further increased?\n",
    "  - In which way might this experiment be relevant in environmental sciences?"
   ]
  }
 ],
 "metadata": {
  "kernelspec": {
   "display_name": "Python 3 (ipykernel)",
   "language": "python",
   "name": "python3"
  },
  "language_info": {
   "codemirror_mode": {
    "name": "ipython",
    "version": 3
   },
   "file_extension": ".py",
   "mimetype": "text/x-python",
   "name": "python",
   "nbconvert_exporter": "python",
   "pygments_lexer": "ipython3",
   "version": "3.11.5"
  },
  "toc": {
   "base_numbering": 1
  }
 },
 "nbformat": 4,
 "nbformat_minor": 5
}
