{
 "cells": [
  {
   "cell_type": "markdown",
   "id": "8a371fae-7663-45d9-903e-4d70c5cfc165",
   "metadata": {
    "tags": []
   },
   "source": [
    "# Vorversuch Pendel Experiment\n"
   ]
  },
  {
   "cell_type": "markdown",
   "id": "7230d677-8073-4e9e-9d4c-b24ebe961bb0",
   "metadata": {
    "tags": []
   },
   "source": [
    "## Vorwort\n",
    "Der Vorversuch dient zur Einführung in das Experimentieren und die Auswertung der Messungen.  Sie sollen in Gruppen von 8 bis 10 Studierenden die je einer/einer Assistierenden zugeordnet wurden mehrer Pendelschaukeln (mindestens zwei) aufbauen.  Danach werden Sie mit Ihrer/Ihrem GruppenpartnerIn an einem dieser Pendel Messungen durchzuführen und diese auswerten. Ein wichtiges Ziel dabei ist, verschiedene Messmethoden zu ver  und mit der Phyphox App Messungen durchführen, diese Messungen auswerten und die Genauigkeit der Messungen bestimmen."
   ]
  },
  {
   "cell_type": "code",
   "execution_count": 2,
   "id": "8d8eac14-436c-4e43-a2c7-c707a88dc459",
   "metadata": {},
   "outputs": [],
   "source": [
    "%matplotlib widget\n",
    "import numpy as np                 # Standard-Package für Numerik, Vektoren, etc.\n",
    "from uncertainties import ufloat   # Packete für Fehlerberechnung\n",
    "from uncertainties.umath import *\n",
    "import modules.pendulum as pendulum  # Plot Function für Pendelschwingung"
   ]
  },
  {
   "cell_type": "markdown",
   "id": "7c10e0a8-2255-477d-a0c6-d448538ddd34",
   "metadata": {
    "tags": []
   },
   "source": [
    "### Das gedämpftes Pendel\n",
    "\n",
    "Unter einem Pendel einen Körper, der an einer Stange oder Schnur schwingend aufgehängt ist.  Für kleine Auslenkungen auf der Vertikalen erhält man für die Kreisfrequenz $\\omega$ eines Pendels der Länge $L$\n",
    "\\begin{equation}\n",
    "\\omega_0 = \\sqrt{g\\over L},\\tag{1}\\label{eq:omega0}\n",
    "\\end{equation}\n",
    "wobei $g$ m/s die lokale Erdbeschleunigung bezeichnet.  Aus dem Zusammenhang zwischen Periode, Kreisfrequenz ($\\omega=\\frac{2\\pi}{T}$) ergibt sich daraus für die Periode des Pendels\n",
    "\\begin{equation}\n",
    "T_0 = 2\\pi\\sqrt{L \\over g}. \\tag{2}\\label{eq:T0}\n",
    "\\end{equation}\n",
    "\n",
    "In Wirklichkeit wird das Pendel durch Reibungsverluste an der Luft stetig langsamer, bis es in der Vertikalen zur Ruhe kommt. Man spricht deshalb von einer gedämpften Oszillation.  Wenn man das Pendel zum Zeitpunkt $t = 0$ einem Winkel $\\phi_0$ (siege Skizze im Anhang) loslässt,  ergibt sich für die Zeitentwicklung der Auslenkung der gedämpften Schwingung des Pendels\n",
    "\n",
    "\n",
    "\\begin{equation}\n",
    "\\phi(t) = \\phi_0\\, e^{-\\gamma t} \\cos{\\omega_\\gamma t}, \\tag{3}\\label{eq:phi_t}\n",
    "\\end{equation}\n",
    "\n",
    "Hierbei bezeichnet $\\Phi(t)$ den Auslenkungswinkel zum Zeitpunkt $t$ von der Vertikalen , $T_\\gamma$ die Periode der Schwingung und $\\gamma$ die Dämpfungskonstante, ein Mass für die Stärke der Dämpfung.  \n",
    "Die  Kreisfrequenz $\\omega_\\gamma$ der gedämpften Schwingung wird durch die Dämpfung gegenüber der ungedämpften Schwingung (\\ref{eq:omega0) verringert\n",
    "\n",
    "\\begin{equation}\n",
    "\\omega_\\gamma = \\sqrt{\\omega_0^2-\\gamma^2}, \\tag{4}\\label{eq:omega_g}\n",
    "\\end{equation}\n",
    "\n",
    "wobei diese Änderung für schwache Dämpfung recht klein ist.  Die Ableitung dieser Formeln findet sich im Anhang.  \n",
    " \n",
    "**Bemerkung:** Für sehr starke Dämpfung ($\\gamma \\ge \\omega$) ergibt sich , dass das Pendel ohne zu schwingen langsam zur Ruheposition zurückkehrt  (\"Kriechfall\")."
   ]
  },
  {
   "cell_type": "code",
   "execution_count": 22,
   "id": "fe16abaf-861a-4515-a066-cc8f530a1d55",
   "metadata": {},
   "outputs": [
    {
     "name": "stdout",
     "output_type": "stream",
     "text": [
      "Help on function plot in module modules.pendulum:\n",
      "\n",
      "plot(T0, gamma, phi0)\n",
      "    Plot a damped harmonic oscillation.\n",
      "    \n",
      "    Input\n",
      "        T0:    Free period(no damping)  (Periode ohne Dämpfung)\n",
      "        gamma: Damping constant   (Dämpfungskonstante)\n",
      "        phi0:  Initial amplitude (Angangsamplitude). \n",
      "        \n",
      "    Assumption:\n",
      "        Initial change of amplitude d(phi0)/dt(t=0)=0.)\n",
      "\n"
     ]
    }
   ],
   "source": [
    "# Die Python Funktion \"pendulum.plot\" zeichnet das Schwingungsverhalten eines Pendels\n",
    "# Wenn du willst, kannst du sie dir im \"modules\" Ordner anschauen.\n",
    "\n",
    "help(pendulum.plot)"
   ]
  },
  {
   "cell_type": "markdown",
   "id": "e0ee1273-cefb-4bea-87a1-b86dc7212f8c",
   "metadata": {
    "tags": []
   },
   "source": [
    "Ein typischen Zeitverlauf einer gedämpften Schwingung zeigt die folgende Graphik"
   ]
  },
  {
   "cell_type": "code",
   "execution_count": 23,
   "id": "db7ca437-5a3e-48fb-8472-fa1f0194058d",
   "metadata": {},
   "outputs": [
    {
     "name": "stdout",
     "output_type": "stream",
     "text": [
      "Frequenz (ungedämpft) f = 0.50, Kreisfrequenz (ungedämpft) ω =  3.14\n"
     ]
    },
    {
     "data": {
      "application/vnd.jupyter.widget-view+json": {
       "model_id": "801af1ac81ff4500b90b73520460709d",
       "version_major": 2,
       "version_minor": 0
      },
      "text/html": [
       "\n",
       "            <div style=\"display: inline-block;\">\n",
       "                <div class=\"jupyter-widgets widget-label\" style=\"text-align: center;\">\n",
       "                    Figure\n",
       "                </div>\n",
       "                <img src='data:image/png;base64,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' width=432.0/>\n",
       "            </div>\n",
       "        "
      ],
      "text/plain": [
       "Canvas(toolbar=Toolbar(toolitems=[('Home', 'Reset original view', 'home', 'home'), ('Back', 'Back to previous …"
      ]
     },
     "metadata": {},
     "output_type": "display_data"
    }
   ],
   "source": [
    "pendulum.plot(T0=2, gamma=0.2,phi0=10)"
   ]
  },
  {
   "cell_type": "markdown",
   "id": "32f323a7-f6f0-4d0a-83e1-a9e8ba028c7e",
   "metadata": {
    "tags": []
   },
   "source": [
    "#### Aufgabe 1:\n",
    "Ändere die Parameter der gedämpfte Schwingung und kommentiere, wie sich das Schwingungsverhalten ändert.  Benutze zum Beispiel folgende Werte\n",
    "\n",
    "  1. T = 2, gamma = 1, phi0 = 10 (Änderung der Anfangsamplitude)\n",
    "  2. T = 2,  gamma = 0, phi0 = 1 (Keine Dämpfung)\n",
    "  3. T = 0.5, gamma = 1, phi0 = 1 (kurze Periode)\n",
    "  4. T = ?, gamma = ?,  phi0 = ?  (beliebige andere Werte)"
   ]
  },
  {
   "cell_type": "markdown",
   "id": "efd112d8-1ed2-4ca2-ab80-58ecb6412bce",
   "metadata": {},
   "source": [
    "##### Antworten zu Aufgabe 1\n",
    "\n",
    "Bitte ausfüllen."
   ]
  },
  {
   "cell_type": "code",
   "execution_count": 4,
   "id": "c15fa0a8-bc8d-42fc-8c7a-e820ca236b98",
   "metadata": {},
   "outputs": [],
   "source": [
    "# Aufgabe 1.1.\n",
    "# pendulum.plot(T = ?, gamma = ?, phi0 = ?)"
   ]
  },
  {
   "cell_type": "raw",
   "id": "73541abe-85f5-464b-84b4-d18ef0ac8eb1",
   "metadata": {
    "tags": []
   },
   "source": [
    " Dein Kommentar\n"
   ]
  },
  {
   "cell_type": "code",
   "execution_count": 5,
   "id": "dbe252e9-7d91-467a-91d0-fcfa5f921d10",
   "metadata": {},
   "outputs": [],
   "source": [
    "# Aufgabe 1.2. \n",
    "#pendulum.plot(T = ?, gamma = ?, phi0 = ?)"
   ]
  },
  {
   "cell_type": "raw",
   "id": "19b5f02c-59ef-461c-a575-9a60e85283a8",
   "metadata": {
    "tags": []
   },
   "source": [
    "Dein Kommentar"
   ]
  },
  {
   "cell_type": "code",
   "execution_count": 6,
   "id": "e1599cfe-0842-43cc-a200-db2e7df6a0f2",
   "metadata": {},
   "outputs": [],
   "source": [
    "# Aufgabe 1.3.\n",
    "#pendulum.plot(T = ?, gamma = ?, phi0 = ?)"
   ]
  },
  {
   "cell_type": "raw",
   "id": "c95d4679-6e86-4981-bac2-52be11460b8d",
   "metadata": {
    "tags": []
   },
   "source": [
    "Dein Kommentar"
   ]
  },
  {
   "cell_type": "code",
   "execution_count": 7,
   "id": "ba0c1f19-2c4b-44e0-aa40-bb84aaed2a2c",
   "metadata": {},
   "outputs": [],
   "source": [
    "# Aufgabe 1.4.\n",
    "#pendulum.plot(T = ?, gamma = ?, phi0 = ?)"
   ]
  },
  {
   "cell_type": "raw",
   "id": "6ab1912f-bcf5-4a5f-a77c-f1cdf3d359b6",
   "metadata": {
    "tags": []
   },
   "source": [
    "Dein Kommentar"
   ]
  },
  {
   "cell_type": "markdown",
   "id": "1f1edfde-4e25-43ef-b03c-34ca5cb0d788",
   "metadata": {
    "tags": []
   },
   "source": [
    "### Aufgabe 2\n",
    "\n",
    "**Baue ein Pendel oder Schaukel für die Messungen.**\n",
    "Sei kreativ. Das folgende Video zeigt einige Aufbauten von anderen Studierenden."
   ]
  },
  {
   "cell_type": "code",
   "execution_count": 8,
   "id": "5c6fe2ee-fdc3-4d41-b7bc-8b4771071bd0",
   "metadata": {
    "jupyter": {
     "source_hidden": true
    },
    "tags": []
   },
   "outputs": [
    {
     "data": {
      "text/html": [
       "<iframe width=\"560\" height=\"315\" src=\"https://www.youtube.com/embed/q3_m1JW1ttQ?start=191&end=223\" title=\"YouTube video player\" frameborder=\"0\" allow=\"accelerometer; autoplay; clipboard-write; encrypted-media; gyroscope; picture-in-picture\" allowfullscreen></iframe>\n"
      ],
      "text/plain": [
       "<IPython.core.display.HTML object>"
      ]
     },
     "metadata": {},
     "output_type": "display_data"
    }
   ],
   "source": [
    "%%html\n",
    "<iframe width=\"560\" height=\"315\" src=\"https://www.youtube.com/embed/q3_m1JW1ttQ?start=191&end=223\" title=\"YouTube video player\" frameborder=\"0\" allow=\"accelerometer; autoplay; clipboard-write; encrypted-media; gyroscope; picture-in-picture\" allowfullscreen></iframe>"
   ]
  },
  {
   "cell_type": "markdown",
   "id": "470c4f16-bb41-4729-9e79-930ab3356bd6",
   "metadata": {
    "tags": []
   },
   "source": [
    "Für Aufgabe 3 reicht ein Pendel. Für Messungen  für Aufgabe 4 ist es allerdings besser, eine Schaukel zu bauen, da sich  ein Pendel um den Faden dreht, was die  Auswertung der Messungen mit der *Phyphox App* erheblich erschwert.  Hier noch eine Skizze zum Aufbau einer Schaukel mit Hilfe eines Briefumschlags:\n",
    "<img src=\"figuren/pendulum.png\" /> \n",
    "\n",
    "\n",
    "Überzeuge dich, dass der Aufbau stabil genug ist und das Handy nicht herunterfallen, oder irgendwo anschlagen kann.  **Das Praktikum übernimmt keine Haftung für entstandende Schäden am Handys! **\n",
    "\n",
    " - Fotografiere den Aufbau des Pendel.\n",
    " - Optional:  Erstelle auch eine Videoaufnahme."
   ]
  },
  {
   "cell_type": "markdown",
   "id": "8ea4c5ca-5697-4953-8cf1-5527834bab36",
   "metadata": {
    "tags": []
   },
   "source": [
    "**Einfügen:**\n",
    "\n",
    "Foto und/oder Video deines Versuchsaufbaus\n",
    "\n",
    "Ersetze \"???\" mit dem Namen und Pfad deiner Bilddatei oder Video (nächste Zelle)  und entferne die Kommentar Markierungen \"< !--\"  \"-->\", bzw. \"#\"\n",
    "\n",
    "<!--\n",
    " <img src=\"???\" /> \n",
    "-->\n",
    "\n"
   ]
  },
  {
   "cell_type": "code",
   "execution_count": 9,
   "id": "7db52157-5fc2-4bfa-a6c4-5f10291eb625",
   "metadata": {
    "jp-MarkdownHeadingCollapsed": true,
    "tags": []
   },
   "outputs": [],
   "source": [
    "#%%html\n",
    "#    <video width='480' height='480' controls>\n",
    "#        <source src=\"???\">\n",
    "#    </video>\n"
   ]
  },
  {
   "cell_type": "markdown",
   "id": "dd3c4b14-8fef-4ae5-a7a4-980b1cd0d190",
   "metadata": {},
   "source": [
    "### Aufgabe 3\n",
    " - Messe die Periode des Pendels auf verschiedene Arten (siehe unten) für mindestens 2 verschiedene Pendellängen.  Die Zeitmessung hierbei mit der Stoppuhr des Handys erfolgen, also ohne die Phyphox App. \n",
    "   - Bestimme rechnerisch (\"schätze\") die Genauigkeit der Messungen.\n",
    "     1) Über die Streuung der Messwerte bei wiederholten Messung einer einzelnen Pendelschwingung.\n",
    "     2) Über die Streuung der Messwerte, wenn man jeweils die Zeit für 10 Pendelschwingungen misst.\n",
    "     3) Durch Fehlerfortpflanzung aus je einer der obigen Messungen und deren Mittelwerte, wenn man für den Fehler ein Zeitmessung die übliche Reaktionszeit eines Menschen von 0.1 bis 0.2 Sekunden annimmt. **Tipp:**  Hier kann man das Uncerteinties Paket benutzen.\n",
    "     \n",
    "   - Messe die Pendellänge $L$ deines Pendels. Die effektive Pendellänge ist die Distanz vom Aufhängepunkt bis zum Schwerpunkt der Pendelmasse.  Wie genau ist deine Messung der Pendellänge?\n",
    "   - Vergleiche die verschiedenen Messmethoden.  Mit welcher erreicht man die höchste Genauigkeit?\n",
    "   - Welcher Wert ergibt sich für die Gravitationskonstante $g$ aus deinen Messungen.  Stimmt er in Rahmen der besten Genauigkeit deiner Messungen mit dem Literaturwert überein? "
   ]
  },
  {
   "cell_type": "markdown",
   "id": "67d02d9b-a677-4d1b-bea3-0df296708cbb",
   "metadata": {},
   "source": [
    "#### Methode 1:  Direkte Eingabe der Messwerte in ein Uncertainties array "
   ]
  },
  {
   "cell_type": "code",
   "execution_count": 10,
   "id": "1e3ae11c-bc51-45fa-aa6a-93e51bd50247",
   "metadata": {},
   "outputs": [
    {
     "data": {
      "text/plain": [
       "array([1.2+/-0.1, 1.3+/-0.1, 0.9+/-0.1, 0.8+/-0.1], dtype=object)"
      ]
     },
     "execution_count": 10,
     "metadata": {},
     "output_type": "execute_result"
    }
   ],
   "source": [
    "from uncertainties import unumpy # Importieren von unumpy \n",
    "# t1 = unumpy.uarray([value1, value2, value3, ...], [uncertainty1, uncertainty2, uncertainty3,...])\n",
    "\n",
    "# Beispiel: \n",
    "t1 = unumpy.uarray([1.2, 1.3, 0.9, 0.8], [0.1, 0.1, 0.1, 0.1]) # [s]\n",
    "t1 # Ausgabe der Werte [s]"
   ]
  },
  {
   "cell_type": "code",
   "execution_count": 11,
   "id": "3ffcc1bb-5257-4f28-8987-a3d032242487",
   "metadata": {},
   "outputs": [
    {
     "name": "stdout",
     "output_type": "stream",
     "text": [
      "Periode = 1.05±0.05 [s]\n"
     ]
    }
   ],
   "source": [
    "# Mittelwert mit Fehler\n",
    "t1bar = np.mean(t1)\n",
    "t1bar\n",
    "print(\"Periode = {:P} [s]\".format(t1bar))"
   ]
  },
  {
   "cell_type": "markdown",
   "id": "8337ccab-fd8e-4aeb-87d0-d747c75c97f9",
   "metadata": {},
   "source": [
    "#### Methode 2:  Benutzung von Pandas"
   ]
  },
  {
   "cell_type": "code",
   "execution_count": 12,
   "id": "a614f8a9-4eaf-45a7-9c34-b8da45ad126e",
   "metadata": {},
   "outputs": [
    {
     "data": {
      "text/html": [
       "<div>\n",
       "<style scoped>\n",
       "    .dataframe tbody tr th:only-of-type {\n",
       "        vertical-align: middle;\n",
       "    }\n",
       "\n",
       "    .dataframe tbody tr th {\n",
       "        vertical-align: top;\n",
       "    }\n",
       "\n",
       "    .dataframe thead th {\n",
       "        text-align: right;\n",
       "    }\n",
       "</style>\n",
       "<table border=\"1\" class=\"dataframe\">\n",
       "  <thead>\n",
       "    <tr style=\"text-align: right;\">\n",
       "      <th></th>\n",
       "      <th>t1</th>\n",
       "      <th>Dt1</th>\n",
       "    </tr>\n",
       "  </thead>\n",
       "  <tbody>\n",
       "    <tr>\n",
       "      <th>0</th>\n",
       "      <td>1.2</td>\n",
       "      <td>0.1</td>\n",
       "    </tr>\n",
       "    <tr>\n",
       "      <th>1</th>\n",
       "      <td>1.3</td>\n",
       "      <td>0.1</td>\n",
       "    </tr>\n",
       "    <tr>\n",
       "      <th>2</th>\n",
       "      <td>0.9</td>\n",
       "      <td>0.1</td>\n",
       "    </tr>\n",
       "    <tr>\n",
       "      <th>3</th>\n",
       "      <td>0.8</td>\n",
       "      <td>0.1</td>\n",
       "    </tr>\n",
       "    <tr>\n",
       "      <th>4</th>\n",
       "      <td>1.0</td>\n",
       "      <td>0.1</td>\n",
       "    </tr>\n",
       "  </tbody>\n",
       "</table>\n",
       "</div>"
      ],
      "text/plain": [
       "    t1  Dt1\n",
       "0  1.2  0.1\n",
       "1  1.3  0.1\n",
       "2  0.9  0.1\n",
       "3  0.8  0.1\n",
       "4  1.0  0.1"
      ]
     },
     "execution_count": 12,
     "metadata": {},
     "output_type": "execute_result"
    }
   ],
   "source": [
    "## Methode 2 mit Pandas\n",
    "# Importiere Pandas, das Tabellen Modul in Python\n",
    "import pandas as pd\n",
    "\n",
    "# Trage zunächst in die Tabelle einzelschwingung.csv deine Messungen zu Aufgabe 2.1 ein\n",
    "# Hierzu muss du den Folder messdaten öffnen und dann mit rechts-klick, den Editor zum öffnen der Datei auswählen\n",
    "\n",
    "# Einlesen der Datei als Pandas Tabelle (DataFrame)\n",
    "zeit1 = pd.read_csv('messdaten/einzelschwingung.csv',skiprows=1) # skiprows=1 um die 1. Zeile zu  überspringen\n",
    "\n",
    "# Tabelle anzeigen\n",
    "zeit1"
   ]
  },
  {
   "cell_type": "code",
   "execution_count": 13,
   "id": "291b47ee-40ae-4e62-a23e-c923ef4ab608",
   "metadata": {},
   "outputs": [
    {
     "data": {
      "text/plain": [
       "array([1.2+/-0.1, 1.3+/-0.1, 0.9+/-0.1, 0.8+/-0.1, 1.0+/-0.1],\n",
       "      dtype=object)"
      ]
     },
     "execution_count": 13,
     "metadata": {},
     "output_type": "execute_result"
    }
   ],
   "source": [
    "# Konvertieren in uncertainty array\n",
    "t1 = unumpy.uarray(zeit1['t1'].values,zeit1['Dt1'])\n",
    "# Messdaten anzeige\n",
    "t1 "
   ]
  },
  {
   "cell_type": "code",
   "execution_count": 14,
   "id": "9a93cdba-7fb2-4ff1-9c0a-e41620c40a27",
   "metadata": {},
   "outputs": [
    {
     "name": "stdout",
     "output_type": "stream",
     "text": [
      "Periode = 1.04±0.04 [s]\n"
     ]
    }
   ],
   "source": [
    "# Mittelwert der Zeiten mit Fehler\n",
    "t1bar = np.mean(t1)\n",
    "\n",
    "# Formatierte Ausgabe\n",
    "print(\"Periode = {:P} [s]\".format(t1bar))"
   ]
  },
  {
   "cell_type": "markdown",
   "id": "df3f0f44-55bf-447c-896f-c823dc41ff7f",
   "metadata": {},
   "source": [
    "##### Nun analog mit den gemessenen Zeiten für 10 Schwingungen"
   ]
  },
  {
   "cell_type": "code",
   "execution_count": 15,
   "id": "f1be2acc-d7e8-4c2e-8df0-f41b45de9cf7",
   "metadata": {
    "tags": []
   },
   "outputs": [
    {
     "data": {
      "text/html": [
       "<div>\n",
       "<style scoped>\n",
       "    .dataframe tbody tr th:only-of-type {\n",
       "        vertical-align: middle;\n",
       "    }\n",
       "\n",
       "    .dataframe tbody tr th {\n",
       "        vertical-align: top;\n",
       "    }\n",
       "\n",
       "    .dataframe thead th {\n",
       "        text-align: right;\n",
       "    }\n",
       "</style>\n",
       "<table border=\"1\" class=\"dataframe\">\n",
       "  <thead>\n",
       "    <tr style=\"text-align: right;\">\n",
       "      <th></th>\n",
       "      <th>t10</th>\n",
       "      <th>D110</th>\n",
       "    </tr>\n",
       "  </thead>\n",
       "  <tbody>\n",
       "    <tr>\n",
       "      <th>0</th>\n",
       "      <td>10.2</td>\n",
       "      <td>0.1</td>\n",
       "    </tr>\n",
       "    <tr>\n",
       "      <th>1</th>\n",
       "      <td>9.8</td>\n",
       "      <td>0.1</td>\n",
       "    </tr>\n",
       "    <tr>\n",
       "      <th>2</th>\n",
       "      <td>10.1</td>\n",
       "      <td>0.1</td>\n",
       "    </tr>\n",
       "    <tr>\n",
       "      <th>3</th>\n",
       "      <td>10.0</td>\n",
       "      <td>0.1</td>\n",
       "    </tr>\n",
       "    <tr>\n",
       "      <th>4</th>\n",
       "      <td>9.9</td>\n",
       "      <td>0.1</td>\n",
       "    </tr>\n",
       "  </tbody>\n",
       "</table>\n",
       "</div>"
      ],
      "text/plain": [
       "    t10   D110\n",
       "0  10.2    0.1\n",
       "1   9.8    0.1\n",
       "2  10.1    0.1\n",
       "3  10.0    0.1\n",
       "4   9.9    0.1"
      ]
     },
     "execution_count": 15,
     "metadata": {},
     "output_type": "execute_result"
    }
   ],
   "source": [
    "# Trage in die Tabelle deine Messungen zu Aufgabe 2.2 ein\n",
    "zeit10 = pd.read_csv('messdaten/zehnschwingungen.csv',skiprows=1)\n",
    "\n",
    "zeit10"
   ]
  },
  {
   "cell_type": "code",
   "execution_count": 16,
   "id": "e72e8158-d839-4c30-8ca5-6b9e8aa101a5",
   "metadata": {},
   "outputs": [],
   "source": [
    "# Messung der Pendellänge $L$ \n",
    "\n",
    "# L = ufloat(<Messwert>, <geschätzte Genauigkeit>)\n",
    "\n",
    "\n",
    "# Berechnung von $g$"
   ]
  },
  {
   "cell_type": "markdown",
   "id": "0081ba88-b658-4cb3-b734-af156d097d14",
   "metadata": {
    "tags": []
   },
   "source": [
    "#### Diskussion der Ergebnisse\n",
    "  - Wo traten Probleme auf?\n",
    "  - Was würdest du bei Wiederholen des Versuchs ändern?\n",
    "  - Vergleich der Messungen mit der Literatur.\n",
    "  - Wie könnte man die Genauigkeit der Messung weiter erhöhen?"
   ]
  },
  {
   "cell_type": "markdown",
   "id": "47ddb48f-8b3a-409d-bc4f-b7c645547596",
   "metadata": {
    "tags": []
   },
   "source": [
    "### Aufgabe 4\n",
    " - Erhöhe die Dämpfung des Pendel, so dass sich die Amplitude nach einigen Schwingungen merklich verringert.  Dies lässt sich im obigen Aufbau zum Beispiel durch Anbringen eines \"Segels\" zwischen den Fäden erreichen. \n",
    " 1. Stelle Deine Messdaten grafisch dar.\n",
    " 2. Bestimme die Dämpfungskonstante $\\gamma$. Die Messung erfolgt hier mit der Phyphox App."
   ]
  },
  {
   "cell_type": "markdown",
   "id": "879846b8-8de6-4ee4-8bd3-fd0b6a41ac16",
   "metadata": {},
   "source": [
    "#### B Messungen mit Hilfe der Phyphox App\n",
    "\n",
    " 1) Installiere die  \\href{Phyphox App}{https://phyphox.org/} vom *Apple App store* oder von *Google Play*. \n",
    " 2) Installiere das  \\textit{ETH acceleration} Add-on durch Scannen des QR-code in der Phyphox App (->Plus-Button unten rechts ->Neues Experimen von einem QR-Code).\n",
    "<img src='figuren/vorversuch_qr_code3.png' style=\"float: right;\" /> \n",
    "\n",
    "\n",
    " 3) Starte die ETH App\n",
    " 4) Erlaube den Fernzugriff in den Einstellungen oben rechts und verbinde einen PC, Laptop oder Tablet mit der App.\n",
    " 5) Baue dein Handy in das Pendel ein und steuere deine Messungen mit dem Fernzugriff. "
   ]
  },
  {
   "cell_type": "code",
   "execution_count": 17,
   "id": "f667e553-e65d-45f7-8ced-a09e26da35ee",
   "metadata": {},
   "outputs": [
    {
     "data": {
      "text/html": [
       "<div>\n",
       "<style scoped>\n",
       "    .dataframe tbody tr th:only-of-type {\n",
       "        vertical-align: middle;\n",
       "    }\n",
       "\n",
       "    .dataframe tbody tr th {\n",
       "        vertical-align: top;\n",
       "    }\n",
       "\n",
       "    .dataframe thead th {\n",
       "        text-align: right;\n",
       "    }\n",
       "</style>\n",
       "<table border=\"1\" class=\"dataframe\">\n",
       "  <thead>\n",
       "    <tr style=\"text-align: right;\">\n",
       "      <th></th>\n",
       "      <th>t [s]</th>\n",
       "      <th>Acceleration a_x [m/s^2]</th>\n",
       "      <th>Acceleration a_y [m/s^2]</th>\n",
       "      <th>Acceleration a_z [m/s^2]</th>\n",
       "    </tr>\n",
       "  </thead>\n",
       "  <tbody>\n",
       "    <tr>\n",
       "      <th>0</th>\n",
       "      <td>0.250274</td>\n",
       "      <td>-0.008489</td>\n",
       "      <td>0.018097</td>\n",
       "      <td>-0.289675</td>\n",
       "    </tr>\n",
       "    <tr>\n",
       "      <th>1</th>\n",
       "      <td>0.452655</td>\n",
       "      <td>-0.164507</td>\n",
       "      <td>-0.017175</td>\n",
       "      <td>-0.794220</td>\n",
       "    </tr>\n",
       "    <tr>\n",
       "      <th>2</th>\n",
       "      <td>0.655061</td>\n",
       "      <td>-0.346180</td>\n",
       "      <td>-0.054885</td>\n",
       "      <td>-0.948928</td>\n",
       "    </tr>\n",
       "    <tr>\n",
       "      <th>3</th>\n",
       "      <td>0.857427</td>\n",
       "      <td>-0.341320</td>\n",
       "      <td>-0.082214</td>\n",
       "      <td>-0.746259</td>\n",
       "    </tr>\n",
       "    <tr>\n",
       "      <th>4</th>\n",
       "      <td>1.059818</td>\n",
       "      <td>-0.110155</td>\n",
       "      <td>-0.226060</td>\n",
       "      <td>-0.267478</td>\n",
       "    </tr>\n",
       "    <tr>\n",
       "      <th>...</th>\n",
       "      <td>...</td>\n",
       "      <td>...</td>\n",
       "      <td>...</td>\n",
       "      <td>...</td>\n",
       "    </tr>\n",
       "    <tr>\n",
       "      <th>297</th>\n",
       "      <td>60.353760</td>\n",
       "      <td>-0.012894</td>\n",
       "      <td>-0.034187</td>\n",
       "      <td>-0.155704</td>\n",
       "    </tr>\n",
       "    <tr>\n",
       "      <th>298</th>\n",
       "      <td>60.556108</td>\n",
       "      <td>-0.022751</td>\n",
       "      <td>0.018734</td>\n",
       "      <td>-0.152470</td>\n",
       "    </tr>\n",
       "    <tr>\n",
       "      <th>299</th>\n",
       "      <td>60.758457</td>\n",
       "      <td>-0.013642</td>\n",
       "      <td>0.046952</td>\n",
       "      <td>-0.099042</td>\n",
       "    </tr>\n",
       "    <tr>\n",
       "      <th>300</th>\n",
       "      <td>60.960828</td>\n",
       "      <td>-0.007698</td>\n",
       "      <td>0.042311</td>\n",
       "      <td>-0.018373</td>\n",
       "    </tr>\n",
       "    <tr>\n",
       "      <th>301</th>\n",
       "      <td>61.163173</td>\n",
       "      <td>0.014156</td>\n",
       "      <td>0.001020</td>\n",
       "      <td>0.075985</td>\n",
       "    </tr>\n",
       "  </tbody>\n",
       "</table>\n",
       "<p>302 rows × 4 columns</p>\n",
       "</div>"
      ],
      "text/plain": [
       "         t [s]  Acceleration a_x [m/s^2]  Acceleration a_y [m/s^2]  \\\n",
       "0     0.250274                 -0.008489                  0.018097   \n",
       "1     0.452655                 -0.164507                 -0.017175   \n",
       "2     0.655061                 -0.346180                 -0.054885   \n",
       "3     0.857427                 -0.341320                 -0.082214   \n",
       "4     1.059818                 -0.110155                 -0.226060   \n",
       "..         ...                       ...                       ...   \n",
       "297  60.353760                 -0.012894                 -0.034187   \n",
       "298  60.556108                 -0.022751                  0.018734   \n",
       "299  60.758457                 -0.013642                  0.046952   \n",
       "300  60.960828                 -0.007698                  0.042311   \n",
       "301  61.163173                  0.014156                  0.001020   \n",
       "\n",
       "     Acceleration a_z [m/s^2]  \n",
       "0                   -0.289675  \n",
       "1                   -0.794220  \n",
       "2                   -0.948928  \n",
       "3                   -0.746259  \n",
       "4                   -0.267478  \n",
       "..                        ...  \n",
       "297                 -0.155704  \n",
       "298                 -0.152470  \n",
       "299                 -0.099042  \n",
       "300                 -0.018373  \n",
       "301                  0.075985  \n",
       "\n",
       "[302 rows x 4 columns]"
      ]
     },
     "execution_count": 17,
     "metadata": {},
     "output_type": "execute_result"
    }
   ],
   "source": [
    "# Zu Aufgabe 4.1\n",
    "\n",
    "# Pakete laden\n",
    "#import numpy as np  # Math (bereits geladen)\n",
    "#from uncertainties import ufloat (bereits geladen)\n",
    "import pandas as pd # Data tables \n",
    "import matplotlib.pyplot as plt # Plotting\n",
    "\n",
    "# Messdaten einlesen mit Pandas (pd) als Tabelle (\"dataframes\")\n",
    "# Ersetze die Datei messdaten.csv mit deinen Messungen!\n",
    "table = pd.read_csv(\"messdaten/accelerations.csv\") # bei Pandas heissen die Tabellen \"data frames\"\n",
    "table # Anzeige der Daten-Tabelle"
   ]
  },
  {
   "cell_type": "code",
   "execution_count": 18,
   "id": "bd50cfc4-e575-47b5-adb7-4407abc92dde",
   "metadata": {},
   "outputs": [
    {
     "data": {
      "text/plain": [
       "<AxesSubplot:xlabel='t [s]'>"
      ]
     },
     "execution_count": 18,
     "metadata": {},
     "output_type": "execute_result"
    },
    {
     "data": {
      "image/png": "[encoded data removed]",
      "text/plain": [
       "<Figure size 432x288 with 1 Axes>"
      ]
     },
     "metadata": {
      "needs_background": "light"
     },
     "output_type": "display_data"
    },
    {
     "data": {
      "image/png": "[encoded data removed]",
      "text/plain": [
       "<Figure size 432x288 with 1 Axes>"
      ]
     },
     "metadata": {
      "needs_background": "light"
     },
     "output_type": "display_data"
    },
    {
     "data": {
      "image/png": "[encoded data removed]",
      "text/plain": [
       "<Figure size 432x288 with 1 Axes>"
      ]
     },
     "metadata": {
      "needs_background": "light"
     },
     "output_type": "display_data"
    }
   ],
   "source": [
    "# Plot der z-Beschleunigungskomponenten\n",
    "\n",
    "table.plot(x=\"t [s]\",y=\"Acceleration a_x [m/s^2]\")\n",
    "table.plot(x=\"t [s]\",y=\"Acceleration a_y [m/s^2]\")\n",
    "table.plot(x=\"t [s]\",y=\"Acceleration a_z [m/s^2]\")"
   ]
  },
  {
   "cell_type": "markdown",
   "id": "de4b09ad-7855-478e-8389-8cc0ffffe7eb",
   "metadata": {},
   "source": [
    "#### Tipps zur Auswertung von Aufgabe 4\n",
    "\n",
    " 1. Man wählt die Richtung mit Beschleunigung der höchsten Beschleunigung, hier die z-Richtung.  Beachte, dass diese von der Orientierung des Handys abhängt.  Bei deinen Messungen kann das deshalb eine andere Richtung sein. \n",
    " 2. Die  Grafiken zeigen oft am Anfang grösseres Rauschen.  Für gute Ergebnisse sollte deshalb die ersten Daten nicht bei der Analyse benutzen sondern warten, bis die Kurve gleichmässig abnimmt.\n",
    " 3. Für die lokalen Maxima $\\phi_m$ in der obigen Grafik ist $\\cos(\\omega t) = 0$ und Gleichung (3) reduziert sich für diese  auf\n",
    "  \\begin{equation}\n",
    "  \\phi_m(t) = \\phi_0\\, e^{-\\gamma t}.\n",
    "  \\end{equation}\n",
    "   Logarithmiert man diese Gleichung erhält man eine lineare Gleichung\n",
    "   \\begin{equation}\n",
    "   \\log \\phi_m(t) = \\log\\phi_0 -\\gamma t,\n",
    "   \\end{equation}\n",
    "   deren Steigung $-\\gamma$ ist. Eine mögliche Methode $\\gamma$ zu bestimmen ist deshalb für diese Maxima $\\log\\phi_m$ gegen die Zeit aufzutragen.\n",
    " 4. Alternativ kann man auch eines der Fitting Programme in Python benutzen.  Damit erhält man ein genaueres Ergebnisse, weil so alle Messpunkte und nicht nur die Maxima berücksichtigt werden.  Diese Methode benötigt allerdings Zeit zur Einarbeitung und ausprobieren, wenn man ein solches Programm zum ersten Mal benutzt hat."
   ]
  },
  {
   "cell_type": "markdown",
   "id": "e2592a56-efdf-4d75-a650-01c885bc2ec8",
   "metadata": {},
   "source": [
    "#####  Erste mögliche Schritte zur Bestimmung der Dämpfungskonstante:"
   ]
  },
  {
   "cell_type": "code",
   "execution_count": 19,
   "id": "a17620c0-b13b-40d9-9ab0-332f480c5d73",
   "metadata": {},
   "outputs": [
    {
     "data": {
      "text/plain": [
       "Text(0.5, 1.0, 'Zeitentwicklung des logarithmierten Absolutwerts')"
      ]
     },
     "execution_count": 19,
     "metadata": {},
     "output_type": "execute_result"
    },
    {
     "data": {
      "image/png": "[encoded data removed]",
      "text/plain": [
       "<Figure size 432x288 with 1 Axes>"
      ]
     },
     "metadata": {
      "needs_background": "light"
     },
     "output_type": "display_data"
    }
   ],
   "source": [
    "import matplotlib.pyplot as plt  # Importiere Matplotlib zum Plotten ausserhalb von Pandas\n",
    "logphi=np.log(np.abs(table[\"Acceleration a_z [m/s^2]\"]))  # Logarithmierte absolute Beschleunigung\n",
    "fig = plt.plot(table[\"t [s]\"][50:],logphi[50:])\n",
    "plt.xlabel(\"Zeit [s]\")\n",
    "plt.ylabel(\"log($\\Phi$)\")\n",
    "plt.title(\"Zeitentwicklung des logarithmierten Absolutwerts\")"
   ]
  },
  {
   "cell_type": "markdown",
   "id": "fad09f9a-32ab-4124-a2a8-08c7846a8a52",
   "metadata": {},
   "source": [
    "Die Maxima zeigen wie erwartet nach ca. 10 Sekunden eine linear Abnahme. Aus der Steigung lässt sich nach Tipp 3 also die Dämpfung bestimmen.  Man kann nun zum Beispeil die Maxima auslesen und mit einer linearen Regression diese Steigung und deren Fehler bestimmen."
   ]
  },
  {
   "cell_type": "code",
   "execution_count": 20,
   "id": "741ec4ba-2120-45c7-8003-8b79744d5777",
   "metadata": {},
   "outputs": [],
   "source": [
    "# Deine Auswertung."
   ]
  },
  {
   "cell_type": "markdown",
   "id": "6a995fbf-98fb-4c15-a778-7f778d5e7378",
   "metadata": {
    "jp-MarkdownHeadingCollapsed": true,
    "tags": []
   },
   "source": [
    "#### Diskussion der Ergebnisse\n",
    "  - Wo traten Probleme auf?\n",
    "  - Was würdest du bei Wiederholen des Versuchs ändern?\n",
    "  - Wie könnte man die Genauigkeit der Messung weiter erhöhen?"
   ]
  },
  {
   "cell_type": "markdown",
   "id": "855b43e2-4a56-4a5f-818b-da84976d1f72",
   "metadata": {},
   "source": [
    "## Anhänge\n",
    "\n",
    "\n",
    "### A1 Ungedämpfte Pendelschwingung\n",
    "\n",
    "Wir zerlegen die Gravitationskraft $\\vec{F}_G = m\\vec{g}$, die am Gewicht der Pendels der Masse $m$ angreift,  in zwei Komponenten: $\\vec{F}_{\\textrm{rad}}$ entlang der Schnur, welches für die Zugspannung in der Schnur erzeugt und Rückstellkraft $\\vec{F}_{\\textrm{tan}}$ tangential zur Bewegung des Pendels, die das Pendel zurück zur Ruheposition bei $\\phi = 0$ beschleunigt. \n",
    "\n",
    "<center>\n",
    "   <img src=\"figuren/kraefteAmPendel.svg\" width=\"260\"/>\n",
    "</center>\n",
    "   \n",
    "**Bild 1:** *Kräfte an einem Pendel der Länge $L$ bei Auslenkung $\\phi$. Die Schwerkraft $\\vec{F}_G$ erzeugt zum einen eine radiale Zugspannung $\\vec{F}_{\\textrm{rad}}$ im Faden und zum anderen eine Rückstellkraft $\\vec{F}_{\\textrm{tan}}$  tangential zur Pendelbewegung. \n",
    "\n",
    "Für die tangentiale Kraft, die das Pendel beschleunigt, gilt $\\vec{F}_{\\textrm{tan}} = \\vec{F}_G \\sin\\phi$ (siehe Bild 1).\n",
    "Nach dem 2. Newton'schen Gesetzt folgt\n",
    "\\begin{align}\n",
    "m a  & = \\vec{F}_{\\textrm{tan}}, \\\\\n",
    "m L \\ddot\\phi  & =  m g\\sin\\phi. \\tag{A1}\\label{eq:ode}\n",
    "\\end{align}\n",
    "\n",
    "Die Masse $m$ kürzt sich aus (\\ref{eq:ode}).  Die Pendelbewegung ist folglich unabhängig von der Pendelmasse.  Für kleine Winkel $\\phi$ ist $\\sin\\phi\\approx \\phi$.  Mit dieser Näherung ergibt sich \n",
    "\n",
    "\\begin{equation}\n",
    "\\ddot\\phi = \\frac{g}{L} \\phi. \\tag{A2}\\label{eq:harmonic_ode}\n",
    "\\end{equation}\n",
    "\n",
    "Für die Anfangsbedingungen  $\\phi(0)=\\phi_0,\\, \\dot\\phi(t=0) = 0$ ergibt sich als Lösung die harmonische Schwingung\n",
    "\n",
    "\\begin{equation}\n",
    "\\phi(t) = \\phi_0\\cos(\\omega_0 t)\\tag{A3}\\label{eq:harmonic}\n",
    "\\end{equation}\n",
    "\n",
    "mit \n",
    "\n",
    "\\begin{equation}\n",
    "\\omega_0 = \\sqrt{g\\over L}.\\tag{1}\\label{eq:omega0}\n",
    "\\end{equation}\n",
    "\n",
    "\n",
    "### A2 Gedämpfte Pendelschwingung\n",
    "\n",
    "\n",
    "\n",
    "Berücksichtigt man die Reibungsverluste des Pendels and der Luft und am Aufhängepunkt so greift neben der Rückstellkraft wirkt auch noch eine dämpfende Reibungskraft $\\vec{F}_d$ am Pendel.  Wir nehmen an diese proportional zur seiner Geschwindigkeit $v$ des Pendels ist (Proportionalitätskonstante: $m\\gamma$):  $\\vec{F}_d = - m\\gamma v = - m\\gamma L \\dot\\phi$.  Aus (\\ref{eq:ode}) wird \n",
    "\n",
    "\\begin{align}\n",
    "m a  & = \\vec{F}_{\\textrm{tan}} + \\vec{F}_d \\\\\n",
    "m L \\ddot\\phi  & =  m g\\sin\\phi - m\\gamma L\\dot\\phi \\tag{A4}\\label{eq:ode_sin}\n",
    "\\end{align}\n",
    "oder, wenn man wieder für kleine Winkel $\\sin\\phi$ durch $\\phi$ ersetzt,\n",
    "\n",
    "\\begin{equation}\n",
    "\\ddot\\phi  =  \\frac{g}{L} \\phi - \\gamma\\dot\\phi.  \\tag{A5}\\label{eq:damped}\n",
    "\\end{equation}\n",
    "\n",
    "Wenn $\\omega>\\gamma$ ist, ergibt sich also Lösung  von (\\ref{eq:damped}) für die Anfangsbedingungen $\\phi(0)=\\phi_0,\\, \\dot\\phi(0) = 0$:\n",
    "\n",
    "\n",
    "\\begin{equation}\n",
    "\\phi(t) = \\phi_0\\, e^{-\\gamma t} \\cos{\\omega_\\gamma t}, \\tag{3} \\label{eq:phi_ta},\n",
    "\\end{equation}\n",
    "mit\n",
    "\\begin{equation}\n",
    "\\omega_\\gamma = \\sqrt{\\omega_0^2-\\gamma^2},\\tag{4} \\label{eq:omega_g}\n",
    "\\end{equation}\n",
    "\n",
    "\n",
    " wovon man sich durch einsetzen von (\\ref{eq:phi_ta}), (\\ref{eq:omega_g}) in (\\ref{eq:damped}) überzeugen kann.\n",
    " \n",
    " \n",
    "### B Weiterführendes\n",
    "\n",
    "#### B1 Ungedämpfte Pendelperiode für beliebige Auslenkung $\\phi_0$\n",
    "\n",
    "For grössere Auslenkungen $\\phi$, gilt $\\sin\\phi\\approx\\phi$ nicht mehr.\n",
    "Eine gute Näherung für die Periode $T$ eines solchen ungedämpfte Pendels lautet (siehe https://en.wikipedia.org/wiki/Pendulum_(mechanics))\n",
    "\n",
    "\\begin{equation}\n",
    "T \\approx \\frac{T_0}{\\cos^2\\frac{\\phi}{4}}\\approx T_0 \\left(1+\\frac{\\phi^2}{16}\\right)\\tag{B1}\\label{eq:Tphi}\n",
    "\\end{equation}\n",
    "\n",
    "##### Optionale Aufgabe B2\n",
    "\n",
    "Versuche  die Verlängerung der Periode bei grosser Amplitude nachzuweisen.  Vergleiche deine Messung mit (\\ref{eq:Tphi})\n",
    "\n",
    "#### B2 Nichtlineare Reibung\n",
    "\n",
    "Wenn sich das Pendel nicht langsam bewegt, wird die Luftströmung um das Pendel turbulent und die Reibung des Pendels wird in der Regel proportional zum Quadrat der Geschwindigkeit sein[^1]: \n",
    "\n",
    "\\begin{equation}\n",
    "|\\vec{F}_d| \\propto -\\dot\\phi^2\\label{eq:turb}\n",
    "\\end{equation}\n",
    "\n",
    "##### Optionale Aufgabe B2\n",
    "\n",
    "Diskutiere qualitativ, wie sich die Pendelbewegung dadurch ändert.\n",
    "\n",
    "\n",
    " [^1] Das wird auch bei Versuch 7 behandelt.\n"
   ]
  },
  {
   "cell_type": "code",
   "execution_count": 3,
   "id": "5c541d1e-36bd-428e-b7ff-b5499fbcd264",
   "metadata": {},
   "outputs": [],
   "source": [
    "# Optionale Antworten zu B1 und B2"
   ]
  },
  {
   "cell_type": "code",
   "execution_count": null,
   "id": "97577067-475c-48a6-8aca-d07915511398",
   "metadata": {},
   "outputs": [],
   "source": []
  }
 ],
 "metadata": {
  "kernelspec": {
   "display_name": "Python 3 (ipykernel)",
   "language": "python",
   "name": "python3"
  },
  "language_info": {
   "codemirror_mode": {
    "name": "ipython",
    "version": 3
   },
   "file_extension": ".py",
   "mimetype": "text/x-python",
   "name": "python",
   "nbconvert_exporter": "python",
   "pygments_lexer": "ipython3",
   "version": "3.9.7"
  }
 },
 "nbformat": 4,
 "nbformat_minor": 5
}
