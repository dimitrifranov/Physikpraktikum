{
 "cells": [
  {
   "cell_type": "markdown",
   "id": "d507c8b7",
   "metadata": {},
   "source": [
    "# Bericht zu Versuch 08 \"Tragflügelmodell\""
   ]
  },
  {
   "cell_type": "markdown",
   "id": "04e05eff",
   "metadata": {},
   "source": [
    "**Datum:** \n",
    " \n",
    " - **Student 1:** \n",
    " - **Student 2:** "
   ]
  },
  {
   "cell_type": "markdown",
   "id": "0e484b96",
   "metadata": {
    "tags": []
   },
   "source": [
    "## 1. Überblick\n",
    "\n",
    "### Einführung\n",
    "\n",
    "Schreibt hier eine kurze Einführung die dem Leser sagt was ihr in der arbeit macht.\n",
    "\n",
    "### 1.2 Zusammenfassung der Theorie\n",
    "\n",
    "Erklärt kurz in eigenen Worten und Formeln welche die wichtigen physikalische phänomene sind die ihr untersucht. Mögliche themen sind hier aufgelistet und ihr findet sie in der Versuchsanleitung.\n",
    "#### Das Gesetz von Bernoulli\n",
    "\n",
    "#### Die Zirkulation\n",
    "\n",
    "#### Strömung am Tragflügel\n",
    "\n",
    "#### Auftrieb und induzierter Widerstand\n",
    "\n",
    "### 1.3 Methoden\n",
    "\n",
    "Beschreibt hier was ihr wie gemessen habt.  \n",
    "\n",
    "#### 1.4 Umweltrelevanz\n",
    "\n",
    "Schreibt hier eine Motivation für die Arbeit. Weshalb ist es sinnvoll und lohnt sich\n"
   ]
  },
  {
   "cell_type": "markdown",
   "id": "0ecc9542",
   "metadata": {},
   "source": [
    "### 2. Messdaten"
   ]
  },
  {
   "cell_type": "code",
   "execution_count": 1,
   "id": "244afd3e",
   "metadata": {},
   "outputs": [
    {
     "ename": "ModuleNotFoundError",
     "evalue": "No module named 'uncertainties'",
     "output_type": "error",
     "traceback": [
      "\u001b[1;31m---------------------------------------------------------------------------\u001b[0m",
      "\u001b[1;31mModuleNotFoundError\u001b[0m                       Traceback (most recent call last)",
      "\u001b[1;32m~\\AppData\\Local\\Temp/ipykernel_2232/3133573388.py\u001b[0m in \u001b[0;36m<module>\u001b[1;34m\u001b[0m\n\u001b[0;32m      1\u001b[0m \u001b[1;32mimport\u001b[0m \u001b[0mnumpy\u001b[0m \u001b[1;32mas\u001b[0m \u001b[0mnp\u001b[0m  \u001b[1;31m# Math\u001b[0m\u001b[1;33m\u001b[0m\u001b[1;33m\u001b[0m\u001b[0m\n\u001b[1;32m----> 2\u001b[1;33m \u001b[1;32mfrom\u001b[0m \u001b[0muncertainties\u001b[0m \u001b[1;32mimport\u001b[0m \u001b[0mufloat\u001b[0m \u001b[1;31m# ufloat( , ) für die Fehlerrechnung\u001b[0m\u001b[1;33m\u001b[0m\u001b[1;33m\u001b[0m\u001b[0m\n\u001b[0m\u001b[0;32m      3\u001b[0m \u001b[1;32mfrom\u001b[0m \u001b[0muncertainties\u001b[0m\u001b[1;33m.\u001b[0m\u001b[0mumath\u001b[0m \u001b[1;32mimport\u001b[0m \u001b[1;33m*\u001b[0m  \u001b[1;31m# Für Funktionen wie sin, cos\u001b[0m\u001b[1;33m\u001b[0m\u001b[1;33m\u001b[0m\u001b[0m\n\u001b[0;32m      4\u001b[0m \u001b[1;32mimport\u001b[0m \u001b[0mpandas\u001b[0m \u001b[1;32mas\u001b[0m \u001b[0mpd\u001b[0m\u001b[1;33m\u001b[0m\u001b[1;33m\u001b[0m\u001b[0m\n\u001b[0;32m      5\u001b[0m \u001b[1;32mimport\u001b[0m \u001b[0mmatplotlib\u001b[0m\u001b[1;33m.\u001b[0m\u001b[0mpyplot\u001b[0m \u001b[1;32mas\u001b[0m \u001b[0mplt\u001b[0m\u001b[1;33m\u001b[0m\u001b[1;33m\u001b[0m\u001b[0m\n",
      "\u001b[1;31mModuleNotFoundError\u001b[0m: No module named 'uncertainties'"
     ]
    }
   ],
   "source": [
    "import numpy as np  # Math\n",
    "from uncertainties import ufloat # ufloat( , ) für die Fehlerrechnung\n",
    "from uncertainties.umath import *  # Für Funktionen wie sin, cos\n",
    "import pandas as pd\n",
    "import matplotlib.pyplot as plt\n",
    "from uncertainties import unumpy # Importieren von unumpy\n",
    "import math"
   ]
  },
  {
   "cell_type": "markdown",
   "id": "f98106da",
   "metadata": {},
   "source": [
    "#### 2.1 Anströmgeschwindigkeit $v$"
   ]
  },
  {
   "cell_type": "code",
   "execution_count": null,
   "id": "29931216-e52c-4c37-b305-8fd1d5f86142",
   "metadata": {},
   "outputs": [],
   "source": [
    "delta_p = ufloat(0, 0) #Druckdifferenz am Prandtlrohr in Pascal\n",
    "rho = 0 # Dichte der Luft"
   ]
  },
  {
   "cell_type": "markdown",
   "id": "b50b4b3d-fdd4-4d54-9fc5-e707a40bf092",
   "metadata": {},
   "source": [
    "#### 2.2 Druckverteilung längs des Profils"
   ]
  },
  {
   "cell_type": "code",
   "execution_count": 2,
   "id": "a244978c-8689-42d7-8108-e94118c6eb41",
   "metadata": {},
   "outputs": [
    {
     "ename": "NameError",
     "evalue": "name 'pd' is not defined",
     "output_type": "error",
     "traceback": [
      "\u001b[1;31m---------------------------------------------------------------------------\u001b[0m",
      "\u001b[1;31mNameError\u001b[0m                                 Traceback (most recent call last)",
      "\u001b[1;32m~\\AppData\\Local\\Temp/ipykernel_2232/2869433847.py\u001b[0m in \u001b[0;36m<module>\u001b[1;34m\u001b[0m\n\u001b[1;32m----> 1\u001b[1;33m \u001b[0mData\u001b[0m \u001b[1;33m=\u001b[0m \u001b[0mpd\u001b[0m\u001b[1;33m.\u001b[0m\u001b[0mread_csv\u001b[0m\u001b[1;33m(\u001b[0m\u001b[1;34m'NAME EURER DATEI'\u001b[0m\u001b[1;33m)\u001b[0m\u001b[1;33m\u001b[0m\u001b[1;33m\u001b[0m\u001b[0m\n\u001b[0m\u001b[0;32m      2\u001b[0m \u001b[0mprint\u001b[0m\u001b[1;33m(\u001b[0m\u001b[1;34m\"Aufgabe 2\"\u001b[0m\u001b[1;33m)\u001b[0m\u001b[1;33m\u001b[0m\u001b[1;33m\u001b[0m\u001b[0m\n\u001b[0;32m      3\u001b[0m \u001b[1;33m\u001b[0m\u001b[0m\n\u001b[0;32m      4\u001b[0m \u001b[1;33m\u001b[0m\u001b[0m\n\u001b[0;32m      5\u001b[0m \u001b[0mg\u001b[0m \u001b[1;33m=\u001b[0m \u001b[1;33m-\u001b[0m\u001b[1;36m9.81\u001b[0m\u001b[1;33m\u001b[0m\u001b[1;33m\u001b[0m\u001b[0m\n",
      "\u001b[1;31mNameError\u001b[0m: name 'pd' is not defined"
     ]
    }
   ],
   "source": [
    "Data = pd.read_csv('NAME EURER DATEI')\n",
    "print(\"Aufgabe 2\")\n",
    "\n",
    "\n",
    "g = -9.81\n",
    "Data['0°'] = unumpy.uarray(Data['0°'].values, 0)\n",
    "Data['10°'] = unumpy.uarray(Data['10°'].values, 0)\n",
    "\n",
    "#Einheiten umrechnen. èberlegt hier welche Einheiten ihr wollt.\n",
    "Data['0°'] = Data['0°']#*g/1000\n",
    "Data['10°'] = Data['10°']#*g/1000\n",
    "Data"
   ]
  },
  {
   "cell_type": "markdown",
   "id": "8dd567fe-aef3-46b5-bf06-4c70fa093998",
   "metadata": {},
   "source": [
    "#### 2.3 Auftrieb A und Widerstand des Tragflügels"
   ]
  },
  {
   "cell_type": "code",
   "execution_count": 3,
   "id": "65f1b62f-01a2-4efd-930a-e1d1bc0c6a08",
   "metadata": {},
   "outputs": [
    {
     "ename": "NameError",
     "evalue": "name 'pd' is not defined",
     "output_type": "error",
     "traceback": [
      "\u001b[1;31m---------------------------------------------------------------------------\u001b[0m",
      "\u001b[1;31mNameError\u001b[0m                                 Traceback (most recent call last)",
      "\u001b[1;32m~\\AppData\\Local\\Temp/ipykernel_2232/3410737852.py\u001b[0m in \u001b[0;36m<module>\u001b[1;34m\u001b[0m\n\u001b[0;32m      1\u001b[0m \u001b[1;31m#Tabellen mit Messdaten\u001b[0m\u001b[1;33m\u001b[0m\u001b[1;33m\u001b[0m\u001b[1;33m\u001b[0m\u001b[0m\n\u001b[1;32m----> 2\u001b[1;33m \u001b[0mData_3\u001b[0m \u001b[1;33m=\u001b[0m \u001b[0mpd\u001b[0m\u001b[1;33m.\u001b[0m\u001b[0mread_csv\u001b[0m\u001b[1;33m(\u001b[0m\u001b[1;34m'EURE DATEI.csv'\u001b[0m\u001b[1;33m)\u001b[0m\u001b[1;33m\u001b[0m\u001b[1;33m\u001b[0m\u001b[0m\n\u001b[0m\u001b[0;32m      3\u001b[0m \u001b[0mprint\u001b[0m\u001b[1;33m(\u001b[0m\u001b[1;34m\"Aufgabe 3\"\u001b[0m\u001b[1;33m)\u001b[0m\u001b[1;33m\u001b[0m\u001b[1;33m\u001b[0m\u001b[0m\n\u001b[0;32m      4\u001b[0m \u001b[1;33m\u001b[0m\u001b[0m\n\u001b[0;32m      5\u001b[0m \u001b[0mData_3\u001b[0m\u001b[1;33m[\u001b[0m\u001b[1;34m'A[g]'\u001b[0m\u001b[1;33m]\u001b[0m \u001b[1;33m=\u001b[0m \u001b[0munumpy\u001b[0m\u001b[1;33m.\u001b[0m\u001b[0muarray\u001b[0m\u001b[1;33m(\u001b[0m\u001b[0mData_3\u001b[0m\u001b[1;33m[\u001b[0m\u001b[1;34m'A[g]'\u001b[0m\u001b[1;33m]\u001b[0m\u001b[1;33m.\u001b[0m\u001b[0mvalues\u001b[0m\u001b[1;33m,\u001b[0m \u001b[1;36m0.0\u001b[0m\u001b[1;33m)\u001b[0m\u001b[1;33m\u001b[0m\u001b[1;33m\u001b[0m\u001b[0m\n",
      "\u001b[1;31mNameError\u001b[0m: name 'pd' is not defined"
     ]
    }
   ],
   "source": [
    "#Tabellen mit Messdaten\n",
    "Data_3 = pd.read_csv('EURE DATEI.csv')\n",
    "print(\"Aufgabe 3\")\n",
    "\n",
    "Data_3['A[g]'] = unumpy.uarray(Data_3['A[g]'].values, 0.0)\n",
    "Data_3['W_exp[g]'] = unumpy.uarray(Data_3['W_exp[g]'].values, 0.0)\n",
    "\n",
    "#Was für Einheiten sind gefragt?\n",
    "Data_3['A[N]'] = Data_3['A[g]']#*g/1000\n",
    "Data_3['W_exp[N]'] = Data_3['W_exp[g]']#*g/1000\n",
    "\n",
    "Data_3"
   ]
  },
  {
   "cell_type": "markdown",
   "id": "9eb60cc7-cba9-4aa7-a18a-b2c8f164f53b",
   "metadata": {
    "tags": []
   },
   "source": [
    "#### 2.4 Widerstände verschiedener Körper"
   ]
  },
  {
   "cell_type": "code",
   "execution_count": 4,
   "id": "fefcc5bf-a2cc-4ea4-93f4-762443375ccd",
   "metadata": {},
   "outputs": [
    {
     "ename": "NameError",
     "evalue": "name 'pd' is not defined",
     "output_type": "error",
     "traceback": [
      "\u001b[1;31m---------------------------------------------------------------------------\u001b[0m",
      "\u001b[1;31mNameError\u001b[0m                                 Traceback (most recent call last)",
      "\u001b[1;32m~\\AppData\\Local\\Temp/ipykernel_2232/968396951.py\u001b[0m in \u001b[0;36m<module>\u001b[1;34m\u001b[0m\n\u001b[0;32m      1\u001b[0m \u001b[0mF\u001b[0m \u001b[1;33m=\u001b[0m \u001b[1;36m0.0\u001b[0m \u001b[1;31m#Hauptspant\u001b[0m\u001b[1;33m\u001b[0m\u001b[1;33m\u001b[0m\u001b[0m\n\u001b[1;32m----> 2\u001b[1;33m \u001b[0mmessung4\u001b[0m \u001b[1;33m=\u001b[0m \u001b[0mpd\u001b[0m\u001b[1;33m.\u001b[0m\u001b[0mread_csv\u001b[0m\u001b[1;33m(\u001b[0m\u001b[1;34m'EUREDATEN.csv'\u001b[0m\u001b[1;33m)\u001b[0m\u001b[1;33m\u001b[0m\u001b[1;33m\u001b[0m\u001b[0m\n\u001b[0m\u001b[0;32m      3\u001b[0m \u001b[0mprint\u001b[0m\u001b[1;33m(\u001b[0m\u001b[1;34m\"Aufgabe 4\"\u001b[0m\u001b[1;33m)\u001b[0m\u001b[1;33m\u001b[0m\u001b[1;33m\u001b[0m\u001b[0m\n\u001b[0;32m      4\u001b[0m \u001b[1;33m\u001b[0m\u001b[0m\n\u001b[0;32m      5\u001b[0m \u001b[1;31m# Hier jetzt alleine die Umrechnung für die Einheiten durchführen.\u001b[0m\u001b[1;33m\u001b[0m\u001b[1;33m\u001b[0m\u001b[1;33m\u001b[0m\u001b[0m\n",
      "\u001b[1;31mNameError\u001b[0m: name 'pd' is not defined"
     ]
    }
   ],
   "source": [
    "F = 0.0 #Hauptspant\n",
    "messung4 = pd.read_csv('EUREDATEN.csv')\n",
    "print(\"Aufgabe 4\")\n",
    "\n",
    "# Hier jetzt alleine die Umrechnung für die Einheiten durchführen.\n",
    "messung4"
   ]
  },
  {
   "cell_type": "markdown",
   "id": "fcca4f47-f358-478f-877b-cb1cf9e51ef3",
   "metadata": {},
   "source": [
    "## 3. Auswertung"
   ]
  },
  {
   "cell_type": "markdown",
   "id": "2ede144a-46d2-4313-a086-289232481244",
   "metadata": {},
   "source": [
    "### 3.1 Graphiken\n",
    "Die Grafiken haben wir bei den Resultaten (siehe 3.2) aufgeführt."
   ]
  },
  {
   "cell_type": "markdown",
   "id": "81e32466-f320-4bc2-b163-aada64d6bae3",
   "metadata": {},
   "source": [
    "### 3.2 Berechnungen der Resultate"
   ]
  },
  {
   "cell_type": "markdown",
   "id": "76b282bb-ee0b-42f2-a20c-ca100663cd5c",
   "metadata": {},
   "source": [
    "#### Aufgabe 1"
   ]
  },
  {
   "cell_type": "code",
   "execution_count": 5,
   "id": "ab083fdf-dd54-4bca-ad0c-c723c0abb5f6",
   "metadata": {
    "tags": []
   },
   "outputs": [
    {
     "ename": "NameError",
     "evalue": "name 'delta_p' is not defined",
     "output_type": "error",
     "traceback": [
      "\u001b[1;31m---------------------------------------------------------------------------\u001b[0m",
      "\u001b[1;31mNameError\u001b[0m                                 Traceback (most recent call last)",
      "\u001b[1;32m~\\AppData\\Local\\Temp/ipykernel_2232/2787042070.py\u001b[0m in \u001b[0;36m<module>\u001b[1;34m\u001b[0m\n\u001b[0;32m      1\u001b[0m \u001b[1;31m#Anströmgeschwindigkeit aus Druckunterschied und Dichte berechnen.\u001b[0m\u001b[1;33m\u001b[0m\u001b[1;33m\u001b[0m\u001b[1;33m\u001b[0m\u001b[0m\n\u001b[0;32m      2\u001b[0m \u001b[1;33m\u001b[0m\u001b[0m\n\u001b[1;32m----> 3\u001b[1;33m \u001b[0mv_unendlich\u001b[0m \u001b[1;33m=\u001b[0m \u001b[1;33m(\u001b[0m\u001b[1;33m(\u001b[0m\u001b[1;36m2\u001b[0m\u001b[1;33m*\u001b[0m\u001b[0mdelta_p\u001b[0m\u001b[1;33m)\u001b[0m\u001b[1;33m/\u001b[0m\u001b[0mrho\u001b[0m\u001b[1;33m)\u001b[0m\u001b[1;33m**\u001b[0m\u001b[1;33m(\u001b[0m\u001b[1;36m1\u001b[0m\u001b[1;33m/\u001b[0m\u001b[1;36m2\u001b[0m\u001b[1;33m)\u001b[0m\u001b[1;33m\u001b[0m\u001b[1;33m\u001b[0m\u001b[0m\n\u001b[0m\u001b[0;32m      4\u001b[0m \u001b[1;33m\u001b[0m\u001b[0m\n\u001b[0;32m      5\u001b[0m \u001b[0mprint\u001b[0m\u001b[1;33m(\u001b[0m\u001b[1;34m'Anströmgeschwindigkeit {:10.2f}'\u001b[0m\u001b[1;33m.\u001b[0m\u001b[0mformat\u001b[0m\u001b[1;33m(\u001b[0m\u001b[0mv_unendlich\u001b[0m\u001b[1;33m)\u001b[0m\u001b[1;33m,\u001b[0m \u001b[1;34m\"m/s\"\u001b[0m\u001b[1;33m)\u001b[0m \u001b[1;31m#Mit etwas formatierung\u001b[0m\u001b[1;33m\u001b[0m\u001b[1;33m\u001b[0m\u001b[0m\n",
      "\u001b[1;31mNameError\u001b[0m: name 'delta_p' is not defined"
     ]
    }
   ],
   "source": [
    "#Anströmgeschwindigkeit aus Druckunterschied und Dichte berechnen.\n",
    "\n",
    "v_unendlich = ((2*delta_p)/rho)**(1/2)\n",
    "\n",
    "print('Anströmgeschwindigkeit {:10.2f}'.format(v_unendlich), \"m/s\") #Mit etwas formatierung"
   ]
  },
  {
   "cell_type": "markdown",
   "id": "5fcf0b9f-614e-4b28-a0cf-1c3d52f40bab",
   "metadata": {},
   "source": [
    "#### Aufgabe 2 "
   ]
  },
  {
   "cell_type": "markdown",
   "id": "6f4d4615-3418-46d7-9da9-4ab255923756",
   "metadata": {},
   "source": [
    "Tragt hier weiterhin die Daten auf millimeterpapier ab und ladet ein Bild davon hoch:\n",
    "\n",
    "Druckverteilung bei 0°:\n"
   ]
  },
  {
   "cell_type": "markdown",
   "id": "09f40f67-1212-476b-920d-33ce314f27b0",
   "metadata": {},
   "source": [
    "Druckverteilung bei 10°\n",
    "\n"
   ]
  },
  {
   "cell_type": "code",
   "execution_count": 6,
   "id": "1fad5ded-5213-43b5-8420-ceda9a934b6c",
   "metadata": {},
   "outputs": [
    {
     "name": "stdout",
     "output_type": "stream",
     "text": [
      "Zirkulation bei 0°: Ellipsis m^2/s\n",
      "Zirkulation bei 10°: Ellipsis m^2/s\n"
     ]
    }
   ],
   "source": [
    "#Aus dem berechneten Auftrieb soll hier die Zirkulation berechnet werden.\n",
    "\n",
    "gamma_0 =...\n",
    "gamma_10 = ...\n",
    "\n",
    "print(\"Zirkulation bei 0°:\", gamma_0, \"m^2/s\")\n",
    "print(\"Zirkulation bei 10°:\", gamma_10, \"m^2/s\")"
   ]
  },
  {
   "cell_type": "markdown",
   "id": "63167623-6afc-43db-858c-35e8c42bf9e2",
   "metadata": {},
   "source": [
    "#### Aufgabe 3"
   ]
  },
  {
   "cell_type": "code",
   "execution_count": 7,
   "id": "ddfaa26a-0175-4edb-870c-380123bae0d8",
   "metadata": {},
   "outputs": [
    {
     "ename": "NameError",
     "evalue": "name 'Data_3' is not defined",
     "output_type": "error",
     "traceback": [
      "\u001b[1;31m---------------------------------------------------------------------------\u001b[0m",
      "\u001b[1;31mNameError\u001b[0m                                 Traceback (most recent call last)",
      "\u001b[1;32m~\\AppData\\Local\\Temp/ipykernel_2232/4198711369.py\u001b[0m in \u001b[0;36m<module>\u001b[1;34m\u001b[0m\n\u001b[0;32m      1\u001b[0m \u001b[1;31m#Verwendet hier die daten von vorhin\u001b[0m\u001b[1;33m\u001b[0m\u001b[1;33m\u001b[0m\u001b[1;33m\u001b[0m\u001b[0m\n\u001b[1;32m----> 2\u001b[1;33m \u001b[0mData_3\u001b[0m\u001b[1;33m[\u001b[0m\u001b[1;34m'A'\u001b[0m\u001b[1;33m]\u001b[0m \u001b[1;33m=\u001b[0m \u001b[1;33m...\u001b[0m\u001b[1;33m\u001b[0m\u001b[1;33m\u001b[0m\u001b[0m\n\u001b[0m\u001b[0;32m      3\u001b[0m \u001b[0mData_3\u001b[0m\u001b[1;33m[\u001b[0m\u001b[1;34m'W_exp'\u001b[0m\u001b[1;33m]\u001b[0m \u001b[1;33m=\u001b[0m \u001b[1;33m...\u001b[0m\u001b[1;33m\u001b[0m\u001b[1;33m\u001b[0m\u001b[0m\n\u001b[0;32m      4\u001b[0m \u001b[0mData_3\u001b[0m\u001b[1;33m\u001b[0m\u001b[1;33m\u001b[0m\u001b[0m\n\u001b[0;32m      5\u001b[0m \u001b[1;33m\u001b[0m\u001b[0m\n",
      "\u001b[1;31mNameError\u001b[0m: name 'Data_3' is not defined"
     ]
    }
   ],
   "source": [
    "#Verwendet hier die daten von vorhin\n",
    "Data_3['A'] = ...\n",
    "Data_3['W_exp'] = ...\n",
    "Data_3\n",
    "\n",
    "plt.errorbar(Data_3_plot['W_exp'], Data_3_plot['A'], 0.0, 0.0)\n",
    "\n",
    "plt.xlabel(\"Widerstand [N]\")\n",
    "plt.ylabel(\"Auftrieb [N]\")\n",
    "plt.title(\"Polardiagramm\")\n",
    "plt.show()"
   ]
  },
  {
   "cell_type": "code",
   "execution_count": 8,
   "id": "beef4869-b363-4354-8ae4-45d41f77c2c3",
   "metadata": {},
   "outputs": [],
   "source": [
    "#Widerstand theoretisch berechnen\n",
    "W = ..."
   ]
  },
  {
   "cell_type": "markdown",
   "id": "4f76888f-7e0e-4f15-aed8-9e420005b7ab",
   "metadata": {},
   "source": [
    "#### Aufgabe 4\n",
    "Berechnet den Widerstandkoeffizienten."
   ]
  },
  {
   "cell_type": "code",
   "execution_count": 9,
   "id": "06d6d745-bbd7-431d-845f-d71a526f0ddb",
   "metadata": {},
   "outputs": [
    {
     "ename": "NameError",
     "evalue": "name 'messung4' is not defined",
     "output_type": "error",
     "traceback": [
      "\u001b[1;31m---------------------------------------------------------------------------\u001b[0m",
      "\u001b[1;31mNameError\u001b[0m                                 Traceback (most recent call last)",
      "\u001b[1;32m~\\AppData\\Local\\Temp/ipykernel_2232/575859423.py\u001b[0m in \u001b[0;36m<module>\u001b[1;34m\u001b[0m\n\u001b[0;32m      2\u001b[0m     \u001b[1;32mreturn\u001b[0m \u001b[1;36m2\u001b[0m\u001b[1;33m*\u001b[0m\u001b[0mW\u001b[0m \u001b[1;33m/\u001b[0m \u001b[1;33m(\u001b[0m\u001b[0mrho\u001b[0m \u001b[1;33m*\u001b[0m \u001b[0mF\u001b[0m \u001b[1;33m*\u001b[0m \u001b[0mv_inf\u001b[0m\u001b[1;33m**\u001b[0m\u001b[1;36m2\u001b[0m\u001b[1;33m)\u001b[0m\u001b[1;33m\u001b[0m\u001b[1;33m\u001b[0m\u001b[0m\n\u001b[0;32m      3\u001b[0m \u001b[1;33m\u001b[0m\u001b[0m\n\u001b[1;32m----> 4\u001b[1;33m \u001b[0mprint\u001b[0m\u001b[1;33m(\u001b[0m\u001b[1;34m\"Widerstandskoeffizient Zeppelinprofil:\"\u001b[0m\u001b[1;33m,\u001b[0m \u001b[0mmessung4\u001b[0m\u001b[1;33m[\u001b[0m\u001b[1;34m\"W\"\u001b[0m\u001b[1;33m]\u001b[0m\u001b[1;33m[\u001b[0m\u001b[1;36m0\u001b[0m\u001b[1;33m]\u001b[0m\u001b[1;33m*\u001b[0m\u001b[1;36m2\u001b[0m\u001b[1;33m/\u001b[0m\u001b[1;33m(\u001b[0m\u001b[0mrho\u001b[0m\u001b[1;33m*\u001b[0m\u001b[1;33m(\u001b[0m\u001b[0mv_unendlich\u001b[0m\u001b[1;33m**\u001b[0m\u001b[1;36m2\u001b[0m\u001b[1;33m)\u001b[0m\u001b[1;33m*\u001b[0m\u001b[0mHauptspant_F\u001b[0m\u001b[1;33m)\u001b[0m\u001b[1;33m)\u001b[0m\u001b[1;33m\u001b[0m\u001b[1;33m\u001b[0m\u001b[0m\n\u001b[0m\u001b[0;32m      5\u001b[0m \u001b[0mprint\u001b[0m\u001b[1;33m(\u001b[0m\u001b[1;34m\"Widerstandskoeffizient Kugel:\"\u001b[0m\u001b[1;33m,\u001b[0m \u001b[0mmessung4\u001b[0m\u001b[1;33m[\u001b[0m\u001b[1;34m\"W\"\u001b[0m\u001b[1;33m]\u001b[0m\u001b[1;33m[\u001b[0m\u001b[1;36m1\u001b[0m\u001b[1;33m]\u001b[0m\u001b[1;33m*\u001b[0m\u001b[1;36m2\u001b[0m\u001b[1;33m/\u001b[0m\u001b[1;33m(\u001b[0m\u001b[0mrho\u001b[0m\u001b[1;33m*\u001b[0m\u001b[1;33m(\u001b[0m\u001b[0mv_unendlich\u001b[0m\u001b[1;33m**\u001b[0m\u001b[1;36m2\u001b[0m\u001b[1;33m)\u001b[0m\u001b[1;33m*\u001b[0m\u001b[0mHauptspant_F\u001b[0m\u001b[1;33m)\u001b[0m\u001b[1;33m)\u001b[0m\u001b[1;33m\u001b[0m\u001b[1;33m\u001b[0m\u001b[0m\n\u001b[0;32m      6\u001b[0m \u001b[0mprint\u001b[0m\u001b[1;33m(\u001b[0m\u001b[1;34m\"Widerstandskoeffizient Kreisscheibe:\"\u001b[0m\u001b[1;33m,\u001b[0m \u001b[0mmessung4\u001b[0m\u001b[1;33m[\u001b[0m\u001b[1;34m\"W\"\u001b[0m\u001b[1;33m]\u001b[0m\u001b[1;33m[\u001b[0m\u001b[1;36m2\u001b[0m\u001b[1;33m]\u001b[0m\u001b[1;33m*\u001b[0m\u001b[1;36m2\u001b[0m\u001b[1;33m/\u001b[0m\u001b[1;33m(\u001b[0m\u001b[0mrho\u001b[0m\u001b[1;33m*\u001b[0m\u001b[1;33m(\u001b[0m\u001b[0mv_unendlich\u001b[0m\u001b[1;33m**\u001b[0m\u001b[1;36m2\u001b[0m\u001b[1;33m)\u001b[0m\u001b[1;33m*\u001b[0m\u001b[0mHauptspant_F\u001b[0m\u001b[1;33m)\u001b[0m\u001b[1;33m)\u001b[0m\u001b[1;33m\u001b[0m\u001b[1;33m\u001b[0m\u001b[0m\n",
      "\u001b[1;31mNameError\u001b[0m: name 'messung4' is not defined"
     ]
    }
   ],
   "source": [
    "def cw(W,F,rho,v_inf):\n",
    "    return 2*W / (rho * F * v_inf**2)\n",
    "\n",
    "print(\"Widerstandskoeffizient Zeppelinprofil:\", messung4[\"W\"][0]*2/(rho*(v_unendlich**2)*Hauptspant_F))\n",
    "print(\"Widerstandskoeffizient Kugel:\", messung4[\"W\"][1]*2/(rho*(v_unendlich**2)*Hauptspant_F))\n",
    "print(\"Widerstandskoeffizient Kreisscheibe:\", messung4[\"W\"][2]*2/(rho*(v_unendlich**2)*Hauptspant_F))"
   ]
  },
  {
   "cell_type": "markdown",
   "id": "54670327",
   "metadata": {},
   "source": [
    "## 4. Diskussion der Ergebnisse\n",
    "\n",
    "Beschreibt die verschiedenen Resultate die ihr in den Resultaten zeigt hier.\n",
    "\n",
    "### Fazit\n"
   ]
  },
  {
   "cell_type": "code",
   "execution_count": null,
   "id": "20b8091f-193c-4cda-8447-c3e3c1b5b672",
   "metadata": {},
   "outputs": [],
   "source": []
  },
  {
   "cell_type": "code",
   "execution_count": null,
   "id": "a2c10be5",
   "metadata": {},
   "outputs": [],
   "source": []
  },
  {
   "cell_type": "code",
   "execution_count": null,
   "id": "28d3c830",
   "metadata": {},
   "outputs": [],
   "source": []
  }
 ],
 "metadata": {
  "kernelspec": {
   "display_name": "Python 3 (ipykernel)",
   "language": "python",
   "name": "python3"
  },
  "language_info": {
   "codemirror_mode": {
    "name": "ipython",
    "version": 3
   },
   "file_extension": ".py",
   "mimetype": "text/x-python",
   "name": "python",
   "nbconvert_exporter": "python",
   "pygments_lexer": "ipython3",
   "version": "3.8.17"
  }
 },
 "nbformat": 4,
 "nbformat_minor": 5
}
