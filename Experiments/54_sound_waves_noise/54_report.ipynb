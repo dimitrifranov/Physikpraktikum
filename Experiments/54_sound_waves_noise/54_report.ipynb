{
 "cells": [
  {
   "cell_type": "markdown",
   "id": "0629b8fb",
   "metadata": {},
   "source": [
    "# Protocol for experiment 54 \"Sound waves and noise\""
   ]
  },
  {
   "cell_type": "markdown",
   "id": "0b7ce929",
   "metadata": {},
   "source": [
    "**Date:** {2023-MM-DD}  \n",
    "**Version:** {1 for 1st assignment, 2 for corrected assignment, ...}\n",
    " \n",
    " - **Student 1:** {full name}\n",
    " - **Student 2:** {full name}"
   ]
  },
  {
   "cell_type": "markdown",
   "id": "da09664d-f25c-4395-9433-37ce711e5e67",
   "metadata": {},
   "source": [
    "## 1. Introduction\n",
    "\n",
    "### 1.1 Introduction to the experiment\n",
    "\n",
    "- What is the experiment about? What is the objective?\n",
    "\n",
    "### 1.2 Summary of theory\n",
    "\n",
    "- Explanation of the formulas used incl. variable labeling (example from preliminary experiment)\n",
    "-   Here is an incomplete list of equations you may like for this purpose\n",
    " $$\\phi = A \\exp(-\\frac{\\gamma t}{2})\\cos(\\omega t + \\alpha)$$\n",
    " $$L(r)=L(r_{0})-20\\log\\frac{r}{r_{0}}$$\n",
    " $$v_{T}=\\frac{1}{\\sqrt{\\rho\\kappa_{T}}}=\\sqrt{\\frac{RT}{M}}$$\n",
    "$$v_{Q}=\\sqrt{\\gamma}\\,v_T $$"
   ]
  },
  {
   "cell_type": "markdown",
   "id": "2d8ac7fd-607b-4063-9a56-ad064d130db9",
   "metadata": {},
   "source": [
    "### 1.3 Tasks\n",
    "\n",
    "- List the tasks from the instruction.\n",
    "\n",
    "### 1.4 Environmental relevance\n",
    "\n",
    "- How is the experiment relevant to your studies in environmental science? (1-2 sentences)"
   ]
  },
  {
   "cell_type": "markdown",
   "id": "0172593d",
   "metadata": {},
   "source": [
    "## 2. Packages and Functions"
   ]
  },
  {
   "cell_type": "markdown",
   "id": "aad31d47",
   "metadata": {},
   "source": [
    "### 2.1 Load packages\n",
    "You may not use all of these packages. You can comment out the ones you don't need."
   ]
  },
  {
   "cell_type": "code",
   "execution_count": 1,
   "id": "82b96997-d2ab-4f4b-99ec-4fe55f87ffbb",
   "metadata": {
    "tags": []
   },
   "outputs": [],
   "source": [
    "# import packages  (not every package is used in each notebook template)\n",
    "\n",
    "# numerical computing\n",
    "import numpy as np                    # Fundamental package for numerical computing in Python\n",
    "\n",
    "# uncertainty calculations\n",
    "from uncertainties import ufloat      # For handling numbers with uncertainties\n",
    "from uncertainties.umath import *     # For applying mathematical functions with uncertainties\n",
    "from uncertainties import unumpy      # For handling uncertainties in arrays\n",
    "\n",
    "# data manipulation and analysis\n",
    "import pandas as pd                   # Powerful data manipulation and analysis library\n",
    "\n",
    "# data visualization in tables\n",
    "from tabulate import tabulate\n",
    "\n",
    "# data visualization in plots\n",
    "import matplotlib.pyplot as plt       # Library for creating static, interactive, and animated visualizations\n",
    "\n",
    "# scientific computing\n",
    "import scipy as sc                    # Open-source scientific computing library\n",
    "from scipy.stats import linregress    # For performing linear regression analysis\n",
    "from scipy.constants import R         # Physical and mathematical constants\n",
    "\n",
    "# interactive display in Jupyter Notebook\n",
    "from IPython.display import display, Markdown   # For displaying rich content (e.g., Markdown) in Jupyter Notebook\n",
    "\n",
    "# standard mathematical functions\n",
    "import math                          # Python's built-in math functions\n",
    "\n",
    "# widgets (to create elements such as dynamic input/output boxes)\n",
    "import ipywidgets as widgets\n",
    "\n"
   ]
  },
  {
   "cell_type": "markdown",
   "id": "40438cc2",
   "metadata": {},
   "source": [
    "### 2.2 Define functions"
   ]
  },
  {
   "cell_type": "code",
   "execution_count": 2,
   "id": "a3d0e52e",
   "metadata": {},
   "outputs": [],
   "source": [
    "# example: \n",
    "\n",
    "def my_function(param1_placeholder, param2_placeholder):\n",
    "    \n",
    "    \n",
    "    value = 'Replace with your calculation'\n",
    "    return value"
   ]
  },
  {
   "cell_type": "markdown",
   "id": "d427a194",
   "metadata": {},
   "source": [
    "#### Creating a table"
   ]
  },
  {
   "cell_type": "code",
   "execution_count": 3,
   "id": "62a689e1",
   "metadata": {},
   "outputs": [],
   "source": [
    "def Table(table, header, precisions):\n",
    "    \"\"\"\n",
    "    Print table with column headers, rounding to precicion.\n",
    "    Input:\n",
    "        table: Table to print\n",
    "        header: Column headers of the table\n",
    "        precisions: Precision for each column of the table.\n",
    "    \"\"\"\n",
    "    # Check if precisions list length matches table's row count\n",
    "    if len(precisions) != len(table):\n",
    "        raise ValueError(\"Length of precisions list must match the number of columns in the table\")\n",
    "\n",
    "    for i in range(len(table)):\n",
    "        # If precision for this row/column is not None, round the entire row\n",
    "        if precisions[i] is not None:\n",
    "            table[i] = [np.round(val, precisions[i]) for val in table[i]]\n",
    "\n",
    "    table = np.matrix.transpose(np.array(table))\n",
    "    print(tabulate(table, headers=header, tablefmt='fancy_grid'))\n",
    "    return"
   ]
  },
  {
   "cell_type": "markdown",
   "id": "a0e5eb64",
   "metadata": {},
   "source": [
    "#### <span style='color:darkcyan'> Your functions: </span>"
   ]
  },
  {
   "cell_type": "markdown",
   "id": "aa491cdb",
   "metadata": {},
   "source": [
    "<div class=\"alert alert-block alert-info\">\n",
    "    <b>Tip</b>: <br/>\n",
    "    1) Here is the place to <b>define all the functions you need</b> in this notebook. This helps to keep your notebook clear and structured.<br/>\n",
    "    2) Add <b>comments</b> to your functions (e.g. what is the function good for, what happens in each line, etc.), so that you and your lab partner will still be able to understand the code at a later time."
   ]
  },
  {
   "cell_type": "code",
   "execution_count": 4,
   "id": "7e7f65bf",
   "metadata": {},
   "outputs": [],
   "source": [
    "#----------------------------------------------\n",
    "# Calculation of the frequency of the siren\n",
    "#----------------------------------------------\n",
    "\n",
    "def fundamental_freq(f_rot, holes): \n",
    "    \"\"\"\n",
    "    Calculate the fundamental frequencies of the siren\n",
    "    Input:  \n",
    "       f_rot:  Rotation frequency of the disc of the siren\n",
    "       holes: number of holes in the row\n",
    "     Output: \n",
    "       f:   Frequency of the siren using the row\n",
    "    \"\"\"\n",
    "    #f = ?? \n",
    "    return f\n",
    "\n",
    "def my_function( arg0, arg1):\n",
    "    '''\n",
    "    Function documentation\n",
    "    '''\n",
    "    return"
   ]
  },
  {
   "cell_type": "markdown",
   "id": "335259b7",
   "metadata": {},
   "source": [
    "## 3. Experiments"
   ]
  },
  {
   "cell_type": "markdown",
   "id": "f61bee2d",
   "metadata": {},
   "source": [
    "#### 3.1 Experiment 1: Fundametal frequencies of the siren"
   ]
  },
  {
   "cell_type": "code",
   "execution_count": 5,
   "id": "6b7bacf2-bc57-4489-b83e-21fb974040d4",
   "metadata": {},
   "outputs": [
    {
     "name": "stdout",
     "output_type": "stream",
     "text": [
      "Rotation speed f_rot = 0.0±0 [s-1]\n"
     ]
    }
   ],
   "source": [
    "# Rotation speed f_rot\n",
    "# (Replace zeros by with your measurement)\n",
    "f_rot = ufloat(0,0)\n",
    "print(\"Rotation speed f_rot = {:P} [s-1]\".format(f_rot))"
   ]
  },
  {
   "cell_type": "code",
   "execution_count": 6,
   "id": "ee65355c-a40e-433e-aa1e-ee96061de231",
   "metadata": {},
   "outputs": [
    {
     "name": "stdout",
     "output_type": "stream",
     "text": [
      "[0 0 0 0]\n"
     ]
    }
   ],
   "source": [
    "# Fill in n1, ..., n4\n",
    "holes = np.array([ 0, 0, 0, 0])\n",
    "print(holes)\n",
    "#Calculate frequencies\n",
    "#f_freq = fundamental_freq()\n",
    "\n",
    "# print resulting frequencies\n",
    "# (You may like to use the Table function above.)"
   ]
  },
  {
   "cell_type": "markdown",
   "id": "afd2c8a1-b0b7-4d1e-8232-758f2c063771",
   "metadata": {},
   "source": [
    "#### 3.2 Addition of sound levels"
   ]
  },
  {
   "cell_type": "code",
   "execution_count": 7,
   "id": "e4487899-14c5-4892-b0f5-ec8b58e8c191",
   "metadata": {},
   "outputs": [
    {
     "name": "stdout",
     "output_type": "stream",
     "text": [
      "\n",
      "Sound level L for one nozzle: 0.0±0 dB (base level)\n",
      "\n",
      "╒═══════════════╤════════════════════╤══════════════════╤═════════════════════════╕\n",
      "│ Combination   │   Calculated level │   Measured level │ Subjective comparison   │\n",
      "╞═══════════════╪════════════════════╪══════════════════╪═════════════════════════╡\n",
      "│ 2 nozzles     │                  0 │                0 │                         │\n",
      "├───────────────┼────────────────────┼──────────────────┼─────────────────────────┤\n",
      "│ 3 nozzles     │                  0 │                0 │                         │\n",
      "╘═══════════════╧════════════════════╧══════════════════╧═════════════════════════╛\n"
     ]
    }
   ],
   "source": [
    "# Replace zeros by your measurement\n",
    "one_nozzle= ufloat(0,0)\n",
    "header = ['Combination', 'Calculated level', 'Measured level', 'Subjective comparison']\n",
    "table = [['2 nozzles', '3 nozzles'], [ 0, 0], [0, 0], ['  ', ' '] ]\n",
    "precision=[None,0,0, None]\n",
    "print(\"\\nSound level L for one nozzle: {:P} dB (base level)\\n\".format(one_nozzle))\n",
    "Table(table,header,precision)"
   ]
  },
  {
   "cell_type": "markdown",
   "id": "256717b8",
   "metadata": {},
   "source": [
    "#### 3.3 Validation of the distance law"
   ]
  },
  {
   "cell_type": "code",
   "execution_count": 8,
   "id": "c259a349-a737-4449-8556-fa362d4e4261",
   "metadata": {},
   "outputs": [
    {
     "name": "stdout",
     "output_type": "stream",
     "text": [
      "╒══════════════════╤═══╤═══╤═══╤═══╤═══╤═══╕\n",
      "│ Distance r       │ 0 │ 0 │ 0 │ 0 │ 0 │ 0 │\n",
      "├──────────────────┼───┼───┼───┼───┼───┼───┤\n",
      "│ Sound level L(r) │ 0 │ 0 │ 0 │ 0 │ 0 │ 0 │\n",
      "╘══════════════════╧═══╧═══╧═══╧═══╧═══╧═══╛\n"
     ]
    }
   ],
   "source": [
    "# Replace zeros by your measurement\n",
    "one_nozzle= ufloat(0,0)\n",
    "header = [] #None #['Combination', 'Calculated level', 'Measured level', 'Subjective comparison']\n",
    "table = [['Distance r', 'Sound level L(r)'], \n",
    "         [0, 0], [ 0, 0], [ 0, 0], [ 0, 0], [ 0, 0], [ 0, 0]]\n",
    "precision=[None,0,0, 0, 0 ,0 , 0 ]\n",
    "Table(table,header,precision)"
   ]
  },
  {
   "cell_type": "markdown",
   "id": "d7751ef8-e2f7-4056-92e3-ae211e6e7d95",
   "metadata": {},
   "source": [
    "Check graphically the region for which $10^{-L(r)/20}$ is linearly related to r. \n",
    "\n",
    "Why is this a check of the distance law?"
   ]
  },
  {
   "cell_type": "code",
   "execution_count": 9,
   "id": "52bf8a72-24a0-49c9-ada2-a56440067c7a",
   "metadata": {},
   "outputs": [],
   "source": [
    "#plt.plot(..."
   ]
  },
  {
   "cell_type": "markdown",
   "id": "5700147e-ecb8-4dfd-89ce-3c41cbbf15d0",
   "metadata": {},
   "source": [
    "#### 3.4  (Optional) Your own hearing sensitivity\n",
    "\n",
    "Draw your own hearing measurements into the figure below\n",
    "\n",
    "![Hearing Sensitivity](figures/humanHearing.png)"
   ]
  },
  {
   "cell_type": "markdown",
   "id": "1681de8c",
   "metadata": {},
   "source": [
    "#### 3.5. Speed of sound measurement"
   ]
  },
  {
   "cell_type": "code",
   "execution_count": 10,
   "id": "f390c6d6-2c1c-4461-9039-6e879dff4fd4",
   "metadata": {},
   "outputs": [
    {
     "name": "stdout",
     "output_type": "stream",
     "text": [
      "╒═══════════════════╤═══╤═══╤═══╤═══╕\n",
      "│ Frequency f [1/s] │ 0 │ 0 │ 0 │ 0 │\n",
      "├───────────────────┼───┼───┼───┼───┤\n",
      "│ Wavelength λ [cm] │ 0 │ 0 │ 0 │ 0 │\n",
      "├───────────────────┼───┼───┼───┼───┤\n",
      "│ v [m/s]           │ 0 │ 0 │ 0 │ 0 │\n",
      "╘═══════════════════╧═══╧═══╧═══╧═══╛\n"
     ]
    }
   ],
   "source": [
    "tabl5 = [ ['Frequency f [1/s]','Wavelength λ [cm]','v [m/s]'], [ 0, 0, 0],  [ 0, 0, 0],  [ 0, 0, 0],  [ 0, 0, 0]]\n",
    "precision = [ None, None, None, None, None]\n",
    "Table(tabl5,[], precision )"
   ]
  },
  {
   "cell_type": "markdown",
   "id": "11825bb9-446d-4e6f-a7a9-a4f542e05901",
   "metadata": {},
   "source": [
    "Calculate the mean and standard deviation of the mean of your velocity measurement"
   ]
  },
  {
   "cell_type": "code",
   "execution_count": 11,
   "id": "4bd9aa0a-54e1-44d4-a175-7bb160d5f1b0",
   "metadata": {
    "scrolled": true
   },
   "outputs": [
    {
     "name": "stdout",
     "output_type": "stream",
     "text": [
      "Estimated speed of sound v = 0.0±0 [m/s]\n"
     ]
    }
   ],
   "source": [
    "v_mean = 0 \n",
    "v_std = 0\n",
    "v = ufloat(v_mean, v_std)\n",
    "print('Estimated speed of sound v = {:P} [m/s]'.format(v))"
   ]
  },
  {
   "cell_type": "markdown",
   "id": "0d8fe2e3-829e-404d-a216-7c63fc1ba6b3",
   "metadata": {},
   "source": [
    "#### 3.6. Theoretical speed of sound:"
   ]
  },
  {
   "cell_type": "code",
   "execution_count": 12,
   "id": "fff13b06-a929-4c52-9220-dc573801f095",
   "metadata": {},
   "outputs": [
    {
     "name": "stdout",
     "output_type": "stream",
     "text": [
      "Ambient temperature T = 0.0±0 [C]\n",
      "Molecular mass M of air: M = 0.0±0 [kg]\n"
     ]
    }
   ],
   "source": [
    "# Measure air temperature T_air [C]:\n",
    "T_air = ufloat(0,0) #[C]\n",
    "# Molecular mass M of air:\n",
    "M = ufloat(0,0)\n",
    "# Calculated speed of sound\n",
    "# isothermal v_T \n",
    "# v_T = ...\n",
    "# adiabatic v_Q\n",
    "# v_Q = ...\n",
    "print(\"Ambient temperature T = {:P} [C]\".format(T_air))\n",
    "print(\"Molecular mass M of air: M = {:P} [kg]\".format(M))\n",
    "#print(\"Isothermal speed of sound: v_T = {:P} [m/s]\".format(v_T))\n",
    "#print(\"Adiabatic speed of sound: v_Q = {:P} [m/s]\".format(v_T))\n"
   ]
  },
  {
   "cell_type": "markdown",
   "id": "3a32edb6",
   "metadata": {},
   "source": [
    "## 4 Discussion"
   ]
  },
  {
   "cell_type": "markdown",
   "id": "7d2e95be",
   "metadata": {},
   "source": [
    "<span style='color:darkcyan'> <i> Compare the theoretical speed with your measurements. What can you conclude?</i></span>"
   ]
  },
  {
   "cell_type": "markdown",
   "id": "9330d0e7",
   "metadata": {},
   "source": []
  },
  {
   "cell_type": "markdown",
   "id": "8a52e543",
   "metadata": {},
   "source": [
    "<span style='color:darkcyan'> <i>What measurement errors were assumed? Why? <br/>\n",
    "    What are the main reasons for the errors in your results and how do they come about?</i></span>"
   ]
  },
  {
   "cell_type": "markdown",
   "id": "4416ade5",
   "metadata": {},
   "source": []
  },
  {
   "cell_type": "markdown",
   "id": "0fab5617",
   "metadata": {},
   "source": [
    "<span style='color:darkcyan'> <i>How would you try to reduce the error further? Could you improve the accuracy of the experiment? </i></span>"
   ]
  },
  {
   "cell_type": "markdown",
   "id": "0d50b92e",
   "metadata": {},
   "source": []
  },
  {
   "cell_type": "markdown",
   "id": "f5967c0c",
   "metadata": {},
   "source": [
    "<span style='color:darkcyan'> <i>If you were to repeat the experiment, what would you do differently and why?</i></span>"
   ]
  },
  {
   "cell_type": "markdown",
   "id": "6593ac1e",
   "metadata": {},
   "source": []
  }
 ],
 "metadata": {
  "kernelspec": {
   "display_name": "Python 3 (ipykernel)",
   "language": "python",
   "name": "python3"
  },
  "language_info": {
   "codemirror_mode": {
    "name": "ipython",
    "version": 3
   },
   "file_extension": ".py",
   "mimetype": "text/x-python",
   "name": "python",
   "nbconvert_exporter": "python",
   "pygments_lexer": "ipython3",
   "version": "3.11.5"
  }
 },
 "nbformat": 4,
 "nbformat_minor": 5
}
