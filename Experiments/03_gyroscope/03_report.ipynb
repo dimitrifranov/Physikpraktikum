{
 "cells": [
  {
   "cell_type": "markdown",
   "id": "0629b8fb",
   "metadata": {
    "tags": []
   },
   "source": [
    "# Protocol for experiment 03 \"Gyroscope\""
   ]
  },
  {
   "cell_type": "markdown",
   "id": "0b7ce929",
   "metadata": {},
   "source": [
    "**Date:** 2023-10-26\n",
    "**Version:** 1\n",
    "\n",
    " - **Student 1:** Joelle Reifenrath\n",
    " - **Student 2:** Dimitri Franov"
   ]
  },
  {
   "cell_type": "markdown",
   "id": "8f0f1d43",
   "metadata": {},
   "source": [
    "## 1. Introduction\n",
    "\n",
    "\n",
    "### 1.1 Introduction to the experiment\n",
    "\n",
    "- What is the experiment about? What is the objective?\n",
    "\n",
    "This experiment is about determinating the moment of inertia and checking the validity of Equation. This has to be done with a gyroscope wheel. \n",
    "\n",
    "\n",
    "### 1.2 Summary of theory\n",
    "\n",
    "- Explanation of the formulas used incl. variable labeling\n",
    "\n",
    "We will be using two different methods to determine the moment of inertia with two different Equation. \n",
    "\n",
    "First Equation for the moment of inertia: \n",
    "\n",
    "$$θ={\\frac{2mgh}{ω_0^2}-mR^2}$$\n",
    "\n",
    "where $m$ ist the mass, $ω$ is the angular velocity, $R$ is the radius, $h$ is the hight, $g$ is the gravitational acceleration. \n",
    "\n",
    "Alternative Equation for the moment of inertia: \n",
    "\n",
    "$$θ=mR^2\\left({\\frac{gt^2}{2h}}-1\\right)$$ \n",
    "\n",
    "where $m$ ist the mass and $t$ the time the mass takes to fall down, $R$ is the radius, $h$ is the hight, $g$ is the gravitational acceleration. \n",
    "\n",
    "Also we will have to calculate $Ω$ and $θ$ from the period of time we measured. \n",
    "\n",
    "The Equations for $Ω$ is: \n",
    "\n",
    "$$Ω={\\frac{Gl}{θω}}$$\n",
    "\n",
    "where $G$ is weight, $l$ ist the lever arm, $θ$ is the moment of inertia, $ω$ is the angular velocity. \n",
    "\n",
    "One can also calculate $Ω$ from the periode: \n",
    "\n",
    "$$T_0={\\frac{2\\pi}{Ω_0}}$$\n",
    "\n",
    "The same Equation is valide for $ω$: \n",
    "\n",
    "$$T_0={\\frac{2\\pi}{ω_0}}$$\n",
    "\n",
    "\n",
    "### 1.3 Tasks\n",
    "\n",
    "- What are the tasks for the experiment?\n",
    "1. The moment of the inertia θ of the gyroscope wheel is to be determined.\n",
    "2. We measure the angular velocity Ω of the pre- cession for different rotation speeds of the wheel, as well as for various weights G, and compare them with the values calculated according to Equation (6).\n",
    "3. Convince yourself of the validity of the vecto- rial relationship of L⃗ and M⃗ , by setting the wheel in different directions of circulation.\n",
    "\n",
    "\n",
    "### 1.4 Environmental relevance\n",
    "\n",
    "- How is the experiment relevant to your studies in environmental science? (1-2 sentences)"
   ]
  },
  {
   "cell_type": "markdown",
   "id": "0172593d",
   "metadata": {
    "tags": []
   },
   "source": [
    "## 2. Packages and Functions"
   ]
  },
  {
   "cell_type": "markdown",
   "id": "aad31d47",
   "metadata": {},
   "source": [
    "### 2.1 Load packages\n",
    "You may not use all of these packages. You can comment out the ones you don't need."
   ]
  },
  {
   "cell_type": "code",
   "execution_count": 4,
   "id": "b4170517",
   "metadata": {
    "tags": []
   },
   "outputs": [],
   "source": [
    "# TODO: toggle\n",
    "\n",
    "# import packages  (not every package is used in each notebook template)\n",
    "\n",
    "# numerical computing\n",
    "import numpy as np                    # Fundamental package for numerical computing in Python\n",
    "\n",
    "# uncertainty calculations\n",
    "from uncertainties import ufloat      # For handling numbers with uncertainties\n",
    "from uncertainties.umath import *     # For applying mathematical functions with uncertainties\n",
    "from uncertainties import unumpy      # For handling uncertainties in arrays\n",
    "\n",
    "# data manipulation and analysis\n",
    "import pandas as pd                   # Powerful data manipulation and analysis library\n",
    "\n",
    "# data visualization in tables\n",
    "from tabulate import tabulate\n",
    "\n",
    "# data visualization in plots\n",
    "import matplotlib.pyplot as plt       # Library for creating static, interactive, and animated visualizations\n",
    "\n",
    "# scientific computing\n",
    "import scipy as sc                    # Open-source scientific computing library\n",
    "from scipy.stats import linregress    # For performing linear regression analysis\n",
    "from scipy.constants import R         # Physical and mathematical constants\n",
    "\n",
    "# interactive display in Jupyter Notebook\n",
    "from IPython.display import display, Markdown   # For displaying rich content (e.g., Markdown) in Jupyter Notebook\n",
    "\n",
    "# standard mathematical functions\n",
    "import math                          # Python's built-in math functions\n",
    "\n",
    "# widgets (to create elements such as dynamic input/output boxes)\n",
    "import ipywidgets as widgets\n",
    "\n",
    "\n"
   ]
  },
  {
   "cell_type": "markdown",
   "id": "40438cc2",
   "metadata": {},
   "source": [
    "### 2.2 Define functions"
   ]
  },
  {
   "cell_type": "code",
   "execution_count": 3,
   "id": "2371dd18",
   "metadata": {},
   "outputs": [],
   "source": [
    "# example: \n",
    "\n",
    "def my_function(param1_placeholder, param2_placeholder):\n",
    "    \n",
    "    value = 'Replace with your calculation'\n",
    "    return value"
   ]
  },
  {
   "cell_type": "markdown",
   "id": "c42a9aa5",
   "metadata": {},
   "source": [
    "#### <span style='color:darkcyan'> Your functions: </span>"
   ]
  },
  {
   "cell_type": "code",
   "execution_count": 11,
   "id": "a3d0e52e",
   "metadata": {},
   "outputs": [],
   "source": [
    "def Table(table, header):\n",
    "    # Check if precisions list length matches table's row count\n",
    "    # if len(precisions) != len(table):\n",
    "    #     raise ValueError(\"Length of precisions list must match the number of columns in the table\")\n",
    "\n",
    "    # for i in range(len(table)):\n",
    "    #     # If precision for this row/column is not None, round the entire row\n",
    "    #     if precisions[i] is not None:\n",
    "    #         table[i] = [np.round(val, precisions[i]) for val in table[i]]\n",
    "\n",
    "    table = np.matrix.transpose(np.array(table))\n",
    "    print(tabulate(table, headers=header, tablefmt='fancy_grid'))"
   ]
  },
  {
   "cell_type": "markdown",
   "id": "aa491cdb",
   "metadata": {},
   "source": [
    "<div class=\"alert alert-block alert-info\">\n",
    "    <b>Tip</b>: <br/>\n",
    "    1) Here is the place to <b>define all the functions you need</b> in this notebook. This helps to keep your notebook clear and structured.<br/>\n",
    "    2) Add <b>comments</b> to your functions (e.g. what is the function good for, what happens in each line, etc.), so that you and your lab partner will still be able to understand the code at a later time."
   ]
  },
  {
   "cell_type": "markdown",
   "id": "335259b7",
   "metadata": {},
   "source": [
    "## 3. Experiments"
   ]
  },
  {
   "cell_type": "markdown",
   "id": "bbf964d2",
   "metadata": {},
   "source": [
    "### 3.1 Experiment 1: Determination of moment of inertia"
   ]
  },
  {
   "cell_type": "markdown",
   "id": "0c829ee0",
   "metadata": {},
   "source": [
    "<span style='color:indigo'> <i>\n",
    "    The moment of inertia θ of the gyroscope wheel\n",
    "is to be determined. </i></span>"
   ]
  },
  {
   "cell_type": "markdown",
   "id": "b95cf676",
   "metadata": {},
   "source": [
    "#### 3.1.1 Measurement data"
   ]
  },
  {
   "cell_type": "markdown",
   "id": "3fead899",
   "metadata": {},
   "source": [
    "<span style='color:darkcyan'> <i>Perform the measurement with different masses m and\n",
    "repeated multiple times in order to get an average\n",
    "value of θ each time. </i></span>"
   ]
  },
  {
   "cell_type": "markdown",
   "id": "2940bf24",
   "metadata": {},
   "source": [
    "<div class=\"alert alert-block alert-info\">\n",
    "    <b>Tip</b>: If there are multiple measurements of the same quantity, you can use an <b>uarray</b> for each quantity to store the measured values and their errors:  <br/>\n",
    "    <code>array = unumpy.uarray([measured_value_1, measured_value_2, ...], [abs_error_1, abs_error_2, ...])</code>. "
   ]
  },
  {
   "cell_type": "code",
   "execution_count": 14,
   "id": "15fe191d",
   "metadata": {},
   "outputs": [],
   "source": [
    "R = ufloat(0.32,0.002)   # [unit] radius of the wheel \n",
    "\n",
    "m = unumpy.uarray([0.1, 0.1, 0.2, 0.2, 0.5, 0.5, 1, 1], [0.005, 0.005, 0.005, 0.005, 0.005, 0.005, 0.005, 0.005])  # [kg] mass \n",
    "h = ufloat(0.91, 0.001)  # [m] height \n",
    "# 4 Rotations:\n",
    "T0_4 = unumpy.uarray([10.91,10.78, 7.94, 7.87, 5.28, 5.25, 3.94, 4.06], [0.1, 0.1, 0.1, 0.1, 0.2, 0.2, 0.2, 0.2])  # [s] period \n",
    "# 1 Rotation\n",
    "T0 = T0_4/4\n",
    "w0 = 2*np.pi/T0  # [1/s] angular velocity "
   ]
  },
  {
   "cell_type": "markdown",
   "id": "5ae5b1da",
   "metadata": {},
   "source": [
    "#### 3.1.2 Evaluation"
   ]
  },
  {
   "cell_type": "markdown",
   "id": "bde58918",
   "metadata": {},
   "source": [
    "<span style='color:darkcyan'> <i>Print your data in a table. </i></span>"
   ]
  },
  {
   "cell_type": "code",
   "execution_count": 15,
   "id": "2331d905",
   "metadata": {
    "tags": []
   },
   "outputs": [
    {
     "name": "stdout",
     "output_type": "stream",
     "text": [
      "╒═════════════╤═══════════════════╤════════════════════╤══════════════════════════╕\n",
      "│   mass [kg] │   error_mass [kg] │   falling_time [s] │   error_falling_time [s] │\n",
      "╞═════════════╪═══════════════════╪════════════════════╪══════════════════════════╡\n",
      "│         0.1 │             0.005 │             2.7275 │                    0.025 │\n",
      "├─────────────┼───────────────────┼────────────────────┼──────────────────────────┤\n",
      "│         0.1 │             0.005 │             2.695  │                    0.025 │\n",
      "├─────────────┼───────────────────┼────────────────────┼──────────────────────────┤\n",
      "│         0.2 │             0.005 │             1.985  │                    0.025 │\n",
      "├─────────────┼───────────────────┼────────────────────┼──────────────────────────┤\n",
      "│         0.2 │             0.005 │             1.9675 │                    0.025 │\n",
      "├─────────────┼───────────────────┼────────────────────┼──────────────────────────┤\n",
      "│         0.5 │             0.005 │             1.32   │                    0.05  │\n",
      "├─────────────┼───────────────────┼────────────────────┼──────────────────────────┤\n",
      "│         0.5 │             0.005 │             1.3125 │                    0.05  │\n",
      "├─────────────┼───────────────────┼────────────────────┼──────────────────────────┤\n",
      "│         1   │             0.005 │             0.985  │                    0.05  │\n",
      "├─────────────┼───────────────────┼────────────────────┼──────────────────────────┤\n",
      "│         1   │             0.005 │             1.015  │                    0.05  │\n",
      "╘═════════════╧═══════════════════╧════════════════════╧══════════════════════════╛\n"
     ]
    }
   ],
   "source": [
    "table0 = np.vstack((m,T0))\n",
    "header0 = ['mass [kg]', 'error_mass [kg]', 'falling_time [s]', 'error_falling_time [s]'] # muss selbe Anzahl Einträge haben wie table.\n",
    "table0\n",
    "table0=[unumpy.nominal_values(m), unumpy.std_devs(m), unumpy.nominal_values(T0), unumpy.std_devs(T0)]\n",
    "Table(table0, header0)"
   ]
  },
  {
   "cell_type": "markdown",
   "id": "f7c7ab02",
   "metadata": {},
   "source": [
    "<span style='color:darkcyan'> <i>Calculate the mean values of the  measured quantities which are necessary for the calculation of θ. </i></span>"
   ]
  },
  {
   "cell_type": "code",
   "execution_count": 16,
   "id": "14d6ee78",
   "metadata": {},
   "outputs": [],
   "source": [
    "m_mean = np.mean(m)\n",
    "h_mean = np.mean(h)\n",
    "t0_mean = np.mean(T0)\n",
    "w0_mean = np.mean(w0)"
   ]
  },
  {
   "cell_type": "markdown",
   "id": "d77eade6",
   "metadata": {},
   "source": [
    "<span style='color:darkcyan'> <i>Calculate the moment of inertia (incl. error). </i></span>"
   ]
  },
  {
   "cell_type": "code",
   "execution_count": 18,
   "id": "3b74acd0",
   "metadata": {},
   "outputs": [],
   "source": [
    "In = 2 * m_mean * 9.81 * h_mean / w0_mean**2 - m_mean * R**2"
   ]
  },
  {
   "cell_type": "markdown",
   "id": "4f5c0314",
   "metadata": {},
   "source": [
    "<span style='color:darkcyan'> <i>Print your results (incl. errors and units).</i></span>"
   ]
  },
  {
   "cell_type": "code",
   "execution_count": 20,
   "id": "af601d9e",
   "metadata": {},
   "outputs": [
    {
     "name": "stdout",
     "output_type": "stream",
     "text": [
      "0.423+/-0.015\n"
     ]
    }
   ],
   "source": [
    "print(In)"
   ]
  },
  {
   "cell_type": "markdown",
   "id": "40b8daac",
   "metadata": {},
   "source": [
    "### 3.2 Experiment 2: Alternative method to determine the moment of inertia\n",
    "<span style='color:indigo'> <i>Measure the angular velocity Ω of the precession for different rotation speeds of the wheel,\n",
    "as well as for various weights G, and compare\n",
    "them with the values calculated according to\n",
    "Equation (6).</i></span>"
   ]
  },
  {
   "cell_type": "markdown",
   "id": "3db55e6b",
   "metadata": {},
   "source": [
    "#### 3.2.1 Measurement data"
   ]
  },
  {
   "cell_type": "code",
   "execution_count": 21,
   "id": "f431e02e",
   "metadata": {},
   "outputs": [],
   "source": [
    "\n",
    "t = unumpy.uarray([2.09,2.00, 1.6, 1.53, 1.06, 1.16, 0.81, 0.88], [0.1, 0.1, 0.1, 0.1, 0.15, 0.15, 0.15, 0.15])  # [s] falling time "
   ]
  },
  {
   "cell_type": "markdown",
   "id": "b57a3233",
   "metadata": {},
   "source": [
    "<div class=\"alert alert-block alert-info\">\n",
    "    <b>Tip</b>: Take care when choosing names for your variables - make sure that you <b>don't use the same name for different variables</b> (throughout the whole notebook!) <br/>\n",
    "    If you measure the same quantity in more than one experiment, you can e.g. include the experiment number in the variable name to make it unique. <br/>\n",
    "    <small>Otherwise the value of the variable will depend on the order in which you execute the cells, which may cause confusion and wrong results if you don't always execute them from top to bottom.</small><br/>"
   ]
  },
  {
   "cell_type": "markdown",
   "id": "4d69a9b0",
   "metadata": {},
   "source": [
    "#### 3.2.2 Evaluation"
   ]
  },
  {
   "cell_type": "markdown",
   "id": "e92e7b38",
   "metadata": {},
   "source": [
    "<span style='color:darkcyan'> <i>Print your data in a table. </i></span>"
   ]
  },
  {
   "cell_type": "code",
   "execution_count": 25,
   "id": "4d74fbd7",
   "metadata": {},
   "outputs": [
    {
     "name": "stdout",
     "output_type": "stream",
     "text": [
      "╒═════════════╤═══════════════════╤════════════════════╤══════════════════════════╕\n",
      "│   mass [kg] │   error_mass [kg] │   falling_time [s] │   error_falling_time [s] │\n",
      "╞═════════════╪═══════════════════╪════════════════════╪══════════════════════════╡\n",
      "│         0.1 │             0.005 │               2.09 │                     0.1  │\n",
      "├─────────────┼───────────────────┼────────────────────┼──────────────────────────┤\n",
      "│         0.1 │             0.005 │               2    │                     0.1  │\n",
      "├─────────────┼───────────────────┼────────────────────┼──────────────────────────┤\n",
      "│         0.2 │             0.005 │               1.6  │                     0.1  │\n",
      "├─────────────┼───────────────────┼────────────────────┼──────────────────────────┤\n",
      "│         0.2 │             0.005 │               1.53 │                     0.1  │\n",
      "├─────────────┼───────────────────┼────────────────────┼──────────────────────────┤\n",
      "│         0.5 │             0.005 │               1.06 │                     0.15 │\n",
      "├─────────────┼───────────────────┼────────────────────┼──────────────────────────┤\n",
      "│         0.5 │             0.005 │               1.16 │                     0.15 │\n",
      "├─────────────┼───────────────────┼────────────────────┼──────────────────────────┤\n",
      "│         1   │             0.005 │               0.81 │                     0.15 │\n",
      "├─────────────┼───────────────────┼────────────────────┼──────────────────────────┤\n",
      "│         1   │             0.005 │               0.88 │                     0.15 │\n",
      "╘═════════════╧═══════════════════╧════════════════════╧══════════════════════════╛\n"
     ]
    }
   ],
   "source": [
    "table2 = np.vstack((m,t))\n",
    "header2 = ['mass [kg]', 'error_mass [kg]', 'falling_time [s]', 'error_falling_time [s]'] # muss selbe Anzahl Einträge haben wie table.\n",
    "table2\n",
    "table2=[unumpy.nominal_values(m), unumpy.std_devs(m),  unumpy.nominal_values(t), unumpy.std_devs(t)]\n",
    "Table(table2, header2)"
   ]
  },
  {
   "cell_type": "markdown",
   "id": "fac414be",
   "metadata": {},
   "source": [
    "<span style='color:darkcyan'> <i>Calculate the average of the measured times t and the momentum of inertia θ. </i></span>"
   ]
  },
  {
   "cell_type": "code",
   "execution_count": 26,
   "id": "8a8f9d86",
   "metadata": {},
   "outputs": [],
   "source": [
    "t_mean = np.mean(t)\n",
    "m2_mean = np.mean(m)\n",
    "h2_mean = np.mean(h)\n",
    "\n",
    "in_2 = m2_mean * R**2 * (9.81 * t_mean**2 / 2 * h2_mean -1)"
   ]
  },
  {
   "cell_type": "markdown",
   "id": "74c43da2",
   "metadata": {},
   "source": [
    "<span style='color:darkcyan'> <i>Print your results (incl. errors and units).</i></span>"
   ]
  },
  {
   "cell_type": "code",
   "execution_count": 27,
   "id": "ef5949d8",
   "metadata": {},
   "outputs": [
    {
     "name": "stdout",
     "output_type": "stream",
     "text": [
      "0.352+/-0.026\n"
     ]
    }
   ],
   "source": [
    "print(in_2)"
   ]
  },
  {
   "cell_type": "markdown",
   "id": "b27fa21a",
   "metadata": {},
   "source": [
    "<span style='color:darkcyan'> <i>Compare the results of the two methods for determining θ and discuss differences in\n",
    "the variances of the two datasets by considering the uncertainty on the calculated values for the moment of inertia.</i></span>"
   ]
  },
  {
   "cell_type": "markdown",
   "id": "f6ae8113",
   "metadata": {},
   "source": []
  },
  {
   "cell_type": "markdown",
   "id": "06592efb",
   "metadata": {},
   "source": [
    "### 3.3 Experiment 3: Precesion velocity\n",
    "<span style='color:indigo'> <i>Convince yourself of the validity of the vectorial relationship of $\\vec{L}$ and $\\vec{M}$, by setting the wheel in different directions of circulation.</i></span>"
   ]
  },
  {
   "cell_type": "markdown",
   "id": "50d02f08",
   "metadata": {},
   "source": [
    "#### 3.3.1 Measurement data"
   ]
  },
  {
   "cell_type": "markdown",
   "id": "a9224196",
   "metadata": {},
   "source": [
    "<span style='color:darkcyan'> <i>Conduct the experiment with different weights and for both directions of rotation of the wheel.</i></span>"
   ]
  },
  {
   "cell_type": "code",
   "execution_count": 29,
   "id": "0e15f2bc",
   "metadata": {},
   "outputs": [],
   "source": [
    "l =   ufloat(0.365, 0.005)  # [unit] distance rotation axis of bar - mass (see fig. 6) \n",
    "\n",
    "t = unumpy.uarray([23.03,25.37,17.78,16.12, 11.75, 7.56, 13.19, 12.25],[0.25,0.25,0.25,0.25,0.25,0.25,0.25,0.25])\n",
    "#Period\n",
    "N_w = unumpy.uarray([17,20,19,13,18,9,18,14], [0.5,0.5,0.5,0.5,0.5,0.5,0.5,0.5])   # [unit] period of the wheel \n",
    "N_Om = unumpy.uarray([1,1,1,1,1,1,3,3], [0.1,0.1,0.1,0.1,0.1,0.1,0.1,0.1])   # [unit] period of the precession movement \n",
    "#Time_period\n",
    "T_w = t / N_w\n",
    "T_Om = t / N_Om\n",
    "w_exp = 2*np.pi/T_w # [unit] angular velocity of the wheel \n",
    "Om_exp = 2*np.pi/T_Om # [unit] measured angular velocity of the precession movement \n",
    "Om_calc = m * l / In * w_exp #m3 = G ?\n"
   ]
  },
  {
   "cell_type": "markdown",
   "id": "596b7e4c",
   "metadata": {},
   "source": [
    "#### 3.3.2 Evaluation"
   ]
  },
  {
   "cell_type": "markdown",
   "id": "733d3f91",
   "metadata": {},
   "source": [
    "<span style='color:darkcyan'> <i>Calculete $\\frac{\\Omega \\omega}{G}$ for each weight m. </i></span>"
   ]
  },
  {
   "cell_type": "code",
   "execution_count": 30,
   "id": "ed1fc6c8",
   "metadata": {},
   "outputs": [],
   "source": [
    "foo = Om_exp / m"
   ]
  },
  {
   "cell_type": "markdown",
   "id": "b1a4c022",
   "metadata": {},
   "source": [
    "<span style='color:darkcyan'> <i>Print your data in a table. </i></span>"
   ]
  },
  {
   "cell_type": "code",
   "execution_count": 8,
   "id": "249434f4",
   "metadata": {},
   "outputs": [],
   "source": [
    "table3 = np.vstack((m,T_w,T_Om, w_exp, Om_exp, Om_calc, foo))\n",
    "header3 = ['mass [kg]', 'error_mass [kg]', 'time_wheel [T_w]', 'error_time_wheel [T_w]', 'falling_time [s]', 'error_falling_time [s]'] # muss selbe Anzahl Einträge haben wie table.\n",
    "table3\n",
    "table3=[nominal_values(m), std_devs(m), nominal_values(h2), std_devs(h2),  nominal_values(t), std_devs(t)]\n",
    "Table(table3, header3)"
   ]
  },
  {
   "cell_type": "markdown",
   "id": "f7f5d3ff",
   "metadata": {},
   "source": [
    "<span style='color:darkcyan'> <i>Calculate the mean of $\\frac{\\Omega \\omega}{G}$. </i></span>"
   ]
  },
  {
   "cell_type": "code",
   "execution_count": 31,
   "id": "a7ce2abc",
   "metadata": {},
   "outputs": [],
   "source": [
    "foo_mean = np.mean(foo)"
   ]
  },
  {
   "cell_type": "markdown",
   "id": "6a85748d",
   "metadata": {},
   "source": [
    "<span style='color:darkcyan'> <i>Calculate the momentum of inertia from this value.</i></span>"
   ]
  },
  {
   "cell_type": "code",
   "execution_count": 32,
   "id": "14458a36",
   "metadata": {},
   "outputs": [],
   "source": [
    "in_3 = l/(w_exp * foo_mean)"
   ]
  },
  {
   "cell_type": "markdown",
   "id": "e753a398",
   "metadata": {},
   "source": [
    "<span style='color:darkcyan'> <i>Print your results (incl. errors and units).</i></span>"
   ]
  },
  {
   "cell_type": "code",
   "execution_count": 34,
   "id": "57a91e54",
   "metadata": {},
   "outputs": [
    {
     "name": "stdout",
     "output_type": "stream",
     "text": [
      "[0.04306204763339656+/-0.002195396424225242\n",
      " 0.040321820503273126+/-0.0019452143641042591\n",
      " 0.029745948117262257+/-0.0014903645873852419\n",
      " 0.03941589075605729+/-0.0022834838187061686\n",
      " 0.02074985288457317+/-0.0011102310847735685\n",
      " 0.026701087286361388+/-0.002068417768340767\n",
      " 0.023292813578512348+/-0.0012266689347384984\n",
      " 0.027813632589959784+/-0.0016103066455559081]\n",
      "0.0314+/-0.0013\n"
     ]
    }
   ],
   "source": [
    "print(in_3)\n",
    "in_mean = np.mean(in_3)\n",
    "print(in_mean)"
   ]
  },
  {
   "cell_type": "markdown",
   "id": "3d8ad304",
   "metadata": {},
   "source": [
    "## 4 Discussion"
   ]
  },
  {
   "cell_type": "markdown",
   "id": "b8db4852",
   "metadata": {},
   "source": [
    "<span style='color:darkcyan'> <i>Are your results realistic? Why (not)? Comparison with theory? </i></span>"
   ]
  },
  {
   "cell_type": "markdown",
   "id": "189c473b",
   "metadata": {},
   "source": [
    "We can't really tell, if the measurements are realistic. On the one hand, there are most likely errors due to the fact that everything is hand measured. On the ather hand, we are in a lab and that normally means stable conditions. The fact, that the two different measurements for our moment of inertia are in the same range shows, that it can't be to wrong :)"
   ]
  },
  {
   "cell_type": "markdown",
   "id": "ed475087",
   "metadata": {},
   "source": [
    "<span style='color:darkcyan'> <i>What measurement errors were assumed? Why? <br/>\n",
    "    What are the main reasons for the errors in your results and how do they come about?</i></span>"
   ]
  },
  {
   "cell_type": "markdown",
   "id": "4ceb8f17",
   "metadata": {},
   "source": [
    "Everything in this experiment was measured and stopped by hand. The errors in the results are manly due to that. Also other things like the nutation of the wheel was ignored in our calculation, eventhough this was not always the same. This is also a reason for errors in the calculations."
   ]
  },
  {
   "cell_type": "markdown",
   "id": "9381b751",
   "metadata": {},
   "source": [
    "<span style='color:darkcyan'> <i>How would you try to reduce the error further? Could you improve the accuracy of the experiment? </i></span>"
   ]
  },
  {
   "cell_type": "markdown",
   "id": "ca856f37",
   "metadata": {},
   "source": [
    "We could reduce the error by doing more repetitions and more turns of the experiments. 
One could have also measured the hight after every turn to be sure, that the measurements are still correct."
   ]
  },
  {
   "cell_type": "markdown",
   "id": "e38d5dbc",
   "metadata": {},
   "source": [
    "<span style='color:darkcyan'> <i>If you were to repeat the experiment, what would you do differently and why?</i></span>"
   ]
  },
  {
   "cell_type": "markdown",
   "id": "c3f06d03",
   "metadata": {},
   "source": [
    "The experiment went very well as we did it this time. But for next time we could probably get more accurate measurements by doing the things described in the question before. Next time we would do those steps too, to improve the measurements. "
   ]
  }
 ],
 "metadata": {
  "kernelspec": {
   "display_name": "Python 3 (ipykernel)",
   "language": "python",
   "name": "python3"
  },
  "language_info": {
   "codemirror_mode": {
    "name": "ipython",
    "version": 3
   },
   "file_extension": ".py",
   "mimetype": "text/x-python",
   "name": "python",
   "nbconvert_exporter": "python",
   "pygments_lexer": "ipython3",
   "version": "3.11.5"
  }
 },
 "nbformat": 4,
 "nbformat_minor": 5
}
