{
 "cells": [
  {
   "cell_type": "markdown",
   "id": "d507c8b7",
   "metadata": {},
   "source": [
    "# Bericht zu Versuch NN \"Versuchstitel\""
   ]
  },
  {
   "cell_type": "markdown",
   "id": "04e05eff",
   "metadata": {},
   "source": [
    "**Datum:** <2022-1M-DD>\n",
    " \n",
    " - **Student 1:** <vollständiger Name>\n",
    " - **Student 2:** <vollständiger Name>"
   ]
  },
  {
   "cell_type": "markdown",
   "id": "0e484b96",
   "metadata": {},
   "source": [
    "## 1. Überblick\n",
    "\n",
    "### 1.1 Einführung & Umweltrelevanz\n",
    "\n",
    "- Um was geht es in dem Versuch? Was ist das Ziel?\n",
    "- Inwiefern ist der Versuch relevant für euer Studium in Umweltwissenschaften? (1-2 Sätze)\n",
    "\n",
    "Das Ziel des ersten Abschnitts ist es dem Leser Kontext zum Versuch zu geben. Es soll dem Leser klar gemacht werden weshalb es sich für ihn lohnt Zeit zu investieren um euren Bericht zu lesen.\n",
    "\n",
    "### 1.2 Zusammenfassung der Theorie\n",
    "\n",
    "- Erläuterung der benutzten Formeln inkl. Variablenbeschriftung (Bsp. vom Vorversuch)\n",
    "    - Darstellung z.B. durch \"\\\\$\\\\$ T = 2\\pi \\sqrt{\\frac{L}{g}} \\\\$\\\\$\" --> $$T=2\\pi\\sqrt{\\frac{L}{g}}$$, wobei $T$ die Schinwungsdauer des Pendels für eine Oszillation, $L$ die Länge des Pendels und $g$ die Erdbeschleunigung.\n",
    "    - $$\\phi = A \\exp(-\\frac{\\gamma t}{2})\\cos(\\omega t + \\alpha)$$, wobei $\\phi$ die Auslenkung der Schwingung, $A$ die ursprüngliche Amplitude der Schwingung, $\\gamma$ der Reibungskoeffizient und $\\omega$ die Kreisfrequenz.\n",
    "    - Um den Textfluss für kleinere Formeln nicht zu unterbrechen kann auch folgendes Format verwendet werden: \"\\\\$ T = 2\\pi \\sqrt{\\frac{L}{g}} \\\\$\" (Es erfolgt kein Zeilenumbruch.\n",
    "    \n",
    "    Nebst der bezeichnung der Variablen sollen die wichtigsten Formeln auch in Worten umschrieben sein. So, dass auch nicht initiierte Leser verstehen können was die Grundaussage der Formel ist.\n",
    "    Weiter sollten Formeln auch validiert werden, sei es durch eine kurze umschreibung der Herleitung bei der erklärt wird auf welche physikalische Grundsätze die Formel basiert, oder durch referenz auf den Physiker der die Formel endeckt hat.\n",
    "\n",
    "### 1.3 Vorgehen\n",
    "\n",
    "- Was wurde am Versuchstag gemessen?\n",
    "- Beschreibung de Messaufbaus.\n",
    "- Der Leser soll aus diesem Abschnitt nachvollziehen können wie ihr auf die Werte die Ihr nachher vorstellt gekommen seid.\n"
   ]
  },
  {
   "cell_type": "markdown",
   "id": "0ecc9542",
   "metadata": {},
   "source": [
    "### 2. Messdaten"
   ]
  },
  {
   "cell_type": "code",
   "execution_count": 4,
   "id": "244afd3e",
   "metadata": {},
   "outputs": [],
   "source": [
    "# Importieren der benutzten Packages\n",
    "\n",
    "# Meist benötigt: \n",
    "import numpy as np  # Math\n",
    "from uncertainties import ufloat # ufloat( , ) für die Fehlerrechnung\n",
    "from uncertainties.umath import *  # Für Funktionen wie sin, cos\n",
    "from uncertainties import unumpy # für uncertainties in arrays\n",
    "\n",
    "# Falls benutzt\n",
    "# import pandas as pd # z.B. zum Importieren von Excel-Tabellen (csv-Files)\n",
    "# import matplotlib.pyplot as plt # Plotting\n",
    "# from uncertainties import unumpy # für uncertainties in arrays\n",
    "# from scipy import linregress # Lineare regression"
   ]
  },
  {
   "cell_type": "markdown",
   "id": "f98106da",
   "metadata": {},
   "source": [
    "#### Einlesen und Darstellen der Messdaten (z.B. manuell oder aus CSV-, Excel-Dateien)"
   ]
  },
  {
   "cell_type": "code",
   "execution_count": 10,
   "id": "29931216-e52c-4c37-b305-8fd1d5f86142",
   "metadata": {},
   "outputs": [],
   "source": [
    "## Beispieldaten aus Vorversuch: Gravitationskonstante\n",
    "\n",
    "# Pendellänge\n",
    "L = ufloat(0.72, 0.02) # [m]\n",
    "\n",
    "# Anzahl Oszillationen\n",
    "n = 15\n",
    "\n",
    "# Gemessene Zeit tn für diese Oszillationen\n",
    "tn = ufloat(25, 0.5) # [s]"
   ]
  },
  {
   "cell_type": "code",
   "execution_count": null,
   "id": "3a0dd307-23c2-4750-b6e1-6de8679ed2f8",
   "metadata": {},
   "outputs": [],
   "source": [
    "## Beispieldaten aus Vorversuch: Aufgabe 4\n",
    "\n",
    "# Daten in csv-Datei\n",
    "#table = pd.read_csv(\"messdaten/messdaten.csv\") # Tabelle der Daten (in Pandas \"data frame\")\n",
    "# Daten in Excel, Openoffice oder ähnlichem Format\n",
    "#table = pd.read_excel(\"messdaten/messdaten.xls\")\n",
    "\n",
    "# Anzeige der Daten\n",
    "#table  "
   ]
  },
  {
   "cell_type": "code",
   "execution_count": 5,
   "id": "71f756ff-6d34-4b84-af6d-5747211ef6f3",
   "metadata": {},
   "outputs": [],
   "source": [
    "## Aufgabe 1: Dehnung\n",
    "\n",
    "# Masse des Drahtes\n",
    "\n",
    "L = ufloat(0,0) # Länge des Drahtes\n",
    "d = ufloat(0,0) # Durchmesser des Drahtes\n",
    "q = ufloat(0,0) # Querschnitt des Drahtes\n",
    "\n",
    "M = np.linspace(0,2000,6) # Masse in [g]\n",
    "\n",
    "h_steigend = unumpy.uarray([0,0,0,0,0,0],[0,0,0,0,0,0])\n",
    "ho_steigend = ufloat(0,0)\n",
    "\n",
    "h_fallend = unumpy.uarray([0,0,0,0,0,0],[0,0,0,0,0,0])\n",
    "ho_fallend = ufloat(0,0)\n",
    "\n",
    "# Bestimmung des Elastizitätsmodul aus Steigung und plot\n",
    "from scipy.stats import linregress\n",
    "\n",
    "###########################################\n",
    "# Siehe Template zur linearen regression  #\n",
    "###########################################\n",
    "\n",
    "E = 0 # Elastizitätsmodul"
   ]
  },
  {
   "cell_type": "code",
   "execution_count": null,
   "id": "8bbe8b24-bc1c-4513-ab7a-b4c2c1557c5b",
   "metadata": {},
   "outputs": [],
   "source": [
    "## Aufgabe 2: Biegung\n",
    "\n",
    "# Masse des Drahtes\n",
    "\n",
    "L = ufloat(0,0) # Länge des Balkens\n",
    "a = ufloat(0,0) # Querdimensionen des Balkens\n",
    "b = ufloat(0,0) # \n",
    "\n",
    "M_quer = np.linspace(0,2000,6) # Masse in [g]\n",
    "M_hoch = np.linspace(0,1200,4) # Masse in [g]\n",
    "\n",
    "h_quer_steigend = unumpy.uarray([0,0,0,0,0,0],[0,0,0,0,0,0])\n",
    "ho_quer_steigend = ufloat(0,0)\n",
    "\n",
    "h_quer_fallend = unumpy.uarray([0,0,0,0,0,0],[0,0,0,0,0,0])\n",
    "ho_quer_fallend = ufloat(0,0)\n",
    "\n",
    "h_hoch_steigend = unumpy.uarray([0,0,0,0,0,0],[0,0,0,0,0,0])\n",
    "ho_hoch_steigend = ufloat(0,0)\n",
    "\n",
    "h_hoch_fallend = unumpy.uarray([0,0,0,0,0,0],[0,0,0,0,0,0])\n",
    "ho_hoch_fallend = ufloat(0,0)\n",
    "\n",
    "# Bestimmung des Elastizitätsmodul aus Steigung und plot\n",
    "from scipy.stats import linregress\n",
    "\n",
    "###########################################\n",
    "# Siehe Template zur linearen regression  #\n",
    "###########################################\n",
    "E_hoch = 0 # Elastizitätsmodul\n",
    "E_quer = 0 # Elastizitätsmodul"
   ]
  },
  {
   "cell_type": "code",
   "execution_count": 16,
   "id": "584ef3a1-5f78-4d74-a125-65dc298d3dbb",
   "metadata": {},
   "outputs": [
    {
     "name": "stdout",
     "output_type": "stream",
     "text": [
      "Berechnete Torsionsmodul G = (2.0±1.0) m/^2\n"
     ]
    }
   ],
   "source": [
    "## Aufgabe 3: Torsion\n",
    "\n",
    "r_z = ufloat(0,0) # Radius des zylindrischen Körpers K\n",
    "M_z = ufloat(0,0) # Masse des zylindrischen Körpers K\n",
    "l_d = ufloat(0,0) # Länge des Drahtes\n",
    "R_d = ufloat(0,0) # Radius des Drahtes\n",
    "Theta = ... # Trägheitsmoment des Körpers K\n",
    "\n",
    "T = unumpy.uarray([0,0,0,0,0],[0,0,0,0,0]) # Zehn Perioden des verdrehten Pendels\n",
    "T_prime = unumpy.uarray([0,0,0,0,0],[0,0,0,0,0]) # Zehn Perioden des verdrehten Pendels mit extra Gewicht\n",
    "\n",
    "T1 = ... # Gemittelter Wert zur weiteren Berechnung\n",
    "T2 = ... # Gemittelter Wert zur weiteren Berechnung\n",
    "\n",
    "# Berechnung Direktionsmoment und Torsionsmodul\n",
    "D = ...\n",
    "G = ...\n",
    "print(\"Berechnete Torsionsmodul G = ({:P}) m/^2\".format(G))"
   ]
  },
  {
   "cell_type": "markdown",
   "id": "fcca4f47-f358-478f-877b-cb1cf9e51ef3",
   "metadata": {},
   "source": [
    "## 3. Auswertung"
   ]
  },
  {
   "cell_type": "markdown",
   "id": "ac64e588-fb1b-40a7-a16d-51080697c129",
   "metadata": {},
   "source": [
    "#### Je nach Aufgabenstellung\n",
    "- Graphische Darstellungen\n",
    "- Berechnungen aller Resultate (inkl. Fehlerrechnung)\n",
    "- Beantwortung der Aufgabenstellungen von 1.3.### 3.1 Abbildungen "
   ]
  },
  {
   "cell_type": "markdown",
   "id": "2ede144a-46d2-4313-a086-289232481244",
   "metadata": {},
   "source": [
    "### 3.1 Graphiken\n"
   ]
  },
  {
   "cell_type": "code",
   "execution_count": null,
   "id": "50d43a5c-1620-4ce3-ba79-55ba0e9a5337",
   "metadata": {},
   "outputs": [],
   "source": [
    "# Graphiken \n",
    "#table.plot(x=\"Time (s)\",y=\"Gyroscope x (rad/s)\")"
   ]
  },
  {
   "cell_type": "markdown",
   "id": "afbaa7d2-380b-4b43-9118-904a9a307057",
   "metadata": {},
   "source": [
    "### 3.2 Berechnungen der Resultate"
   ]
  },
  {
   "cell_type": "markdown",
   "id": "81e32466-f320-4bc2-b163-aada64d6bae3",
   "metadata": {},
   "source": [
    "### 3.2 Berechnungen der Resultate"
   ]
  },
  {
   "cell_type": "code",
   "execution_count": 11,
   "id": "4d465b5b",
   "metadata": {},
   "outputs": [],
   "source": [
    "## Beispiel Vorversuch,  Gravitationskonstante\n",
    "\n",
    "# Periode T\n",
    "T = tn/n\n",
    "\n",
    "# Gravitationskonstante\n",
    "g = L * (2*np.pi/T)**2"
   ]
  },
  {
   "cell_type": "markdown",
   "id": "9aa6a320-9bac-43b9-869c-fcd07c9b7458",
   "metadata": {
    "tags": []
   },
   "source": [
    "### Resultate"
   ]
  },
  {
   "cell_type": "code",
   "execution_count": 12,
   "id": "3d46de96-888f-463f-82bb-d5ec51ba1bca",
   "metadata": {},
   "outputs": [
    {
     "name": "stdout",
     "output_type": "stream",
     "text": [
      "Berechnete Gravitationskonstante g = (10.2±0.5) m/^2\n"
     ]
    }
   ],
   "source": [
    "print(\"Berechnete Gravitationskonstante g = ({:P}) m/^2\".format(g))"
   ]
  },
  {
   "cell_type": "markdown",
   "id": "90240c6c",
   "metadata": {
    "jp-MarkdownHeadingCollapsed": true,
    "tags": []
   },
   "source": [
    "### 3.2 Bestimmung der Genauigkeit\n",
    "\n",
    "- Welche Messfehler wurden angenommen? Warum?\n",
    "- Ausführung der Fehlerrechnung, falls nicht mit ufloat berechnet"
   ]
  },
  {
   "cell_type": "markdown",
   "id": "54670327",
   "metadata": {},
   "source": [
    "## 4. Bewertung und Einordnung der Ergebnisse\n",
    "\n",
    "**Je nach Ergebnis:**\n",
    "\n",
    "- Sind die Ergebnisse realistisch? Warum (nicht)? Vergleich mit Theorie?\n",
    "- Was sind die Hauptgründe für die Fehler eurer Ergebnisse und wie kommen sie zustande?\n",
    "- Wie würdet ihr versuchen, diese weiter zu verringern.\n",
    "- Wenn ihr den Versuch wiederholen würdet, was würdet ihr anders machen und warum?\n",
    "- Wie könnte man die Genauigkeit des Versuchs verbessern?\n",
    "\n",
    "**Anmerkung: Wenn vorhanden:  Messblatt des Versuchs mit abgeben!**"
   ]
  }
 ],
 "metadata": {
  "kernelspec": {
   "display_name": "Python 3 (ipykernel)",
   "language": "python",
   "name": "python3"
  },
  "language_info": {
   "codemirror_mode": {
    "name": "ipython",
    "version": 3
   },
   "file_extension": ".py",
   "mimetype": "text/x-python",
   "name": "python",
   "nbconvert_exporter": "python",
   "pygments_lexer": "ipython3",
   "version": "3.9.7"
  }
 },
 "nbformat": 4,
 "nbformat_minor": 5
}
