{
 "cells": [
  {
   "cell_type": "markdown",
   "id": "d507c8b7",
   "metadata": {
    "tags": []
   },
   "source": [
    "# Funktionen für Mechanik I Versuche"
   ]
  },
  {
   "cell_type": "markdown",
   "id": "0ecc9542",
   "metadata": {},
   "source": [
    "### 2. Messdaten"
   ]
  },
  {
   "cell_type": "code",
   "execution_count": 2,
   "id": "244afd3e",
   "metadata": {},
   "outputs": [],
   "source": [
    "# Importieren der benutzten Packages\n",
    "\n",
    "# Meist benötigt: \n",
    "import numpy as np  # Math\n",
    "from uncertainties import ufloat # ufloat( , ) für die Fehlerrechnung\n",
    "from uncertainties.umath import *  # Für Funktionen wie sin, cos\n",
    "\n",
    "# Falls benutzt\n",
    "import matplotlib.pyplot as plt # Plotting\n",
    "from uncertainties import unumpy # für uncertainties in arrays\n",
    "import scipy as sc # Lineare regression"
   ]
  },
  {
   "cell_type": "markdown",
   "id": "f98106da",
   "metadata": {},
   "source": [
    "#### Einlesen und Darstellen der Messdaten (z.B. manuell oder aus CSV-, Excel-Dateien)"
   ]
  },
  {
   "cell_type": "code",
   "execution_count": 16,
   "id": "29931216-e52c-4c37-b305-8fd1d5f86142",
   "metadata": {},
   "outputs": [],
   "source": [
    "# ufloat(Messwert, Fehler (oft die Standardabweichung oder aus Messskala))\n",
    "L = ufloat(0.72, 0.02) # [m]\n",
    "\n",
    "# uarrays\n",
    "# Beispieldaten\n",
    "Messwerte = [1,2,3,2,5,7,4,5,2,1,4] # das ist ein array\n",
    "Standardabweichung = np.std(Messwerte) # das ist ein float\n",
    "Messwerte_mit_Fehler = unumpy.uarray(Messwerte,Standardabweichung)\n",
    "\n",
    "# Achtung!!!\n",
    "# für Mittelwertberechnung ist folgendes nicht erlaubt, da so Fehlerfortpflanzung gemacht wird, \n",
    "# obwohl auch die Standardabweichung der Fehler des Mittelwerts ist:\n",
    "Falscher_Mittelwert = np.mean(Messwerte_mit_Fehler)\n",
    "# So geht es richtig\n",
    "Mittelwert = ufloat(np.mean(Messwerte),Standardabweichung)\n",
    "# Im Allgemeinen werden in der Auswertung (\"beim Einsetzen in die Formel\") ufloats mit Mittelwert und Standardabweichung benutzt."
   ]
  },
  {
   "cell_type": "markdown",
   "id": "77f1081b-c5dc-4826-b0b7-5afa9cb1c75d",
   "metadata": {},
   "source": [
    "## tabulate installieren"
   ]
  },
  {
   "cell_type": "code",
   "execution_count": 29,
   "id": "6b7dcabe-978d-406b-b5eb-ae8e2f730c3d",
   "metadata": {},
   "outputs": [
    {
     "name": "stdout",
     "output_type": "stream",
     "text": [
      "Collecting tabulate\n",
      "  Downloading tabulate-0.9.0-py3-none-any.whl (35 kB)\n",
      "Installing collected packages: tabulate\n",
      "Successfully installed tabulate-0.9.0\n",
      "Note: you may need to restart the kernel to use updated packages.\n"
     ]
    }
   ],
   "source": [
    "pip install tabulate"
   ]
  },
  {
   "cell_type": "code",
   "execution_count": 59,
   "id": "3a0dd307-23c2-4750-b6e1-6de8679ed2f8",
   "metadata": {},
   "outputs": [
    {
     "name": "stdout",
     "output_type": "stream",
     "text": [
      "╒════════════════════╤═══════════════════════════╤══════════╤═════════════════╕\n",
      "│   Titel1 [Einheit] │   Fehler_Titel1 [Einheit] │   Titel2 │   Fehler_Titel2 │\n",
      "╞════════════════════╪═══════════════════════════╪══════════╪═════════════════╡\n",
      "│               1.43 │                         1 │        1 │               1 │\n",
      "├────────────────────┼───────────────────────────┼──────────┼─────────────────┤\n",
      "│               2.42 │                         2 │        2 │               2 │\n",
      "├────────────────────┼───────────────────────────┼──────────┼─────────────────┤\n",
      "│               3.32 │                         3 │        3 │               3 │\n",
      "├────────────────────┼───────────────────────────┼──────────┼─────────────────┤\n",
      "│               4.43 │                         4 │        4 │               4 │\n",
      "├────────────────────┼───────────────────────────┼──────────┼─────────────────┤\n",
      "│               5.14 │                         5 │        5 │               5 │\n",
      "├────────────────────┼───────────────────────────┼──────────┼─────────────────┤\n",
      "│               6.46 │                         6 │        6 │               6 │\n",
      "├────────────────────┼───────────────────────────┼──────────┼─────────────────┤\n",
      "│               7.24 │                         7 │        7 │               7 │\n",
      "╘════════════════════╧═══════════════════════════╧══════════╧═════════════════╛\n"
     ]
    }
   ],
   "source": [
    "# Darstellen der Daten\n",
    "# erfundene Beispieldaten, jede Liste muss gleich lang sein\n",
    "Messwerte1, Fehler_Messwerte1, Messwerte2, Fehler_Messwerte2 = [1.42545,2.4235,3.324,4.435,5.135,6.46,7.24], [1,2,3,4,5,6,7], [1,2,3,4,5,6,7], [1,2,3,4,5,6,7]\n",
    "\n",
    "table = [Messwerte1, Fehler_Messwerte1, Messwerte2, Fehler_Messwerte2] # kann beliebig erweitert werden. Falls der Fehler jedes Messwerts derselbe ist könnt ihr ihn auch in den header schreiben.\n",
    "header = ['Titel1 [Einheit]', 'Fehler_Titel1 [Einheit]', 'Titel2', 'Fehler_Titel2'] # muss selbe Anzahl Einträge haben wie table.\n",
    "\n",
    "#Funktion zum Tabellen erstellen aus einem table. Input: table(liste in liste), header\n",
    "from tabulate import tabulate\n",
    "def Tabelle(table, header, Kommastellen):\n",
    "    for i in range(len(table)):\n",
    "        for k in range(len(table[i])):\n",
    "            table[i][k] = np.round(table[i][k], Kommastellen)\n",
    "    for i in range(len(header)):\n",
    "        table[i].insert(0,header[i])\n",
    "    table = np.matrix.transpose(np.array(table))\n",
    "    print(tabulate(table, headers='firstrow', tablefmt='fancy_grid'))\n",
    "    return \n",
    "\n",
    "Tabelle(table, header, 2) # Hier wird die Funktion ausgeführt"
   ]
  },
  {
   "cell_type": "code",
   "execution_count": null,
   "id": "56f1b119-85cf-4140-9fe0-5ff281b14032",
   "metadata": {},
   "outputs": [],
   "source": []
  }
 ],
 "metadata": {
  "kernelspec": {
   "display_name": "Python 3 (ipykernel)",
   "language": "python",
   "name": "python3"
  },
  "language_info": {
   "codemirror_mode": {
    "name": "ipython",
    "version": 3
   },
   "file_extension": ".py",
   "mimetype": "text/x-python",
   "name": "python",
   "nbconvert_exporter": "python",
   "pygments_lexer": "ipython3",
   "version": "3.9.7"
  }
 },
 "nbformat": 4,
 "nbformat_minor": 5
}
