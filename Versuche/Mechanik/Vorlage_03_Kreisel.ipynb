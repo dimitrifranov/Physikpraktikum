{
 "cells": [
  {
   "cell_type": "markdown",
   "id": "d507c8b7",
   "metadata": {},
   "source": [
    "# Kreisel"
   ]
  },
  {
   "cell_type": "markdown",
   "id": "04e05eff",
   "metadata": {},
   "source": [
    "**Datum:** <2023-1M-DD>\n",
    " \n",
    " - **Student 1:** <vollständiger Name>\n",
    " - **Student 2:** <vollständiger Name>"
   ]
  },
  {
   "cell_type": "markdown",
   "id": "0e484b96",
   "metadata": {},
   "source": [
    "## 1. Überblick\n",
    "\n",
    "### Einführung\n",
    "\n",
    "- Um was geht es in dem Versuch? Was ist das Ziel?\n",
    "\n",
    "### 1.2 Zusammenfassung der Theorie\n",
    "\n",
    "- Erläuterung der benutzten Formeln inkl. Variablenbeschriftung (Bsp. vom Vorversuch)\n",
    "    - Darstellung z.B. durch \"\\\\$\\\\$ T = 2\\pi \\sqrt{\\frac{L}{g}} \\\\$\\\\$\" --> $$T=2\\pi\\sqrt{\\frac{L}{g}}$$, wobei $T$ die Schinwungsdauer des Pendels für eine Oszillation, $L$ die Länge des Pendels und $g$ die Erdbeschleunigung.\n",
    "    - $$\\phi = A \\exp(-\\frac{\\gamma t}{2})\\cos(\\omega t + \\alpha)$$, wobei $\\phi$ die Auslenkung der Schwingung, $A$ die ursprüngliche Amplitude der Schwingung, $\\gamma$ der Reibungskoeffizient und $\\omega$ die Kreisfrequenz.\n",
    "\n",
    "### 1.3 Aufgaben\n",
    "\n",
    "- Was sind die Aufgabenstellungen für den Versuch?\n",
    "\n",
    "### 1.4 Umweltrelevanz\n",
    "\n",
    "- Inwiefern ist der Versuch relevant für euer Studium in Umweltwissenschaften? (1-2 Sätze)"
   ]
  },
  {
   "cell_type": "markdown",
   "id": "0ecc9542",
   "metadata": {},
   "source": [
    "### 2. Messdaten"
   ]
  },
  {
   "cell_type": "markdown",
   "id": "72029ea4-f443-453f-bd22-db4139341190",
   "metadata": {},
   "source": [
    "## Allgemeine Tipps und Funktionen (Alles überflüssige muss vor der Abgabe herausgelöscht werden)"
   ]
  },
  {
   "cell_type": "code",
   "execution_count": 7,
   "id": "244afd3e",
   "metadata": {},
   "outputs": [],
   "source": [
    "# Importieren der benutzten Packages\n",
    "\n",
    "# Meist benötigt: \n",
    "import numpy as np  # Math\n",
    "from uncertainties import ufloat # ufloat( , ) für die Fehlerrechnung\n",
    "from uncertainties.umath import *  # Für Funktionen wie sin, cos\n",
    "\n",
    "# Falls benutzt\n",
    "import matplotlib.pyplot as plt # Plotting\n",
    "from uncertainties import unumpy # für uncertainties in arrays\n",
    "import scipy as sc # Lineare regression"
   ]
  },
  {
   "cell_type": "markdown",
   "id": "f98106da",
   "metadata": {},
   "source": [
    "#### Einlesen und Darstellen der Messdaten (z.B. manuell oder aus CSV-, Excel-Dateien)"
   ]
  },
  {
   "cell_type": "code",
   "execution_count": 11,
   "id": "29931216-e52c-4c37-b305-8fd1d5f86142",
   "metadata": {},
   "outputs": [],
   "source": [
    "# ufloat(Messwert, Fehler (oft die Standardabweichung oder aus Messskala))\n",
    "L = ufloat(0.72, 0.02) # [m]\n",
    "\n",
    "# uarrays\n",
    "# Beispieldaten\n",
    "Messwerte = [1,2,3,2,5,7,4,5,2,1,4] # das ist ein array\n",
    "Standardabweichung = np.std(Messwerte) # das ist ein float\n",
    "Messwerte_mit_Fehler = unumpy.uarray(Messwerte,Standardabweichung)\n",
    "\n",
    "# Achtung!!!\n",
    "# für Mittelwertberechnung ist folgendes nicht erlaubt, da so Fehlerfortpflanzung gemacht wird, \n",
    "# obwohl auch die Standardabweichung der Fehler des Mittelwerts ist:\n",
    "Falscher_Mittelwert = np.mean(Messwerte_mit_Fehler)\n",
    "# So geht es richtig\n",
    "Mittelwert = ufloat(np.mean(Messwerte),Standardabweichung)\n",
    "# Im Allgemeinen werden in der Auswertung (\"beim Einsetzen in die Formel\") ufloats mit Mittelwert und Standardabweichung benutzt."
   ]
  },
  {
   "cell_type": "markdown",
   "id": "b1302094-496e-468e-8796-45501a226b18",
   "metadata": {},
   "source": [
    "## tabulate installieren"
   ]
  },
  {
   "cell_type": "code",
   "execution_count": 12,
   "id": "1c89d334-d1e7-490d-a9fd-144fb39dd5ab",
   "metadata": {},
   "outputs": [
    {
     "name": "stdout",
     "output_type": "stream",
     "text": [
      "Requirement already satisfied: tabulate in /opt/conda/lib/python3.9/site-packages (0.9.0)\n",
      "Note: you may need to restart the kernel to use updated packages.\n"
     ]
    }
   ],
   "source": [
    "pip install tabulate"
   ]
  },
  {
   "cell_type": "code",
   "execution_count": 25,
   "id": "3a0dd307-23c2-4750-b6e1-6de8679ed2f8",
   "metadata": {},
   "outputs": [
    {
     "name": "stdout",
     "output_type": "stream",
     "text": [
      "╒════════════════════╤═══════════════════════════╤══════════╤═════════════════╕\n",
      "│   Titel1 [Einheit] │   Fehler_Titel1 [Einheit] │   Titel2 │   Fehler_Titel2 │\n",
      "╞════════════════════╪═══════════════════════════╪══════════╪═════════════════╡\n",
      "│               1.43 │                         1 │        1 │               1 │\n",
      "├────────────────────┼───────────────────────────┼──────────┼─────────────────┤\n",
      "│               2.42 │                         2 │        2 │               2 │\n",
      "├────────────────────┼───────────────────────────┼──────────┼─────────────────┤\n",
      "│               3.32 │                         3 │        3 │               3 │\n",
      "├────────────────────┼───────────────────────────┼──────────┼─────────────────┤\n",
      "│               4.43 │                         4 │        4 │               4 │\n",
      "├────────────────────┼───────────────────────────┼──────────┼─────────────────┤\n",
      "│               5.14 │                         5 │        5 │               5 │\n",
      "├────────────────────┼───────────────────────────┼──────────┼─────────────────┤\n",
      "│               6.46 │                         6 │        6 │               6 │\n",
      "├────────────────────┼───────────────────────────┼──────────┼─────────────────┤\n",
      "│               7.24 │                         7 │        7 │               7 │\n",
      "╘════════════════════╧═══════════════════════════╧══════════╧═════════════════╛\n"
     ]
    }
   ],
   "source": [
    "# Darstellen der Daten\n",
    "# erfundene Beispieldaten, jede Liste muss gleich lang sein\n",
    "Messwerte1, Fehler_Messwerte1, Messwerte2, Fehler_Messwerte2 = [1.42545,2.4235,3.324,4.435,5.135,6.46,7.24], [1,2,3,4,5,6,7], [1,2,3,4,5,6,7], [1,2,3,4,5,6,7]\n",
    "\n",
    "table = [Messwerte1, Fehler_Messwerte1, Messwerte2, Fehler_Messwerte2] # kann beliebig erweitert werden. Falls der Fehler jedes Messwerts derselbe ist könnt ihr ihn auch in den header schreiben.\n",
    "header = ['Titel1 [Einheit]', 'Fehler_Titel1 [Einheit]', 'Titel2', 'Fehler_Titel2'] # muss selbe Anzahl Einträge haben wie table.\n",
    "\n",
    "#Funktion zum Tabellen erstellen aus einem table. Input: table(liste in liste), header\n",
    "from tabulate import tabulate\n",
    "def Tabelle(table, header, Kommastellen):\n",
    "    for i in range(len(table)):\n",
    "        for k in range(len(table[i])):\n",
    "            table[i][k] = np.round(table[i][k], Kommastellen)\n",
    "    for i in range(len(header)):\n",
    "        table[i].insert(0,header[i])\n",
    "    table = np.matrix.transpose(np.array(table))\n",
    "    print(tabulate(table, headers='firstrow', tablefmt='fancy_grid'))\n",
    "    return \n",
    "\n",
    "Tabelle(table, header, 2) # Hier wird die Funktion ausgeführt"
   ]
  },
  {
   "cell_type": "markdown",
   "id": "5e5f14ac-a252-4cda-a0d3-41b82aa79b5f",
   "metadata": {},
   "source": [
    "## Spezifische Aufgaben "
   ]
  },
  {
   "cell_type": "markdown",
   "id": "bc5e7b40-2509-4254-bb1d-38d4fd323250",
   "metadata": {},
   "source": [
    "### Stelle hier die Messdaten zu Aufgabe 1 in Tabellen dar und mache in Markdowns Kommentare dazu (z.B. was zeigt welche Grösse)"
   ]
  },
  {
   "cell_type": "code",
   "execution_count": null,
   "id": "307c4802-674b-43af-bfc7-4e4189a01520",
   "metadata": {},
   "outputs": [],
   "source": []
  },
  {
   "cell_type": "markdown",
   "id": "88657e00-355f-410e-87bf-e135579afdc6",
   "metadata": {},
   "source": [
    "## Stelle hier die Messdaten zu Aufgabe 2 in Tabellen dar und mache Kommentare dazu"
   ]
  },
  {
   "cell_type": "code",
   "execution_count": null,
   "id": "d92cfaf7-3ae5-4bf6-9f33-0bd344c4891f",
   "metadata": {},
   "outputs": [],
   "source": []
  },
  {
   "cell_type": "markdown",
   "id": "fcca4f47-f358-478f-877b-cb1cf9e51ef3",
   "metadata": {},
   "source": [
    "## 3. Auswertung"
   ]
  },
  {
   "cell_type": "markdown",
   "id": "ac64e588-fb1b-40a7-a16d-51080697c129",
   "metadata": {},
   "source": [
    "#### Je nach Aufgabenstellung\n",
    "- Graphische Darstellungen\n",
    "- Berechnungen aller Resultate (inkl. Fehlerrechnung)\n",
    "- Beantwortung der Aufgabenstellungen von 1.3.### 3.1 Abbildungen "
   ]
  },
  {
   "cell_type": "markdown",
   "id": "c9f5fd6b-ae87-41c3-acc1-049844818645",
   "metadata": {},
   "source": [
    "### Berechne das Trägheitsmoment auf die beiden Arten nach Aufgabe 1\n",
    "#### Schau dir nocheinmal oben an wie du Mittelwerte richtig bestimmst und sie korrekt in Formeln weiterverrechnest"
   ]
  },
  {
   "cell_type": "code",
   "execution_count": null,
   "id": "8cbd3b05-e46e-45a7-85e3-674f6aa20641",
   "metadata": {},
   "outputs": [],
   "source": []
  },
  {
   "cell_type": "markdown",
   "id": "897dcc4d-6bf1-4bbb-ab54-20214a6eb543",
   "metadata": {},
   "source": [
    "### Berechne die Präzessionsgeschwindigkeiten nach Formel (6) und vergleiche sie mit deinen Messwerten nach Aufgabe 2"
   ]
  },
  {
   "cell_type": "code",
   "execution_count": null,
   "id": "3bbcece0-6723-400c-8fbc-32fa5a077400",
   "metadata": {},
   "outputs": [],
   "source": []
  },
  {
   "cell_type": "markdown",
   "id": "80ecab3b-98b1-47d2-b165-e553ab1b5955",
   "metadata": {},
   "source": [
    "### Aufgabe 3: beschreibe den vektoriellen Zusammenhang"
   ]
  },
  {
   "cell_type": "code",
   "execution_count": null,
   "id": "211837b8-b209-4a13-b590-b39af74e5de1",
   "metadata": {},
   "outputs": [],
   "source": []
  },
  {
   "cell_type": "markdown",
   "id": "90240c6c",
   "metadata": {
    "jp-MarkdownHeadingCollapsed": true,
    "tags": []
   },
   "source": [
    "### 3.2 Bestimmung der Genauigkeit\n",
    "\n",
    "- Welche Messfehler wurden angenommen? Warum?\n",
    "- Ausführung der Fehlerrechnung, falls nicht mit ufloat berechnet\n",
    "- Überprüft nocheinmal ob bei den Messdaten den Fehler angegeben habt und ob alle Grössen bei der Auswertung ein ufloat sind welche einen Fehler haben"
   ]
  },
  {
   "cell_type": "markdown",
   "id": "54670327",
   "metadata": {},
   "source": [
    "## 4. Bewertung und Einordnung der Ergebnisse\n",
    "\n",
    "**Je nach Ergebnis:**\n",
    "\n",
    "- Sind die Ergebnisse realistisch? Warum (nicht)? Vergleich mit Theorie?\n",
    "- Was sind die Hauptgründe für die Fehler eurer Ergebnisse und wie kommen sie zustande?\n",
    "- Wie würdet ihr versuchen, diese weiter zu verringern.\n",
    "- Wenn ihr den Versuch wiederholen würdet, was würdet ihr anders machen und warum?\n",
    "- Wie könnte man die Genauigkeit des Versuchs verbessern?\n",
    "\n",
    "**Anmerkung: Bitte das Messblatt mit abgeben, wenn beim Protokollieren der Messwerte benutzt wurde.**"
   ]
  },
  {
   "cell_type": "code",
   "execution_count": null,
   "id": "20b8091f-193c-4cda-8447-c3e3c1b5b672",
   "metadata": {},
   "outputs": [],
   "source": []
  }
 ],
 "metadata": {
  "kernelspec": {
   "display_name": "Python 3 (ipykernel)",
   "language": "python",
   "name": "python3"
  },
  "language_info": {
   "codemirror_mode": {
    "name": "ipython",
    "version": 3
   },
   "file_extension": ".py",
   "mimetype": "text/x-python",
   "name": "python",
   "nbconvert_exporter": "python",
   "pygments_lexer": "ipython3",
   "version": "3.9.7"
  }
 },
 "nbformat": 4,
 "nbformat_minor": 5
}
