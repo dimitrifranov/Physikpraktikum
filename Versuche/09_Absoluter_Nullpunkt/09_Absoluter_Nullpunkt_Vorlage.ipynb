{
 "cells": [
  {
   "cell_type": "markdown",
   "id": "d507c8b7",
   "metadata": {},
   "source": [
    "# 09 Absoluter Nullpunkt"
   ]
  },
  {
   "cell_type": "markdown",
   "id": "04e05eff",
   "metadata": {},
   "source": [
    "**Datum:** <2022-1M-DD>\n",
    " \n",
    " - **Student 1:** <vollständiger Name>\n",
    " - **Student 2:** <vollständiger Name>"
   ]
  },
  {
   "cell_type": "markdown",
   "id": "0e484b96",
   "metadata": {
    "tags": []
   },
   "source": [
    "## 1. Überblick\n",
    "\n",
    "### Einführung\n",
    "\n",
    "- Um was geht es in dem Versuch? Was ist das Ziel?\n",
    "\n",
    "### 1.2 Zusammenfassung der Theorie\n",
    "\n",
    "- Erläuterung der benutzten Formeln inkl. Variablenbeschriftung (Bsp. vom Vorversuch)\n",
    "    - Darstellung z.B. durch \"\\\\$\\\\$ T = 2\\pi \\sqrt{\\frac{L}{g}} \\\\$\\\\$\" --> $$T=2\\pi\\sqrt{\\frac{L}{g}}$$, wobei $T$ die Schinwungsdauer des Pendels für eine Oszillation, $L$ die Länge des Pendels und $g$ die Erdbeschleunigung.\n",
    "    - $$\\phi = A \\exp \\left(-\\frac{\\gamma t}{2} \\right)\\cos(\\omega t + \\alpha)$$, wobei $\\phi$ die Auslenkung der Schwingung, $A$ die ursprüngliche Amplitude der Schwingung, $\\gamma$ der Reibungskoeffizient und $\\omega$ die Kreisfrequenz.\n",
    "\n",
    "### 1.3 Aufgaben\n",
    "\n",
    "- Was sind die Aufgabenstellungen für den Versuch?\n",
    "\n",
    "### 1.4 Umweltrelevanz\n",
    "\n",
    "- Inwiefern ist der Versuch relevant für euer Studium in Umweltwissenschaften? (1-2 Sätze)"
   ]
  },
  {
   "cell_type": "markdown",
   "id": "0ecc9542",
   "metadata": {},
   "source": [
    "## 2. Messdaten\n",
    "### 2.1 Packages laden und Funktionen definieren"
   ]
  },
  {
   "cell_type": "code",
   "execution_count": 1,
   "id": "244afd3e",
   "metadata": {},
   "outputs": [],
   "source": [
    "#------------------------------------------------------------------\n",
    "# Importieren der benutzten Packages\n",
    "#------------------------------------------------------------------\n",
    "# Meist benötigt: \n",
    "import numpy as np  # Math\n",
    "from uncertainties import ufloat # ufloat( , ) für die Fehlerrechnung\n",
    "from uncertainties.umath import *  # Für Funktionen wie sin, cos\n",
    "from uncertainties import unumpy # für uncertainties in arrays\n",
    "import matplotlib.pyplot as plt # Plotting\n",
    "\n",
    "# Falls benutzt\n",
    "# import pandas as pd # z.B. zum Importieren von Excel-Tabellen (csv-Files)"
   ]
  },
  {
   "cell_type": "code",
   "execution_count": null,
   "id": "8b89f0c0-c18c-4bcf-aa84-0ec50fee23e1",
   "metadata": {},
   "outputs": [],
   "source": [
    "#------------------------------------------------------------------\n",
    "# Wichtigste Formeln\n",
    "#------------------------------------------------------------------\n",
    "# Funktionen schreiben und anwenden:\n",
    "#\n",
    "# Zuerst Funktion definieren\n",
    "# def name_der_funktion(Eingabewert1, Eingabewert2, ...):\n",
    "#     zu_berechnende_variable = Eingabewert1 * Eingabewert2\n",
    "#     zu_berechnende_variable2 = Eingabewert1 + Eingabewert2\n",
    "#     return zu_berechnende_variable, zu_berechnende_variable2, ...\n",
    "#\n",
    "# Anwendung:\n",
    "# wert1, wert2 = name_der_funktion(Eingabewert1, Eingabewert2, ...)\n",
    "\n",
    "\n",
    "def t00(...,...,...):\n",
    "    ''' Annäherung an die absolute\n",
    "    0-Punkt Temperatur'''\n",
    "    t00 = ...\n",
    "    return t00\n",
    "\n",
    "def t0(...,...,...):\n",
    "    \"\"\"\n",
    "    Genauere Berechnung des absoluten 0-Punktes\n",
    "    \"\"\"\n",
    "    a = ...\n",
    "    b = ...\n",
    "    c = ...\n",
    "    t0 = ...\n",
    "    return t0, a, b, c\n",
    "\n",
    "def U2p(...,...,...):\n",
    "    \"\"\"\n",
    "    Spannung in Druck umwandeln\n",
    "    \"\"\"\n",
    "    p = ...\n",
    "    return p"
   ]
  },
  {
   "cell_type": "markdown",
   "id": "f98106da",
   "metadata": {},
   "source": [
    "### 2.2 Einlesen und Darstellen der Messdaten"
   ]
  },
  {
   "cell_type": "code",
   "execution_count": 17,
   "id": "d94273f4-bc0a-45ca-b9af-22007a6daa97",
   "metadata": {},
   "outputs": [
    {
     "name": "stdout",
     "output_type": "stream",
     "text": [
      "707.42+/-0.10\n",
      "1. Eichung des Drucksensors:\n",
      "Luftdruck mmHg = 0.0+/-0 [EINHEIT], Korrekturwert =  0.0+/-0 [EINHEIT].\n",
      "Luftdruck = 0.0+/-0 [EINHEIT]\n",
      "Spannung bei Luftdruck = 0.0+/-0 [EINHEIT]\n",
      "\n"
     ]
    }
   ],
   "source": [
    "# Beispiel:\n",
    "# Variable = ufloat(Messwert, Absoluter Fehler) # [Einheit]\n",
    "p_test = ufloat(707.42,0.1) # [mmHg]\n",
    "\n",
    "#------------------------------------------------------------------\n",
    "# Eichung des Drucksensors\n",
    "#------------------------------------------------------------------\n",
    "# Luftdruck\n",
    "pL_mmHg = ufloat(...,...) # [mmHg]\n",
    "p_korr = ...          # [mmHg] Korrekturwert Luftdruck\n",
    "pL_Torr = ...         # [Torr]\n",
    "pL_Pa = ...           # [Pa]\n",
    "\n",
    "# Lufttemperatur\n",
    "tL_C = ...            # [°C]\n",
    "\n",
    "# Spannung bei Luftdruck und -temperatur\n",
    "UL = ...              # [mV]\n",
    "\n",
    "# Eichpunkt bei tiefem Druck\n",
    "pt = ...              # [?]\n",
    "Ut = ...              # [?]\n",
    "\n",
    "# Sensorcharakteristik (p=p0+CU)\n",
    "p0 = ...              # [?]\n",
    "C = ...               # [?]\n"
   ]
  },
  {
   "cell_type": "code",
   "execution_count": 16,
   "id": "46dff47f-d3c6-4d8f-b387-8376edebc2f6",
   "metadata": {},
   "outputs": [
    {
     "name": "stdout",
     "output_type": "stream",
     "text": [
      "23194.887257824128 703.2116244411327\n"
     ]
    },
    {
     "data": {
      "image/png": "[encoded data removed]",
      "text/plain": [
       "<Figure size 432x288 with 1 Axes>"
      ]
     },
     "metadata": {
      "needs_background": "light"
     },
     "output_type": "display_data"
    }
   ],
   "source": [
    "# Grafik der Eichgerade\n",
    "''' Zum plotten können nur die Nominalwerte \n",
    "- also die Messwerte ohne die Fehler verwendet werden.\n",
    "diese können mit dem Anhang .n (e.g. pL.n) aufgerufen\n",
    "werden.'''\n",
    "plt.figure()\n",
    "plt.plot(...,...) # plt.plot([x-werte], [y-werte])\n",
    "plt.vlines(0,0,pL, color='k')\n",
    "plt.title('Titel')\n",
    "plt.ylabel('y-Achsenbeschriftung [Einheit]')\n",
    "plt.xlabel('x-Achsenbeschriftung [Einheit]')\n",
    "plt.margins(0)\n",
    "plt.show()"
   ]
  },
  {
   "cell_type": "markdown",
   "id": "fcca4f47-f358-478f-877b-cb1cf9e51ef3",
   "metadata": {
    "tags": []
   },
   "source": [
    "## 3. Auswertung"
   ]
  },
  {
   "cell_type": "markdown",
   "id": "ac64e588-fb1b-40a7-a16d-51080697c129",
   "metadata": {
    "tags": []
   },
   "source": [
    "<div class=\"alert alert-block alert-info\">\n",
    "Je nach Aufgabenstellung: <br>\n",
    "- Graphische Darstellungen <br>\n",
    "- Berechnungen aller Resultate (inkl. Fehlerrechnung) <br>\n",
    "- Beantwortung der Aufgabenstellungen von 1.3.### 3.1 Abbildungen "
   ]
  },
  {
   "cell_type": "markdown",
   "id": "723150ea-9f2f-498b-81f9-2b0272656e20",
   "metadata": {
    "tags": []
   },
   "source": [
    "### 3.1 Berechnungen der Resultate"
   ]
  },
  {
   "cell_type": "code",
   "execution_count": null,
   "id": "379fb034-3af3-4221-92f3-ef4e3a748538",
   "metadata": {},
   "outputs": [],
   "source": [
    "#------------------------------------------------------------------\n",
    "# Bestimmung des absoluten Nullpunktes\n",
    "#------------------------------------------------------------------\n",
    "\n",
    "# Bei siedendem Wasser\n",
    "tK = ...  # [EINHEIT]\n",
    "UK = ...  # [EINHEIT]\n",
    "pK = ... # Formel benutzen oder oben definierte funktion U2p anwenden\n",
    "\n",
    "# Bei Eiswasser\n",
    "tE = ...  # [EINHEIT]\n",
    "UE = ...  # [EINHEIT]\n",
    "pE = ...  # [EINHEIT]\n",
    "\n",
    "# Berechnug t00\n",
    "t00 = t00(...)  # [EINHEIT]"
   ]
  },
  {
   "cell_type": "code",
   "execution_count": null,
   "id": "fed556cb-f5f0-43d6-b457-85404b6d5f24",
   "metadata": {},
   "outputs": [],
   "source": [
    "#------------------------------------------------------------------\n",
    "# Genauere Berechnung des absoluten Nullpunktes\n",
    "#------------------------------------------------------------------\n",
    "# Volumen des schädlichen Raums/Volumen des Glaskolbens\n",
    "eps = ufloat(0.01,0.0001) \n",
    "\n",
    "# Kubischer Ausdehnungskoeffizient\n",
    "gamma = ufloat(1.0e-5,0.1e-5) # [°C^-1]\n",
    "\n",
    "# Koeffizienten und absoluter Nullpunkt\n",
    "t0, a, b, c = t0(...) # [Einheiten]"
   ]
  },
  {
   "cell_type": "code",
   "execution_count": 19,
   "id": "e3874d9b-09f6-4065-9045-a6a68afab40f",
   "metadata": {},
   "outputs": [
    {
     "name": "stdout",
     "output_type": "stream",
     "text": [
      "Annäherung des absoluten Nullpunktes:\n",
      "Variable = Ellipsis [EINHEIT]\n",
      "Ellipsis\n",
      "\n",
      "Genauere Berechnung des absoluten Nullpunktes:\n"
     ]
    },
    {
     "ename": "NameError",
     "evalue": "name 'a' is not defined",
     "output_type": "error",
     "traceback": [
      "\u001b[0;31m---------------------------------------------------------------------------\u001b[0m",
      "\u001b[0;31mNameError\u001b[0m                                 Traceback (most recent call last)",
      "\u001b[0;32m/tmp/ipykernel_81/1800435540.py\u001b[0m in \u001b[0;36m<module>\u001b[0;34m\u001b[0m\n\u001b[1;32m      9\u001b[0m \u001b[0mprint\u001b[0m\u001b[0;34m(\u001b[0m\u001b[0;34m)\u001b[0m\u001b[0;34m\u001b[0m\u001b[0;34m\u001b[0m\u001b[0m\n\u001b[1;32m     10\u001b[0m \u001b[0mprint\u001b[0m\u001b[0;34m(\u001b[0m\u001b[0;34m\"Genauere Berechnung des absoluten Nullpunktes:\"\u001b[0m\u001b[0;34m)\u001b[0m\u001b[0;34m\u001b[0m\u001b[0;34m\u001b[0m\u001b[0m\n\u001b[0;32m---> 11\u001b[0;31m \u001b[0mprint\u001b[0m\u001b[0;34m(\u001b[0m\u001b[0;34m\"a =\"\u001b[0m\u001b[0;34m,\u001b[0m\u001b[0ma\u001b[0m\u001b[0;34m,\u001b[0m\u001b[0;34m\"[EINHEIT], b = \"\u001b[0m\u001b[0;34m,\u001b[0m\u001b[0mb\u001b[0m\u001b[0;34m,\u001b[0m\u001b[0;34m\"[EINHEIT]., c = \"\u001b[0m\u001b[0;34m,\u001b[0m\u001b[0mc\u001b[0m\u001b[0;34m,\u001b[0m\u001b[0;34m\"[EINHEIT].\"\u001b[0m\u001b[0;34m)\u001b[0m\u001b[0;34m\u001b[0m\u001b[0;34m\u001b[0m\u001b[0m\n\u001b[0m\u001b[1;32m     12\u001b[0m \u001b[0mprint\u001b[0m\u001b[0;34m(\u001b[0m\u001b[0;34m\"Absoluter Nullpunkt =\"\u001b[0m\u001b[0;34m,\u001b[0m\u001b[0mt00\u001b[0m\u001b[0;34m,\u001b[0m\u001b[0;34m\"[EINHEIT]\"\u001b[0m\u001b[0;34m)\u001b[0m\u001b[0;34m\u001b[0m\u001b[0;34m\u001b[0m\u001b[0m\n\u001b[1;32m     13\u001b[0m \u001b[0mprint\u001b[0m\u001b[0;34m(\u001b[0m\u001b[0;34m)\u001b[0m\u001b[0;34m\u001b[0m\u001b[0;34m\u001b[0m\u001b[0m\n",
      "\u001b[0;31mNameError\u001b[0m: name 'a' is not defined"
     ]
    }
   ],
   "source": [
    "#------------------------------------------------------------------\n",
    "# Ausgabe der Resultate\n",
    "#------------------------------------------------------------------\n",
    "\n",
    "# Werte ausgeben\n",
    "print(\"Annäherung des absoluten Nullpunktes:\")\n",
    "print(\"Variable =\",...,\"[EINHEIT]\")\n",
    "print(...)\n",
    "print()\n",
    "print(\"Genauere Berechnung des absoluten Nullpunktes:\")\n",
    "print(\"a =\",a,\"[EINHEIT], b = \",b,\"[EINHEIT]., c = \",c,\"[EINHEIT].\")\n",
    "print(\"Absoluter Nullpunkt =\",t00,\"[EINHEIT]\")\n",
    "print()"
   ]
  },
  {
   "cell_type": "markdown",
   "id": "90240c6c",
   "metadata": {
    "jp-MarkdownHeadingCollapsed": true,
    "tags": []
   },
   "source": [
    "### 3.2 Bestimmung der Genauigkeit\n",
    "\n",
    "- Welche Messfehler wurden angenommen? Warum?\n",
    "- Ausführung der Fehlerrechnung, falls nicht mit ufloat berechnet"
   ]
  },
  {
   "cell_type": "markdown",
   "id": "54670327",
   "metadata": {},
   "source": [
    "## 4. Bewertung und Einordnung der Ergebnisse\n",
    "\n",
    "**Je nach Ergebnis:**\n",
    "\n",
    "- Sind die Ergebnisse realistisch? Warum (nicht)? Vergleich mit Theorie?\n",
    "- Was sind die Hauptgründe für die Fehler eurer Ergebnisse und wie kommen sie zustande?\n",
    "- Wie würdet ihr versuchen, diese weiter zu verringern.\n",
    "- Wenn ihr den Versuch wiederholen würdet, was würdet ihr anders machen und warum?\n",
    "- Wie könnte man die Genauigkeit des Versuchs verbessern?\n",
    "\n",
    "**Anmerkung: Wenn vorhanden:  Messblatt des Versuchs mit abgeben!**"
   ]
  },
  {
   "cell_type": "code",
   "execution_count": null,
   "id": "47f9d391-871d-4ed9-9577-b4d6b9f9575b",
   "metadata": {},
   "outputs": [],
   "source": []
  }
 ],
 "metadata": {
  "kernelspec": {
   "display_name": "Python 3 (ipykernel)",
   "language": "python",
   "name": "python3"
  },
  "language_info": {
   "codemirror_mode": {
    "name": "ipython",
    "version": 3
   },
   "file_extension": ".py",
   "mimetype": "text/x-python",
   "name": "python",
   "nbconvert_exporter": "python",
   "pygments_lexer": "ipython3",
   "version": "3.9.7"
  }
 },
 "nbformat": 4,
 "nbformat_minor": 5
}
