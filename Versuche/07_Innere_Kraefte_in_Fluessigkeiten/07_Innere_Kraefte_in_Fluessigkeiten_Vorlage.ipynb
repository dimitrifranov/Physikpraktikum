{
 "cells": [
  {
   "cell_type": "markdown",
   "id": "b8c98e5b-298f-45ef-8c9f-69d42e52aa37",
   "metadata": {
    "tags": []
   },
   "source": [
    "# Versuch 7: Innere Reibung in Flüssigkeiten"
   ]
  },
  {
   "cell_type": "markdown",
   "id": "7c0cca36-a943-46b8-aa07-5f8ef2c304b1",
   "metadata": {},
   "source": [
    "**Datum:** <2022-11-03>\n",
    " \n",
    " - **Student 1:** \n",
    " - **Student 2:** "
   ]
  },
  {
   "cell_type": "markdown",
   "id": "3c7f0305-0db4-42de-8cab-6f2bd1065572",
   "metadata": {},
   "source": [
    "## 1. Überblick\n"
   ]
  },
  {
   "cell_type": "markdown",
   "id": "739f4bf6-7962-461b-a42b-3b3a879fe8f4",
   "metadata": {},
   "source": [
    "### 1.1 Einführung\n",
    "\n",
    "- Um was geht es in diesem Versuch ? Was sind die Ziele ?"
   ]
  },
  {
   "cell_type": "markdown",
   "id": "af438c3b-05c3-45f8-8c1a-d9171a356568",
   "metadata": {},
   "source": [
    "### 1.2 Zusammenfassung der Theorie\n",
    "\n",
    "- Erklärt mit euren eigenen Wörtern, was Viskosität ist. Gebt als Beispiel einen evidenten Vergleich mit zwei Flüssigkeiten.\n",
    "- Erklärt mit euren eigenen Wörtern, was Oberflächenspannung ist."
   ]
  },
  {
   "cell_type": "markdown",
   "id": "38d9da6a-41c0-4000-bd63-d28e4221010f",
   "metadata": {
    "jp-MarkdownHeadingCollapsed": true,
    "tags": []
   },
   "source": [
    "### 1.3 Aufgaben\n",
    "\n",
    "- Was und wie messt ihr für jede Aufgabe ? Sei gedrängt.\n",
    "- Welche Formeln benutzt ihr, für jede Aufgabe ?\n",
    "- Sei sicher, die Variablen zu erklären, mit deren Einheiten."
   ]
  },
  {
   "cell_type": "markdown",
   "id": "fb9c000f-19ef-42a1-acba-91a4c8d3bf2b",
   "metadata": {},
   "source": [
    "### 1.4 Umweltrelevanz\n",
    "\n",
    "- Inwiefern ist der Versuch relevant für euer Studium in Umweltwissenschaften? (1-2 Sätze)"
   ]
  },
  {
   "cell_type": "markdown",
   "id": "64122da4-57b7-4f47-bb73-1203288c9d3b",
   "metadata": {},
   "source": [
    "## 2. Messdaten"
   ]
  },
  {
   "cell_type": "code",
   "execution_count": 5,
   "id": "d080fa4e-c3d3-4fa3-93db-ba00447f6476",
   "metadata": {},
   "outputs": [],
   "source": [
    "### Zuerst, importiert hier die Packages, die ihr später benutzen wird.\n",
    "\n",
    "\n"
   ]
  },
  {
   "cell_type": "markdown",
   "id": "67015615-8a0b-4c8b-a7bb-fe920377bc94",
   "metadata": {
    "tags": []
   },
   "source": [
    "### Aufgabe 1: Zähigkeitskonstante/ Viscosity "
   ]
  },
  {
   "cell_type": "code",
   "execution_count": 6,
   "id": "477cce2b-93d3-4139-b65a-0fe7a85d67dc",
   "metadata": {},
   "outputs": [],
   "source": [
    "# Messdaten"
   ]
  },
  {
   "cell_type": "code",
   "execution_count": 7,
   "id": "04e9e237-8f23-4cd2-92b4-7705f4b46d6b",
   "metadata": {},
   "outputs": [],
   "source": [
    "# Berechnungen"
   ]
  },
  {
   "cell_type": "markdown",
   "id": "25498022-9868-4613-8f4c-2ac42e06844d",
   "metadata": {},
   "source": [
    "Diskutiert eure Ergebnisse:\n",
    "\n",
    "- Vergleich mit Theorie.\n",
    "- realistisch ? Falls nicht, warum ? Mögliche Fehler."
   ]
  },
  {
   "cell_type": "markdown",
   "id": "b84bea4b-906a-45f4-a86e-70bc92b17a7d",
   "metadata": {},
   "source": [
    "### Aufgabe 2: Hoeppler-Viskosimeter"
   ]
  },
  {
   "cell_type": "code",
   "execution_count": 8,
   "id": "bec9177c-f491-4b59-bf88-5fe4f57e5c06",
   "metadata": {},
   "outputs": [],
   "source": [
    "# Messdaten"
   ]
  },
  {
   "cell_type": "code",
   "execution_count": 9,
   "id": "72cfdc0f-039e-4567-b433-cedc2b038e0d",
   "metadata": {},
   "outputs": [],
   "source": [
    "# Berechungen"
   ]
  },
  {
   "cell_type": "code",
   "execution_count": 10,
   "id": "fdca919a-17f7-4517-bc17-6631c2f3e28f",
   "metadata": {},
   "outputs": [],
   "source": [
    "# Grafike (mit Achsennamen, Einheiten und Unsicherheiten)"
   ]
  },
  {
   "cell_type": "markdown",
   "id": "3a63b091-927f-483a-93d1-2dc081e2f8f9",
   "metadata": {},
   "source": [
    "Diskutiert eure Ergebnisse:\n",
    "\n",
    "- Beschreibt die Grafike kurz."
   ]
  },
  {
   "cell_type": "markdown",
   "id": "c823d43d-e202-4c86-b1b3-3367a520f973",
   "metadata": {},
   "source": [
    "### Aufgabe 3: Oberflächenspannung mit Aluring"
   ]
  },
  {
   "cell_type": "code",
   "execution_count": 11,
   "id": "c7e93c7c-78a3-49e6-b7de-6c5a42408859",
   "metadata": {},
   "outputs": [],
   "source": [
    "# Messdaten"
   ]
  },
  {
   "cell_type": "code",
   "execution_count": 12,
   "id": "d1b49ee8-029e-4257-bde5-d37d622dd791",
   "metadata": {},
   "outputs": [],
   "source": [
    "# Berechnungen"
   ]
  },
  {
   "cell_type": "markdown",
   "id": "4b2b46fe-2fff-4b36-ad29-289f2cc4dc2e",
   "metadata": {},
   "source": [
    "### Aufgabe 4: Oberflächenspannung mit Kapillaren"
   ]
  },
  {
   "cell_type": "code",
   "execution_count": 13,
   "id": "61f0b363-b70f-41ff-9ba0-42b0378e8eca",
   "metadata": {},
   "outputs": [],
   "source": [
    "# Messdaten"
   ]
  },
  {
   "cell_type": "code",
   "execution_count": 14,
   "id": "7b59a15c-e7c1-45b8-ab6b-4422393d7319",
   "metadata": {},
   "outputs": [],
   "source": [
    "# Berechungen"
   ]
  },
  {
   "cell_type": "markdown",
   "id": "acd423a2-6997-44b5-b59c-7b3a35644f49",
   "metadata": {},
   "source": [
    "### Aufgabe 5: Vergleich beider Ergebnisse aus Aufgaben 3&4"
   ]
  },
  {
   "cell_type": "markdown",
   "id": "b1774494-0718-433a-8234-3f00e8105142",
   "metadata": {},
   "source": [
    "Diskutiere eure Ergebnisse:\n",
    "\n",
    "- Vergleich mit der Theorie\n",
    "- Mögliche Fehler für beide Versuche\n",
    "- Vergleich der Unsicherheiten\n",
    "- usw."
   ]
  },
  {
   "cell_type": "markdown",
   "id": "289470c2-d2de-4689-bcc0-7f1282c90b4c",
   "metadata": {},
   "source": [
    "### Aufgabe 6: Schwimmer und Widerstandszahl"
   ]
  },
  {
   "cell_type": "code",
   "execution_count": null,
   "id": "c2c37ce3-2fe4-4890-a8c9-551e4e3fef40",
   "metadata": {},
   "outputs": [],
   "source": [
    "# Messdaten"
   ]
  },
  {
   "cell_type": "code",
   "execution_count": null,
   "id": "ff446e2e-8a7d-404f-81ad-2bd267290efd",
   "metadata": {},
   "outputs": [],
   "source": [
    "# Berechungen"
   ]
  },
  {
   "cell_type": "code",
   "execution_count": null,
   "id": "c7c25847-d8f0-44b3-95a5-d821613362f6",
   "metadata": {},
   "outputs": [],
   "source": [
    "# Grafike (mit Achsennamen, Einheiten und Unsicherheiten)"
   ]
  },
  {
   "cell_type": "markdown",
   "id": "fcbfa2a8-9bf6-44b1-ae68-f0f510b50de4",
   "metadata": {},
   "source": [
    "Diskutiert eure Ergebnisse:\n",
    "    \n",
    "- Beschreibt die Grafike kurz\n",
    "- Was darstellt $c_w$ ? Beschreibt eure Ergebnisse, sind sie als erwartet ?"
   ]
  },
  {
   "cell_type": "markdown",
   "id": "3291d704-1681-4996-b69f-e6881021c89f",
   "metadata": {},
   "source": [
    "## 4. Bewertung und Einordnung der Ergebnisse"
   ]
  },
  {
   "cell_type": "markdown",
   "id": "029cdc7e-e087-4d29-90da-d907516de7f7",
   "metadata": {},
   "source": [
    "### 4.1 Erklärt, welche (und warum) Unsicherheiten nahmt ihr an ?"
   ]
  },
  {
   "cell_type": "markdown",
   "id": "45562d24-f20c-4932-b3f6-dbe6306805b6",
   "metadata": {},
   "source": []
  },
  {
   "cell_type": "markdown",
   "id": "2de59245-eda8-4701-8a0a-da886ddd927e",
   "metadata": {},
   "source": [
    "### 4.2 Diskussion"
   ]
  },
  {
   "cell_type": "markdown",
   "id": "c43f4602-e8fa-4184-a2de-d4c083adbc50",
   "metadata": {},
   "source": [
    "- Was sind die Hauptgründe für die Fehler eurer Ergebnisse und wie kommen sie zustande ?"
   ]
  },
  {
   "cell_type": "code",
   "execution_count": null,
   "id": "44b5df8c-1ee9-43d0-bf87-10487368df57",
   "metadata": {},
   "outputs": [],
   "source": []
  },
  {
   "cell_type": "markdown",
   "id": "fb55447f-e3b1-491f-b7cc-a0ae47e50c4e",
   "metadata": {},
   "source": [
    "- Wie würdet ihr versuchen, diese weiter zu verringern ?"
   ]
  },
  {
   "cell_type": "code",
   "execution_count": null,
   "id": "cc901b95-4001-49a4-89dd-0a86b86123bf",
   "metadata": {},
   "outputs": [],
   "source": []
  },
  {
   "cell_type": "markdown",
   "id": "9b31af9d-910a-46c8-b997-59c397b2ecc7",
   "metadata": {},
   "source": [
    "- Wenn ihr den Versuch wiederholen würdet, was würdet ihr anders machen und warum ?"
   ]
  },
  {
   "cell_type": "code",
   "execution_count": null,
   "id": "2fd91697-0c27-41cc-9d8d-7afcda60a5c5",
   "metadata": {},
   "outputs": [],
   "source": []
  },
  {
   "cell_type": "markdown",
   "id": "d25b9c71-9492-4727-871b-e4e30546d816",
   "metadata": {},
   "source": [
    "- Wie könnte man die Genauigkeit des Versuchs verbessern?"
   ]
  },
  {
   "cell_type": "code",
   "execution_count": null,
   "id": "a3f64b71-5a97-44db-999b-c9487a029535",
   "metadata": {},
   "outputs": [],
   "source": []
  }
 ],
 "metadata": {
  "kernelspec": {
   "display_name": "Python 3 (ipykernel)",
   "language": "python",
   "name": "python3"
  },
  "language_info": {
   "codemirror_mode": {
    "name": "ipython",
    "version": 3
   },
   "file_extension": ".py",
   "mimetype": "text/x-python",
   "name": "python",
   "nbconvert_exporter": "python",
   "pygments_lexer": "ipython3",
   "version": "3.9.7"
  }
 },
 "nbformat": 4,
 "nbformat_minor": 5
}
