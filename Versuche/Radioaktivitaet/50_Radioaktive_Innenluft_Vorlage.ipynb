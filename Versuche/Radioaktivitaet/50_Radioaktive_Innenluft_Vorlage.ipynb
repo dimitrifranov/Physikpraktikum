{
 "cells": [
  {
   "attachments": {},
   "cell_type": "markdown",
   "id": "d507c8b7",
   "metadata": {},
   "source": [
    "# Bericht zu Versuch 50 \"$\\alpha$-Strahlung und radioaktive Innenluft\""
   ]
  },
  {
   "cell_type": "markdown",
   "id": "04e05eff",
   "metadata": {},
   "source": [
    "**Datum:** <2022-1M-DD>\n",
    " \n",
    " - **Student 1:** <vollständiger Name>\n",
    " - **Student 2:** <vollständiger Name>"
   ]
  },
  {
   "cell_type": "markdown",
   "id": "0e484b96",
   "metadata": {},
   "source": [
    "## 1. Überblick\n",
    "\n",
    "### 1.1 Einführung\n",
    "\n",
    "- Um was geht es in dem Versuch? Was ist das Ziel?\n",
    "\n",
    "### 1.2 Zusammenfassung der Theorie\n",
    "\n",
    "- Erläuterung der benutzten Formeln inkl. Variablenbeschriftung (Bsp. vom Vorversuch)\n",
    "    - Darstellung z.B. durch \"\\\\$\\\\$ T = 2\\pi \\sqrt{\\frac{L}{g}} \\\\$\\\\$\" --> $$T=2\\pi\\sqrt{\\frac{L}{g}}$$, wobei $T$ die Schinwungsdauer des Pendels für eine Oszillation, $L$ die Länge des Pendels und $g$ die Erdbeschleunigung.\n",
    "    - $$\\phi = A \\exp(-\\frac{\\gamma t}{2})\\cos(\\omega t + \\alpha)$$, wobei $\\phi$ die Auslenkung der Schwingung, $A$ die ursprüngliche Amplitude der Schwingung, $\\gamma$ der Reibungskoeffizient und $\\omega$ die Kreisfrequenz.\n",
    "\n",
    "### 1.3 Aufgaben\n",
    "\n",
    "- Was sind die Aufgabenstellungen für den Versuch?\n",
    "\n",
    "### 1.4 Umweltrelevanz\n",
    "\n",
    "- Inwiefern ist der Versuch relevant für euer Studium in Umweltwissenschaften? (1-2 Sätze)"
   ]
  },
  {
   "cell_type": "markdown",
   "id": "0ecc9542",
   "metadata": {},
   "source": [
    "## 2. Messdaten"
   ]
  },
  {
   "cell_type": "markdown",
   "id": "14813b64",
   "metadata": {},
   "source": [
    "### 2.1 Packages laden"
   ]
  },
  {
   "cell_type": "code",
   "execution_count": 45,
   "id": "244afd3e",
   "metadata": {},
   "outputs": [],
   "source": [
    "# Importieren der benutzten Packages\n",
    "\n",
    "# Meist benötigt: \n",
    "import numpy as np  # Math\n",
    "from uncertainties import ufloat # ufloat( , ) für die Fehlerrechnung\n",
    "from uncertainties.umath import *  # Für Funktionen wie sin, cos\n",
    "\n",
    "# Falls benutzt\n",
    "import pandas as pd # z.B. zum Importieren von Excel-Tabellen (csv-Files)\n",
    "import matplotlib.pyplot as plt # Plotting\n",
    "from matplotlib.pyplot import figure\n",
    "from uncertainties import unumpy # für uncertainties in arrays\n",
    "from scipy.stats import linregress # Lineare regression\n",
    "from IPython.display import display, Markdown\n",
    "from IPython.display import display_markdown\n"
   ]
  },
  {
   "cell_type": "markdown",
   "id": "7f9c9d66",
   "metadata": {},
   "source": [
    "Tabulate installieren, um tabellen übersichtlich anzuzeigen"
   ]
  },
  {
   "cell_type": "code",
   "execution_count": 46,
   "id": "adb40476",
   "metadata": {},
   "outputs": [
    {
     "name": "stdout",
     "output_type": "stream",
     "text": [
      "Defaulting to user installation because normal site-packages is not writeable\n",
      "Requirement already satisfied: tabulate in /home/victoria/.local/lib/python3.10/site-packages (0.9.0)\n",
      "Note: you may need to restart the kernel to use updated packages.\n"
     ]
    }
   ],
   "source": [
    "pip install tabulate"
   ]
  },
  {
   "cell_type": "markdown",
   "id": "88728a35",
   "metadata": {},
   "source": [
    "### 2.2 Funktionen definieren "
   ]
  },
  {
   "cell_type": "markdown",
   "id": "8024021d",
   "metadata": {},
   "source": [
    "#### 2.2.1 Some Basics"
   ]
  },
  {
   "cell_type": "code",
   "execution_count": 47,
   "id": "44fc1dc2",
   "metadata": {},
   "outputs": [],
   "source": [
    "# Funktionen schreiben und anwenden:\n",
    "#\n",
    "# Zuerst Funktion definieren\n",
    "# def name_der_funktion(Eingabewert1, Eingabewert2, ...):\n",
    "#     zu_berechnende_variable = Eingabewert1 * Eingabewert2\n",
    "#     zu_berechnende_variable2 = Eingabewert1 + Eingabewert2\n",
    "#     return zu_berechnende_variable, zu_berechnende_variable2, ...\n",
    "#\n",
    "# Anwendung:\n",
    "# wert1, wert2 = name_der_funktion(Eingabewert1, Eingabewert2, ...)\n",
    "\n",
    "\n",
    "# uarrays\n",
    "# Beispieldaten\n",
    "Messwerte = [1,2,3,2,5,7,4,5,2,1,4] # das ist ein array\n",
    "Standardabweichung = np.std(Messwerte) # das ist ein float\n",
    "Messwerte_mit_Fehler = unumpy.uarray(Messwerte,Standardabweichung) # das ist ein uarray\n",
    "\n",
    "# Achtung!!!\n",
    "# für Mittelwertberechnung ist folgendes nicht erlaubt, da so Fehlerfortpflanzung gemacht \n",
    "# wird, obwohl auch die Standardabweichung der Fehler des Mittelwerts ist:\n",
    "Falscher_Mittelwert = np.mean(Messwerte_mit_Fehler)\n",
    "# So geht es richtig\n",
    "Mittelwert = ufloat(np.mean(Messwerte),Standardabweichung)\n",
    "# Im Allgemeinen werden in der Auswertung (\"beim Einsetzen in die Formel\") ufloats mit \n",
    "# Mittelwert und Standardabweichung benutzt."
   ]
  },
  {
   "cell_type": "markdown",
   "id": "61af62d4",
   "metadata": {},
   "source": [
    "#### 2.2.2 Darstellen der Daten mit tabulate"
   ]
  },
  {
   "cell_type": "code",
   "execution_count": 48,
   "id": "35b8f5b4",
   "metadata": {},
   "outputs": [
    {
     "name": "stdout",
     "output_type": "stream",
     "text": [
      "╒═════════════╤═════════════════╤══════════╤═════════════════╕\n",
      "│      Titel1 │   Fehler_Titel1 │   Titel2 │   Fehler_Titel2 │\n",
      "│   [Einheit] │       [Einheit] │          │                 │\n",
      "╞═════════════╪═════════════════╪══════════╪═════════════════╡\n",
      "│        1.43 │               1 │        1 │               1 │\n",
      "├─────────────┼─────────────────┼──────────┼─────────────────┤\n",
      "│        2.42 │               2 │        2 │               2 │\n",
      "├─────────────┼─────────────────┼──────────┼─────────────────┤\n",
      "│        3.32 │               3 │        3 │               3 │\n",
      "├─────────────┼─────────────────┼──────────┼─────────────────┤\n",
      "│        4.43 │               4 │        4 │               4 │\n",
      "├─────────────┼─────────────────┼──────────┼─────────────────┤\n",
      "│        5.14 │               5 │        5 │               5 │\n",
      "├─────────────┼─────────────────┼──────────┼─────────────────┤\n",
      "│        6.46 │               6 │        6 │               6 │\n",
      "├─────────────┼─────────────────┼──────────┼─────────────────┤\n",
      "│        7.24 │               7 │        7 │               7 │\n",
      "╘═════════════╧═════════════════╧══════════╧═════════════════╛\n"
     ]
    }
   ],
   "source": [
    "# erfundene Beispieldaten, jede Liste muss gleich lang sein\n",
    "Messwerte1, Fehler_Messwerte1, Messwerte2, Fehler_Messwerte2 = [1.42545,2.4235,3.324,4.435,5.135,6.46,7.24], [1,2,3,4,5,6,7], [1,2,3,4,5,6,7], [1,2,3,4,5,6,7]\n",
    "\n",
    "table = [Messwerte1, Fehler_Messwerte1, Messwerte2, Fehler_Messwerte2] # kann beliebig erweitert werden. Falls der Fehler jedes Messwerts derselbe ist könnt ihr ihn auch in den header schreiben.\n",
    "header = ['Titel1\\n[Einheit]', 'Fehler_Titel1\\n[Einheit]', 'Titel2', 'Fehler_Titel2'] # muss selbe Anzahl Einträge haben wie table.\n",
    "\n",
    "#Funktion zum Tabellen erstellen aus einem table. Input: table(liste in liste), header\n",
    "from tabulate import tabulate\n",
    "def Tabelle(table, header, Kommastellen):\n",
    "    for i in range(len(table)):\n",
    "        for k in range(len(table[i])):\n",
    "            table[i][k] = np.round(table[i][k], Kommastellen)\n",
    "    table = np.matrix.transpose(np.array(table))\n",
    "    print(tabulate(table, headers=header, tablefmt='fancy_grid'))\n",
    "    return \n",
    "\n",
    "Tabelle(table, header, 2) # Hier wird die Funktion ausgeführt"
   ]
  },
  {
   "attachments": {},
   "cell_type": "markdown",
   "id": "4cfd3746",
   "metadata": {},
   "source": [
    "#### 2.2.3 Wichtige Funktionen"
   ]
  },
  {
   "cell_type": "code",
   "execution_count": 49,
   "id": "a6bd4b7b",
   "metadata": {},
   "outputs": [],
   "source": [
    "# Funktionen, die zur Berechnung der Resultate verwendet werden\n",
    "\n"
   ]
  },
  {
   "cell_type": "markdown",
   "id": "a7d6c583",
   "metadata": {},
   "source": [
    "### 2.3 Messdaten einlesen"
   ]
  },
  {
   "cell_type": "markdown",
   "id": "742660ab",
   "metadata": {},
   "source": [
    "#### 2.3.1 Einlesen von Daten - Basics"
   ]
  },
  {
   "cell_type": "code",
   "execution_count": 50,
   "id": "f3abb5ea",
   "metadata": {},
   "outputs": [],
   "source": [
    "#------------------------------------------------------------------------------------\n",
    "# Möglichkeit 1: aus einer CSV Tabelle\n",
    "#------------------------------------------------------------------------------------\n",
    "\n",
    "#data = pd.read_csv('./pfad/zur/datei.csv') \n",
    "#Messwerte1, Fehler_Messwerte1, Messwerte2, Fehler_Messwerte2 = data.Spalte1, data.Spalte2, data.Spalte3, data.Spalte4\n",
    "\n",
    "# jede Liste muss gleich lang sein\n",
    "# die Spalte mit dem Namen 'Spalte1' wird in der Variable 'Messwerte1' gespeichert,\n",
    "# die Spalte mit dem Namen 'Spalte2' wird in der Variable 'Messwerte2' gespeichert usw.\n",
    "\n",
    "#------------------------------------------------------------------------------------\n",
    "# Möglichkeit 1: manuell einlesen\n",
    "#------------------------------------------------------------------------------------\n",
    "\n",
    "Messwerte1, Fehler_Messwerte1, Messwerte2, Fehler_Messwerte2 = [1,2,3,4,5,6,7], [1,2,3,4,5,6,7], [1,2,3,4,5,6,7], [1,2,3,4,5,6,7]"
   ]
  },
  {
   "attachments": {},
   "cell_type": "markdown",
   "id": "f8db1927",
   "metadata": {},
   "source": [
    "#### 2.3.2 Messwerte\n",
    "\n",
    "<b>Hinweis zur Evaluation der Messfehler:</b>  \n",
    "Die Schwankungen in der Zählrate bei radioaktiven Zerfällen folgen der Poisson-Verteilung.  \n",
    "Das Uncertainties-Package (ufloat, uarray,...) verwendet allerdings die Gauss-Verteilung!"
   ]
  },
  {
   "cell_type": "code",
   "execution_count": 51,
   "id": "efb8aa50",
   "metadata": {},
   "outputs": [],
   "source": [
    "# Tipp: \n",
    "# Die Messwerte können hier direkt in Arrays eingetragen werden oder \n",
    "# zuerst in eine CSV-Tabelle und anschliessend eingelesen und in die Arrays gespeichert werden\n",
    "\n",
    "#--------------------------------------------------------------------\n",
    "# Aufgabe 1: Radonkonzentration in der beprobten Raumluft\n",
    "#--------------------------------------------------------------------\n",
    "\n",
    "# PROBE 1\n",
    "\n",
    "#Ort: \n",
    "\n",
    "# Öffnung des PRD\n",
    "t0_P1 = ... # [Einheit]\n",
    "# Verschliessen des PRD\n",
    "t1_P1 = ... # [Einheit]\n",
    "# Zugabe des Lösungsmittel-Cocktails\n",
    "t2_P1 = ... # [Einheit]\n",
    "# Beginn der Messung \n",
    "t3_P1 = ... # [Einheit]\n",
    "\n",
    "\n",
    "# PROBE 2\n",
    "\n",
    "# Ort\n",
    "\n",
    "# Öffnung des PRD\n",
    "t0_P2 = ... # [Einheit]\n",
    "# Verschliessen des PRD\n",
    "t1_P2 = ... # [Einheit]\n",
    "# Zugabe des Lösungsmittel-Cocktails\n",
    "t2_P2 = ... # [Einheit]\n",
    "# Beginn der Messung \n",
    "t3_P2 = ... # [Einheit]\n",
    "\n",
    "\n",
    "# MESSUNG (3 Messungen je Probe)\n",
    "\n",
    "# Messdauer\n",
    "t = ... # [Einheit]\n",
    "# Nullprobe\n",
    "N_U = ... # [Einheit]\n",
    "# Probe 1\n",
    "N_P1 = ... # [Einheit]\n",
    "# Probe 2\n",
    "N_P2 = ... # [Einheit]\n",
    "\n",
    "#--------------------------------------------------------------------\n",
    "# Aufgabe 2: Geigerzählermessung am ETH Campus\n",
    "#--------------------------------------------------------------------\n",
    "\n",
    "# Ort mit hoher Radioaktivität:\n",
    "\n",
    "# Messdauer\n",
    "t_G = ... # [Einheit]\n",
    "# Anzahl Zerfälle\n",
    "N_G = ... # [Einheit]\n",
    "\n",
    "\n",
    "# Ort mit geringer Radioaktivität:\n",
    "\n",
    "# Messdauer\n",
    "t_G = ... # [Einheit]\n",
    "# Anzahl Zerfälle\n",
    "N_G = ... # [Einheit]\n"
   ]
  },
  {
   "cell_type": "markdown",
   "id": "fcca4f47-f358-478f-877b-cb1cf9e51ef3",
   "metadata": {},
   "source": [
    "## 3. Auswertung"
   ]
  },
  {
   "attachments": {},
   "cell_type": "markdown",
   "id": "ac64e588-fb1b-40a7-a16d-51080697c129",
   "metadata": {},
   "source": [
    "#### Je nach Aufgabenstellung\n",
    "- Graphische Darstellungen\n",
    "- Berechnungen aller Resultate (inkl. Fehlerrechnung)\n",
    "- Beantwortung der Aufgabenstellungen"
   ]
  },
  {
   "attachments": {},
   "cell_type": "markdown",
   "id": "2ede144a-46d2-4313-a086-289232481244",
   "metadata": {},
   "source": [
    "### 3.1 Radonkonzentration in der beprobten Raumluft\n",
    "<b>Hinweis:</b>  \n",
    "Wenn \n",
    "- der PRD für mindestens 72 h geöffnet war und\n",
    "- die Probe rechtzeitig abgegeben und der Lösungsmittel-Cocktail am Tag vor dem Experiment hinzugefügt wurde\n",
    "\n",
    "kann angenommen werden, dass die $^{222}Rn$-Aktivität einem Drittel der gemessenen Aktivität entspricht.  \n",
    "(vgl. Abschnitt <i>'Berechnung der Aktivität im sekulären Gleichgewicht'</i> in der Anleitung)\n"
   ]
  },
  {
   "cell_type": "code",
   "execution_count": 52,
   "id": "127be3bf",
   "metadata": {},
   "outputs": [
    {
     "data": {
      "text/markdown": [
       "<b>Resultate:</b> \n",
       "\n",
       "Radonaktivität in der Luft in Probe 1: $\\: .... \\, [Einheit]$ \n",
       "\n",
       "Radonaktivität in der Luft in Probe 2: $\\: .... \\, [Einheit]$  \n"
      ]
     },
     "metadata": {},
     "output_type": "display_data"
    },
    {
     "data": {
      "text/markdown": [
       "\n",
       "... <i>kurze Interpretation der Ergebnisse</i> ...   \n"
      ]
     },
     "metadata": {},
     "output_type": "display_data"
    }
   ],
   "source": [
    "#-----------------------------------------------------------------------------------\n",
    "# Übersichtliche (tabellarische) Darstellung der Messergebnisse inkl. Fehler\n",
    "#-----------------------------------------------------------------------------------\n",
    "\n",
    "# ...\n",
    "\n",
    "\n",
    "#------------------------------------------------------------------------------------\n",
    "# (schlüssige!) Berechnung der Radonaktivität\n",
    "#------------------------------------------------------------------------------------\n",
    "\n",
    "# ... \n",
    "\n",
    "\n",
    "# Resultate (inkl. Fehler)\n",
    "display_markdown('''<b>Resultate:</b> \\n\n",
    "Radonaktivität in der Luft in Probe 1: $\\: .... \\, [Einheit]$ \\n\n",
    "Radonaktivität in der Luft in Probe 2: $\\: .... \\, [Einheit]$  \n",
    "''', raw=True)\n",
    "\n",
    "\n",
    "# Was bedeuten diese Ergebnisse? \n",
    "# Findet sich in den Proben eine erhöhte Radonaktivität? \n",
    "# Handelt es sich nur um statistische Schwankungen?\n",
    "display_markdown('''\n",
    "... <i>kurze Interpretation der Ergebnisse</i> ...   \n",
    "''', raw=True)"
   ]
  },
  {
   "attachments": {},
   "cell_type": "markdown",
   "id": "cbca8c35",
   "metadata": {},
   "source": [
    "### 3.2 Geigerzählermessung am ETH Campus"
   ]
  },
  {
   "cell_type": "code",
   "execution_count": 53,
   "id": "42e08a5f",
   "metadata": {},
   "outputs": [],
   "source": [
    "#-----------------------------------------------------------------------------------\n",
    "# Übersichtliche (tabellarische) Darstellung der Messergebnisse inkl. Fehler\n",
    "#-----------------------------------------------------------------------------------\n",
    "\n",
    "# ... \n",
    "\n",
    "\n",
    "#-----------------------------------------------------------------------------------\n",
    "# Berechnungen und Ausgabe der Resultate\n",
    "#-----------------------------------------------------------------------------------\n",
    "\n",
    "# ORT MIT HOHER RADIOAKTIVITÄT:\n",
    "\n",
    "# Fehler der Messung\n",
    "\n",
    "# Messdauer für eine Genauigkeit von 5%\n",
    "\n",
    "# Fehler dieser Zeitabschätzung\n",
    "\n",
    "# Strahlenbelastung nach 8-stündigem Aufenthalt\n",
    "\n",
    "# Vergleich mit typischen Strahlenbelastungen\n",
    "\n",
    "\n",
    "# ORT MIT GERINGER RADIOAKTIVITÄT:\n",
    "\n",
    "# Fehler der Messung\n",
    "\n",
    "# Messdauer für eine Genauigkeit von 5%\n",
    "\n",
    "# Fehler dieser Zeitabschätzung\n",
    "\n",
    "# Strahlenbelastung nach 8-stündigem Aufenthalt\n",
    "\n",
    "# Vergleich mit typischen Strahlenbelastungen\n"
   ]
  },
  {
   "attachments": {},
   "cell_type": "markdown",
   "id": "a2926217",
   "metadata": {},
   "source": [
    "### 3.5 Bestimmung der Genauigkeit\n",
    "\n",
    "- Welche Messfehler wurden angenommen? Warum?\n",
    "- Ausführung der Fehlerrechnung, falls nicht schon oben durchgeführt\n",
    "- Überprüft nocheinmal, ob bei allen Messdaten und Ergebnissen die Fehler angegeben sind."
   ]
  },
  {
   "cell_type": "markdown",
   "id": "54670327",
   "metadata": {},
   "source": [
    "## 4. Bewertung und Einordnung der Ergebnisse\n",
    "\n",
    "**Je nach Ergebnis:**\n",
    "\n",
    "- Sind die Ergebnisse realistisch? Warum (nicht)? Vergleich mit Theorie?\n",
    "- Was sind die Hauptgründe für die Fehler eurer Ergebnisse und wie kommen sie zustande?\n",
    "- Wie würdet ihr versuchen, diese weiter zu verringern.\n",
    "- Wenn ihr den Versuch wiederholen würdet, was würdet ihr anders machen und warum?\n",
    "- Wie könnte man die Genauigkeit des Versuchs verbessern?\n",
    "\n",
    "**Anmerkung: Bitte das Messblatt mit abgeben, wenn beim Protokollieren der Messwerte benutzt wurde.**"
   ]
  }
 ],
 "metadata": {
  "kernelspec": {
   "display_name": "Python 3 (ipykernel)",
   "language": "python",
   "name": "python3"
  },
  "language_info": {
   "codemirror_mode": {
    "name": "ipython",
    "version": 3
   },
   "file_extension": ".py",
   "mimetype": "text/x-python",
   "name": "python",
   "nbconvert_exporter": "python",
   "pygments_lexer": "ipython3",
   "version": "3.10.6"
  }
 },
 "nbformat": 4,
 "nbformat_minor": 5
}
