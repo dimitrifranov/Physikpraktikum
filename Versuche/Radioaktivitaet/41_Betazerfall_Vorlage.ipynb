{
 "cells": [
  {
   "cell_type": "markdown",
   "id": "d507c8b7",
   "metadata": {},
   "source": [
    "# Bericht zu Versuch 41 \"$\\beta$-Zerfall\""
   ]
  },
  {
   "cell_type": "markdown",
   "id": "04e05eff",
   "metadata": {},
   "source": [
    "**Datum:** <2022-1M-DD>\n",
    " \n",
    " - **Student 1:** <vollständiger Name>\n",
    " - **Student 2:** <vollständiger Name>"
   ]
  },
  {
   "cell_type": "markdown",
   "id": "0e484b96",
   "metadata": {},
   "source": [
    "## 1. Überblick\n",
    "\n",
    "### 1.1 Einführung\n",
    "\n",
    "- Um was geht es in dem Versuch? Was ist das Ziel?\n",
    "\n",
    "### 1.2 Zusammenfassung der Theorie\n",
    "\n",
    "- Erläuterung der benutzten Formeln inkl. Variablenbeschriftung (Bsp. vom Vorversuch)\n",
    "    - Darstellung z.B. durch \"\\\\$\\\\$ T = 2\\pi \\sqrt{\\frac{L}{g}} \\\\$\\\\$\" --> $$T=2\\pi\\sqrt{\\frac{L}{g}}$$, wobei $T$ die Schinwungsdauer des Pendels für eine Oszillation, $L$ die Länge des Pendels und $g$ die Erdbeschleunigung.\n",
    "    - $$\\phi = A \\exp(-\\frac{\\gamma t}{2})\\cos(\\omega t + \\alpha)$$, wobei $\\phi$ die Auslenkung der Schwingung, $A$ die ursprüngliche Amplitude der Schwingung, $\\gamma$ der Reibungskoeffizient und $\\omega$ die Kreisfrequenz.\n",
    "\n",
    "### 1.3 Aufgaben\n",
    "\n",
    "- Was sind die Aufgabenstellungen für den Versuch?\n",
    "\n",
    "### 1.4 Umweltrelevanz\n",
    "\n",
    "- Inwiefern ist der Versuch relevant für euer Studium in Umweltwissenschaften? (1-2 Sätze)"
   ]
  },
  {
   "cell_type": "markdown",
   "id": "0ecc9542",
   "metadata": {},
   "source": [
    "## 2. Messdaten"
   ]
  },
  {
   "cell_type": "markdown",
   "id": "14813b64",
   "metadata": {},
   "source": [
    "### 2.1 Packages laden"
   ]
  },
  {
   "cell_type": "code",
   "execution_count": 1,
   "id": "244afd3e",
   "metadata": {},
   "outputs": [],
   "source": [
    "# Importieren der benutzten Packages\n",
    "\n",
    "# Meist benötigt: \n",
    "import numpy as np  # Math\n",
    "from uncertainties import ufloat # ufloat( , ) für die Fehlerrechnung\n",
    "from uncertainties.umath import *  # Für Funktionen wie sin, cos\n",
    "\n",
    "# Falls benutzt\n",
    "import pandas as pd # z.B. zum Importieren von Excel-Tabellen (csv-Files)\n",
    "import matplotlib.pyplot as plt # Plotting\n",
    "from matplotlib.pyplot import figure\n",
    "from uncertainties import unumpy # für uncertainties in arrays\n",
    "from scipy.stats import linregress # Lineare regression\n",
    "from IPython.display import display_markdown\n"
   ]
  },
  {
   "cell_type": "markdown",
   "id": "7f9c9d66",
   "metadata": {},
   "source": [
    "Tabulate installieren, um tabellen übersichtlich anzuzeigen"
   ]
  },
  {
   "cell_type": "code",
   "execution_count": 2,
   "id": "adb40476",
   "metadata": {},
   "outputs": [
    {
     "name": "stdout",
     "output_type": "stream",
     "text": [
      "Defaulting to user installation because normal site-packages is not writeable\n",
      "Requirement already satisfied: tabulate in /home/victoria/.local/lib/python3.10/site-packages (0.9.0)\n",
      "Note: you may need to restart the kernel to use updated packages.\n"
     ]
    }
   ],
   "source": [
    "pip install tabulate"
   ]
  },
  {
   "cell_type": "markdown",
   "id": "88728a35",
   "metadata": {},
   "source": [
    "### 2.2 Funktionen definieren "
   ]
  },
  {
   "cell_type": "markdown",
   "id": "8024021d",
   "metadata": {},
   "source": [
    "#### 2.2.1 Some basics"
   ]
  },
  {
   "cell_type": "code",
   "execution_count": 3,
   "id": "44fc1dc2",
   "metadata": {},
   "outputs": [],
   "source": [
    "# Funktionen schreiben und anwenden:\n",
    "#\n",
    "# Zuerst Funktion definieren\n",
    "# def name_der_funktion(Eingabewert1, Eingabewert2, ...):\n",
    "#     zu_berechnende_variable = Eingabewert1 * Eingabewert2\n",
    "#     zu_berechnende_variable2 = Eingabewert1 + Eingabewert2\n",
    "#     return zu_berechnende_variable, zu_berechnende_variable2, ...\n",
    "#\n",
    "# Anwendung:\n",
    "# wert1, wert2 = name_der_funktion(Eingabewert1, Eingabewert2, ...)\n",
    "\n",
    "\n",
    "# uarrays\n",
    "# Beispieldaten\n",
    "Messwerte = [1,2,3,2,5,7,4,5,2,1,4] # das ist ein array\n",
    "Standardabweichung = np.std(Messwerte) # das ist ein float\n",
    "Messwerte_mit_Fehler = unumpy.uarray(Messwerte,Standardabweichung) # das ist ein uarray\n",
    "\n",
    "# Achtung!!!\n",
    "# für Mittelwertberechnung ist folgendes nicht erlaubt, da so Fehlerfortpflanzung gemacht \n",
    "# wird, obwohl auch die Standardabweichung der Fehler des Mittelwerts ist:\n",
    "Falscher_Mittelwert = np.mean(Messwerte_mit_Fehler)\n",
    "# So geht es richtig\n",
    "Mittelwert = ufloat(np.mean(Messwerte),Standardabweichung)\n",
    "# Im Allgemeinen werden in der Auswertung (\"beim Einsetzen in die Formel\") ufloats mit \n",
    "# Mittelwert und Standardabweichung benutzt."
   ]
  },
  {
   "cell_type": "markdown",
   "id": "61af62d4",
   "metadata": {},
   "source": [
    "#### 2.2.2 Darstellen der Daten mit tabulate"
   ]
  },
  {
   "cell_type": "code",
   "execution_count": 4,
   "id": "35b8f5b4",
   "metadata": {},
   "outputs": [
    {
     "name": "stdout",
     "output_type": "stream",
     "text": [
      "╒═════════════╤═════════════════╤══════════╤═════════════════╕\n",
      "│      Titel1 │   Fehler_Titel1 │   Titel2 │   Fehler_Titel2 │\n",
      "│   [Einheit] │       [Einheit] │          │                 │\n",
      "╞═════════════╪═════════════════╪══════════╪═════════════════╡\n",
      "│        1.43 │               1 │        1 │               1 │\n",
      "├─────────────┼─────────────────┼──────────┼─────────────────┤\n",
      "│        2.42 │               2 │        2 │               2 │\n",
      "├─────────────┼─────────────────┼──────────┼─────────────────┤\n",
      "│        3.32 │               3 │        3 │               3 │\n",
      "├─────────────┼─────────────────┼──────────┼─────────────────┤\n",
      "│        4.43 │               4 │        4 │               4 │\n",
      "├─────────────┼─────────────────┼──────────┼─────────────────┤\n",
      "│        5.14 │               5 │        5 │               5 │\n",
      "├─────────────┼─────────────────┼──────────┼─────────────────┤\n",
      "│        6.46 │               6 │        6 │               6 │\n",
      "├─────────────┼─────────────────┼──────────┼─────────────────┤\n",
      "│        7.24 │               7 │        7 │               7 │\n",
      "╘═════════════╧═════════════════╧══════════╧═════════════════╛\n"
     ]
    }
   ],
   "source": [
    "# erfundene Beispieldaten, jede Liste muss gleich lang sein\n",
    "Messwerte1, Fehler_Messwerte1, Messwerte2, Fehler_Messwerte2 = [1.42545,2.4235,3.324,4.435,5.135,6.46,7.24], [1,2,3,4,5,6,7], [1,2,3,4,5,6,7], [1,2,3,4,5,6,7]\n",
    "\n",
    "table = [Messwerte1, Fehler_Messwerte1, Messwerte2, Fehler_Messwerte2] # kann beliebig erweitert werden. Falls der Fehler jedes Messwerts derselbe ist könnt ihr ihn auch in den header schreiben.\n",
    "header = ['Titel1\\n[Einheit]', 'Fehler_Titel1\\n[Einheit]', 'Titel2', 'Fehler_Titel2'] # muss selbe Anzahl Einträge haben wie table.\n",
    "\n",
    "#Funktion zum Tabellen erstellen aus einem table. Input: table(liste in liste), header\n",
    "from tabulate import tabulate\n",
    "def Tabelle(table, header, Kommastellen):\n",
    "    for i in range(len(table)):\n",
    "        for k in range(len(table[i])):\n",
    "            table[i][k] = np.round(table[i][k], Kommastellen)\n",
    "    table = np.matrix.transpose(np.array(table))\n",
    "    print(tabulate(table, headers=header, tablefmt='fancy_grid'))\n",
    "    return \n",
    "\n",
    "Tabelle(table, header, 2) # Hier wird die Funktion ausgeführt"
   ]
  },
  {
   "cell_type": "markdown",
   "id": "4cfd3746",
   "metadata": {},
   "source": [
    "#### 2.2.3 Wichtige Funktionen\n",
    "Reichweite der Elektronen in Aluminium Abhängigkeit der Energie (vgl. Abb. 4 in der Anleitung)"
   ]
  },
  {
   "cell_type": "code",
   "execution_count": 5,
   "id": "a6bd4b7b",
   "metadata": {},
   "outputs": [],
   "source": [
    "def Reichweite(E):\n",
    "    '''\n",
    "    Reichweite der Elektronen (Beta-Strahlung) in Aluminium (mg/cm^(-2))\n",
    "    ala Funktion der Energie E (MeV) des Elektrons. \n",
    "    \n",
    "    Referenz:\n",
    "    Weber, Nuclear Instruments and Method 25 (1964) 261-264\n",
    "    https://www.sciencedirect.com/science/article/pii/0029554X63901964?ref=cra_js_challenge&fr=RR-1\n",
    "    '''\n",
    "    a = 1.479e-3 # +- 0.0009 (MeV*cm^2/mg)\n",
    "    A = 1/a\n",
    "    B = 0.9852     # +- 0.008\n",
    "    C = 3.73       # +- 0.12  (MeV^(-1))\n",
    "    return A*E*(1-B/(1+C*E))\n",
    "\n",
    "def Energie(R): # für Aufgabe 4 benötigt\n",
    "    '''\n",
    "    Energie (MeV) der Elektronen als Funktion ihrer Reichweite R in Aluminium (mg/cm^(-2))\n",
    "    (iUmkehrfunktion von Reichweite(E))\n",
    "    '''\n",
    "    a = 1.479e-3 # +- 0.0009 (MeV*cm^2/mg)\n",
    "    A = 1/a\n",
    "    B=0.9852     # +- 0.008\n",
    "    C=3.73       # +- 0.12  (MeV^(-1))\n",
    "    return (A*B - A + C*R + (A**2*B**2 - 2*A**2*B + A**2 + 2*A*B*C*R + 2*A*C*R + C**2*R**2)**(1/2))/(2*A*C)"
   ]
  },
  {
   "cell_type": "code",
   "execution_count": 6,
   "id": "6898b142",
   "metadata": {},
   "outputs": [
    {
     "data": {
      "image/png": "[encoded data removed]",
      "text/plain": [
       "<Figure size 720x480 with 1 Axes>"
      ]
     },
     "metadata": {},
     "output_type": "display_data"
    }
   ],
   "source": [
    "E = np.linspace(0.001,3,10000)\n",
    "R = np.linspace(0.01,2000,10000)\n",
    "figure(figsize=(6,4),dpi=120)\n",
    "plt.loglog(Reichweite(E),E)\n",
    "plt.loglog(R,Energie(R), linestyle='dashed')                \n",
    "plt.grid(True, which=\"both\", ls=\"-\")\n",
    "plt.ylabel(\"Energie der Elektronen (MeV)\")\n",
    "plt.xlabel(\"Reichweite in Al (mg*cm^(-2))\")\n",
    "plt.title(\"Reichweite von Beta-Strahlung in Aluminium\")\n",
    "plt.legend(['Reichweite(E)','Energie(R)'])\n",
    "plt.show()"
   ]
  },
  {
   "cell_type": "markdown",
   "id": "a7d6c583",
   "metadata": {},
   "source": [
    "### 2.3 Messdaten einlesen"
   ]
  },
  {
   "cell_type": "markdown",
   "id": "742660ab",
   "metadata": {},
   "source": [
    "#### 2.3.1 Einlesen von Daten - Basics"
   ]
  },
  {
   "cell_type": "code",
   "execution_count": 7,
   "id": "f3abb5ea",
   "metadata": {},
   "outputs": [],
   "source": [
    "#------------------------------------------------------------------------------------\n",
    "# Möglichkeit 1: aus einer CSV Tabelle\n",
    "#------------------------------------------------------------------------------------\n",
    "\n",
    "#data = pd.read_csv('./pfad/zur/datei.csv') \n",
    "#Messwerte1, Fehler_Messwerte1, Messwerte2, Fehler_Messwerte2 = data.Spalte1, data.Spalte2, data.Spalte3, data.Spalte4\n",
    "\n",
    "# jede Liste muss gleich lang sein\n",
    "# die Spalte mit dem Namen 'Spalte1' wird in der Variable 'Messwerte1' gespeichert,\n",
    "# die Spalte mit dem Namen 'Spalte2' wird in der Variable 'Messwerte2' gespeichert usw.\n",
    "\n",
    "#------------------------------------------------------------------------------------\n",
    "# Möglichkeit 2: manuell einlesen\n",
    "#------------------------------------------------------------------------------------\n",
    "\n",
    "Messwerte1, Fehler_Messwerte1, Messwerte2, Fehler_Messwerte2 = [1,2,3,4,5,6,7], [1,2,3,4,5,6,7], [1,2,3,4,5,6,7], [1,2,3,4,5,6,7]"
   ]
  },
  {
   "cell_type": "markdown",
   "id": "f8db1927",
   "metadata": {},
   "source": [
    "#### 2.3.2 Messwerte\n",
    "\n",
    "<b>Hinweis zur Evaluation der Messfehler:</b>  \n",
    "Die Schwankungen in der Zählrate bei radioaktiven Zerfällen folgen der Poisson-Verteilung.  \n",
    "Das Uncertainties-Package (ufloat, uarray,...) verwendet allerdings die Gauss-Verteilung!"
   ]
  },
  {
   "cell_type": "code",
   "execution_count": 8,
   "id": "efb8aa50",
   "metadata": {},
   "outputs": [],
   "source": [
    "# Tipp: \n",
    "# Die Messwerte können hier direkt in Arrays eingetragen werden oder \n",
    "# zuerst in eine CSV-Tabelle und anschliessend eingelesen und in die Arrays gespeichert werden\n",
    "\n",
    "#--------------------------------------------------------------------\n",
    "# Aufgabe 1: Zählrohrcharakteristik\n",
    "#--------------------------------------------------------------------\n",
    "\n",
    "# Messdauer\n",
    "t1 = ... # [Einheit]\n",
    "# Spannung\n",
    "V1 = ... # [Einheit]\n",
    "# Zählrate\n",
    "N1 = ... # [Einheit]\n",
    "\n",
    "\n",
    "#--------------------------------------------------------------------\n",
    "# Aufgabe 2: Aktivität der Quelle\n",
    "#--------------------------------------------------------------------\n",
    "\n",
    "# Messdauer\n",
    "t2 = ... # [Einheit]\n",
    "# Einfallende Teilchen in der Zeit t\n",
    "N2 = ... # [Einheit]\n",
    "# Hintergrund in der Zeit t (mit 8mm Stahl-Absorber)\n",
    "N2_BG = ... # [Einheit]\n",
    "# Effektive Anzahl einfallender Teilchen in der Zeit t \n",
    "# (= einfallende Teilchen minus Hintergrund)\n",
    "N2_eff = ... # [Einheit]\n",
    "\n",
    "\n",
    "#--------------------------------------------------------------------\n",
    "# Aufgabe 4: Absorption der Beta-Energie\n",
    "#--------------------------------------------------------------------\n",
    "# TIPP: \n",
    "# Um Messwerte für möglichst viele verschiedene Dicken x zu erhalten, \n",
    "# kann es nützlich sein, die Plättchen zu kombinieren.\n",
    "\n",
    "# Plättchendicke\n",
    "x4 = ... # [Einheit]\n",
    "# Messdauer\n",
    "t4 = ... # [Einheit]\n",
    "# Einfallende Teilchen in der Zeit t\n",
    "N4 = ... # [Einheit]"
   ]
  },
  {
   "cell_type": "markdown",
   "id": "fcca4f47-f358-478f-877b-cb1cf9e51ef3",
   "metadata": {},
   "source": [
    "## 3. Auswertung"
   ]
  },
  {
   "cell_type": "markdown",
   "id": "ac64e588-fb1b-40a7-a16d-51080697c129",
   "metadata": {},
   "source": [
    "#### Je nach Aufgabenstellung\n",
    "- Graphische Darstellungen\n",
    "- Berechnungen aller Resultate (inkl. Fehlerrechnung)\n",
    "- Beantwortung der Aufgabenstellungen von 1 bis 4"
   ]
  },
  {
   "cell_type": "markdown",
   "id": "2ede144a-46d2-4313-a086-289232481244",
   "metadata": {},
   "source": [
    "### 3.1 Zählrohrcharakteristik"
   ]
  },
  {
   "cell_type": "code",
   "execution_count": 9,
   "id": "127be3bf",
   "metadata": {},
   "outputs": [
    {
     "name": "stdout",
     "output_type": "stream",
     "text": [
      "╒═════════╤═════════╤═════════╕\n",
      "│ V [v]   │ t [s]   │ N [V]   │\n",
      "╞═════════╪═════════╪═════════╡\n",
      "╘═════════╧═════════╧═════════╛\n"
     ]
    },
    {
     "data": {
      "image/png": "[encoded data removed]",
      "text/plain": [
       "<Figure size 640x480 with 1 Axes>"
      ]
     },
     "metadata": {},
     "output_type": "display_data"
    },
    {
     "data": {
      "text/markdown": [
       "\n",
       "Spannung am Arbeitspunkt: $V_{ideal} =$ ...... $V$ \n",
       "\n",
       "Spannungsabhängigkeit der Zählrate bei $V_{ideal}$: $\\frac{\\Delta N/N}{\\Delta V} =$ ......  $V^{-1}$ \n",
       "\n",
       "Je kleiner $\\frac{\\Delta N}{\\Delta V}$, umso ......  (besser/schlechter) ist der Geierzähler.  \n"
      ]
     },
     "metadata": {},
     "output_type": "display_data"
    }
   ],
   "source": [
    "#-----------------------------------------------------------------------------------\n",
    "# Übersichtliche (tabellarische) Darstellung der Resultate inkl. Fehler\n",
    "#-----------------------------------------------------------------------------------\n",
    "\n",
    "header1 = ['V [v]', 't [s]', 'N [V]'] \n",
    "table1 = [[],[],[],[]]\n",
    "kommastellen1 = None\n",
    "\n",
    "Tabelle(table1, header1, kommastellen1)\n",
    "\n",
    "\n",
    "#------------------------------------------------------------------------------------\n",
    "# Grafische Darstellung der Zählrate in abhängigkeit der Spannung\n",
    "#------------------------------------------------------------------------------------\n",
    "\n",
    "# N gegen V auftragen\n",
    "# plotten indem man plt.plot([x-werte],[y-werte]) eingibt\n",
    "# plt.errorbar fügt die Fehlerbalken für die y-Werte ein\n",
    "\n",
    "plt.figure()\n",
    "plt.scatter(0, 0, s=10, label='Messwerte x') # s = Grösse der Punkte\n",
    "plt.plot(0, 0, linestyle='dashed')\n",
    "plt.errorbar(0, 0, yerr=0, fmt='+', label = 'Fehler')\n",
    "plt.title('Titel')\n",
    "plt.ylabel('y-Achsenbeschriftung')\n",
    "plt.xlabel('x-Achsenbeschriftung')\n",
    "plt.legend(frameon=False, loc='upper right')\n",
    "plt.margins(0) # gibt an, wie weit der Rand des Plots von den äussersten Messwerten entfernt ist\n",
    "# falls die x-Achse gekürzt werden muss:\n",
    "# plt.xlim(Anfang, Ende)\n",
    "# Analog, mit der y-Achse:\n",
    "# plt.ylim(tiefster_Wert, höchster_wert)\n",
    "\n",
    "#------------------------------------------------------------------------------------\n",
    "# Bestimmung der Steigung am Arbeitspunkt\n",
    "#------------------------------------------------------------------------------------\n",
    "\n",
    "# z.B. durch einen linearen Fit über den Geiger-Pateaubereich:\n",
    "\n",
    "# 1. Welche Messwerte liegen im Plateaubereich?\n",
    "#xfit = xwerte[a:b] # Erstellt ein Array mit den Elementen von 'xwerte' mit Indices a bis b\n",
    "# analog für die y-Werte\n",
    "\n",
    "# 2. Linearer Fit über relevante Werte (z.B. mit linregress )\n",
    "#res = linregress(...,...) \n",
    "# res.slope -> Steigung k\n",
    "# res.intercept -> Achsenabschnitt d\n",
    "\n",
    "# 3. Fit im Plot darstellen\n",
    "#x = np.linspace(xmin,xmax)\n",
    "#y = k*x + d\n",
    "plt.plot(0, 0, label='Fit (Geiger-Plateau)')\n",
    "\n",
    "plt.show()\n",
    "\n",
    "\n",
    "# V_ideal und Spannungsabhängigkeit der Zählrate\n",
    "display_markdown('''\n",
    "Spannung am Arbeitspunkt: $V_{ideal} =$ ...... $V$ \\n\n",
    "Spannungsabhängigkeit der Zählrate bei $V_{ideal}$: $\\\\frac{\\\\Delta N/N}{\\\\Delta V} =$ ......  $V^{-1}$ \\n\n",
    "Je kleiner $\\\\frac{\\\\Delta N}{\\\\Delta V}$, umso ......  (besser/schlechter) ist der Geierzähler.  \n",
    "''', raw=True)\n"
   ]
  },
  {
   "cell_type": "markdown",
   "id": "cbca8c35",
   "metadata": {},
   "source": [
    "### 3.2 Aktivität der Quelle"
   ]
  },
  {
   "cell_type": "markdown",
   "id": "49245371",
   "metadata": {},
   "source": [
    "#### Raumwinkelberechnung\n",
    "Achtung: Winkel werden von Python standardgemäss in rad ausgegeben!"
   ]
  },
  {
   "cell_type": "code",
   "execution_count": 10,
   "id": "42e08a5f",
   "metadata": {},
   "outputs": [],
   "source": [
    "# Durchmesser Stahlblende: \n",
    "d = ... # [Einheit]\n",
    "\n",
    "# Halbwinkel Kegel: \n",
    "theta = ... # [Einheit]\n",
    "\n",
    "# Raumwinkelbruchteil / Akzeptanz: \n",
    "epsilon = ... # [Einheit]"
   ]
  },
  {
   "cell_type": "markdown",
   "id": "f2942d53",
   "metadata": {},
   "source": [
    "#### Berechnung der Aktivität\n",
    "Es kann angenommen werden, dass die Quelle näherungsweise uniform in alle Richtungen strahlt. Der Detektor \"sieht\" aber nur einen Bruchteil davon, den sg. \"Raumwinkelbruchteil\" oder \"Akzeptanz\". Damit lässt sich die Aktivität der Probe berechnen."
   ]
  },
  {
   "cell_type": "markdown",
   "id": "82429193",
   "metadata": {},
   "source": [
    "a) Was ist die Aktivität der hier verwendeten Probe?"
   ]
  },
  {
   "cell_type": "code",
   "execution_count": 11,
   "id": "156e63c2",
   "metadata": {},
   "outputs": [],
   "source": [
    "# Berechnung"
   ]
  },
  {
   "cell_type": "markdown",
   "id": "a45936ec",
   "metadata": {},
   "source": [
    "<b>Innerhalb der Stahlfolie</b> kann angenommen werden, dass je die Hälfte der Elektronen von Strontium- bzw. Yttrium-Zerfällen stammt.  \n",
    "Vorsicht: Beim Durchgang durch die Stahlfolie werden die Elektronen aus den beiden Zerfällen unterschiedlich stark abgeschirmt, daher gilt diese Annahme <b>nicht</b> im Detektor, wo N gemessen wird!"
   ]
  },
  {
   "cell_type": "markdown",
   "id": "becc12ad",
   "metadata": {},
   "source": [
    "b) Was ist die Aktivität der hier verwendeten Probe, wenn man die schützende Stahlfolie entfernen würde?"
   ]
  },
  {
   "cell_type": "code",
   "execution_count": 12,
   "id": "99e7c408",
   "metadata": {},
   "outputs": [],
   "source": [
    "# Berechnung"
   ]
  },
  {
   "cell_type": "markdown",
   "id": "b14b84e3",
   "metadata": {},
   "source": [
    "### 3.3 Strahlentechnisch relevante Berechnungen"
   ]
  },
  {
   "cell_type": "markdown",
   "id": "0b4fa7eb",
   "metadata": {},
   "source": [
    "a) Wann ist die Gesamtaktivität auf 10 kBq gesunken?"
   ]
  },
  {
   "cell_type": "code",
   "execution_count": 13,
   "id": "8229d8f0",
   "metadata": {},
   "outputs": [],
   "source": [
    "# Berechnung"
   ]
  },
  {
   "cell_type": "markdown",
   "id": "073658f4",
   "metadata": {},
   "source": [
    "b) Angenommen, die Quelle wurde am 1.1.1950 hergestellt: Was war die Aktivität zum Herstellungszeitpunkt?"
   ]
  },
  {
   "cell_type": "code",
   "execution_count": 14,
   "id": "19763f4a",
   "metadata": {},
   "outputs": [],
   "source": [
    "# Berechnung"
   ]
  },
  {
   "cell_type": "markdown",
   "id": "28709977",
   "metadata": {},
   "source": [
    "c) Wie lange dauert es, bis die mittlere Jahresdosis in der Schweiz (= 5.5 mSv) bei <b>vollständiger Inkorporation</b> dieser Quelle erreicht wird?"
   ]
  },
  {
   "cell_type": "code",
   "execution_count": 15,
   "id": "9291cbc0",
   "metadata": {},
   "outputs": [],
   "source": [
    "# Berechnung"
   ]
  },
  {
   "cell_type": "markdown",
   "id": "c309049e",
   "metadata": {},
   "source": [
    "### 3.4 Absorption und $\\beta$-Energie\n",
    "<b>Hinweis:</b> Dichte $\\rho (Al) = 2.69\\,g\\,cm^{-3}$  "
   ]
  },
  {
   "cell_type": "code",
   "execution_count": 16,
   "id": "62ef5806",
   "metadata": {},
   "outputs": [
    {
     "name": "stdout",
     "output_type": "stream",
     "text": [
      "╒════════╤═══════════════╤═══════╤═════╤═════════╤═══════════════════════╤═════════╕\n",
      "│ x      │ ρ(Al)*x       │ t     │ N   │ N_eff   │ gemessene Aktivität   │ E(x)    │\n",
      "│ [mm]   │ [g cm^(-2)]   │ [s]   │     │         │ [Bq]                  │ [MeV]   │\n",
      "╞════════╪═══════════════╪═══════╪═════╪═════════╪═══════════════════════╪═════════╡\n",
      "╘════════╧═══════════════╧═══════╧═════╧═════════╧═══════════════════════╧═════════╛\n"
     ]
    },
    {
     "data": {
      "image/png": "[encoded data removed]",
      "text/plain": [
       "<Figure size 640x480 with 1 Axes>"
      ]
     },
     "metadata": {},
     "output_type": "display_data"
    }
   ],
   "source": [
    "#-----------------------------------------------------------------------------------\n",
    "# Übersichtliche (tabellarische) Darstellung der Resultate inkl. Fehler\n",
    "#-----------------------------------------------------------------------------------\n",
    "\n",
    "header1 = ['x\\n[mm]', 'ρ(Al)*x\\n[g cm^(-2)]', 't\\n[s]', 'N','N_eff', 'gemessene Aktivität\\n[Bq]', 'E(x)\\n[MeV]'] # Einheiten [] bitte ergänzen\n",
    "table1 = [[],[],[],[]]\n",
    "kommastellen1 = None\n",
    "\n",
    "Tabelle(table1, header1, kommastellen1)\n",
    "\n",
    "\n",
    "#------------------------------------------------------------------------------------\n",
    "# Grafische Darstellung der Absorptionskurve\n",
    "#------------------------------------------------------------------------------------\n",
    "\n",
    "# y-Achse: N/t\n",
    "# x-Achse: x\n",
    "\n",
    "plt.figure()\n",
    "plt.scatter(0, 0, s=10, label='Messwerte') # s = Grösse der Punkte\n",
    "plt.plot(0, 0, linestyle='dashed')\n",
    "plt.errorbar(0, 0, yerr=0, fmt='+', label = 'Fehler')\n",
    "plt.title('Titel')\n",
    "plt.ylabel('y-Achsenbeschriftung')\n",
    "plt.xlabel('x-Achsenbeschriftung')\n",
    "plt.legend(frameon=False, loc='upper right')\n",
    "plt.margins(0) # gibt an, wie weit der Rand des Plots von den äussersten Messwerten entfernt ist\n",
    "# falls die x-Achse gekürzt werden muss:\n",
    "# plt.xlim(Anfang, Ende)\n",
    "# Analog, mit der y-Achse:\n",
    "# plt.ylim(tiefster_Wert, höchster_wert)\n",
    "plt.show()\n",
    "\n"
   ]
  },
  {
   "cell_type": "markdown",
   "id": "ae3990f2",
   "metadata": {},
   "source": [
    "#### 3.4.1 Bestimmung von $E_{max}$ über $x_{max}$"
   ]
  },
  {
   "cell_type": "code",
   "execution_count": 17,
   "id": "7dba459c",
   "metadata": {},
   "outputs": [
    {
     "data": {
      "text/markdown": [
       "\n",
       "Maximale Eindringtiefe der Elektronen: $\\: x_{max} = ...... \\, mm \\, Al$ \n",
       "\n",
       "Energie bei $x_{max}$: $\\: E_{max} = ...... \\, MeV $ \n",
       "\n",
       "Energieverlust beim durchdringen der Stahlfolie: $\\: \\Delta E =  ...... \\, MeV$ \n",
       "\n",
       "Maximale Energie direkt in der Quelle: $\\: E_{max,Quelle} = ...... \\, MeV$\n"
      ]
     },
     "metadata": {},
     "output_type": "display_data"
    }
   ],
   "source": [
    "\n",
    "#------------------------------------------------------------------------------------\n",
    "# Grafische Darstellung der Absorptionskurve (logarithmisch) zum Ablesen von x_max\n",
    "#------------------------------------------------------------------------------------\n",
    "\n",
    "# Plot:\n",
    "# y-Achse: ln(N/t)\n",
    "# x-Achse: x\n",
    "\n",
    "\n",
    "# Ablesen von x_ max\n",
    "\n",
    "\n",
    "#------------------------------------------------------------------------------------\n",
    "# Berechnung von E_max\n",
    "#------------------------------------------------------------------------------------\n",
    "\n",
    "# Berechnung \n",
    "\n",
    "\n",
    "# Ergebnisse\n",
    "display_markdown('''\n",
    "Maximale Eindringtiefe der Elektronen: $\\: x_{max} = ...... \\, mm \\, Al$ \\n\n",
    "Energie bei $x_{max}$: $\\: E_{max} = ...... \\, MeV $ \\n\n",
    "Energieverlust beim durchdringen der Stahlfolie: $\\: \\Delta E =  ...... \\, MeV$ \\n\n",
    "Maximale Energie direkt in der Quelle: $\\: E_{max,Quelle} = ...... \\, MeV$\n",
    "''', raw=True)\n"
   ]
  },
  {
   "cell_type": "markdown",
   "id": "17c4f354",
   "metadata": {},
   "source": [
    "#### 3.4.2 Bestimmung von $E_{max}$ über $\\mu$"
   ]
  },
  {
   "cell_type": "code",
   "execution_count": 18,
   "id": "0a18c72a",
   "metadata": {},
   "outputs": [
    {
     "data": {
      "text/markdown": [
       "\n",
       "Koeffizient $\\mu$: $\\: \\mu = ..... \\, cm^{-1}$) \n",
       "\n",
       "Maximale Energie der Elektronen nach der Folie: $\\: E_{max} = ..... \\, cm^{-1}$ \n",
       "\n",
       "Energieverlust bei Durchdringen der Stahlfolie: $\\: \\Delta E = ..... \\, MeV$ \n",
       "\n",
       "Maximale Energie direkt in der Quelle: $\\: E_{max,Quelle} = ...... \\, MeV$\n"
      ]
     },
     "metadata": {},
     "output_type": "display_data"
    }
   ],
   "source": [
    "#------------------------------------------------------------------------------------\n",
    "# Grafische Darstellung der Absorptionskurve (logarithmisch) mit linearem Fit für x < x_max\n",
    "#------------------------------------------------------------------------------------\n",
    "\n",
    "# Plot:\n",
    "# y-Achse: ln(N/t)\n",
    "# x-Achse: x\n",
    "\n",
    "\n",
    "# Linearer Fit für x < x_max\n",
    "\n",
    "\n",
    "# Koeffizient (Steigung) mu\n",
    "\n",
    "\n",
    "#------------------------------------------------------------------------------------\n",
    "# Berechnung von E_max\n",
    "#------------------------------------------------------------------------------------\n",
    "\n",
    "# Berechnung \n",
    "\n",
    "\n",
    "# Ergebnisse\n",
    "display_markdown('''\n",
    "Koeffizient $\\mu$: $\\: \\mu = ..... \\, cm^{-1}$) \\n\n",
    "Maximale Energie der Elektronen nach der Folie: $\\: E_{max} = ..... \\, cm^{-1}$ \\n\n",
    "Energieverlust bei Durchdringen der Stahlfolie: $\\: \\Delta E = ..... \\, MeV$ \\n\n",
    "Maximale Energie direkt in der Quelle: $\\: E_{max,Quelle} = ...... \\, MeV$\n",
    "''', raw=True)\n"
   ]
  },
  {
   "cell_type": "markdown",
   "id": "a2926217",
   "metadata": {},
   "source": [
    "### 3.5 Bestimmung der Genauigkeit\n",
    "\n",
    "- Welche Messfehler wurden angenommen? Warum?\n",
    "- Ausführung der Fehlerrechnung, falls nicht schon oben durchgeführt\n",
    "- Überprüft nocheinmal, ob bei allen Messdaten und Ergebnissen die Fehler angegeben sind."
   ]
  },
  {
   "cell_type": "markdown",
   "id": "54670327",
   "metadata": {},
   "source": [
    "## 4. Bewertung und Einordnung der Ergebnisse\n",
    "\n",
    "**Je nach Ergebnis:**\n",
    "\n",
    "- Sind die Ergebnisse realistisch? Warum (nicht)? Vergleich mit Theorie?\n",
    "- Was sind die Hauptgründe für die Fehler eurer Ergebnisse und wie kommen sie zustande?\n",
    "- Wie würdet ihr versuchen, diese weiter zu verringern.\n",
    "- Wenn ihr den Versuch wiederholen würdet, was würdet ihr anders machen und warum?\n",
    "- Wie könnte man die Genauigkeit des Versuchs verbessern?\n",
    "\n",
    "**Anmerkung: Bitte das Messblatt mit abgeben, wenn beim Protokollieren der Messwerte benutzt wurde.**"
   ]
  }
 ],
 "metadata": {
  "kernelspec": {
   "display_name": "Python 3 (ipykernel)",
   "language": "python",
   "name": "python3"
  },
  "language_info": {
   "codemirror_mode": {
    "name": "ipython",
    "version": 3
   },
   "file_extension": ".py",
   "mimetype": "text/x-python",
   "name": "python",
   "nbconvert_exporter": "python",
   "pygments_lexer": "ipython3",
   "version": "3.10.6"
  }
 },
 "nbformat": 4,
 "nbformat_minor": 5
}
