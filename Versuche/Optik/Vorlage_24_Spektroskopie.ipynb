{
 "cells": [
  {
   "cell_type": "markdown",
   "id": "d507c8b7",
   "metadata": {},
   "source": [
    "# Bericht zu Versuch 24 - Spektroskopie"
   ]
  },
  {
   "cell_type": "markdown",
   "id": "04e05eff",
   "metadata": {},
   "source": [
    "**Datum:** <20YY-MM-DD>\n",
    " \n",
    " - **StudentIn 1:** <vollständiger Name>\n",
    " - **StudentIn 2:** <vollständiger Name>"
   ]
  },
  {
   "cell_type": "markdown",
   "id": "0e484b96",
   "metadata": {},
   "source": [
    "## 1. Überblick\n",
    "\n",
    "### Einführung\n",
    "\n",
    "- Um was geht es in dem Versuch? Was ist das Ziel?\n",
    "\n",
    "### 1.2 Zusammenfassung der Theorie\n",
    "\n",
    "- **Erläuterung der benutzten Formeln inkl. Variablenbeschriftung (Bsp. vom Vorversuch):**\n",
    "    - Darstellung z.B. durch \"\\\\$\\\\$ T = 2\\pi \\sqrt{\\frac{L}{g}} \\\\$\\\\$\" --> $$T=2\\pi\\sqrt{\\frac{L}{g}}$$, wobei $T$ die Schinwungsdauer des Pendels für eine Oszillation, $L$ die Länge des Pendels und $g$ die Erdbeschleunigung.\n",
    "    - $$\\phi = A \\exp(-\\frac{\\gamma t}{2})\\cos(\\omega t + \\alpha)$$, wobei $\\phi$ die Auslenkung der Schwingung, $A$ die ursprüngliche Amplitude der Schwingung, $\\gamma$ der Reibungskoeffizient und $\\omega$ die Kreisfrequenz.\n",
    "\n",
    "- **Beispiel aus Versuch 24 - Spektroskopie:**\n",
    "$$\\nu = Ry (\\frac{1}{m^2}-\\frac{1}{n^2})$$, wobei $\\nu$ die Frequenz, $Ry$ die Rydberg-Frequenz, und $m,n$ Quantenzahlen sind.\n",
    "\n",
    "### 1.3 Aufgaben\n",
    "\n",
    "- Was sind die Aufgabenstellungen für den Versuch?\n",
    "\n",
    "### 1.4 Umweltrelevanz\n",
    "\n",
    "- Inwiefern ist der Versuch relevant für euer Studium in Umweltwissenschaften? (1-2 Sätze)"
   ]
  },
  {
   "cell_type": "markdown",
   "id": "0ecc9542",
   "metadata": {},
   "source": [
    "### 2. Messdaten"
   ]
  },
  {
   "cell_type": "code",
   "execution_count": 1,
   "id": "244afd3e",
   "metadata": {},
   "outputs": [],
   "source": [
    "# Importieren der benutzten Packages\n",
    "\n",
    "# Meist benötigt: \n",
    "import numpy as np  # Math\n",
    "from uncertainties import ufloat # ufloat( , ) für die Fehlerrechnung\n",
    "from uncertainties.umath import *  # Für Funktionen wie sin, cos\n",
    "import matplotlib.pyplot as plt # Zum Plotten\n",
    "from uncertainties import unumpy # Messwerte mit Fehlern in array\n",
    "import pandas as pd # z.B. zum Importieren von Excel-Tabellen (csv-Files)\n",
    "\n",
    "# Falls benutzt\n",
    "# from scipy import linregress # Lineare regression"
   ]
  },
  {
   "cell_type": "markdown",
   "id": "f98106da",
   "metadata": {},
   "source": [
    "#### Einlesen und Darstellen der Messdaten (z.B. manuell oder aus CSV-, Excel-Dateien)"
   ]
  },
  {
   "cell_type": "code",
   "execution_count": null,
   "id": "29931216-e52c-4c37-b305-8fd1d5f86142",
   "metadata": {},
   "outputs": [],
   "source": [
    "### Einlesen der Messdaten\n",
    "\n",
    "## 1. Eichung des Spektrometers\n",
    "\n",
    "skalen_eichung = np.array([]) # Das ist ein Array, Messwerte können mit Kommas innerhalb von [] abgetrennt werden.\n",
    "wellenlaenge_eichung = np.array([]) # Bei Aufgabe 1 ohne Fehler arbeiten für das Fitten der Eichkurve\n",
    "\n",
    "print(\"Heliumspektrum Skalen\")\n",
    "for i in skalen_eichung: print(\"({}) \".format(i))\n",
    "\n",
    "print(\"Heliumspektrum Wellenlängen\")\n",
    "for i in wellenlaenge_eichung: print(\"({}) nm\".format(i))\n",
    "\n",
    "## 2. Balmerlinien\n",
    "\n",
    "# Bsp.: x = unumpy.uarray([0.5,1.5,2.5,3.5],[0.1,0.1,0.1,0.1])\n",
    "                            # Messwerte     # Absolute Fehler\n",
    "\n",
    "skalen_balmer = unumpy.uarray([],[])\n",
    "print(...)\n",
    "\n",
    "## 3. Frauenhofersche Linien\n",
    "\n",
    "skalen_frauenhofer = unumpy.uarray([],[])\n",
    "print(...)"
   ]
  },
  {
   "cell_type": "markdown",
   "id": "fcca4f47-f358-478f-877b-cb1cf9e51ef3",
   "metadata": {},
   "source": [
    "## 3. Auswertung"
   ]
  },
  {
   "cell_type": "markdown",
   "id": "2ede144a-46d2-4313-a086-289232481244",
   "metadata": {},
   "source": [
    "### 3.1 Graphiken\n"
   ]
  },
  {
   "cell_type": "code",
   "execution_count": null,
   "id": "50d43a5c-1620-4ce3-ba79-55ba0e9a5337",
   "metadata": {},
   "outputs": [],
   "source": [
    "### Eichkurve \n",
    "\n",
    "## 1a) Fitten der Quadratischen(!!) Funktion: Wellenlänge in Abhängigkeit der Skalen\n",
    "\n",
    "eichkurve = np.poly1d(np.polyfit(x,y,Grad der Funktion(eine ganzstellige Zahl)))\n",
    "\n",
    "## 1b) Plotten der Messpunkte und der Funktion\n",
    "\n",
    "polyline = np.linspace(0,10)\n",
    "plt.scatter(x,y)\n",
    "plt.plot(polyline,eichkurve(polyline))\n",
    "plt.xlabel(\"x-Achse beschriften\")\n",
    "plt.ylabel(\"y-Achse beschriften\")\n",
    "plt.title(\"Titel für den Plot\")\n",
    "plt.show()\n",
    "\n",
    "print(eichkurve) # Zeigt Formel der Quadratischen Funktion an"
   ]
  },
  {
   "cell_type": "markdown",
   "id": "81e32466-f320-4bc2-b163-aada64d6bae3",
   "metadata": {},
   "source": [
    "### 3.2 Berechnungen der Resultate"
   ]
  },
  {
   "cell_type": "code",
   "execution_count": null,
   "id": "4d465b5b",
   "metadata": {},
   "outputs": [],
   "source": [
    "### Berechnungen\n",
    "\n",
    "## Vorbereitung für Berechnung von Wellenlängen für Balmer- und Frauenhoferlinien\n",
    "# Auslesen der Parameter der Quadratischen Funktion der Eichkurve (ax^2 + bx + c)\n",
    "\n",
    "a = eichkurve[2] \n",
    "b = eichkurve[1]\n",
    "c = eichkurve[0]\n",
    "\n",
    "## 2a) Berechnung Balmerlinien\n",
    "\n",
    "balmer_wellenlaengen = ... # Tipp: aus a, b und c berechnen\n",
    "\n",
    "## 2b) Berechnung Rydberg-Frequenzen\n",
    "\n",
    "Ry = ...\n",
    "\n",
    "## 2c) Mittelwert Rydberg-Frequenz und Abweichung zu theoretischem Wert\n",
    "\n",
    "Ry_mean = ...\n",
    "Ry_abw = ... # in Prozent!\n",
    "\n",
    "## 2d) Seriengrenze\n",
    "\n",
    "lambda_alpha = ... # ACHTUNG: Warum sehe ich die Seriengrenze nicht im Spektrometer? --> DISKUSSION!\n",
    "\n",
    "## 2e) Ionisierungsenergie\n",
    "\n",
    "E1 = ... # ACHTUNG, Überlegung: Wie komme ich auf die Einheit Elektronenvolt? --> umrechnen\n",
    "\n",
    "## 3) Berechnung Frauenhoferlinien\n",
    "\n",
    "# analog zu 2a) # ACHTUNG: Sind die herausgefundenen Elemente realistisch? --> DISKUSSION!\n"
   ]
  },
  {
   "cell_type": "markdown",
   "id": "9aa6a320-9bac-43b9-869c-fcd07c9b7458",
   "metadata": {
    "tags": []
   },
   "source": [
    "### 3.3 Ausgabe der Resultate"
   ]
  },
  {
   "cell_type": "code",
   "execution_count": null,
   "id": "3d46de96-888f-463f-82bb-d5ec51ba1bca",
   "metadata": {},
   "outputs": [],
   "source": [
    "### Ausgabe der Resultate\n",
    "\n",
    "### WICHTIG:\n",
    "### - Es muss klar sein, welche Variable ausgegeben wird\n",
    "### - Die Einheiten müssen angegeben sein\n",
    "### - Es muss klar sein, welches Ergebnis zu welcher Aufgabe gehört\n",
    "\n",
    "## 2. Balmerlinien\n",
    "# Beispiel zur übersichtlichten Darstellung, ist euch überlassen, wie ihr es darstellen wollt\n",
    "\n",
    "print(\"Balmer Wellenlaenge\")\n",
    "for i in balmer_wellenlaengen: print(\"({}) nm\".format(i))\n",
    "\n",
    "# Rydberg-Frequenz, Seriengrenze und Ionisierungsenergie\n",
    "\n",
    "#...\n",
    "\n",
    "## 3. Frauenhoferlinien\n",
    "\n",
    "#..."
   ]
  },
  {
   "cell_type": "markdown",
   "id": "90240c6c",
   "metadata": {
    "jp-MarkdownHeadingCollapsed": true,
    "tags": []
   },
   "source": [
    "### 3.2 Bestimmung der Genauigkeit\n",
    "\n",
    "- Welche Messfehler wurden angenommen? Warum?"
   ]
  },
  {
   "cell_type": "markdown",
   "id": "54670327",
   "metadata": {},
   "source": [
    "## 4. Bewertung und Einordnung der Ergebnisse\n",
    "\n",
    "**Je nach Ergebnis:**\n",
    "\n",
    "- Sind die Ergebnisse realistisch? Warum (nicht)? Vergleich mit Theorie?\n",
    "- Was sind die Hauptgründe für die Fehler eurer Ergebnisse und wie kommen sie zustande?\n",
    "- Wie würdet ihr versuchen, diese weiter zu verringern.\n",
    "- Wenn ihr den Versuch wiederholen würdet, was würdet ihr anders machen und warum?\n",
    "- Wie könnte man die Genauigkeit des Versuchs verbessern?\n",
    "\n",
    "**Anmerkung: Wenn vorhanden:  Messblatt des Versuchs mit abgeben!**"
   ]
  },
  {
   "cell_type": "code",
   "execution_count": null,
   "id": "3b13bfc4-260e-4901-83ed-f8190788973f",
   "metadata": {},
   "outputs": [],
   "source": []
  }
 ],
 "metadata": {
  "kernelspec": {
   "display_name": "Python 3 (ipykernel)",
   "language": "python",
   "name": "python3"
  },
  "language_info": {
   "codemirror_mode": {
    "name": "ipython",
    "version": 3
   },
   "file_extension": ".py",
   "mimetype": "text/x-python",
   "name": "python",
   "nbconvert_exporter": "python",
   "pygments_lexer": "ipython3",
   "version": "3.9.7"
  }
 },
 "nbformat": 4,
 "nbformat_minor": 5
}
