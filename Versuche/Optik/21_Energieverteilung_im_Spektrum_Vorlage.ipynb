{
 "cells": [
  {
   "cell_type": "markdown",
   "id": "d507c8b7",
   "metadata": {},
   "source": [
    "# Bericht zu Versuch 21 \"Energieverteilung im Spektrum\""
   ]
  },
  {
   "cell_type": "markdown",
   "id": "04e05eff",
   "metadata": {},
   "source": [
    "**Datum:** <2022-1M-DD>\n",
    " \n",
    " - **Student 1:** <vollständiger Name>\n",
    " - **Student 2:** <vollständiger Name>"
   ]
  },
  {
   "cell_type": "markdown",
   "id": "0e484b96",
   "metadata": {},
   "source": [
    "## 1. Überblick\n",
    "\n",
    "### 1.1 Einführung\n",
    "\n",
    "- Um was geht es in dem Versuch? Was ist das Ziel?\n",
    "\n",
    "### 1.2 Zusammenfassung der Theorie\n",
    "\n",
    "- Erläuterung der benutzten Formeln inkl. Variablenbeschriftung (Bsp. vom Vorversuch)\n",
    "    - Darstellung z.B. durch \"\\\\$\\\\$ T = 2\\pi \\sqrt{\\frac{L}{g}} \\\\$\\\\$\" --> $$T=2\\pi\\sqrt{\\frac{L}{g}}$$, wobei $T$ die Schinwungsdauer des Pendels für eine Oszillation, $L$ die Länge des Pendels und $g$ die Erdbeschleunigung.\n",
    "    - $$\\phi = A \\exp(-\\frac{\\gamma t}{2})\\cos(\\omega t + \\alpha)$$, wobei $\\phi$ die Auslenkung der Schwingung, $A$ die ursprüngliche Amplitude der Schwingung, $\\gamma$ der Reibungskoeffizient und $\\omega$ die Kreisfrequenz.\n",
    "\n",
    "### 1.3 Aufgaben\n",
    "\n",
    "- Was sind die Aufgabenstellungen für den Versuch?\n",
    "\n",
    "### 1.4 Umweltrelevanz\n",
    "\n",
    "- Inwiefern ist der Versuch relevant für euer Studium in Umweltwissenschaften? (1-2 Sätze)"
   ]
  },
  {
   "cell_type": "markdown",
   "id": "0ecc9542",
   "metadata": {},
   "source": [
    "## 2. Messdaten"
   ]
  },
  {
   "cell_type": "markdown",
   "id": "14813b64",
   "metadata": {},
   "source": [
    "### 2.1 Packages laden"
   ]
  },
  {
   "cell_type": "code",
   "execution_count": 1,
   "id": "244afd3e",
   "metadata": {},
   "outputs": [],
   "source": [
    "# Importieren der benutzten Packages\n",
    "\n",
    "# Meist benötigt: \n",
    "import numpy as np  # Math\n",
    "from uncertainties import ufloat # ufloat( , ) für die Fehlerrechnung\n",
    "from uncertainties.umath import *  # Für Funktionen wie sin, cos\n",
    "\n",
    "# Falls benutzt\n",
    "import pandas as pd # z.B. zum Importieren von Excel-Tabellen (csv-Files)\n",
    "import matplotlib.pyplot as plt # Plotting\n",
    "from uncertainties import unumpy # für uncertainties in arrays\n",
    "#from scipy import linregress # Lineare regression\n",
    "from IPython.display import display, Markdown"
   ]
  },
  {
   "cell_type": "markdown",
   "id": "7f9c9d66",
   "metadata": {},
   "source": [
    "Tabulate installieren, um tabellen übersichtlich anzuzeigen"
   ]
  },
  {
   "cell_type": "code",
   "execution_count": 2,
   "id": "adb40476",
   "metadata": {},
   "outputs": [
    {
     "name": "stdout",
     "output_type": "stream",
     "text": [
      "Defaulting to user installation because normal site-packages is not writeable\n",
      "Requirement already satisfied: tabulate in /home/victoria/.local/lib/python3.10/site-packages (0.9.0)\n",
      "Note: you may need to restart the kernel to use updated packages.\n"
     ]
    }
   ],
   "source": [
    "pip install tabulate"
   ]
  },
  {
   "cell_type": "markdown",
   "id": "88728a35",
   "metadata": {},
   "source": [
    "### 2.2 Funktionen definieren "
   ]
  },
  {
   "cell_type": "markdown",
   "id": "8024021d",
   "metadata": {},
   "source": [
    "#### 2.2.1 Some Basics"
   ]
  },
  {
   "cell_type": "code",
   "execution_count": 3,
   "id": "44fc1dc2",
   "metadata": {},
   "outputs": [],
   "source": [
    "# Funktionen schreiben und anwenden:\n",
    "#\n",
    "# Zuerst Funktion definieren\n",
    "# def name_der_funktion(Eingabewert1, Eingabewert2, ...):\n",
    "#     zu_berechnende_variable = Eingabewert1 * Eingabewert2\n",
    "#     zu_berechnende_variable2 = Eingabewert1 + Eingabewert2\n",
    "#     return zu_berechnende_variable, zu_berechnende_variable2, ...\n",
    "#\n",
    "# Anwendung:\n",
    "# wert1, wert2 = name_der_funktion(Eingabewert1, Eingabewert2, ...)\n",
    "\n",
    "\n",
    "# uarrays\n",
    "# Beispieldaten\n",
    "Messwerte = [1,2,3,2,5,7,4,5,2,1,4] # das ist ein array\n",
    "Standardabweichung = np.std(Messwerte) # das ist ein float\n",
    "Messwerte_mit_Fehler = unumpy.uarray(Messwerte,Standardabweichung) # das ist ein uarray\n",
    "\n",
    "# Achtung!!!\n",
    "# für Mittelwertberechnung ist folgendes nicht erlaubt, da so Fehlerfortpflanzung gemacht \n",
    "# wird, obwohl auch die Standardabweichung der Fehler des Mittelwerts ist:\n",
    "Falscher_Mittelwert = np.mean(Messwerte_mit_Fehler)\n",
    "# So geht es richtig\n",
    "Mittelwert = ufloat(np.mean(Messwerte),Standardabweichung)\n",
    "# Im Allgemeinen werden in der Auswertung (\"beim Einsetzen in die Formel\") ufloats mit \n",
    "# Mittelwert und Standardabweichung benutzt."
   ]
  },
  {
   "cell_type": "markdown",
   "id": "61af62d4",
   "metadata": {},
   "source": [
    "#### 2.2.2 Darstellen der Daten mit tabulate"
   ]
  },
  {
   "cell_type": "code",
   "execution_count": 4,
   "id": "35b8f5b4",
   "metadata": {},
   "outputs": [
    {
     "name": "stdout",
     "output_type": "stream",
     "text": [
      "╒════════════════════╤═══════════════════════════╤══════════╤═════════════════╕\n",
      "│   Titel1 [Einheit] │   Fehler_Titel1 [Einheit] │   Titel2 │   Fehler_Titel2 │\n",
      "╞════════════════════╪═══════════════════════════╪══════════╪═════════════════╡\n",
      "│               1.43 │                         1 │        1 │               1 │\n",
      "├────────────────────┼───────────────────────────┼──────────┼─────────────────┤\n",
      "│               2.42 │                         2 │        2 │               2 │\n",
      "├────────────────────┼───────────────────────────┼──────────┼─────────────────┤\n",
      "│               3.32 │                         3 │        3 │               3 │\n",
      "├────────────────────┼───────────────────────────┼──────────┼─────────────────┤\n",
      "│               4.43 │                         4 │        4 │               4 │\n",
      "├────────────────────┼───────────────────────────┼──────────┼─────────────────┤\n",
      "│               5.14 │                         5 │        5 │               5 │\n",
      "├────────────────────┼───────────────────────────┼──────────┼─────────────────┤\n",
      "│               6.46 │                         6 │        6 │               6 │\n",
      "├────────────────────┼───────────────────────────┼──────────┼─────────────────┤\n",
      "│               7.24 │                         7 │        7 │               7 │\n",
      "╘════════════════════╧═══════════════════════════╧══════════╧═════════════════╛\n"
     ]
    }
   ],
   "source": [
    "# erfundene Beispieldaten, jede Liste muss gleich lang sein\n",
    "Messwerte1, Fehler_Messwerte1, Messwerte2, Fehler_Messwerte2 = [1.42545,2.4235,3.324,4.435,5.135,6.46,7.24], [1,2,3,4,5,6,7], [1,2,3,4,5,6,7], [1,2,3,4,5,6,7]\n",
    "\n",
    "table = [Messwerte1, Fehler_Messwerte1, Messwerte2, Fehler_Messwerte2] # kann beliebig erweitert werden. Falls der Fehler jedes Messwerts derselbe ist könnt ihr ihn auch in den header schreiben.\n",
    "header = ['Titel1 [Einheit]', 'Fehler_Titel1 [Einheit]', 'Titel2', 'Fehler_Titel2'] # muss selbe Anzahl Einträge haben wie table.\n",
    "\n",
    "#Funktion zum Tabellen erstellen aus einem table. Input: table(liste in liste), header\n",
    "from tabulate import tabulate\n",
    "def Tabelle(table, header, Kommastellen):\n",
    "    for i in range(len(table)):\n",
    "        for k in range(len(table[i])):\n",
    "            table[i][k] = np.round(table[i][k], Kommastellen)\n",
    "    for i in range(len(header)):\n",
    "        table[i].insert(0,header[i])\n",
    "    table = np.matrix.transpose(np.array(table))\n",
    "    print(tabulate(table, headers='firstrow', tablefmt='fancy_grid'))\n",
    "    return \n",
    "\n",
    "Tabelle(table, header, 2) # Hier wird die Funktion ausgeführt"
   ]
  },
  {
   "cell_type": "markdown",
   "id": "6af9857e",
   "metadata": {},
   "source": [
    "#### 2.2.3 Polynomfit der Eichkurven\n",
    "Die Umrechnung von $\\gamma_0-\\gamma$ in $log_{10}(\\lambda)$ bzw. $log_{10}(|d\\lambda/d\\gamma|)$ kann mithilfe der folgenden Funktionen erfolgen, und muss nicht händisch auf der Eichkurve abgelesen werden."
   ]
  },
  {
   "cell_type": "code",
   "execution_count": 5,
   "id": "2dc2209a",
   "metadata": {},
   "outputs": [],
   "source": [
    "# generisches Polynom\n",
    "def polynom(coefficients, x): # coefficients: array mit den Koeffizienten\n",
    "    poly = 0\n",
    "    for i in range(len(coefficients)):\n",
    "        poly = poly + coefficients[i]*x**i\n",
    "    return poly\n",
    "\n",
    "# Fitfunktion für log10(lambda)\n",
    "def log10lambda(x): # lambda in Mikrometer, x = gamma0-gamma [°] \n",
    "    coefficients = [-0.23991, -0.01573, 0.00226, -1.21005E-4, -7.53654E-5, -4.09306E-6, 1.70008E-6, 1.30007E-7] # B0 ... B7 von der Eichkurven-Fitfunktion\n",
    "    return polynom(coefficients, x)\n",
    "\n",
    "# Fitfunktion von log10(|dlambda/dgamma|)\n",
    "def log10dlambda_dgamma(x): # lambda in Mikrometer, x = gamma0 - gamma [°] \n",
    "    coefficients = [-1.63959,-0.08758,0.00106,5.9517E-4,1.86036E-4,-2.01466E-5,-3.45518E-6,-5.57806E-8]\n",
    "    return polynom(coefficients,x)"
   ]
  },
  {
   "cell_type": "markdown",
   "id": "4f5212f3",
   "metadata": {},
   "source": [
    "#### 2.2.4 Spezifische Fuktionen zur Umrechnung von $\\gamma$ und $I$ in $\\lambda$ und $C\\cdot E$ in Aufgabe 2"
   ]
  },
  {
   "cell_type": "code",
   "execution_count": 6,
   "id": "97962693",
   "metadata": {},
   "outputs": [],
   "source": [
    "# Berechnung von gamma0-gamma (hier als Beispiel):\n",
    "def gamma_diff(gamma0, gamma): \n",
    "    # 'gamma0' ist ein (u)float, gamma ist jedoch ein (u)array -> die Berechnung muss einzeln erfolgen \n",
    "    # für jedes Element von 'gamma' \n",
    "    diff = [] # erzeuge ein leeres array 'diff'\n",
    "    for i in range(len(gamma)): \n",
    "        diff.append(gamma0 - gamma[i]) # für jedes Element i aus 'gamma' füge ein Element zu 'diff' hinzu, \n",
    "                                       # das den Wert (gamma0 - gamma[i]) hat\n",
    "    return diff\n",
    "\n",
    "# Berechnung von log(lambda)\n",
    " \n",
    "    \n",
    "# Berechnung von lambda\n",
    "\n",
    "\n",
    "# Berechnung von log(|dlambda/dgamma|)\n",
    "\n",
    "\n",
    "# Berechnung von dlambda/dgamma\n",
    "\n",
    "\n",
    "# Berechnung von C*E\n",
    "\n"
   ]
  },
  {
   "cell_type": "markdown",
   "id": "a7d6c583",
   "metadata": {},
   "source": [
    "### 2.3 Messdaten einlesen"
   ]
  },
  {
   "cell_type": "markdown",
   "id": "742660ab",
   "metadata": {},
   "source": [
    "#### 2.3.1 Einlesen von Daten - Basics"
   ]
  },
  {
   "cell_type": "code",
   "execution_count": 31,
   "id": "f3abb5ea",
   "metadata": {},
   "outputs": [],
   "source": [
    "#------------------------------------------------------------------------------------\n",
    "# Möglichkeit 1: aus einer CSV Tabelle\n",
    "#------------------------------------------------------------------------------------\n",
    "\n",
    "#data = pd.read_csv('./pfad/zur/datei.csv') \n",
    "#Messwerte1, Fehler_Messwerte1, Messwerte2, Fehler_Messwerte2 = data.Spalte1, data.Spalte2, data.Spalte3, data.Spalte4\n",
    "\n",
    "# jede Liste muss gleich lang sein\n",
    "# die Spalte mit dem Namen 'Spalte1' wird in der Variable 'Messwerte1' gespeichert,\n",
    "# die Spalte mit dem Namen 'Spalte2' wird in der Variable 'Messwerte2' gespeichert usw.\n",
    "\n",
    "############################################################\n",
    "data = pd.read_csv('./V8.csv') # '/pfad/zur/datei.csv'\n",
    "gamma_M1, I_M1 = data.gamma, data.I \n",
    "\n",
    "data2 = pd.read_csv('./V6.csv') # '/pfad/zur/datei.csv'\n",
    "gamma_M2, I_M2 = data2.gamma, data.I \n",
    "\n",
    "data3 = pd.read_csv('./V4.csv') # '/pfad/zur/datei.csv'\n",
    "gamma_M3, I_M3 = data3.gamma, data.I \n",
    "#############################################################\n",
    "\n",
    "#------------------------------------------------------------------------------------\n",
    "# Möglichkeit 1: manuell einlesen\n",
    "#------------------------------------------------------------------------------------\n",
    "\n",
    "Messwerte1, Fehler_Messwerte1, Messwerte2, Fehler_Messwerte2 = [1,2,3,4,5,6,7], [1,2,3,4,5,6,7], [1,2,3,4,5,6,7], [1,2,3,4,5,6,7]"
   ]
  },
  {
   "cell_type": "markdown",
   "id": "f8db1927",
   "metadata": {},
   "source": [
    "#### 2.3.2 Messwerte"
   ]
  },
  {
   "cell_type": "code",
   "execution_count": 8,
   "id": "efb8aa50",
   "metadata": {},
   "outputs": [],
   "source": [
    "#--------------------------------------------------------------------\n",
    "# Beispiel:\n",
    "\n",
    "# Eine Variable\n",
    "# Variable = ufloat(Messwert, Absoluter Fehler) # [Einheit]\n",
    "ein_gamma = ufloat(20.33, 0.17) # [°]\n",
    "# mehrere Variablen in ein (u)array zusammengefasst\n",
    "mehrere_gammas = unumpy.uarray([20.33, 18.57, 23.10], [0.17, 0.34, 0.68]) # [°]\n",
    "#--------------------------------------------------------------------\n",
    "\n",
    "\n",
    "# Lage der gelben Hg-Linie:\n",
    "gamma0 = ... # [Einheit]\n",
    "\n",
    "\n",
    "#--------------------------------------------------------------------\n",
    "# Aufgabe 1: Kontrolle der Eichkurve\n",
    "#--------------------------------------------------------------------\n",
    "\n",
    "# Lage der 4 Spektrallinien der Hg-Lampe\n",
    "gamma_Hg = ... # [Einheit]\n",
    "\n",
    "\n",
    "#--------------------------------------------------------------------\n",
    "# Aufgabe 2: Energieverteilung einer Wolframband-/Halogenlampe\n",
    "#--------------------------------------------------------------------\n",
    "\n",
    "# Verwendete Lampe: .........\n",
    "\n",
    "# Messwerte für Ablenkwinkel und Intensität für 3 verschiedene Spannungen\n",
    "\n",
    "#Messung 1:\n",
    "Spannung1 = ... # [Einheit]\n",
    "gamma_U1 = ... # [Einheit]\n",
    "intensity_U1 = ... # [Einheit]\n",
    "\n",
    "#Messung 2:\n",
    "Spannung2 = ... # [Einheit]\n",
    "gamma_U2 = ... # [Einheit]\n",
    "intensity_U2 = ... # [Einheit]\n",
    "\n",
    "# Messung 3:\n",
    "Spannung3 = ... # [Einheit]\n",
    "gamma_U3 = ... # [Einheit]\n",
    "intensity_U3 = ... # [Einheit]"
   ]
  },
  {
   "cell_type": "markdown",
   "id": "fcca4f47-f358-478f-877b-cb1cf9e51ef3",
   "metadata": {},
   "source": [
    "## 3. Auswertung"
   ]
  },
  {
   "cell_type": "markdown",
   "id": "ac64e588-fb1b-40a7-a16d-51080697c129",
   "metadata": {},
   "source": [
    "#### Je nach Aufgabenstellung\n",
    "- Graphische Darstellungen\n",
    "- Berechnungen aller Resultate (inkl. Fehlerrechnung)\n",
    "- Beantwortung der Aufgabenstellungen von 1 bis 3"
   ]
  },
  {
   "cell_type": "markdown",
   "id": "2ede144a-46d2-4313-a086-289232481244",
   "metadata": {},
   "source": [
    "### 3.1 Kontrolle der Eichkurve"
   ]
  },
  {
   "cell_type": "code",
   "execution_count": 9,
   "id": "127be3bf",
   "metadata": {},
   "outputs": [
    {
     "name": "stdout",
     "output_type": "stream",
     "text": [
      "╒════════════╤═══════════════════╤═════════════════════╤═════════════════════╕\n",
      "│ gamma []   │ gamma0-gamma []   │ lambda_messung []   │ lambda_theorie []   │\n",
      "╞════════════╪═══════════════════╪═════════════════════╪═════════════════════╡\n",
      "╘════════════╧═══════════════════╧═════════════════════╧═════════════════════╛\n"
     ]
    }
   ],
   "source": [
    "# Übersichtliche (tabellarische) Darstellung der Resultate (inkl. Fehler!!) und \n",
    "# Vergleich mit den Literaturwerten für die Wellenlängen der Hg-Linien\n",
    "\n",
    "header1 = ['gamma []', 'gamma0-gamma []', 'lambda_messung []', 'lambda_theorie []'] # Einheiten [] bitte ergänzen\n",
    "table1 = [[],[],[],[]]\n",
    "kommastellen1 = None\n",
    "\n",
    "Tabelle(table1, header1, kommastellen1)\n"
   ]
  },
  {
   "cell_type": "markdown",
   "id": "cbca8c35",
   "metadata": {},
   "source": [
    "### 3.2 Energieverteilung einer Wolframband-/Halogenlampe"
   ]
  },
  {
   "cell_type": "code",
   "execution_count": 21,
   "id": "42e08a5f",
   "metadata": {},
   "outputs": [
    {
     "name": "stdout",
     "output_type": "stream",
     "text": [
      "\n",
      " 1. Messung: U =  Ellipsis [Einheit]\n",
      "╒════════════╤═══════════════════╤═════════════╤═════════════════════╤════════╤═════════╕\n",
      "│ gamma []   │ gamma0-gamma []   │ lambda []   │ dlambda/dgamma []   │ I []   │ CE []   │\n",
      "╞════════════╪═══════════════════╪═════════════╪═════════════════════╪════════╪═════════╡\n",
      "╘════════════╧═══════════════════╧═════════════╧═════════════════════╧════════╧═════════╛\n",
      "\n",
      "\n",
      "1. Messung: U =  Ellipsis [Einheit]\n",
      "╒════════════╤═══════════════════╤═════════════╤═════════════════════╤════════╤═════════╕\n",
      "│ gamma []   │ gamma0-gamma []   │ lambda []   │ dlambda/dgamma []   │ I []   │ CE []   │\n",
      "╞════════════╪═══════════════════╪═════════════╪═════════════════════╪════════╪═════════╡\n",
      "╘════════════╧═══════════════════╧═════════════╧═════════════════════╧════════╧═════════╛\n",
      "\n",
      " 1. Messung: U =  Ellipsis [Einheit]\n",
      "╒════════════╤═══════════════════╤═════════════╤═════════════════════╤════════╤═════════╕\n",
      "│ gamma []   │ gamma0-gamma []   │ lambda []   │ dlambda/dgamma []   │ I []   │ CE []   │\n",
      "╞════════════╪═══════════════════╪═════════════╪═════════════════════╪════════╪═════════╡\n",
      "╘════════════╧═══════════════════╧═════════════╧═════════════════════╧════════╧═════════╛\n"
     ]
    }
   ],
   "source": [
    "# Übersichtliche (tabellarische) Darstellung der Resultate inkl. Fehler\n",
    "\n",
    "# Messung 1:\n",
    "print('\\n 1. Messung: U = ', Spannung1, '[Einheit]')\n",
    "header2 = ['gamma []', 'gamma0-gamma []', 'lambda []', 'dlambda/dgamma []', 'I []', 'CE []'] # Einheiten [] bitte ergänzen\n",
    "tableM1 = [[],[],[],[],[],[]]\n",
    "kommastellenM1 = None\n",
    "Tabelle(tableM1, header2, kommastellenM1)\n",
    "   \n",
    "# Messung 2:\n",
    "   \n",
    "      \n",
    "# Messung 3:\n",
    "\n"
   ]
  },
  {
   "cell_type": "code",
   "execution_count": 23,
   "id": "f16b8448",
   "metadata": {},
   "outputs": [
    {
     "data": {
      "image/png": "[encoded data removed]",
      "text/plain": [
       "<Figure size 640x480 with 1 Axes>"
      ]
     },
     "metadata": {},
     "output_type": "display_data"
    }
   ],
   "source": [
    "#------------------------------------------------------------------------------------\n",
    "# Grafische Darstellung der spektralen Strahlungsdichte\n",
    "#------------------------------------------------------------------------------------\n",
    "# CE gegen lambda auftragen\n",
    "# plotten indem man plt.plot([x-werte],[y-werte]) eingibt\n",
    "# plt.errorbar fügt die Fehlerbalken für die y-Werte ein\n",
    "\n",
    "plt.figure()\n",
    "plt.plot(0, 0, label='Messwerte x')\n",
    "plt.errorbar(0 ,0 , yerr=0, fmt='+', label = 'Fehler')\n",
    "plt.title('Titel')\n",
    "plt.ylabel('y-Achsenbeschriftung')\n",
    "plt.xlabel('x-Achsenbeschriftung')\n",
    "plt.legend(frameon=False, loc='upper right')\n",
    "plt.margins(0)\n",
    "# falls die x-Achse gekürzt werden muss:\n",
    "# plt.xlim(Anfang, Ende)\n",
    "# Analog, mit der y-Achse:\n",
    "# plt.ylim(tiefster_Wert, höchster_wert)\n",
    "plt.show()"
   ]
  },
  {
   "cell_type": "markdown",
   "id": "afbaa7d2-380b-4b43-9118-904a9a307057",
   "metadata": {},
   "source": [
    "### 3.3 Wien'sches Verschiebungsgesetz"
   ]
  },
  {
   "cell_type": "code",
   "execution_count": null,
   "id": "32db1e86",
   "metadata": {},
   "outputs": [],
   "source": [
    "# Berechnung der Temperaturen der \n",
    "\n",
    "# Einfallende Teilchen in der Zeit t: N\n",
    "\n",
    "# Hintergrund in der Zeit t (mit 8 mm Stahl-Absorber): N_{BG}\n",
    "\n",
    "# Effektive Anzahl einfallender Teilchen in der Zeit t: N_{eff} = N - N_{BG}\n"
   ]
  },
  {
   "cell_type": "markdown",
   "id": "2f390a16",
   "metadata": {},
   "source": [
    "<i>Raumwinkelberechnung:</i>  \n",
    "Achtung: Winkel werden von Python standardgemäss in rad ausgegeben!"
   ]
  },
  {
   "cell_type": "code",
   "execution_count": null,
   "id": "46c98506",
   "metadata": {},
   "outputs": [],
   "source": [
    "# Durchmesser Stahlblende: d\n",
    "\n",
    "# Halbwinkel Kegel: θ\n",
    "\n",
    "# Raumwinkelbruchteil / Akzeptanz: ε"
   ]
  },
  {
   "cell_type": "markdown",
   "id": "eeeba08c",
   "metadata": {},
   "source": [
    "Es kann angenommen werden, dass die Quelle näherungsweise uniform in alle Richtungen strahlt. Der Detektor \"sieht\" aber nur einen Bruchteil davon, den sg. \"Raumwinkelbruchteil\" oder \"Akzeptanz\". Damit lässt sich die Aktivität der Probe berechnen."
   ]
  },
  {
   "cell_type": "code",
   "execution_count": null,
   "id": "b248591e",
   "metadata": {},
   "outputs": [],
   "source": [
    "# Aktivität der hier verwendeten Probe\n",
    "\n",
    "# Aktivität der hier verwendeten Probe, wenn man die schützende Stahlfolie entfernen würde"
   ]
  },
  {
   "cell_type": "markdown",
   "id": "8366cb0f",
   "metadata": {},
   "source": [
    "Vorsicht: Die Annahme, dass je die Hälfte der Eletronen von Strontium- bzw. Yttrium-Zerfällen stammt, gilt nur <b>innerhalb der Stahlfolie</b>! Beim Durchgang durch die Stahlfolie werden die Elektronen aus den beiden Zerfällen unterschiedlich stark abgeschirmt, daher gilt diese Annahme <b>nicht</b> im Detektor, wo N gemessen wird."
   ]
  },
  {
   "cell_type": "code",
   "execution_count": null,
   "id": "31c0518d",
   "metadata": {},
   "outputs": [],
   "source": [
    "print('d = ...... mm')"
   ]
  },
  {
   "cell_type": "code",
   "execution_count": null,
   "id": "792ab515",
   "metadata": {},
   "outputs": [],
   "source": [
    "print(\"Duchmesser Stahlblende d = .... mm\")\n",
    "print(\"Halbwinkel Kegel θ = .... deg\")\n",
    "print(\"Dsomit ist der Raumwinkelbruchteil bzw. die Akzeptanz ε = .... \")\n",
    "print(\"Duchmesser Stahlblende d = .... mm\")"
   ]
  },
  {
   "cell_type": "markdown",
   "id": "81e32466-f320-4bc2-b163-aada64d6bae3",
   "metadata": {},
   "source": [
    "### 3.2 Berechnungen der Resultate"
   ]
  },
  {
   "cell_type": "code",
   "execution_count": null,
   "id": "4d465b5b",
   "metadata": {},
   "outputs": [],
   "source": [
    "## Beispiel Vorversuch,  Gravitationskonstante\n",
    "\n"
   ]
  },
  {
   "cell_type": "markdown",
   "id": "9aa6a320-9bac-43b9-869c-fcd07c9b7458",
   "metadata": {
    "tags": []
   },
   "source": [
    "### Resultate"
   ]
  },
  {
   "cell_type": "code",
   "execution_count": null,
   "id": "3d46de96-888f-463f-82bb-d5ec51ba1bca",
   "metadata": {},
   "outputs": [],
   "source": [
    "print(\"Berechnete Gravitationskonstante g = ({:P}) m/^2\".format(g))"
   ]
  },
  {
   "cell_type": "markdown",
   "id": "90240c6c",
   "metadata": {
    "jp-MarkdownHeadingCollapsed": true,
    "tags": []
   },
   "source": [
    "### 3.2 Bestimmung der Genauigkeit\n",
    "\n",
    "- Welche Messfehler wurden angenommen? Warum?\n",
    "- Ausführung der Fehlerrechnung, falls nicht mit ufloat berechnet"
   ]
  },
  {
   "cell_type": "markdown",
   "id": "54670327",
   "metadata": {},
   "source": [
    "## 4. Bewertung und Einordnung der Ergebnisse\n",
    "\n",
    "**Je nach Ergebnis:**\n",
    "\n",
    "- Sind die Ergebnisse realistisch? Warum (nicht)? Vergleich mit Theorie?\n",
    "- Was sind die Hauptgründe für die Fehler eurer Ergebnisse und wie kommen sie zustande?\n",
    "- Wie würdet ihr versuchen, diese weiter zu verringern.\n",
    "- Wenn ihr den Versuch wiederholen würdet, was würdet ihr anders machen und warum?\n",
    "- Wie könnte man die Genauigkeit des Versuchs verbessern?\n",
    "\n",
    "**Anmerkung: Bitte das Messblatt mit abgeben, wenn beim Protokollieren der Messwerte benutzt wurde.**"
   ]
  },
  {
   "cell_type": "code",
   "execution_count": null,
   "id": "20b8091f-193c-4cda-8447-c3e3c1b5b672",
   "metadata": {},
   "outputs": [],
   "source": []
  }
 ],
 "metadata": {
  "kernelspec": {
   "display_name": "Python 3 (ipykernel)",
   "language": "python",
   "name": "python3"
  },
  "language_info": {
   "codemirror_mode": {
    "name": "ipython",
    "version": 3
   },
   "file_extension": ".py",
   "mimetype": "text/x-python",
   "name": "python",
   "nbconvert_exporter": "python",
   "pygments_lexer": "ipython3",
   "version": "3.10.6"
  }
 },
 "nbformat": 4,
 "nbformat_minor": 5
}
