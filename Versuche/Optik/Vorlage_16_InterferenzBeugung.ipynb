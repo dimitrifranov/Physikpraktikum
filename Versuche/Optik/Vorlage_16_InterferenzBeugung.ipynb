{
 "cells": [
  {
   "cell_type": "markdown",
   "id": "d507c8b7",
   "metadata": {},
   "source": [
    "# Bericht zu Versuch 16 - Interferenz und Beugung"
   ]
  },
  {
   "cell_type": "markdown",
   "id": "04e05eff",
   "metadata": {},
   "source": [
    "**Datum:** <20YY-MM-DD>\n",
    " \n",
    " - **StudentIn 1:** <vollständiger Name>\n",
    " - **StudentIn 2:** <vollständiger Name>"
   ]
  },
  {
   "cell_type": "markdown",
   "id": "0e484b96",
   "metadata": {},
   "source": [
    "## 1. Überblick\n",
    "\n",
    "### Einführung\n",
    "\n",
    "- Um was geht es in dem Versuch? Was ist das Ziel?\n",
    "\n",
    "### 1.2 Zusammenfassung der Theorie\n",
    "\n",
    "- **Erläuterung der benutzten Formeln inkl. Variablenbeschriftung (Bsp. vom Vorversuch):**\n",
    "    - Darstellung z.B. durch \"\\\\$\\\\$ T = 2\\pi \\sqrt{\\frac{L}{g}} \\\\$\\\\$\" --> $$T=2\\pi\\sqrt{\\frac{L}{g}}$$, wobei $T$ die Schinwungsdauer des Pendels für eine Oszillation, $L$ die Länge des Pendels und $g$ die Erdbeschleunigung.\n",
    "    - $$\\phi = A \\exp(-\\frac{\\gamma t}{2})\\cos(\\omega t + \\alpha)$$, wobei $\\phi$ die Auslenkung der Schwingung, $A$ die ursprüngliche Amplitude der Schwingung, $\\gamma$ der Reibungskoeffizient und $\\omega$ die Kreisfrequenz.\n",
    "\n",
    "- **Beispiel aus Versuch 16 - Interferenz und Beugung:**\n",
    "$$\\lambda=2d\\sin({\\frac{\\beta}{2}})$$, wobei $\\lambda$ die Wellenlänge, $d$ der Abstand zwischen den Maxima des Interferenzbildes, und $\\beta$ der Winkel zwischen den interferierenden Parallelstrahlenbündeln.\n",
    "\n",
    "### 1.3 Aufgaben\n",
    "\n",
    "- Was sind die Aufgabenstellungen für den Versuch?\n",
    "\n",
    "### 1.4 Umweltrelevanz\n",
    "\n",
    "- Inwiefern ist der Versuch relevant für euer Studium in Umweltwissenschaften? (1-2 Sätze)"
   ]
  },
  {
   "cell_type": "markdown",
   "id": "0ecc9542",
   "metadata": {},
   "source": [
    "### 2. Messdaten"
   ]
  },
  {
   "cell_type": "code",
   "execution_count": 1,
   "id": "244afd3e",
   "metadata": {},
   "outputs": [],
   "source": [
    "# Importieren der benutzten Packages\n",
    "\n",
    "# Meist benötigt: \n",
    "import numpy as np  # Math\n",
    "from uncertainties import ufloat # ufloat( , ) für die Fehlerrechnung\n",
    "from uncertainties.umath import *  # Für Funktionen wie sin, cos\n",
    "import matplotlib.pyplot as plt # Zum Plotten\n",
    "from uncertainties import unumpy # Messwerte mit Fehlern in array\n",
    "import pandas as pd # z.B. zum Importieren von Excel-Tabellen (csv-Files)\n",
    "\n",
    "# Falls benutzt\n",
    "# from scipy import linregress # Lineare regression"
   ]
  },
  {
   "cell_type": "markdown",
   "id": "f98106da",
   "metadata": {},
   "source": [
    "#### Einlesen und Darstellen der Messdaten"
   ]
  },
  {
   "cell_type": "code",
   "execution_count": null,
   "id": "29931216-e52c-4c37-b305-8fd1d5f86142",
   "metadata": {},
   "outputs": [],
   "source": [
    "### Einlesen und Darstellen der Messdaten\n",
    "\n",
    "## 1a) Messung des Abstandes d zwischen den Maxima des Interferenzbildes hinter dem Biprisma:\n",
    "\n",
    "b = ufloat(0,0) # ufloat(Messwert,absoluter Fehler)\n",
    "f = 11 # Brennweite der Linse in [mm]\n",
    "dstrich = ufloat(0,0)\n",
    "\n",
    "print(\"b =\", b,\"mm\")\n",
    "print(\"Brennweite der Linse: f =\",f,\"mm\")\n",
    "print(\"Abstand zwischen zwei Maxima auf Schirm: d' = \",dstrich,\"mm\")\n",
    "\n",
    "## 1b)\n",
    "\n",
    "...\n",
    "\n",
    "## 1c)\n",
    "\n",
    "...\n",
    "\n",
    "## 2a)\n",
    "\n",
    "...\n",
    "\n",
    "## 2b)\n",
    "\n",
    "...\n",
    "\n",
    "## 2c)\n",
    "\n",
    "...\n",
    "\n",
    "## 3)\n",
    "\n",
    "...\n",
    "\n",
    "## 4a)\n",
    "\n",
    "...\n",
    "\n",
    "## 4b)\n",
    "\n",
    "..."
   ]
  },
  {
   "cell_type": "markdown",
   "id": "fcca4f47-f358-478f-877b-cb1cf9e51ef3",
   "metadata": {},
   "source": [
    "## 3. Auswertung"
   ]
  },
  {
   "cell_type": "markdown",
   "id": "81e32466-f320-4bc2-b163-aada64d6bae3",
   "metadata": {},
   "source": [
    "### 3.1 Berechnungen der Resultate"
   ]
  },
  {
   "cell_type": "code",
   "execution_count": null,
   "id": "4d465b5b",
   "metadata": {},
   "outputs": [],
   "source": [
    "### Berechnungen\n",
    "\n",
    "## 1a)\n",
    "\n",
    "a = ...\n",
    "d = ...\n",
    "\n",
    "## 1b)\n",
    "\n",
    "A = ...\n",
    "l = ...\n",
    "beta = ...\n",
    "lamb = ...\n",
    "\n",
    "## 2a)\n",
    "\n",
    "...\n",
    "\n",
    "## 2b)\n",
    "\n",
    "...\n",
    "\n",
    "## 2c)\n",
    "\n",
    "...\n",
    "\n",
    "## 3)\n",
    "\n",
    "...\n",
    "\n",
    "## 4a)\n",
    "\n",
    "...\n",
    "\n",
    "## 4b)\n",
    "\n",
    "..."
   ]
  },
  {
   "cell_type": "markdown",
   "id": "9aa6a320-9bac-43b9-869c-fcd07c9b7458",
   "metadata": {
    "tags": []
   },
   "source": [
    "### 3.2 Ausgabe der Resultate"
   ]
  },
  {
   "cell_type": "code",
   "execution_count": null,
   "id": "3d46de96-888f-463f-82bb-d5ec51ba1bca",
   "metadata": {},
   "outputs": [],
   "source": [
    "### Ausgabe der Resultate\n",
    "\n",
    "### WICHTIG:\n",
    "### - Es muss klar sein, welche Variable ausgegeben wird\n",
    "### - Die Einheiten müssen angegeben sein\n",
    "### - Es muss klar sein, welches Ergebnis zu welcher Aufgabe gehört\n",
    "\n",
    "## 1a)\n",
    "\n",
    "print(\"Aufgabe 1a)\")\n",
    "print(\"Abstand zwischen den Maxima des Interferenzbildes: d =\",d,\"[EINHEIT].\")\n",
    "print()\n",
    "\n",
    "## 1b)\n",
    "\n",
    "print(\"Aufgabe 1b)\")\n",
    "print(\"Wellenlänge des Lasers: $\\lambda$ = \",lamb,\"[EINHEIT].\")\n",
    "print()\n",
    "\n",
    "## 2a)\n",
    "\n",
    "...\n",
    "\n",
    "## 2b)\n",
    "\n",
    "...\n",
    "\n",
    "## 2c)\n",
    "\n",
    "...\n",
    "\n",
    "## 3)\n",
    "\n",
    "...\n",
    "\n",
    "## 4a)\n",
    "\n",
    "...\n",
    "\n",
    "## 4b)\n",
    "\n",
    "..."
   ]
  },
  {
   "cell_type": "markdown",
   "id": "90240c6c",
   "metadata": {
    "jp-MarkdownHeadingCollapsed": true,
    "tags": []
   },
   "source": [
    "### 3.2 Bestimmung der Genauigkeit\n",
    "\n",
    "- Welche Messfehler wurden angenommen? Warum?"
   ]
  },
  {
   "cell_type": "markdown",
   "id": "54670327",
   "metadata": {},
   "source": [
    "## 4. Bewertung und Einordnung der Ergebnisse\n",
    "\n",
    "**Je nach Ergebnis:**\n",
    "\n",
    "- Sind die Ergebnisse realistisch? Warum (nicht)? Vergleich mit Theorie?\n",
    "- Was sind die Hauptgründe für die Fehler eurer Ergebnisse und wie kommen sie zustande?\n",
    "- Wie würdet ihr versuchen, diese weiter zu verringern.\n",
    "- Wenn ihr den Versuch wiederholen würdet, was würdet ihr anders machen und warum?\n",
    "- Wie könnte man die Genauigkeit des Versuchs verbessern?\n",
    "\n",
    "**Anmerkung: Wenn vorhanden:  Messblatt des Versuchs mit abgeben!**"
   ]
  }
 ],
 "metadata": {
  "kernelspec": {
   "display_name": "Python 3 (ipykernel)",
   "language": "python",
   "name": "python3"
  },
  "language_info": {
   "codemirror_mode": {
    "name": "ipython",
    "version": 3
   },
   "file_extension": ".py",
   "mimetype": "text/x-python",
   "name": "python",
   "nbconvert_exporter": "python",
   "pygments_lexer": "ipython3",
   "version": "3.9.7"
  }
 },
 "nbformat": 4,
 "nbformat_minor": 5
}
