{
 "cells": [
  {
   "cell_type": "markdown",
   "id": "d507c8b7",
   "metadata": {},
   "source": [
    "# 10 Ideale Gaskonstante\n"
   ]
  },
  {
   "cell_type": "markdown",
   "id": "04e05eff",
   "metadata": {},
   "source": [
    "**Datum:** <2022-1M-DD>\n",
    " \n",
    " - **Student 1:** <vollständiger Name>\n",
    " - **Student 2:** <vollständiger Name>"
   ]
  },
  {
   "cell_type": "markdown",
   "id": "0e484b96",
   "metadata": {
    "tags": []
   },
   "source": [
    "## 1. Überblick\n",
    "\n",
    "### Einführung\n",
    "\n",
    "- Um was geht es in dem Versuch? Was ist das Ziel?\n",
    "\n",
    "### 1.2 Zusammenfassung der Theorie\n",
    "\n",
    "- Erläuterung der benutzten Formeln inkl. Variablenbeschriftung (Bsp. vom Vorversuch)\n",
    "    - Darstellung z.B. durch \"\\\\$\\\\$ T = 2\\pi \\sqrt{\\frac{L}{g}} \\\\$\\\\$\" --> $$T=2\\pi\\sqrt{\\frac{L}{g}}$$, wobei $T$ die Schinwungsdauer des Pendels für eine Oszillation, $L$ die Länge des Pendels und $g$ die Erdbeschleunigung.\n",
    "    - $$\\phi = A \\exp \\left( -\\frac{\\gamma t}{2}\\right)\\cos(\\omega t + \\alpha)$$, wobei $\\phi$ die Auslenkung der Schwingung, $A$ die ursprüngliche Amplitude der Schwingung, $\\gamma$ der Reibungskoeffizient und $\\omega$ die Kreisfrequenz.\n",
    "\n",
    "### 1.3 Aufgaben\n",
    "\n",
    "- Was sind die Aufgabenstellungen für den Versuch?\n",
    "\n",
    "### 1.4 Umweltrelevanz\n",
    "\n",
    "- Inwiefern ist der Versuch relevant für euer Studium in Umweltwissenschaften? (1-2 Sätze)"
   ]
  },
  {
   "cell_type": "markdown",
   "id": "0ecc9542",
   "metadata": {},
   "source": [
    "## 2. Messdaten\n",
    "### 2.1 Packages laden und Funktionen definieren"
   ]
  },
  {
   "cell_type": "code",
   "execution_count": 14,
   "id": "244afd3e",
   "metadata": {},
   "outputs": [],
   "source": [
    "# Importieren der benutzten Packages\n",
    "\n",
    "# Meist benötigt: \n",
    "import numpy as np  # Math\n",
    "from uncertainties import ufloat # ufloat( , ) für die Fehlerrechnung\n",
    "from uncertainties.umath import *  # Für Funktionen wie sin, cos\n",
    "from scipy.constants import R\n",
    "# from uncertainties import unumpy # für uncertainties in arrays\n",
    "\n",
    "# Falls benutzt\n",
    "# import pandas as pd # z.B. zum Importieren von Excel-Tabellen (csv-Files)"
   ]
  },
  {
   "cell_type": "code",
   "execution_count": 15,
   "id": "37e84458-eb2b-496c-81b8-22a5a864dcdc",
   "metadata": {},
   "outputs": [
    {
     "ename": "SyntaxError",
     "evalue": "invalid syntax (2269924752.py, line 16)",
     "output_type": "error",
     "traceback": [
      "\u001b[0;36m  File \u001b[0;32m\"/tmp/ipykernel_219/2269924752.py\"\u001b[0;36m, line \u001b[0;32m16\u001b[0m\n\u001b[0;31m    def R(...,...,...):\u001b[0m\n\u001b[0m          ^\u001b[0m\n\u001b[0;31mSyntaxError\u001b[0m\u001b[0;31m:\u001b[0m invalid syntax\n"
     ]
    }
   ],
   "source": [
    "#------------------------------------------------------------------\n",
    "# Wichtigste Formeln\n",
    "#------------------------------------------------------------------\n",
    "# Funktionen schreiben und anwenden:\n",
    "#\n",
    "# Zuerst Funktion definieren\n",
    "# def name_der_funktion(Eingabewert1, Eingabewert2, ...):\n",
    "#     zu_berechnende_variable = Eingabewert1 * Eingabewert2\n",
    "#     zu_berechnende_variable2 = Eingabewert1 + Eingabewert2\n",
    "#     return zu_berechnende_variable, zu_berechnende_variable2, ...\n",
    "#\n",
    "# Anwendung:\n",
    "# wert1, wert2 = name_der_funktion(Eingabewert1, Eingabewert2, ...)\n",
    "\n",
    "\n",
    "def R(...,...,...):\n",
    "    ''' Annäherung an die ideale\n",
    "    Gaskonstante'''\n",
    "    R = ...\n",
    "    return R\n",
    "\n",
    "def R_L(...,...,...):\n",
    "    \"\"\"\n",
    "    Ideale Gaskonstante mit Berücksichtigung der Luftfeuchtigkeit\n",
    "    \"\"\"\n",
    "    \n",
    "    R_L = ...\n",
    "    return R_L, ...\n",
    "\n",
    "def ...():\n",
    "    ...\n",
    "    return ..."
   ]
  },
  {
   "cell_type": "markdown",
   "id": "f98106da",
   "metadata": {},
   "source": [
    "### 2.2 Einlesen und Darstellen der Messdaten"
   ]
  },
  {
   "cell_type": "code",
   "execution_count": 2,
   "id": "29931216-e52c-4c37-b305-8fd1d5f86142",
   "metadata": {},
   "outputs": [],
   "source": [
    "# Beispiel:\n",
    "# Variable = ufloat(Messwert, Absoluter Fehler) # [Einheit]\n",
    "p_test = ufloat(707.42,0.1) # [mmHg]\n",
    "\n",
    "#------------------------------------------------------------------\n",
    "# Raumluft\n",
    "#------------------------------------------------------------------\n",
    "\n",
    "# Luftdruck\n",
    "pL_mmHg = ufloat(...,...) # [mmHg]\n",
    "p_korr = ...          # [mmHg] Korrekturwert Luftdruck\n",
    "pL_Torr = ...         # [Torr]\n",
    "pL_Pa = ...           # [Pa]\n",
    "\n",
    "# Lufttemperatur\n",
    "tL_C = ...            # [°C]\n",
    "#------------------------------------------------------------------\n",
    "# Messung 1\n",
    "#------------------------------------------------------------------\n",
    "# Molekulargewicht Luft\n",
    "ML = ...     # [g/mol]\n",
    "\n",
    "# Masse luftgefüllter Kolben\n",
    "mKL1 = ...   # [EINHEIT]\n",
    "\n",
    "# Masse evakuierter Kolben\n",
    "mKV1 = ...   # [EINHEIT]\n",
    "\n",
    "# Masse der (feuchten) Luft\n",
    "m1 = ...     # [EINHEIT]\n",
    "\n",
    "#------------------------------------------------------------------\n",
    "# Messung 2\n",
    "#------------------------------------------------------------------\n",
    "mKL2 = ...   # [EINHEIT]\n",
    "mKV2 = ...   # [EINHEIT]\n",
    "m2 = ...     # [EINHEIT]\n",
    "\n",
    "#------------------------------------------------------------------\n",
    "# Messung Volumen\n",
    "#------------------------------------------------------------------\n",
    "\n",
    "# Temperatur des Wassers\n",
    "tW_C = ...     # [EINHEIT]\n",
    "\n",
    "# Dichte des Wassers bei der Temperatur t\n",
    "rhoW = ...     # [EINHEIT]\n",
    "\n",
    "# Masse des leeren Kolbens\n",
    "mKl = ...     # [EINHEIT]\n",
    "\n",
    "# Masse des wassergefüllten Kolbens (Mit allem Glas, das zu mKV2 gehört)\n",
    "mKWa = ...     # [EINHEIT]\n",
    "\n",
    "# Masse des Wassers\n",
    "mWa = ...     # [EINHEIT]\n",
    "\n",
    "# Volumen des Wassers bzw. der Luft\n",
    "tW = ...     # [EINHEIT]\n"
   ]
  },
  {
   "cell_type": "code",
   "execution_count": null,
   "id": "bfc1af75-fa93-47cb-9bad-1f55367d3fd4",
   "metadata": {},
   "outputs": [],
   "source": [
    "#------------------------------------------------------------------\n",
    "# Messwerte ausgeben\n",
    "#------------------------------------------------------------------\n",
    "\n",
    "print()\n",
    "print(\"Luftdruck:\")\n",
    "print(\"Luftdruck in mmHg =\",...,\"[EINHEIT]\")\n",
    "print(\"Korrekturfaktor =\",...,\"[EINHEIT]\")\n",
    "print(\"Luftdruck in Torr =\",...,\"[EINHEIT]\")\n",
    "print(\"Luftdruck in Pa =\",...,\"[EINHEIT]\")\n",
    "print()\n",
    "\n",
    "print()\n",
    "print(\"1. Messung:\")\n",
    "print(...)\n",
    "print()\n",
    "\n",
    "print()\n",
    "print(\"2. Messung:\")\n",
    "print(...)\n",
    "print()\n",
    "\n",
    "print()\n",
    "print(\"Messung Volumen:\")\n",
    "print(...)\n",
    "print()"
   ]
  },
  {
   "cell_type": "markdown",
   "id": "fcca4f47-f358-478f-877b-cb1cf9e51ef3",
   "metadata": {},
   "source": [
    "## 3. Auswertung"
   ]
  },
  {
   "cell_type": "markdown",
   "id": "ac64e588-fb1b-40a7-a16d-51080697c129",
   "metadata": {
    "tags": []
   },
   "source": [
    "<div class=\"alert alert-block alert-info\">\n",
    "Je nach Aufgabenstellung: <br>\n",
    "- Graphische Darstellungen <br>\n",
    "- Berechnungen aller Resultate (inkl. Fehlerrechnung) <br>\n",
    "- Beantwortung der Aufgabenstellungen von 1.3.### 3.1 Abbildungen "
   ]
  },
  {
   "cell_type": "markdown",
   "id": "723150ea-9f2f-498b-81f9-2b0272656e20",
   "metadata": {
    "tags": []
   },
   "source": [
    "### 3.1 Berechnungen der Resultate"
   ]
  },
  {
   "cell_type": "code",
   "execution_count": null,
   "id": "e3874d9b-09f6-4065-9045-a6a68afab40f",
   "metadata": {},
   "outputs": [],
   "source": [
    "#-------------------------------------------------------------------------------\n",
    "# Berechnung der Idealen Gaskonstante (Annäherung)\n",
    "#-------------------------------------------------------------------------------\n",
    "R1 = R(...,...) # Formel benutzen oder Funktion von oben anwenden\n",
    "R2 = ...        # [EINHEIT]\n",
    "\n",
    "#-------------------------------------------------------------------------------\n",
    "# Berechnung der Idealen Gaskonstante mit Berücksichtigung der Luftfeuchtigkeit\n",
    "#-------------------------------------------------------------------------------\n",
    "# Relative Luftfeuchtigkeit\n",
    "phi =        # [EINHEIT]\n",
    "\n",
    "# Sättigungsdampfdruck\n",
    "A = ...      # [EINHEIT]\n",
    "s = ...      # [EINHEIT]\n",
    "Tn = ...     # [EINHEIT]\n",
    "pws = ...    # [EINHEIT]\n",
    "\n",
    "# Partialdruck der Luftfeuchtigkeit\n",
    "pw = ...     # [EINHEIT]\n",
    "\n",
    "# Partialdruck der trockenen Luft\n",
    "pL = ...     # [EINHEIT]\n",
    "\n",
    "# Molekulargewicht von Wasser\n",
    "MW = ...     # [EINHEIT]\n",
    "\n",
    "R1_L = ...   # [EINHEIT]\n",
    "R2_L = ...   # [EINHEIT]"
   ]
  },
  {
   "cell_type": "code",
   "execution_count": 13,
   "id": "cff9e703-dfc8-4519-b937-12a38b755859",
   "metadata": {},
   "outputs": [
    {
     "name": "stdout",
     "output_type": "stream",
     "text": [
      "Literaturwert:\n",
      "Ideale Gaskonstante R = 8.314462618 [J K-1 mol-1]\n"
     ]
    },
    {
     "data": {
      "text/plain": [
       "'print(...)\\nprint()\\nprint(\"Genauere Berechnung des absoluten Nullpunktes:\")\\nprint(\"a =\",a,\"[EINHEIT], b = \",b,\"[EINHEIT]., c = \",c,\"[EINHEIT].\")\\nprint(\"Absoluter Nullpunkt =\",t00,\"[EINHEIT]\")\\nprint()\\n\\nprint(\"Annäherung der Idealen Gaskonstante:\")\\nprint(\"Variable =\",...,\"[EINHEIT]\")\\nprint(...)\\nprint()\\nprint(\"Genauere Berechnung des absoluten Nullpunktes:\")\\nprint(\"a =\",a,\"[EINHEIT], b = \",b,\"[EINHEIT]., c = \",c,\"[EINHEIT].\")\\nprint(\"Absoluter Nullpunkt =\",t00,\"[EINHEIT]\")\\nprint()'"
      ]
     },
     "execution_count": 13,
     "metadata": {},
     "output_type": "execute_result"
    }
   ],
   "source": [
    "#-------------------------------------------------------------------------------\n",
    "# Ausgabe der Resultate\n",
    "#-------------------------------------------------------------------------------\n",
    "# Werte ausgeben\n",
    "print(\"Literaturwert:\")\n",
    "print(\"Ideale Gaskonstante R =\",R,\"[J K-1 mol-1]\")\n",
    "\n",
    "print()\n",
    "print(\"Annäherung an die Ideale Gaskonstante\")\n",
    "print(\"Gaskonstante R1 =\",...,\"[EINHEIT]\")\n",
    "print(\"Gaskonstante R2 =\",...,\"[EINHEIT]\")\n",
    "print()\n",
    "\n",
    "print(\"Genauere Berechnung der idealen Gaskonstante:\")\n",
    "print(...)\n",
    "print()"
   ]
  },
  {
   "cell_type": "markdown",
   "id": "90240c6c",
   "metadata": {
    "jp-MarkdownHeadingCollapsed": true,
    "tags": []
   },
   "source": [
    "### 3.2 Bestimmung der Genauigkeit\n",
    "\n",
    "- Welche Messfehler wurden angenommen? Warum?\n",
    "- Ausführung der Fehlerrechnung, falls nicht mit ufloat berechnet"
   ]
  },
  {
   "cell_type": "markdown",
   "id": "54670327",
   "metadata": {},
   "source": [
    "## 4. Bewertung und Einordnung der Ergebnisse\n",
    "\n",
    "**Je nach Ergebnis:**\n",
    "\n",
    "- Sind die Ergebnisse realistisch? Warum (nicht)? Vergleich mit Theorie?\n",
    "- Was sind die Hauptgründe für die Fehler eurer Ergebnisse und wie kommen sie zustande?\n",
    "- Wie würdet ihr versuchen, diese weiter zu verringern.\n",
    "- Wenn ihr den Versuch wiederholen würdet, was würdet ihr anders machen und warum?\n",
    "- Wie könnte man die Genauigkeit des Versuchs verbessern?\n",
    "\n",
    "**Anmerkung: Wenn vorhanden:  Messblatt des Versuchs mit abgeben!**"
   ]
  }
 ],
 "metadata": {
  "kernelspec": {
   "display_name": "Python 3 (ipykernel)",
   "language": "python",
   "name": "python3"
  },
  "language_info": {
   "codemirror_mode": {
    "name": "ipython",
    "version": 3
   },
   "file_extension": ".py",
   "mimetype": "text/x-python",
   "name": "python",
   "nbconvert_exporter": "python",
   "pygments_lexer": "ipython3",
   "version": "3.9.7"
  }
 },
 "nbformat": 4,
 "nbformat_minor": 5
}
