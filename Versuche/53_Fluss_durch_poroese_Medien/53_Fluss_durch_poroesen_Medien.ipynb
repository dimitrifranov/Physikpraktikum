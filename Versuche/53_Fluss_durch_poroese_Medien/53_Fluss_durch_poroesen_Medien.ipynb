{
 "cells": [
  {
   "cell_type": "markdown",
   "id": "b8c98e5b-298f-45ef-8c9f-69d42e52aa37",
   "metadata": {},
   "source": [
    "# Versuch 23: Fluß durch porösen Medium"
   ]
  },
  {
   "cell_type": "code",
   "execution_count": null,
   "id": "f6091849-4ab2-436b-8150-08f7aac6a8bb",
   "metadata": {},
   "outputs": [],
   "source": []
  },
  {
   "cell_type": "markdown",
   "id": "7c0cca36-a943-46b8-aa07-5f8ef2c304b1",
   "metadata": {},
   "source": [
    "**Datum:** <2022-11-03>\n",
    " \n",
    " - **Student 1:** \n",
    " - **Student 2:** "
   ]
  },
  {
   "cell_type": "markdown",
   "id": "3c7f0305-0db4-42de-8cab-6f2bd1065572",
   "metadata": {},
   "source": [
    "## 1. Überblick\n"
   ]
  },
  {
   "cell_type": "markdown",
   "id": "89f8f348-fbd1-4913-b422-7b1e2ced05aa",
   "metadata": {},
   "source": [
    "### 1.1 Einführung\n",
    "\n",
    "- Um was geht es in dem Versuch? Was ist das Ziel?"
   ]
  },
  {
   "cell_type": "markdown",
   "id": "861e393f-06f8-4c12-9844-242341a9ed8a",
   "metadata": {},
   "source": [
    "### 1.2 Zusammenfassung der Theorie\n",
    "\n",
    "- Erklärt mit euren eigenen Wörtern, was Leitfähigkeit ist. \n",
    "- Erwähnt, alle Formeln ihr benutzen wird, und beschreibt die Variablen mit deren Einheiten."
   ]
  },
  {
   "cell_type": "markdown",
   "id": "b89b3d61-64a3-4a9f-9e23-9714b7cb0b78",
   "metadata": {},
   "source": [
    "### 1.3 Aufgaben\n",
    "- Was und wie messt ihr ? Sei gedrängt"
   ]
  },
  {
   "cell_type": "markdown",
   "id": "2117075f-be25-4f94-9ae8-5aec1166ed1e",
   "metadata": {},
   "source": [
    "### 1.4 Umweltrelevanz\n",
    "\n",
    "- Inwiefern ist der Versuch relevant für euer Studium in Umweltwissenschaften? (1-2 Sätze)"
   ]
  },
  {
   "cell_type": "markdown",
   "id": "64122da4-57b7-4f47-bb73-1203288c9d3b",
   "metadata": {},
   "source": [
    "## 2. Messdaten"
   ]
  },
  {
   "cell_type": "code",
   "execution_count": null,
   "id": "7dcc4a24-8c21-4604-90f2-6c9e64a011b9",
   "metadata": {},
   "outputs": [],
   "source": [
    "### Zuerst, importiert hier die Packages, die ihr später benutzen wird.\n"
   ]
  },
  {
   "cell_type": "markdown",
   "id": "6c502661-2ef6-492b-96b4-cfb89f492a10",
   "metadata": {},
   "source": [
    "#### 2.1 Importiert hier eure Tabelle"
   ]
  },
  {
   "cell_type": "code",
   "execution_count": null,
   "id": "a768cdfe-a4cd-4f01-a972-430cb147e57f",
   "metadata": {},
   "outputs": [],
   "source": []
  },
  {
   "cell_type": "markdown",
   "id": "b5c4ebf9-67a9-48df-90e7-42638c635cfd",
   "metadata": {},
   "source": [
    "#### 2.2 Fragt eure Variablen aus des Tabelle ab"
   ]
  },
  {
   "cell_type": "markdown",
   "id": "1ec19c01-881d-47cf-ae5e-9461ce5c4176",
   "metadata": {},
   "source": []
  },
  {
   "cell_type": "markdown",
   "id": "65980d4a-2e84-47be-a043-ec1b033ed9ef",
   "metadata": {},
   "source": [
    "## 3. Auswertung"
   ]
  },
  {
   "cell_type": "markdown",
   "id": "69601977-d566-4abc-ac70-c8da784535ba",
   "metadata": {},
   "source": [
    "#### Ergebnisse der groben Säule"
   ]
  },
  {
   "cell_type": "code",
   "execution_count": null,
   "id": "dd24a666-1096-4750-b43b-a32ec2a1acc0",
   "metadata": {},
   "outputs": [],
   "source": []
  },
  {
   "cell_type": "markdown",
   "id": "0e248c5c-3166-4e2f-b1db-95bf8df285bb",
   "metadata": {},
   "source": [
    "#### Ergebnisse der feinen Säule"
   ]
  },
  {
   "cell_type": "code",
   "execution_count": null,
   "id": "9d9cfaf7-de7e-4b6e-971e-258a1b910c28",
   "metadata": {},
   "outputs": [],
   "source": []
  },
  {
   "cell_type": "markdown",
   "id": "22ffa737-92da-4793-8d14-870062f8f923",
   "metadata": {},
   "source": [
    "#### Ergebnisse der gemischten Säule"
   ]
  },
  {
   "cell_type": "code",
   "execution_count": null,
   "id": "b18a3c14-c381-403c-a1ee-8d22ea6ac5d8",
   "metadata": {},
   "outputs": [],
   "source": []
  },
  {
   "cell_type": "markdown",
   "id": "3291d704-1681-4996-b69f-e6881021c89f",
   "metadata": {},
   "source": [
    "## 4. Bewertung und Einordnung der Ergebnisse"
   ]
  },
  {
   "cell_type": "markdown",
   "id": "c5a56a49-0cf2-43ef-b580-abd7d6d5c652",
   "metadata": {},
   "source": [
    "#### Nach den Leitfähigkeiten, welches Material könnte eure grobe und feine Säule sein ?"
   ]
  },
  {
   "cell_type": "markdown",
   "id": "bba0617f-b5bd-4f5a-a998-1ed33683e85f",
   "metadata": {},
   "source": []
  },
  {
   "cell_type": "markdown",
   "id": "a754036b-ff91-4b69-92ec-4e4d90fd59c0",
   "metadata": {},
   "source": [
    "#### Sind eure Ergebnisse realistisch ?"
   ]
  },
  {
   "cell_type": "code",
   "execution_count": null,
   "id": "d6e3ccb3-0a19-4fef-b4fd-eb1007db2a22",
   "metadata": {},
   "outputs": [],
   "source": []
  },
  {
   "cell_type": "markdown",
   "id": "9863fc18-5d23-4b16-b325-ede7e468d94f",
   "metadata": {},
   "source": [
    "#### Was sind die Hauptgründe für die Fehler eurer Ergebnisse und wie kommen sie zustande ?"
   ]
  },
  {
   "cell_type": "code",
   "execution_count": null,
   "id": "51ff2d35-4887-445d-b306-8cc03e08bea6",
   "metadata": {},
   "outputs": [],
   "source": []
  },
  {
   "cell_type": "markdown",
   "id": "75a1f221-827b-4bcc-ba40-d868ef68f388",
   "metadata": {},
   "source": [
    "#### Wie würdet ihr versuchen, diese weiter zu verringern ? Wenn ihr den Versuch wiederholen würdet, was würdet ihr anders machen und warum ?"
   ]
  },
  {
   "cell_type": "code",
   "execution_count": null,
   "id": "794dae14-20fa-4e7e-a328-6e5b286c6af1",
   "metadata": {},
   "outputs": [],
   "source": []
  },
  {
   "cell_type": "markdown",
   "id": "57df11e1-b8bc-4312-92de-89371cb875b7",
   "metadata": {},
   "source": [
    "#### Wie könnte man die Genauigkeit des Versuchs verbessern ?"
   ]
  },
  {
   "cell_type": "code",
   "execution_count": null,
   "id": "516999ed-72d9-4bd2-bdfc-57bc90ca5709",
   "metadata": {},
   "outputs": [],
   "source": []
  }
 ],
 "metadata": {
  "kernelspec": {
   "display_name": "Python 3 (ipykernel)",
   "language": "python",
   "name": "python3"
  },
  "language_info": {
   "codemirror_mode": {
    "name": "ipython",
    "version": 3
   },
   "file_extension": ".py",
   "mimetype": "text/x-python",
   "name": "python",
   "nbconvert_exporter": "python",
   "pygments_lexer": "ipython3",
   "version": "3.9.7"
  }
 },
 "nbformat": 4,
 "nbformat_minor": 5
}
