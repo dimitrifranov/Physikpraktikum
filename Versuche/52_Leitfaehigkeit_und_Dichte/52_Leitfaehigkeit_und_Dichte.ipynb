{
 "cells": [
  {
   "cell_type": "markdown",
   "id": "b8c98e5b-298f-45ef-8c9f-69d42e52aa37",
   "metadata": {},
   "source": [
    "# Versuch 52: Leitfähigkeit und Dichte eines Elektrolyten"
   ]
  },
  {
   "cell_type": "markdown",
   "id": "7c0cca36-a943-46b8-aa07-5f8ef2c304b1",
   "metadata": {},
   "source": [
    "**Datum:** \n",
    " \n",
    " - **Student 1:** \n",
    " - **Student 2:** "
   ]
  },
  {
   "cell_type": "markdown",
   "id": "3c7f0305-0db4-42de-8cab-6f2bd1065572",
   "metadata": {},
   "source": [
    "## 1. Überblick\n"
   ]
  },
  {
   "cell_type": "markdown",
   "id": "739f4bf6-7962-461b-a42b-3b3a879fe8f4",
   "metadata": {},
   "source": [
    "### 1.1 Einführung\n",
    "\n",
    "- Um was geht es in dem Versuch? Was ist das Ziel?"
   ]
  },
  {
   "cell_type": "markdown",
   "id": "af438c3b-05c3-45f8-8c1a-d9171a356568",
   "metadata": {},
   "source": [
    "### 1.2 Zusammenfassung der Theorie"
   ]
  },
  {
   "cell_type": "markdown",
   "id": "38d9da6a-41c0-4000-bd63-d28e4221010f",
   "metadata": {
    "jp-MarkdownHeadingCollapsed": true,
    "tags": []
   },
   "source": [
    "### 1.3 Aufgaben"
   ]
  },
  {
   "cell_type": "markdown",
   "id": "fb9c000f-19ef-42a1-acba-91a4c8d3bf2b",
   "metadata": {},
   "source": [
    "### 1.4 Umweltrelevanz\n",
    "\n",
    "- Inwiefern ist der Versuch relevant für euer Studium in Umweltwissenschaften? (1-2 Sätze)"
   ]
  },
  {
   "cell_type": "markdown",
   "id": "64122da4-57b7-4f47-bb73-1203288c9d3b",
   "metadata": {},
   "source": [
    "## 2. Messdaten"
   ]
  },
  {
   "cell_type": "code",
   "execution_count": 1,
   "id": "d080fa4e-c3d3-4fa3-93db-ba00447f6476",
   "metadata": {},
   "outputs": [],
   "source": [
    "### Zuerst, importiert hier die Packages, die ihr später benutzen wird.\n",
    "\n",
    "\n"
   ]
  },
  {
   "cell_type": "markdown",
   "id": "38404aa2-4e2f-4134-8fff-9aefd05f6a4e",
   "metadata": {},
   "source": [
    "### 2.1 Erste Berechnungen und Konstanten ($z,M,M',...,q$)"
   ]
  },
  {
   "cell_type": "code",
   "execution_count": null,
   "id": "b32da8a3-b8e1-478f-a2b1-be5531ecbe8e",
   "metadata": {},
   "outputs": [],
   "source": []
  },
  {
   "cell_type": "markdown",
   "id": "755cb2ee-ba72-45eb-acd0-94606851b302",
   "metadata": {},
   "source": [
    "### 2.2 Tabellen"
   ]
  },
  {
   "cell_type": "code",
   "execution_count": 2,
   "id": "751d2cf8-1c31-46a1-9359-8dd0fd1b2943",
   "metadata": {},
   "outputs": [],
   "source": [
    "# entweder importieren oder von Hand schreiben, kann auch ein Foto sein\n",
    "\n",
    "\n"
   ]
  },
  {
   "cell_type": "markdown",
   "id": "5edc54cf-099d-4f67-aec3-c73ba7c275c2",
   "metadata": {},
   "source": [
    "### 2.2bis Wenn importieren, Werten in Vektoren mit Unsicherheiten fördern"
   ]
  },
  {
   "cell_type": "code",
   "execution_count": null,
   "id": "8ea6997b-01cd-4d2c-a95f-a780d6fa179a",
   "metadata": {},
   "outputs": [],
   "source": []
  },
  {
   "cell_type": "markdown",
   "id": "65980d4a-2e84-47be-a043-ec1b033ed9ef",
   "metadata": {},
   "source": [
    "## 3. Auswertung"
   ]
  },
  {
   "cell_type": "markdown",
   "id": "bf76608f-78a4-4550-868b-f81c67220877",
   "metadata": {},
   "source": [
    "### Aufgabe 1: Graphike von elektrischer Leitfähigkeit\n",
    "\n",
    "#### $\\sigma = f(c_{eq})$\n",
    "#### $\\Lambda = f(\\sqrt{c_{eq}}) $"
   ]
  },
  {
   "cell_type": "code",
   "execution_count": null,
   "id": "8850fee4-c583-473b-b955-bac959397852",
   "metadata": {},
   "outputs": [],
   "source": []
  },
  {
   "cell_type": "markdown",
   "id": "a5d3b6c5-e761-48ed-8f49-724d2fd5057d",
   "metadata": {
    "tags": []
   },
   "source": [
    "### Aufgabe 2: Vergleich mit Kupferleitfähigkeit\n",
    "### $ {\\sigma_{Cu}} \\over {\\sigma_{ZnSO4,max}}  $"
   ]
  },
  {
   "cell_type": "code",
   "execution_count": null,
   "id": "10a5aa81-758e-4101-aeb7-e3833909c5e0",
   "metadata": {},
   "outputs": [],
   "source": []
  },
  {
   "cell_type": "markdown",
   "id": "df26f908-14b8-4046-9e86-d80bad5617c2",
   "metadata": {},
   "source": [
    "### Aufgabe 3: Temperaturkorrektion"
   ]
  },
  {
   "cell_type": "code",
   "execution_count": null,
   "id": "9acfa672-1334-422b-b9f3-cf9b97d3105e",
   "metadata": {},
   "outputs": [],
   "source": []
  },
  {
   "cell_type": "markdown",
   "id": "f1b5e65a-6cce-4752-8578-1329ec151230",
   "metadata": {},
   "source": [
    "### Aufgabe 4: Graphik von Dichte\n",
    "#### $\\rho_{gem} = f(c)$"
   ]
  },
  {
   "cell_type": "code",
   "execution_count": null,
   "id": "eaad7adb-e084-49e9-b323-45d279ab92f3",
   "metadata": {},
   "outputs": [],
   "source": []
  },
  {
   "cell_type": "markdown",
   "id": "51c2cb4d-6431-4901-a78d-00f7b619400d",
   "metadata": {},
   "source": [
    "### Aufgabe 5: Graphik von Ionenbeweglichkeit\n",
    "#### $ u = (u_+ + u_-) = f(c)$"
   ]
  },
  {
   "cell_type": "code",
   "execution_count": null,
   "id": "9c01843b-83f5-45f6-95ac-4710e91f3059",
   "metadata": {},
   "outputs": [],
   "source": []
  },
  {
   "cell_type": "markdown",
   "id": "5d2e2256-c8b2-473c-a3be-f3620543bf61",
   "metadata": {},
   "source": [
    "### Aufgabe 6: Graphik von Dichte, und lineare Regression\n",
    "#### $\\rho = f(\\sigma(20))$"
   ]
  },
  {
   "cell_type": "code",
   "execution_count": null,
   "id": "2240e33f-6d80-427d-a07e-2ba72b1cb7e6",
   "metadata": {},
   "outputs": [],
   "source": []
  },
  {
   "cell_type": "markdown",
   "id": "ee1b58ab-e2a7-45a1-b7b0-58caaf54ca5f",
   "metadata": {
    "jp-MarkdownHeadingCollapsed": true,
    "tags": []
   },
   "source": [
    "#### Achsenabschnitt $\\rho(20)_{dest} =  $\n",
    "#### Steigung $k = $\n",
    "#### Aus Gleichung (18): $\\rho(c_0,20) =$\n",
    "#### Differenz $\\rho_{gem}(c_0)-\\rho(c_0,20) = $\n",
    "#### Vergleiche mit dem Messfehler der Dichtebestimmung:$ \\Delta\\rho_{gem} =$"
   ]
  },
  {
   "cell_type": "markdown",
   "id": "3291d704-1681-4996-b69f-e6881021c89f",
   "metadata": {},
   "source": [
    "## 4. Bewertung und Einordnung der Ergebnisse"
   ]
  },
  {
   "cell_type": "markdown",
   "id": "f8a55a9c-c592-4aab-882e-a84fe6056ebf",
   "metadata": {},
   "source": [
    "### 4.1 Erklärt, welche (und warum) Unsicherheiten nahmt ihr an ?"
   ]
  },
  {
   "cell_type": "code",
   "execution_count": null,
   "id": "9740fc14-787b-49f9-a072-b537f702e916",
   "metadata": {},
   "outputs": [],
   "source": []
  },
  {
   "cell_type": "markdown",
   "id": "4f0cfe70-866c-4783-8b6b-9c4f503be780",
   "metadata": {},
   "source": [
    "### 4.2 Diskussion"
   ]
  },
  {
   "cell_type": "markdown",
   "id": "853e7c3b-0c07-4c66-9314-afce77bcc91e",
   "metadata": {},
   "source": [
    "- Sind die Ergebnisse realistisch ?\n",
    "- Warum (nicht) ?\n",
    "- Vergleich mit Theorie (Zähigkeitskonstante, Oberflächenspannung) ?"
   ]
  },
  {
   "cell_type": "code",
   "execution_count": null,
   "id": "1df51457-0b38-4dec-afa4-f786d897c0ef",
   "metadata": {},
   "outputs": [],
   "source": []
  },
  {
   "cell_type": "markdown",
   "id": "c43f4602-e8fa-4184-a2de-d4c083adbc50",
   "metadata": {},
   "source": [
    "- Was sind die Hauptgründe für die Fehler eurer Ergebnisse und wie kommen sie zustande?"
   ]
  },
  {
   "cell_type": "code",
   "execution_count": null,
   "id": "44b5df8c-1ee9-43d0-bf87-10487368df57",
   "metadata": {},
   "outputs": [],
   "source": []
  },
  {
   "cell_type": "markdown",
   "id": "fb55447f-e3b1-491f-b7cc-a0ae47e50c4e",
   "metadata": {},
   "source": [
    "- Wie würdet ihr versuchen, diese weiter zu verringern ?"
   ]
  },
  {
   "cell_type": "code",
   "execution_count": null,
   "id": "cc901b95-4001-49a4-89dd-0a86b86123bf",
   "metadata": {},
   "outputs": [],
   "source": []
  },
  {
   "cell_type": "markdown",
   "id": "9b31af9d-910a-46c8-b997-59c397b2ecc7",
   "metadata": {},
   "source": [
    "- Wenn ihr den Versuch wiederholen würdet, was würdet ihr anders machen und warum ?"
   ]
  },
  {
   "cell_type": "code",
   "execution_count": null,
   "id": "2fd91697-0c27-41cc-9d8d-7afcda60a5c5",
   "metadata": {},
   "outputs": [],
   "source": []
  },
  {
   "cell_type": "markdown",
   "id": "d25b9c71-9492-4727-871b-e4e30546d816",
   "metadata": {},
   "source": [
    "- Wie könnte man die Genauigkeit des Versuchs verbessern?"
   ]
  },
  {
   "cell_type": "code",
   "execution_count": null,
   "id": "a3f64b71-5a97-44db-999b-c9487a029535",
   "metadata": {},
   "outputs": [],
   "source": []
  }
 ],
 "metadata": {
  "kernelspec": {
   "display_name": "Python 3 (ipykernel)",
   "language": "python",
   "name": "python3"
  },
  "language_info": {
   "codemirror_mode": {
    "name": "ipython",
    "version": 3
   },
   "file_extension": ".py",
   "mimetype": "text/x-python",
   "name": "python",
   "nbconvert_exporter": "python",
   "pygments_lexer": "ipython3",
   "version": "3.9.7"
  }
 },
 "nbformat": 4,
 "nbformat_minor": 5
}
