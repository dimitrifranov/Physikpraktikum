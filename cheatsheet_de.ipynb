{
 "cells": [
  {
   "cell_type": "markdown",
   "id": "8c6c9927-d4eb-4a86-a2c0-82a14c36ae03",
   "metadata": {},
   "source": [
    "# Jupyter Notebook Cheat Sheet"
   ]
  },
  {
   "cell_type": "markdown",
   "id": "19d80ff7-ee00-47ff-87a8-6b890a7bcf02",
   "metadata": {},
   "source": [
    "## Allgemeines"
   ]
  },
  {
   "cell_type": "markdown",
   "id": "906f316d-7f83-4c92-8d15-e91d8abfb5cb",
   "metadata": {},
   "source": [
    "- Code ausführen: __Shift + Enter__\n",
    "- Code asführen und neue Zelle unterhalb erstellen: __Alt + Enter__\n",
    "- Restart kernel (Doppelpfeil oben): löscht alle gespeicherten Werte und berechnet das gesamte Notebook von vorne\n",
    "- Es gibt verschiedene Arten von Zellen (auswählen oben bei \"Code\", \"Markdown\", ... ): \n",
    "  - __Code:__ Python; für Berechnungen, Plots, ... \n",
    "  - __Markdown:__ zum Schreiben von Textpassagen (Doppelklick auf eine Textpassage, um sie zu bearbeiten)\n"
   ]
  },
  {
   "cell_type": "markdown",
   "id": "081e9fcd-4ab1-4f9f-8a99-b9b74e7c2d9f",
   "metadata": {},
   "source": [
    "## Code"
   ]
  },
  {
   "cell_type": "markdown",
   "id": "271fea6e-0a26-44d0-9b76-10a585c1085e",
   "metadata": {},
   "source": [
    "### Hilfreiche Funktionen in Python"
   ]
  },
  {
   "cell_type": "markdown",
   "id": "a5c0c6af-d4c1-4259-8030-3abae5f279d0",
   "metadata": {},
   "source": [
    "- __help()__: Gibt Infos zu einer beliebigen built-in function in Python\n",
    "-  __\\<Tab\\>__: Zeilenergänzng durch \\<Tab\\>: Tippen von <Tab> nach ein einigen Zeichen zeigt mögliche Vervollständigungen an.\n",
    "- __type()__: Gibt Typ einer beliebigen Variablen an  \n",
    "- simple Rechenoperationen: __+__ , __-__ , __*__ , __/__\n",
    "- __pow(__ x, n __)__: $x^n$\n",
    "- Array: wird mit eckigen Klammern angegeben (array=__[x1, x2, ..., xn]__) \n",
    "- __print(__ '\\<Text>', \\<Variable> __)__: Text muss zwischen Anführungszeichen geschrieben werden, Variablen können mit Komma getrennt ohne Anführungszeichen oder mit dem Platzhalter __'{}'__ und __.format(__ \\<Variable> __)__ am Ende ausgegeben werden.  \n",
    "  In der {} kann das Ausgabeformat der Variablen bestimmt werden:\n",
    "  - __{:f}__: floating point format\n",
    "  - __{:.2f}__: floating point format mit 2 Nachkommastellen\n",
    "  - __{:e}__: exponet format\n",
    "- **Kommentare:** entweder mit\n",
    "    - **#** für eine einzelne Zeile, oder mit\n",
    "    - **'''** ... **'''** für mehrere Zeilen\n",
    "  \n",
    "Zusätzlich gibt es verschiedene Packages (müssen zuerst mit \"import\" importiert werden):  "
   ]
  },
  {
   "cell_type": "markdown",
   "id": "d57d0656-bbbd-4e29-8442-949f3a0cf2de",
   "metadata": {
    "editable": true,
    "slideshow": {
     "slide_type": ""
    },
    "tags": []
   },
   "source": [
    "### Numpy Paket"
   ]
  },
  {
   "cell_type": "code",
   "execution_count": 1,
   "id": "3c4845a9",
   "metadata": {},
   "outputs": [],
   "source": [
    "import numpy as np  # import numpy package"
   ]
  },
  {
   "cell_type": "markdown",
   "id": "5cfd1fe9-6b47-4d08-ba98-35002a9f49cd",
   "metadata": {},
   "source": [
    "- wichtige Konstanten: z.B. $\\pi$ = __np.pi__, $e$ =           __np.e__\n",
    "- __np.sin()__, __np.cos()__, __np.tan()__,... : Input in rad!\n",
    "- __np.degrees()__, __np.radians()__: Konvertiert Radianten in Grad und umgekehrt\n",
    "- __np.sqrt()__: $\\sqrt{x}$\n",
    "- __np.exp()__: $e^{x}$\n",
    "- __np.log()__\n",
    "- __np.sum(__ \\<array> __)__: Berechnet Summe aller Elemente $x_i$ eines Arrays:  \n",
    "  $\\sum_{i=1}^{n}x_i$\n",
    "- __np.mean(__ \\<array> __)__: Mittelwert  \n",
    "  $\\overline{x}=\\frac{1}{n}\\,\\sum_{i=1}^{n}x_i$\n",
    "- __np.std(__ \\<array> __)__: Standardabweichung  \n",
    "  $\\sigma=\\sqrt{\\frac{1}{n}\\sum_{i=1}^{n}(x_i-x_0)^2}$\n",
    "- __np.std(__ \\<array> __,ddof=1)__: Ensemble standard deviation \n",
    "  $s=\\Delta x_i=\\sqrt{\\frac{1}{n-1}\\sum_{i=1}^{n}(x_i-x_0)^2}$\n",
    "- __np.linspace(__ \\<min>, \\<max>, N __)__: Generiert Array mit N Werten von \\<min> bis \\<max>\n",
    "- __np.arange(__ \\<min>, \\<max>, \\<Schrittweite> __)__: Generiert Array \\<min> bis \\<max> mit definierter Schrittweite\n",
    "- __np.random.normal(__ \\<Mittelwert>, \\<Standardabweichung>, N __)__: Generiert N zufällige normalverteilte Werte"
   ]
  },
  {
   "cell_type": "markdown",
   "id": "513f76e0-8511-4ea9-bfe9-25738f0ed00e",
   "metadata": {},
   "source": [
    "### matplotlib.pyplot (zum Plotten von Daten)"
   ]
  },
  {
   "cell_type": "code",
   "execution_count": 2,
   "id": "43033d03",
   "metadata": {},
   "outputs": [],
   "source": [
    "import matplotlib.pyplot as plt  "
   ]
  },
  {
   "cell_type": "markdown",
   "id": "d44efc9d-8b71-4ec9-af67-e2ac7011fa00",
   "metadata": {},
   "source": [
    "- __plt.plot(__ \\<x-Werte>, \\<y-Werte> __)__\n",
    "- __plt.xlabel(__ \\<Label für x-Achse> __)\n",
    "- __plt.ylabel(__ \\<Label für y-Achse> __)\n",
    "- __plt.errorbar(__ \\<x-Werte>, \\<y-Werte>, __yerr=__ \\<Länge der Fehlerbalken> __)__ (yerr plottet vertikle Fehlerbalken, xerr horizontale\n",
    "- __plt.title(__ \\<Titel des Plots> __)\n",
    "\n",
    "<span style='color:darkcyan'> <i>--> siehe Abschnitt 'Nützliche Beispiele für's Coden'</i></span>"
   ]
  },
  {
   "cell_type": "markdown",
   "id": "99fb2422-db2a-4c29-a5fa-b29766150e76",
   "metadata": {},
   "source": [
    "### uncertainties (für Fehlerberechnung)"
   ]
  },
  {
   "cell_type": "code",
   "execution_count": 3,
   "id": "f9df1083",
   "metadata": {},
   "outputs": [],
   "source": [
    "from uncertainties import ufloat\n",
    "from uncertainties.umath import * # additional functions (sin,cos,etc.))\n",
    "from uncertainties import unumpy "
   ]
  },
  {
   "cell_type": "markdown",
   "id": "4e132dbb-0853-4913-914c-be24b0b19803",
   "metadata": {},
   "source": [
    "\n",
    "- __ufloat(__ \\<Wert>, \\<absoluter Fehler> __)__: definiert einen neuen Typ von Variablen, der die Variable selbst und ihren Fehler gleichzeitig speichert; z.B. var = ufloat(x, sigma)  \n",
    "- \\<ufloat Variable>__.n__: Zugriff auf Wert (z.B. var.n -> x)\n",
    "- \\<ufloat Variable>__.s__: Zugriff auf Fehler (z.B. var.s -> sigma)\n",
    "- printen mit __{:P}__ ('pretty-printing')\n"
   ]
  },
  {
   "cell_type": "code",
   "execution_count": 4,
   "id": "3174413e",
   "metadata": {},
   "outputs": [
    {
     "name": "stdout",
     "output_type": "stream",
     "text": [
      "ufloat variable v: 13.40±0.10\n",
      "nominal value of v: 13.4\n",
      "standard deviation (error) of v: 0.1\n"
     ]
    }
   ],
   "source": [
    "# example\n",
    "\n",
    "# create a ufloat called 'v'\n",
    "v = ufloat(13.4, 0.1)\n",
    "\n",
    "# access nominal value of 'v'\n",
    "v_nominal = v.n\n",
    "\n",
    "# access standard deviationv of 'v'\n",
    "v_stdev = v.s\n",
    "\n",
    "# print 'v'\n",
    "print('ufloat variable v: {:P}'.format(v))\n",
    "print('nominal value of v:', v_nominal)\n",
    "print('standard deviation (error) of v:', v_stdev)"
   ]
  },
  {
   "cell_type": "markdown",
   "id": "39a339b0",
   "metadata": {},
   "source": [
    "**uarray**\n",
    "- __unumpy.uarray(\\[__ \\<Wert_1>, \\<Wert_2> ... __\\], \\[__ \\<absoluter_Fehler_1>, \\<absoluter_Fehler_2>, ... __\\])__: erstellt eine 'Matrix'-artige Variable, die eine Liste (array) mit den Messwerten und eine Liste mit den Fehlern enthält\n",
    "- **unumpy.nominal_values()**: Zugriff auf die Liste mit den Werten\n",
    "- **unumpy.standard_deviations()**: Zugriff auf die Liste mit den Fehlern \n"
   ]
  },
  {
   "cell_type": "markdown",
   "id": "1f2e3ad1-6da8-4918-b3d3-b5a3578c4153",
   "metadata": {},
   "source": [
    "### linregress (Lineare Regression)"
   ]
  },
  {
   "cell_type": "code",
   "execution_count": 5,
   "id": "b2222c08",
   "metadata": {},
   "outputs": [],
   "source": [
    "from scipy.stats import linregress"
   ]
  },
  {
   "cell_type": "markdown",
   "id": "13167fcc-d486-4449-9dd4-809665354e3b",
   "metadata": {},
   "source": [
    "- __linregress(__ \\<x-Werte>, \\<y-Werte> __)__: Fittet eine Regressionsgerade der Form f(x) = a*x + b zu einer Liste von x-/y-Werten\n",
    "- __.slope__ -> Steigung a\n",
    "- __.stderr__ -> Standardabweichung (Fehler) der Steigung a\n",
    "- __.intercept__ -> Achsenabschnitt b\n",
    "- **.intercept_stderr** -> Fehler von b"
   ]
  },
  {
   "cell_type": "markdown",
   "id": "db5a383c-c961-4177-9663-cff2a31ed89f",
   "metadata": {
    "tags": []
   },
   "source": [
    "Nähere Infos zu allen Funktionen gibt's mit __help()__ oder im Internet."
   ]
  },
  {
   "cell_type": "markdown",
   "id": "fce21c50-da17-4601-acd0-34a0be595516",
   "metadata": {},
   "source": [
    "## Markdown"
   ]
  },
  {
   "cell_type": "markdown",
   "id": "9025fd77-38e9-42d8-a05f-6fd7cf5fc355",
   "metadata": {},
   "source": [
    "Formatierungs-Basics:\n",
    "- __#__ Überschrift  \n",
    "  __\\##__ Unterüberschrift\n",
    "- __\\$__ \\<Formel in Latex-Style; inline> __\\$__, z.B.. $ E = m c^2 $ \n",
    "- __\\$\\$__ \\<Formel in Latex-Style als einzelne Zeile> __\\$\\$__, e.g. $$ \\mathcal{L} = - \\frac{1}{4} F_{\\mu \\nu} F^{\\mu \\nu} + i \\bar{\\psi} D_{\\mu}\\gamma^{\\mu} \\psi + h.c. + \\bar{\\psi}_i y_{ij} \\psi_j \\phi + h.c. + |D_\\mu \\phi|^2 - V(\\phi) $$  \n",
    "- **__** __fett__ **__** oder __**__ **fett** __**__\n",
    "- __*__ *kursiv* __*__\n",
    "- Zeilenumbruch: 2 Leerzeichen oder \\<br/>\n",
    "- __-__ Aufzählung\n",
    "- Bild einfügen: display(Image(filename=\"/Pfad/zu/deiner/Datei.png\"))"
   ]
  },
  {
   "cell_type": "markdown",
   "id": "99269c31",
   "metadata": {},
   "source": [
    "# Nützliche Beispiele für's Coden"
   ]
  },
  {
   "cell_type": "markdown",
   "id": "086b876d",
   "metadata": {},
   "source": [
    "## Funktionen definieren"
   ]
  },
  {
   "cell_type": "code",
   "execution_count": 6,
   "id": "c294b887",
   "metadata": {},
   "outputs": [],
   "source": [
    "def my_function(param1_placeholder, param2_placeholder):\n",
    "    \n",
    "    value = 'Replace with your calculation'\n",
    "    return value"
   ]
  },
  {
   "cell_type": "markdown",
   "id": "88aba728",
   "metadata": {},
   "source": [
    "Diese Funktion benötigt zwei Parameter und gibt das Ergebnis Ihrer Berechnung zurück.  \n",
    "\n",
    "**Parameter:**  \n",
    "param1_Platzhalter: durch ersten Parameter ersetzten.  \n",
    "param2_Platzhalter: durch zweiten Parameter ersetzten.  \n",
    "    \n",
    "**Rückgabe:**  \n",
    "\"value\" (das Ergebnis deiner Berechnung)"
   ]
  },
  {
   "cell_type": "markdown",
   "id": "c404762d",
   "metadata": {},
   "source": [
    "## Daten von einer csv-Datei importieren"
   ]
  },
  {
   "cell_type": "markdown",
   "id": "084625e5",
   "metadata": {},
   "source": [
    "**1. pandas importieren** (schon erledigt in den Vorlagen in Anschnitt 'import packages')"
   ]
  },
  {
   "cell_type": "code",
   "execution_count": 7,
   "id": "486b0844",
   "metadata": {},
   "outputs": [],
   "source": [
    "import pandas as pd"
   ]
  },
  {
   "cell_type": "markdown",
   "id": "84ff01be",
   "metadata": {},
   "source": [
    "**2. csv-Datei einlesen:**  \n",
    "- Speichere die csv-Datei in im selben Ordner wie dein Notebook  \n",
    "- Ersetze <code>./path/to/your/file.csv</code> mit dem Pfad zu deiner Datei und entferne das '#'"
   ]
  },
  {
   "cell_type": "code",
   "execution_count": 8,
   "id": "c2ea4835",
   "metadata": {},
   "outputs": [],
   "source": [
    "# data = pd.read_csv('./path/to/your/file.csv') "
   ]
  },
  {
   "cell_type": "markdown",
   "id": "f17843eb",
   "metadata": {},
   "source": [
    "Erstellt eine Variable namens <code>data</code> mit dem Format 'DataFrame' (ähnlich wie eine Matrix), in der die Daten deiner csv-Datei gespeichert sind.  \n",
    "Die erste Zeile der csv-Datei ist der 'header' des DataFrame und kann verwendet werden, um auf die einzelnen Spalten zuzugreifen:"
   ]
  },
  {
   "cell_type": "markdown",
   "id": "c192ffff",
   "metadata": {},
   "source": [
    "**3. Zugriff auf einzelne Spalten:**  \n",
    "Für weitere Berechnungen kann es nützlich sein, die einzelnen Spalten mit den Daten in separaten arrays zu speichern:"
   ]
  },
  {
   "cell_type": "code",
   "execution_count": 9,
   "id": "2c3e4597",
   "metadata": {},
   "outputs": [],
   "source": [
    "# data_column1, data_column_2 = data.column1, data.column2"
   ]
  },
  {
   "cell_type": "markdown",
   "id": "7aa512c2",
   "metadata": {},
   "source": [
    "Erzeugt zwei arrays namens <code>data_column1</code> und <code>data_column2</code> mit den Daten der Spalten <i>'column1'</i> und <i>'column2'</i> in deiner csv-Datei."
   ]
  },
  {
   "cell_type": "markdown",
   "id": "819a357f",
   "metadata": {},
   "source": [
    "#### 4. DataFrame anzeigen"
   ]
  },
  {
   "cell_type": "code",
   "execution_count": 10,
   "id": "9fce2005",
   "metadata": {},
   "outputs": [],
   "source": [
    "# display(data)"
   ]
  },
  {
   "cell_type": "markdown",
   "id": "aaedc727",
   "metadata": {},
   "source": [
    "Zeigt das DataFrame <code>data</code> mit deinen Daten an."
   ]
  },
  {
   "cell_type": "markdown",
   "id": "1c03a8d8",
   "metadata": {},
   "source": [
    "## Tabelle erstellen\n",
    "Zum Erstellen einer Tabelle mit deinen Daten kannst du entweder die Daten von einer csv-Datei einlesen oder sie manuell in arrays eingeben:"
   ]
  },
  {
   "cell_type": "markdown",
   "id": "9a0ae1db",
   "metadata": {},
   "source": [
    "**1. Nötige Packages importieren** (schon erledigt in den Vorlagen in Anschnitt 'import packages')"
   ]
  },
  {
   "cell_type": "code",
   "execution_count": 11,
   "id": "03c364fa",
   "metadata": {},
   "outputs": [],
   "source": [
    "import numpy as np\n",
    "from tabulate import tabulate"
   ]
  },
  {
   "cell_type": "markdown",
   "id": "51db7d68",
   "metadata": {},
   "source": [
    "**2. Funktion <code>Table</code> definieren, die eine Tabelle erstellt mit den folgenden Input-Parametern:**\n",
    "- **table:** Matrix mit deinen Daten\n",
    "- **header:** array mit den Namen deiner Spalten (muss die selbe Anzahl an Elementen haben wie deine Daten-Matrix Spalten hat)\n",
    "- **precision:** array mit der Anzahl an Nachkommastellen, auf die die Werte jeder Spalte gerundet werden sollen (muss die selbe Anzahl an Elementen haben wie deine Daten-Matrix Spalten hat);  \n",
    "Wenn die Werte einer bestimmten Spalte nicht gerundet werden sollen (z.B. weil du eine Spalte mit Strings als Einträge hast), kannst du 'None' an entsprechender Position ins array schreiben."
   ]
  },
  {
   "cell_type": "code",
   "execution_count": 12,
   "id": "a6e590b2",
   "metadata": {},
   "outputs": [],
   "source": [
    "import numpy as np\n",
    "from tabulate import tabulate\n",
    "\n",
    "def Table(table, header, precisions):\n",
    "    # Check if precisions list length matches table's row count\n",
    "    if len(precisions) != len(table):\n",
    "        raise ValueError(\"Length of precisions list must match the number of columns in the table\")\n",
    "\n",
    "    for i in range(len(table)):\n",
    "        # If precision for this row/column is not None, round the entire row\n",
    "        if precisions[i] is not None:\n",
    "            table[i] = [np.round(val, precisions[i]) for val in table[i]]\n",
    "\n",
    "    table = np.matrix.transpose(np.array(table))\n",
    "    print(tabulate(table, headers=header, tablefmt='fancy_grid'))\n"
   ]
  },
  {
   "cell_type": "markdown",
   "id": "4df7071b",
   "metadata": {},
   "source": [
    "**3. Daten eingeben**:  \n",
    "Entweder die Daten von einer csv-Datei einlesen oder sie manuell in arrays eingeben (wie in diesem Beipiel):"
   ]
  },
  {
   "cell_type": "code",
   "execution_count": 13,
   "id": "656b163d",
   "metadata": {},
   "outputs": [],
   "source": [
    "# manually creating arrays with some random data\n",
    "# each array has to have the same number of elements\n",
    "column1, errors1 = [1.42545,2.4235,3.324,4.435,5.135,6.46,7.24], [0.1,0.2,0.3,0.4,0.5,0.6,0.7] \n",
    "column2, errors2 = [1.42545,2.4235,3.324,4.435,5.135,6.46,7.24], [1,2,3,4,5,6,7]\n",
    "\n",
    "# store the data in a matrix called 'table'\n",
    "table = [column1, errors1, column2, errors2] \n",
    "\n",
    "# create an array for the header\n",
    "header = ['data1 [unit]', 'error_data1 [unit]', 'data2', 'error_data2'] # has to have the same number of elements as 'table' table.\n",
    "\n",
    "# create an array for 'precision'\n",
    "precision = [2, 1, None, 0]"
   ]
  },
  {
   "cell_type": "markdown",
   "id": "d2977409",
   "metadata": {},
   "source": [
    "**3b. Daten eingeben mit uarrays**:  \n",
    "Zum ausprobieren in 3b Kommentar entfernen und dafür Code in 3a auskommentieren"
   ]
  },
  {
   "cell_type": "code",
   "execution_count": 18,
   "id": "fbdb4098",
   "metadata": {},
   "outputs": [
    {
     "data": {
      "text/plain": [
       "array([1.42545+/-0.1, 2.4235+/-0.2, 3.324+/-0.3, 4.435+/-0.4, 5.135+/-0.5,\n",
       "       6.46+/-0.6, 7.24+/-0.7], dtype=object)"
      ]
     },
     "execution_count": 18,
     "metadata": {},
     "output_type": "execute_result"
    }
   ],
   "source": [
    "\n",
    "# manually creating uarrays with some random data\n",
    "# each array has to have the same number of elements\n",
    "col1 = unumpy.uarray([1.42545,2.4235,3.324,4.435,5.135,6.46,7.24], [0.1,0.2,0.3,0.4,0.5,0.6,0.7]) \n",
    "#column2, errors2 = np.array([1.42545,2.4235,3.324,4.435,5.135,6.46,7.24], [1,2,3,4,5,6,7])\n",
    "\n",
    "# store the data in a matrix called 'table'\n",
    "table = [column1, errors1, column2, errors2] \n",
    "\n",
    "# create an array for the header\n",
    "header = ['data1 [Einheit]', 'error_data1 [Einheit]', 'data2', 'error_data2'] # muss selbe Anzahl Einträge haben wie table.\n",
    "\n",
    "# create an array for 'precision'\n",
    "precision = [2, 1, None, None]\n",
    "\n",
    "col1"
   ]
  },
  {
   "cell_type": "markdown",
   "id": "d0f0756f",
   "metadata": {},
   "source": [
    "**4. Tabelle erstellen:**"
   ]
  },
  {
   "cell_type": "code",
   "execution_count": null,
   "id": "bd9c5857",
   "metadata": {
    "scrolled": true
   },
   "outputs": [],
   "source": [
    "Table(table, header, precision) "
   ]
  },
  {
   "cell_type": "markdown",
   "id": "062dc508",
   "metadata": {},
   "source": [
    "## Plot erstellen"
   ]
  },
  {
   "cell_type": "markdown",
   "id": "9176bd9a",
   "metadata": {},
   "source": [
    "**1. Nötige Packages importieren** (schon erledigt in den Vorlagen in Anschnitt 'import packages')"
   ]
  },
  {
   "cell_type": "code",
   "execution_count": null,
   "id": "76bc54e8",
   "metadata": {},
   "outputs": [],
   "source": [
    "import matplotlib.pyplot as plt\n",
    "import numpy as np\n",
    "from uncertainties import ufloat, unumpy # for 2b, 3b\n",
    "from scipy.stats import linregress # for linear regression"
   ]
  },
  {
   "cell_type": "markdown",
   "id": "88279d9b",
   "metadata": {},
   "source": [
    "**2a. Daten für den Plot:**  \n",
    "(durch deine Daten ersetzen)"
   ]
  },
  {
   "cell_type": "code",
   "execution_count": null,
   "id": "b472bae5",
   "metadata": {},
   "outputs": [],
   "source": [
    "# Sample data for the x and y coordinates \n",
    "# You can replace this with your x and y data\n",
    "x = np.linspace(0, 10, 50)  # create an array with 50 evenly spaced numbers in the interval [0, 10]\n",
    "y = np.sin(x)              \n",
    "\n",
    "# Sample error data for x and y (you can replace these with your error values)\n",
    "x_error = 0.1\n",
    "y_error = 0.05"
   ]
  },
  {
   "cell_type": "markdown",
   "id": "e55b4035",
   "metadata": {},
   "source": [
    "**3a. Plot erstellen (inkl. linearer Regression):**"
   ]
  },
  {
   "cell_type": "code",
   "execution_count": null,
   "id": "8ff1d277",
   "metadata": {},
   "outputs": [],
   "source": [
    "# Creating the plot\n",
    "plt.figure(figsize=(10, 6))  # Adjusting the size of the plot\n",
    "\n",
    "# Plotting the data with error bars\n",
    "# There are different types of plots, you can choose the appropriate(s) one depending on your needs\n",
    "plt.plot(x, y, label='Line', color='darkblue')\n",
    "plt.scatter(x, y, s=10, label='Dots', color='darkgreen') # s = size of the dots\n",
    "plt.errorbar(x, y, xerr=x_error, yerr=y_error, fmt='.', label='Dots with errorbars', capsize=2, color='darkred')\n",
    "\n",
    "# Labeling the x and y axes\n",
    "plt.xlabel('Time (s)')  # Replace with the appropriate label for the x-axis\n",
    "plt.ylabel('Amplitude') # Replace with the appropriate label for the y-axis\n",
    "\n",
    "# Adding a title to the plot\n",
    "plt.title('Time vs Amplitude') # Replace with an appropriate title\n",
    "\n",
    "# Limiting the axes manually\n",
    "plt.xlim(0, 10) # Replace with the desired limits for the x-axis\n",
    "plt.ylim(-1.5, 1.5) # Replace with the desired limits for the y-axis\n",
    "\n",
    "\n",
    "# ---------------------------------------\n",
    "# Adding a linear regression if necessary\n",
    "# ---------------------------------------\n",
    "\n",
    "# Filter the data points that lie in the desired x-interval\n",
    "interval = (x >= 2.2) & (x <= 4)\n",
    "x_filtered = x[interval]\n",
    "y_filtered = y[interval]\n",
    "\n",
    "# Calculate the linear regression and assign it to the variables slope, intercept, ...\n",
    "slope, intercept, r_value, p_value, std_err = linregress(x_filtered, y_filtered)\n",
    "\n",
    "# Define interval for plotting the regression line\n",
    "x_interval = np.array([1.8, 4.4])\n",
    "\n",
    "# Regression line\n",
    "y_regression = slope * x_interval + intercept\n",
    "\n",
    "# Plot the regression line\n",
    "plt.plot(x_interval, y_regression, color='green', label='Regression line (filtered data)')\n",
    "\n",
    "# ----------------------------------------\n",
    "\n",
    "# Adding a legend to the plot\n",
    "plt.legend(loc='upper right') # You can adjust the location of the legend as needed\n",
    "\n",
    "# Display the plot\n",
    "plt.show()"
   ]
  },
  {
   "cell_type": "markdown",
   "id": "39bd70d9",
   "metadata": {},
   "source": [
    "**2b. Alternative: uarrays verwenden**  \n",
    "(mit deinen Daten ersetzen)"
   ]
  },
  {
   "cell_type": "code",
   "execution_count": null,
   "id": "ba497185",
   "metadata": {},
   "outputs": [],
   "source": [
    "# Sample data with uncertainties (uarrays)\n",
    "# Replace these with your uarray data\n",
    "x2_uarray = unumpy.uarray(np.linspace(0, 10, 50), 0.1) # error 0.1 for all values\n",
    "y2_uarray = unumpy.sin(x2_uarray) # calculates y-error automatically from x-error\n",
    "\n",
    "# Extracting nominal values and standard deviations for x and y\n",
    "x2 = unumpy.nominal_values(x2_uarray) # create array x2 with only nominal values of x2_uarray\n",
    "y2 = unumpy.nominal_values(y2_uarray)\n",
    "x2_error = unumpy.std_devs(x2_uarray) # create array x2 with only standard deviations (errors) of x2_uarray\n",
    "y2_error = unumpy.std_devs(y2_uarray)\n",
    "\n",
    "\n"
   ]
  },
  {
   "cell_type": "markdown",
   "id": "56a05efc",
   "metadata": {},
   "source": [
    "**3b. Plot erstellen:**  \n",
    "genau das selbe wie zuvor, nur dass die x- und y-Werte und Fehler durch <code>x2, y2, x2_error, y2_error</code> ersetzt werden"
   ]
  },
  {
   "cell_type": "code",
   "execution_count": null,
   "id": "a2d6adbf",
   "metadata": {},
   "outputs": [],
   "source": [
    "# Creating the plot\n",
    "plt.figure(figsize=(10, 6))  # Adjusting the size of the plot\n",
    "\n",
    "# Plotting the data with error bars\n",
    "# There are different types of plots, you can choose the appropriate(s) one depending on your needs\n",
    "plt.plot(x2, y2, label='Line', color='darkblue')\n",
    "plt.scatter(x2, y2, s=10, label='Dots', color='darkgreen') # s = size of the dots\n",
    "plt.errorbar(x2, y2, xerr=x2_error, yerr=y2_error, fmt='.', label='Dots with errorbars', capsize=2, color='darkred')\n",
    "\n",
    "# Labeling the x and y axes\n",
    "plt.xlabel('Time (s)')  # Replace with the appropriate label for the x-axis\n",
    "plt.ylabel('Amplitude') # Replace with the appropriate label for the y-axis\n",
    "\n",
    "# Adding a title to the plot\n",
    "plt.title('Time vs Amplitude') # Replace with an appropriate title\n",
    "\n",
    "# Adding a legend to the plot\n",
    "plt.legend(loc='upper right') # You can adjust the location of the legend as needed\n",
    "\n",
    "# Limiting the axes manually\n",
    "plt.xlim(0, 10) # Replace with the desired limits for the x-axis\n",
    "plt.ylim(-1.5, 1.5) # Replace with the desired limits for the y-axis\n",
    "\n",
    "# Displaying the plot\n",
    "plt.show()"
   ]
  }
 ],
 "metadata": {
  "kernelspec": {
   "display_name": "Python 3 (ipykernel)",
   "language": "python",
   "name": "python3"
  },
  "language_info": {
   "codemirror_mode": {
    "name": "ipython",
    "version": 3
   },
   "file_extension": ".py",
   "mimetype": "text/x-python",
   "name": "python",
   "nbconvert_exporter": "python",
   "pygments_lexer": "ipython3",
   "version": "3.11.5"
  }
 },
 "nbformat": 4,
 "nbformat_minor": 5
}
