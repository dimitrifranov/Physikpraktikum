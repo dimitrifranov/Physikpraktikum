{
 "cells": [
  {
   "cell_type": "code",
   "execution_count": 1,
   "id": "8d8eac14-436c-4e43-a2c7-c707a88dc459",
   "metadata": {},
   "outputs": [],
   "source": [
    "%matplotlib inline\n",
    "import numpy as np                 # Standard-Package für Numerik, Vektoren, etc.\n",
    "from uncertainties import ufloat   # Packete für Fehlerberechnung\n",
    "from uncertainties.umath import *\n",
    "import modules.pendulum as pendulum  # Plot Function für Pendelschwingung"
   ]
  },
  {
   "cell_type": "markdown",
   "id": "c07b6dec-189f-4450-a8d6-8d6cf3a256a0",
   "metadata": {},
   "source": [
    "# Vorversuch Pendel Experiment\n",
    "\n",
    "## Vorwort\n",
    "Der Vorversuch dient zur Einführung in das Experimentieren und die Auswertung der Messungen.  Sie sollen in Gruppen von 8 bis 10 Studierenden die je einer/einer Assistierenden zugeordnet wurden mehrer Pendelschaukeln (mindestens zwei) aufbauen.  Danach werden Sie mit Ihrer/Ihrem GruppenpartnerIn an einem dieser Pendel Messungen durchzuführen und diese auswerten. Ein wichtiges Ziel dabei ist, verschiedene Messmethoden zu ver  und mit der Phyphox App Messungen durchführen, diese Messungen auswerten und die Genauigkeit der Messungen bestimmen.  \n",
    "\n",
    "### Das gedämpftes Pendel\n",
    "\n",
    "Unter einem Pendel einen Körper, der an einer Stange oder Schnur schwingend aufgehängt ist.  Für kleine Auslenkungen auf der Vertikalen erhält man für die Kreisfrequenz $\\omega$ eines Pendels der Länge $L$\n",
    "\\begin{equation}\n",
    "\\omega_0 = \\sqrt{g\\over L},\\tag{1}\\label{eq:omega0}\n",
    "\\end{equation}\n",
    "wobei $g$ m/s die lokale Erdbeschleunigung bezeichnet.  Aus dem Zusammenhang zwischen Periode, Kreisfrequenz ($\\omega=\\frac{2\\pi}{T}$) ergibt sich daraus für die Periode des Pendels\n",
    "\\begin{equation}\n",
    "T_0 = 2\\pi\\sqrt{L \\over g}. \\tag{2}\\label{eq:T0}\n",
    "\\end{equation}\n",
    "\n",
    "In Wirklichkeit wird das Pendel durch Reibungsverluste an der Luft stetig langsamer, bis es in der Vertikalen zur Ruhe kommt. Man spricht deshalb von einer gedämpften Oszillation.  Wenn man das Pendel zum Zeitpunkt $t = 0$ einem Winkel $\\phi_0$ (siege Skizze im Anhang) loslässt,  ergibt sich für die Zeitentwicklung der Auslenkung der gedämpften Schwingung des Pendels\n",
    "\n",
    "\n",
    "\\begin{equation}\n",
    "\\phi(t) = \\phi_0\\, e^{-\\gamma t} \\cos{\\omega_\\gamma t}, \\tag{3}\\label{eq:phi_t}\n",
    "\\end{equation}\n",
    "\n",
    "Hierbei bezeichnet $\\Phi(t)$ den Auslenkungswinkel zum Zeitpunkt $t$ von der Vertikalen , $T_\\gamma$ die Periode der Schwingung und $\\gamma$ die Dämpfungskonstante, ein Mass für die Stärke der Dämpfung.  \n",
    "Die  Kreisfrequenz $\\omega_\\gamma$ der gedämpften Schwingung wird durch die Dämpfung gegenüber der ungedämpften Schwingung (\\ref{eq:omega0) verringert\n",
    "\n",
    "\\begin{equation}\n",
    "\\omega_\\gamma = \\sqrt{\\omega_0^2-\\gamma^2}, \\tag{4}\\label{eq:omega_g}\n",
    "\\end{equation}\n",
    "\n",
    "wobei diese Änderung für schwache Dämpfung recht klein ist.  Die Ableitung dieser Formeln findet sich im Anhang.  \n",
    " \n",
    "**Bemerkung:** Für sehr starke Dämpfung ($\\gamma \\ge \\omega$) ergibt sich , dass das Pendel ohne zu schwingen langsam zur Ruheposition zurückkehrt  (\"Kriechfall\")."
   ]
  },
  {
   "cell_type": "code",
   "execution_count": 2,
   "id": "fe16abaf-861a-4515-a066-cc8f530a1d55",
   "metadata": {},
   "outputs": [
    {
     "name": "stdout",
     "output_type": "stream",
     "text": [
      "Help on function plot in module modules.pendulum:\n",
      "\n",
      "plot(T0, gamma, phi0)\n",
      "    Plot a damped harmonic oscillation.\n",
      "    \n",
      "    Input\n",
      "        T0:    Free period(no damping)  (Periode ohne Dämpfung)\n",
      "        gamma: Damping constant   (Dämpfungskonstante)\n",
      "        phi0:  Initial amplitude (Angangsamplitude). \n",
      "        \n",
      "    Assumption:\n",
      "        Initial change of amplitude d(phi0)/dt(t=0)=0.)\n",
      "\n"
     ]
    }
   ],
   "source": [
    "# Die Python Funktion \"pendulum.plot\" zeichnet das Schwingungsverhalten eines Pendels\n",
    "# Wenn du willst, kannst du sie dir im \"modules\" Ordner anschauen.\n",
    "\n",
    "help(pendulum.plot)"
   ]
  },
  {
   "cell_type": "markdown",
   "id": "e0ee1273-cefb-4bea-87a1-b86dc7212f8c",
   "metadata": {
    "tags": []
   },
   "source": [
    "Ein typischen Zeitverlauf einer gedämpften Schwingung zeigt die folgende Graphik"
   ]
  },
  {
   "cell_type": "code",
   "execution_count": 3,
   "id": "db7ca437-5a3e-48fb-8472-fa1f0194058d",
   "metadata": {},
   "outputs": [
    {
     "name": "stdout",
     "output_type": "stream",
     "text": [
      "Frequenz (ungedämpft) f = 0.50, Kreisfrequenz (ungedämpft) ω =  3.14\n"
     ]
    },
    {
     "data": {
      "image/png": "[encoded data removed]",
      "text/plain": [
       "<Figure size 432x288 with 1 Axes>"
      ]
     },
     "metadata": {
      "needs_background": "light"
     },
     "output_type": "display_data"
    }
   ],
   "source": [
    "pendulum.plot(T0=2, gamma=0.2,phi0=10)"
   ]
  },
  {
   "cell_type": "markdown",
   "id": "32f323a7-f6f0-4d0a-83e1-a9e8ba028c7e",
   "metadata": {
    "tags": []
   },
   "source": [
    "#### Aufgabe 1:\n",
    "Ändere die Parameter der gedämpfte Schwingung und kommentiere, wie sich das Schwingungsverhalten ändert.  Benutze zum Beispiel folgende Werte\n",
    "\n",
    "  1. T = 2, gamma = 1, phi0 = 10 (Änderung der Anfangsamplitude)\n",
    "  2. T = 2,  gamma = 0, phi0 = 1 (Keine Dämpfung)\n",
    "  3. T = 0.5, gamma = 1, phi0 = 1 (kurze Periode)\n",
    "  4. T = ?, gamma = ?,  phi0 = ?  (beliebige andere Werte)"
   ]
  },
  {
   "cell_type": "markdown",
   "id": "efd112d8-1ed2-4ca2-ab80-58ecb6412bce",
   "metadata": {},
   "source": [
    "##### Antworten zu Aufgabe 1\n",
    "\n",
    "Bitte ausfüllen."
   ]
  },
  {
   "cell_type": "code",
   "execution_count": 4,
   "id": "c15fa0a8-bc8d-42fc-8c7a-e820ca236b98",
   "metadata": {},
   "outputs": [],
   "source": [
    "# Aufgabe 1.1.\n",
    "# pendulum.plot(T = ?, gamma = ?, phi0 = ?)"
   ]
  },
  {
   "cell_type": "raw",
   "id": "73541abe-85f5-464b-84b4-d18ef0ac8eb1",
   "metadata": {
    "tags": []
   },
   "source": [
    " Dein Kommentar\n"
   ]
  },
  {
   "cell_type": "code",
   "execution_count": 5,
   "id": "dbe252e9-7d91-467a-91d0-fcfa5f921d10",
   "metadata": {},
   "outputs": [],
   "source": [
    "# Aufgabe 1.2. \n",
    "#pendulum.plot(T = ?, gamma = ?, phi0 = ?)"
   ]
  },
  {
   "cell_type": "raw",
   "id": "19b5f02c-59ef-461c-a575-9a60e85283a8",
   "metadata": {
    "tags": []
   },
   "source": [
    "Dein Kommentar"
   ]
  },
  {
   "cell_type": "code",
   "execution_count": 6,
   "id": "e1599cfe-0842-43cc-a200-db2e7df6a0f2",
   "metadata": {},
   "outputs": [],
   "source": [
    "# Aufgabe 1.3.\n",
    "#pendulum.plot(T = ?, gamma = ?, phi0 = ?)"
   ]
  },
  {
   "cell_type": "raw",
   "id": "c95d4679-6e86-4981-bac2-52be11460b8d",
   "metadata": {
    "tags": []
   },
   "source": [
    "Dein Kommentar"
   ]
  },
  {
   "cell_type": "code",
   "execution_count": 7,
   "id": "ba0c1f19-2c4b-44e0-aa40-bb84aaed2a2c",
   "metadata": {},
   "outputs": [],
   "source": [
    "# Aufgabe 1.4.\n",
    "#pendulum.plot(T = ?, gamma = ?, phi0 = ?)"
   ]
  },
  {
   "cell_type": "raw",
   "id": "6ab1912f-bcf5-4a5f-a77c-f1cdf3d359b6",
   "metadata": {
    "tags": []
   },
   "source": [
    "Dein Kommentar"
   ]
  },
  {
   "cell_type": "markdown",
   "id": "1f1edfde-4e25-43ef-b03c-34ca5cb0d788",
   "metadata": {
    "tags": []
   },
   "source": [
    "### Aufgabe 2\n",
    "\n",
    "**Baue ein Pendel oder Schaukel für die Messungen.**\n",
    "Sei kreativ. Das folgende Video zeigt einige Aufbauten von anderen Studierenden."
   ]
  },
  {
   "cell_type": "code",
   "execution_count": 8,
   "id": "5c6fe2ee-fdc3-4d41-b7bc-8b4771071bd0",
   "metadata": {
    "jupyter": {
     "source_hidden": true
    },
    "tags": []
   },
   "outputs": [
    {
     "data": {
      "text/html": [
       "<iframe width=\"560\" height=\"315\" src=\"https://www.youtube.com/embed/q3_m1JW1ttQ?start=191&end=223\" title=\"YouTube video player\" frameborder=\"0\" allow=\"accelerometer; autoplay; clipboard-write; encrypted-media; gyroscope; picture-in-picture\" allowfullscreen></iframe>\n"
      ],
      "text/plain": [
       "<IPython.core.display.HTML object>"
      ]
     },
     "metadata": {},
     "output_type": "display_data"
    }
   ],
   "source": [
    "%%html\n",
    "<iframe width=\"560\" height=\"315\" src=\"https://www.youtube.com/embed/q3_m1JW1ttQ?start=191&end=223\" title=\"YouTube video player\" frameborder=\"0\" allow=\"accelerometer; autoplay; clipboard-write; encrypted-media; gyroscope; picture-in-picture\" allowfullscreen></iframe>"
   ]
  },
  {
   "cell_type": "markdown",
   "id": "470c4f16-bb41-4729-9e79-930ab3356bd6",
   "metadata": {
    "tags": []
   },
   "source": [
    "Für Aufgabe 3 reicht ein Pendel. Für Messungen  für Aufgabe 4 ist es allerdings besser, eine Schaukel zu bauen, da sich  ein Pendel um den Faden dreht, was die  Auswertung der Messungen mit der *Phyphox App* erheblich erschwert.  Hier noch eine Skizze zum Aufbau einer Schaukel mit Hilfe eines Briefumschlags:\n",
    "<img src=\"figuren/pendulum.png\" /> \n",
    "\n",
    "\n",
    "Überzeuge dich, dass der Aufbau stabil genug ist und das Handy nicht herunterfallen, oder irgendwo anschlagen kann.  **Das Praktikum übernimmt keine Haftung für entstandende Schäden am Handys! **\n",
    "\n",
    " - Fotografiere den Aufbau des Pendel.\n",
    " - Optional:  Erstelle auch eine Videoaufnahme."
   ]
  },
  {
   "cell_type": "markdown",
   "id": "8ea4c5ca-5697-4953-8cf1-5527834bab36",
   "metadata": {
    "tags": []
   },
   "source": [
    "**Einfügen:**\n",
    "\n",
    "Foto und/oder Video deines Versuchsaufbaus\n",
    "\n",
    "Ersetze \"???\" mit dem Namen und Pfad deiner Bilddatei oder Video (nächste Zelle)  und entferne die Kommentar Markierungen \"< !--\"  \"-->\", bzw. \"#\"\n",
    "\n",
    "<!--\n",
    " <img src=\"???\" /> \n",
    "-->\n",
    "\n"
   ]
  },
  {
   "cell_type": "code",
   "execution_count": 9,
   "id": "7db52157-5fc2-4bfa-a6c4-5f10291eb625",
   "metadata": {
    "jp-MarkdownHeadingCollapsed": true,
    "jupyter": {
     "source_hidden": true
    },
    "tags": []
   },
   "outputs": [],
   "source": [
    "#%%html\n",
    "#    <video width='480' height='480' controls>\n",
    "#        <source src=\"???\">\n",
    "#    </video>\n"
   ]
  },
  {
   "cell_type": "markdown",
   "id": "dd3c4b14-8fef-4ae5-a7a4-980b1cd0d190",
   "metadata": {},
   "source": [
    "### Aufgabe 3\n",
    " - Messe die Periode des Pendels auf verschiedene Arten (siehe unten) für mindestens 2 verschiedene Pendellängen.  Die Zeitmessung hierbei mit der Stoppuhr des Handys erfolgen, also ohne die Phyphox App. \n",
    "   - Bestimme rechnerisch (\"schätze\") die Genauigkeit der Messungen.\n",
    "     1) Über die Streuung der Messwerte bei wiederholten Messung einer einzelnen Pendelschwingung.\n",
    "     2) Über die Streuung der Messwerte, wenn man jeweils die Zeit für 10 Pendelschwingungen misst.\n",
    "     3) Durch Fehlerfortpflanzung aus je einer der obigen Messungen und deren Mittelwerte, wenn man für den Fehler ein Zeitmessung die übliche Reaktionszeit eines Menschen von 0.1 bis 0.2 Sekunden annimmt. **Tipp:**  Hier kann man das Uncerteinties Paket benutzen.\n",
    "     \n",
    "   - Messe die Pendellänge $L$ deines Pendels. Die effektive Pendellänge ist die Distanz vom Aufhängepunkt bis zum Schwerpunkt der Pendelmasse.  Wie genau ist deine Messung der Pendellänge?\n",
    "   - Vergleiche die verschiedenen Messmethoden.  Mit welcher erreicht man die höchste Genauigkeit?\n",
    "   - Welcher Wert ergibt sich für die Gravitationskonstante $g$ aus deinen Messungen.  Stimmt er in Rahmen der besten Genauigkeit deiner Messungen mit dem Literaturwert überein? "
   ]
  },
  {
   "cell_type": "markdown",
   "id": "67d02d9b-a677-4d1b-bea3-0df296708cbb",
   "metadata": {},
   "source": [
    "#### Methode 1:  Direkte Eingabe der Messwerte in ein Uncertainties array "
   ]
  },
  {
   "cell_type": "code",
   "execution_count": 15,
   "id": "1e3ae11c-bc51-45fa-aa6a-93e51bd50247",
   "metadata": {},
   "outputs": [
    {
     "data": {
      "text/plain": [
       "array([1.2+/-0.1, 1.3+/-0.1, 0.9+/-0.1, 0.8+/-0.1], dtype=object)"
      ]
     },
     "execution_count": 15,
     "metadata": {},
     "output_type": "execute_result"
    }
   ],
   "source": [
    "from uncertainties import unumpy # Importieren von unumpy \n",
    "# t1 = unumpy.uarray([value1, value2, value3, ...], [uncertainty1, uncertainty2, uncertainty3,...])\n",
    "\n",
    "# Beispiel: \n",
    "t1 = unumpy.uarray([1.2, 1.3, 0.9, 0.8], [0.1, 0.1, 0.1, 0.1]) # [s]\n",
    "t1 # Ausgabe der Werte [s]"
   ]
  },
  {
   "cell_type": "code",
   "execution_count": 16,
   "id": "3ffcc1bb-5257-4f28-8987-a3d032242487",
   "metadata": {},
   "outputs": [
    {
     "name": "stdout",
     "output_type": "stream",
     "text": [
      "Periode = 1.05±0.05 [s]\n"
     ]
    }
   ],
   "source": [
    "# Mittelwert mit Fehler\n",
    "t1bar = np.mean(t1)\n",
    "t1bar\n",
    "print(\"Periode = {:P} [s]\".format(t1bar))"
   ]
  },
  {
   "cell_type": "markdown",
   "id": "8337ccab-fd8e-4aeb-87d0-d747c75c97f9",
   "metadata": {},
   "source": [
    "#### Methode 2:  Benutzung von Pandas"
   ]
  },
  {
   "cell_type": "code",
   "execution_count": 21,
   "id": "a614f8a9-4eaf-45a7-9c34-b8da45ad126e",
   "metadata": {},
   "outputs": [
    {
     "data": {
      "text/html": [
       "<div>\n",
       "<style scoped>\n",
       "    .dataframe tbody tr th:only-of-type {\n",
       "        vertical-align: middle;\n",
       "    }\n",
       "\n",
       "    .dataframe tbody tr th {\n",
       "        vertical-align: top;\n",
       "    }\n",
       "\n",
       "    .dataframe thead th {\n",
       "        text-align: right;\n",
       "    }\n",
       "</style>\n",
       "<table border=\"1\" class=\"dataframe\">\n",
       "  <thead>\n",
       "    <tr style=\"text-align: right;\">\n",
       "      <th></th>\n",
       "      <th>t1</th>\n",
       "      <th>Dt1</th>\n",
       "    </tr>\n",
       "  </thead>\n",
       "  <tbody>\n",
       "    <tr>\n",
       "      <th>0</th>\n",
       "      <td>1.2</td>\n",
       "      <td>0.1</td>\n",
       "    </tr>\n",
       "    <tr>\n",
       "      <th>1</th>\n",
       "      <td>1.3</td>\n",
       "      <td>0.1</td>\n",
       "    </tr>\n",
       "    <tr>\n",
       "      <th>2</th>\n",
       "      <td>0.9</td>\n",
       "      <td>0.1</td>\n",
       "    </tr>\n",
       "    <tr>\n",
       "      <th>3</th>\n",
       "      <td>0.8</td>\n",
       "      <td>0.1</td>\n",
       "    </tr>\n",
       "  </tbody>\n",
       "</table>\n",
       "</div>"
      ],
      "text/plain": [
       "    t1  Dt1\n",
       "0  1.2  0.1\n",
       "1  1.3  0.1\n",
       "2  0.9  0.1\n",
       "3  0.8  0.1"
      ]
     },
     "execution_count": 21,
     "metadata": {},
     "output_type": "execute_result"
    }
   ],
   "source": [
    "## Methode 2 mit Pandas\n",
    "# Importiere Pandas, das Tabellen Modul in Python\n",
    "import pandas as pd\n",
    "\n",
    "# Trage zunächst in die Tabelle einzelschwingung.csv deine Messungen zu Aufgabe 2.1 ein\n",
    "# Hierzu muss du den Folder messdaten öffnen und dann mit rechts-klick, den Editor zum öffnen der Datei auswählen\n",
    "\n",
    "# Einlesen der Datei als Pandas Tabelle (DataFrame)\n",
    "zeit1 = pd.read_csv('messdaten/einzelschwingung.csv',skiprows=1) # skiprows=1 um die 1. Zeile zu  überspringen\n",
    "\n",
    "# Tabelle anzeigen\n",
    "zeit1"
   ]
  },
  {
   "cell_type": "code",
   "execution_count": 25,
   "id": "291b47ee-40ae-4e62-a23e-c923ef4ab608",
   "metadata": {},
   "outputs": [
    {
     "data": {
      "text/plain": [
       "array([1.2+/-0.1, 1.3+/-0.1, 0.9+/-0.1, 0.8+/-0.1], dtype=object)"
      ]
     },
     "execution_count": 25,
     "metadata": {},
     "output_type": "execute_result"
    }
   ],
   "source": [
    "# Konvertieren in uncertainty array\n",
    "t1 = unumpy.uarray(zeit1['t1'].values,zeit1['Dt1'])\n",
    "# Messdaten anzeige\n",
    "t1 "
   ]
  },
  {
   "cell_type": "code",
   "execution_count": 26,
   "id": "9a93cdba-7fb2-4ff1-9c0a-e41620c40a27",
   "metadata": {},
   "outputs": [
    {
     "name": "stdout",
     "output_type": "stream",
     "text": [
      "Periode = 1.05±0.05 [s]\n"
     ]
    }
   ],
   "source": [
    "# Mittelwert der Zeiten mit Fehler\n",
    "t1bar = np.mean(t1)\n",
    "\n",
    "# Formatierte Ausgabe\n",
    "print(\"Periode = {:P} [s]\".format(t1bar))"
   ]
  },
  {
   "cell_type": "markdown",
   "id": "df3f0f44-55bf-447c-896f-c823dc41ff7f",
   "metadata": {},
   "source": [
    "##### Nun analog mit den gemessenen Zeiten für 10 Schwingungen"
   ]
  },
  {
   "cell_type": "code",
   "execution_count": 30,
   "id": "f1be2acc-d7e8-4c2e-8df0-f41b45de9cf7",
   "metadata": {
    "tags": []
   },
   "outputs": [
    {
     "data": {
      "text/html": [
       "<div>\n",
       "<style scoped>\n",
       "    .dataframe tbody tr th:only-of-type {\n",
       "        vertical-align: middle;\n",
       "    }\n",
       "\n",
       "    .dataframe tbody tr th {\n",
       "        vertical-align: top;\n",
       "    }\n",
       "\n",
       "    .dataframe thead th {\n",
       "        text-align: right;\n",
       "    }\n",
       "</style>\n",
       "<table border=\"1\" class=\"dataframe\">\n",
       "  <thead>\n",
       "    <tr style=\"text-align: right;\">\n",
       "      <th></th>\n",
       "      <th>t10</th>\n",
       "      <th>D110</th>\n",
       "    </tr>\n",
       "  </thead>\n",
       "  <tbody>\n",
       "    <tr>\n",
       "      <th>0</th>\n",
       "      <td>10.2</td>\n",
       "      <td>0.1</td>\n",
       "    </tr>\n",
       "    <tr>\n",
       "      <th>1</th>\n",
       "      <td>9.8</td>\n",
       "      <td>0.1</td>\n",
       "    </tr>\n",
       "    <tr>\n",
       "      <th>2</th>\n",
       "      <td>10.1</td>\n",
       "      <td>0.1</td>\n",
       "    </tr>\n",
       "    <tr>\n",
       "      <th>3</th>\n",
       "      <td>10.0</td>\n",
       "      <td>0.1</td>\n",
       "    </tr>\n",
       "    <tr>\n",
       "      <th>4</th>\n",
       "      <td>9.9</td>\n",
       "      <td>0.1</td>\n",
       "    </tr>\n",
       "  </tbody>\n",
       "</table>\n",
       "</div>"
      ],
      "text/plain": [
       "    t10   D110\n",
       "0  10.2    0.1\n",
       "1   9.8    0.1\n",
       "2  10.1    0.1\n",
       "3  10.0    0.1\n",
       "4   9.9    0.1"
      ]
     },
     "execution_count": 30,
     "metadata": {},
     "output_type": "execute_result"
    }
   ],
   "source": [
    "# Trage in die Tabelle deine Messungen zu Aufgabe 2.2 ein\n",
    "zeit10 = pd.read_csv('messdaten/zehnschwingungen.csv',skiprows=1)\n",
    "\n",
    "zeit10"
   ]
  },
  {
   "cell_type": "code",
   "execution_count": null,
   "id": "e72e8158-d839-4c30-8ca5-6b9e8aa101a5",
   "metadata": {},
   "outputs": [],
   "source": [
    "# Messung der Pendellänge $L$ \n",
    "\n",
    "# L = ufloat(<Messwert>, <geschätzte Genauigkeit>)\n",
    "\n",
    "\n",
    "# Berechnung von $g$"
   ]
  },
  {
   "cell_type": "markdown",
   "id": "0081ba88-b658-4cb3-b734-af156d097d14",
   "metadata": {
    "tags": []
   },
   "source": [
    "#### Diskussion der Ergebnisse\n",
    "  - Wo traten Probleme auf?\n",
    "  - Was würdest du bei Wiederholen des Versuchs ändern?\n",
    "  - Vergleich der Messungen mit der Literatur.\n",
    "  - Wie könnte man die Genauigkeit der Messung weiter erhöhen?"
   ]
  },
  {
   "cell_type": "markdown",
   "id": "47ddb48f-8b3a-409d-bc4f-b7c645547596",
   "metadata": {
    "tags": []
   },
   "source": [
    "### Aufgabe 4\n",
    " - Erhöhe die Dämpfung des Pendel, so dass sich die Amplitude nach einigen Schwingungen merklich verringert.  Dies lässt sich im obigen Aufbau zum Beispiel durch Anbringen eines \"Segels\" zwischen den Fäden erreichen. \n",
    " 1. Stelle Deine Messdaten grafisch dar.\n",
    " 2. Bestimme die Dämpfungskonstante $\\gamma$. Die Messung erfolgt hier mit der Phyphox App."
   ]
  },
  {
   "cell_type": "markdown",
   "id": "879846b8-8de6-4ee4-8bd3-fd0b6a41ac16",
   "metadata": {},
   "source": [
    "#### B Messungen mit Hilfe der Phyphox App\n",
    "\n",
    " 1) Installiere die  \\href{Phyphox App}{https://phyphox.org/} vom *Apple App store* oder von *Google Play*. \n",
    " 2) Installiere das  \\textit{ETH acceleration} Add-on durch Scannen des QR-code in der Phyphox App (->Plus-Button unten rechts ->Neues Experimen von einem QR-Code).\n",
    "<img src='figuren/vorversuch_qr_code3.png' style=\"float: right;\" /> \n",
    "\n",
    "\n",
    " 3) Starte die ETH App\n",
    " 4) Erlaube den Fernzugriff in den Einstellungen oben rechts und verbinde einen PC, Laptop oder Tablet mit der App.\n",
    " 5) Baue dein Handy in das Pendel ein und steuere deine Messungen mit dem Fernzugriff. "
   ]
  },
  {
   "cell_type": "code",
   "execution_count": 31,
   "id": "f667e553-e65d-45f7-8ced-a09e26da35ee",
   "metadata": {},
   "outputs": [
    {
     "data": {
      "text/html": [
       "<div>\n",
       "<style scoped>\n",
       "    .dataframe tbody tr th:only-of-type {\n",
       "        vertical-align: middle;\n",
       "    }\n",
       "\n",
       "    .dataframe tbody tr th {\n",
       "        vertical-align: top;\n",
       "    }\n",
       "\n",
       "    .dataframe thead th {\n",
       "        text-align: right;\n",
       "    }\n",
       "</style>\n",
       "<table border=\"1\" class=\"dataframe\">\n",
       "  <thead>\n",
       "    <tr style=\"text-align: right;\">\n",
       "      <th></th>\n",
       "      <th>t [s]</th>\n",
       "      <th>Acceleration a_x [m/s^2]</th>\n",
       "      <th>Acceleration a_y [m/s^2]</th>\n",
       "      <th>Acceleration a_z [m/s^2]</th>\n",
       "    </tr>\n",
       "  </thead>\n",
       "  <tbody>\n",
       "    <tr>\n",
       "      <th>0</th>\n",
       "      <td>0.250274</td>\n",
       "      <td>-0.008489</td>\n",
       "      <td>0.018097</td>\n",
       "      <td>-0.289675</td>\n",
       "    </tr>\n",
       "    <tr>\n",
       "      <th>1</th>\n",
       "      <td>0.452655</td>\n",
       "      <td>-0.164507</td>\n",
       "      <td>-0.017175</td>\n",
       "      <td>-0.794220</td>\n",
       "    </tr>\n",
       "    <tr>\n",
       "      <th>2</th>\n",
       "      <td>0.655061</td>\n",
       "      <td>-0.346180</td>\n",
       "      <td>-0.054885</td>\n",
       "      <td>-0.948928</td>\n",
       "    </tr>\n",
       "    <tr>\n",
       "      <th>3</th>\n",
       "      <td>0.857427</td>\n",
       "      <td>-0.341320</td>\n",
       "      <td>-0.082214</td>\n",
       "      <td>-0.746259</td>\n",
       "    </tr>\n",
       "    <tr>\n",
       "      <th>4</th>\n",
       "      <td>1.059818</td>\n",
       "      <td>-0.110155</td>\n",
       "      <td>-0.226060</td>\n",
       "      <td>-0.267478</td>\n",
       "    </tr>\n",
       "    <tr>\n",
       "      <th>...</th>\n",
       "      <td>...</td>\n",
       "      <td>...</td>\n",
       "      <td>...</td>\n",
       "      <td>...</td>\n",
       "    </tr>\n",
       "    <tr>\n",
       "      <th>297</th>\n",
       "      <td>60.353760</td>\n",
       "      <td>-0.012894</td>\n",
       "      <td>-0.034187</td>\n",
       "      <td>-0.155704</td>\n",
       "    </tr>\n",
       "    <tr>\n",
       "      <th>298</th>\n",
       "      <td>60.556108</td>\n",
       "      <td>-0.022751</td>\n",
       "      <td>0.018734</td>\n",
       "      <td>-0.152470</td>\n",
       "    </tr>\n",
       "    <tr>\n",
       "      <th>299</th>\n",
       "      <td>60.758457</td>\n",
       "      <td>-0.013642</td>\n",
       "      <td>0.046952</td>\n",
       "      <td>-0.099042</td>\n",
       "    </tr>\n",
       "    <tr>\n",
       "      <th>300</th>\n",
       "      <td>60.960828</td>\n",
       "      <td>-0.007698</td>\n",
       "      <td>0.042311</td>\n",
       "      <td>-0.018373</td>\n",
       "    </tr>\n",
       "    <tr>\n",
       "      <th>301</th>\n",
       "      <td>61.163173</td>\n",
       "      <td>0.014156</td>\n",
       "      <td>0.001020</td>\n",
       "      <td>0.075985</td>\n",
       "    </tr>\n",
       "  </tbody>\n",
       "</table>\n",
       "<p>302 rows × 4 columns</p>\n",
       "</div>"
      ],
      "text/plain": [
       "         t [s]  Acceleration a_x [m/s^2]  Acceleration a_y [m/s^2]  \\\n",
       "0     0.250274                 -0.008489                  0.018097   \n",
       "1     0.452655                 -0.164507                 -0.017175   \n",
       "2     0.655061                 -0.346180                 -0.054885   \n",
       "3     0.857427                 -0.341320                 -0.082214   \n",
       "4     1.059818                 -0.110155                 -0.226060   \n",
       "..         ...                       ...                       ...   \n",
       "297  60.353760                 -0.012894                 -0.034187   \n",
       "298  60.556108                 -0.022751                  0.018734   \n",
       "299  60.758457                 -0.013642                  0.046952   \n",
       "300  60.960828                 -0.007698                  0.042311   \n",
       "301  61.163173                  0.014156                  0.001020   \n",
       "\n",
       "     Acceleration a_z [m/s^2]  \n",
       "0                   -0.289675  \n",
       "1                   -0.794220  \n",
       "2                   -0.948928  \n",
       "3                   -0.746259  \n",
       "4                   -0.267478  \n",
       "..                        ...  \n",
       "297                 -0.155704  \n",
       "298                 -0.152470  \n",
       "299                 -0.099042  \n",
       "300                 -0.018373  \n",
       "301                  0.075985  \n",
       "\n",
       "[302 rows x 4 columns]"
      ]
     },
     "execution_count": 31,
     "metadata": {},
     "output_type": "execute_result"
    }
   ],
   "source": [
    "# Zu Aufgabe 4.1\n",
    "\n",
    "# Pakete laden\n",
    "#import numpy as np  # Math (bereits geladen)\n",
    "#from uncertainties import ufloat (bereits geladen)\n",
    "import pandas as pd # Data tables \n",
    "import matplotlib.pyplot as plt # Plotting\n",
    "\n",
    "# Messdaten einlesen mit Pandas (pd) als Tabelle (\"dataframes\")\n",
    "# Ersetze die Datei messdaten.csv mit deinen Messungen!\n",
    "table = pd.read_csv(\"messdaten/accelerations.csv\") # bei Pandas heissen die Tabellen \"data frames\"\n",
    "table # Anzeige der Daten-Tabelle"
   ]
  },
  {
   "cell_type": "code",
   "execution_count": 45,
   "id": "bd50cfc4-e575-47b5-adb7-4407abc92dde",
   "metadata": {},
   "outputs": [
    {
     "data": {
      "text/plain": [
       "<AxesSubplot:xlabel='t [s]'>"
      ]
     },
     "execution_count": 45,
     "metadata": {},
     "output_type": "execute_result"
    },
    {
     "data": {
      "image/png": "[encoded data removed]",
      "text/plain": [
       "<Figure size 432x288 with 1 Axes>"
      ]
     },
     "metadata": {
      "needs_background": "light"
     },
     "output_type": "display_data"
    },
    {
     "data": {
      "image/png": "[encoded data removed]",
      "text/plain": [
       "<Figure size 432x288 with 1 Axes>"
      ]
     },
     "metadata": {
      "needs_background": "light"
     },
     "output_type": "display_data"
    },
    {
     "data": {
      "image/png": "[encoded data removed]",
      "text/plain": [
       "<Figure size 432x288 with 1 Axes>"
      ]
     },
     "metadata": {
      "needs_background": "light"
     },
     "output_type": "display_data"
    }
   ],
   "source": [
    "# Plot der z-Beschleunigungskomponenten\n",
    "\n",
    "table.plot(x=\"t [s]\",y=\"Acceleration a_x [m/s^2]\")\n",
    "table.plot(x=\"t [s]\",y=\"Acceleration a_y [m/s^2]\")\n",
    "table.plot(x=\"t [s]\",y=\"Acceleration a_z [m/s^2]\")"
   ]
  },
  {
   "cell_type": "markdown",
   "id": "de4b09ad-7855-478e-8389-8cc0ffffe7eb",
   "metadata": {},
   "source": [
    "#### Tipps zur Auswertung von Aufgabe 4\n",
    "\n",
    " 1. Man wählt die Richtung mit Beschleunigung der höchsten Beschleunigung, hier die z-Richtung.  Beachte, dass diese von der Orientierung des Handys abhängt.  Bei deinen Messungen kann das deshalb eine andere Richtung sein. \n",
    " 2. Die  Grafiken zeigen oft am Anfang grösseres Rauschen.  Für gute Ergebnisse sollte deshalb die ersten Daten nicht bei der Analyse benutzen sondern warten, bis die Kurve gleichmässig abnimmt.\n",
    " 3. Für die lokalen Maxima $\\phi_m$ in der obigen Grafik ist $\\cos(\\omega t) = 0$ und Gleichung (3) reduziert sich für diese  auf\n",
    "  \\begin{equation}\n",
    "  \\phi_m(t) = \\phi_0\\, e^{-\\gamma t}.\n",
    "  \\end{equation}\n",
    "   Logarithmiert man diese Gleichung erhält man eine lineare Gleichung\n",
    "   \\begin{equation}\n",
    "   \\log \\phi_m(t) = \\log\\phi_0 -\\gamma t,\n",
    "   \\end{equation}\n",
    "   deren Steigung $-\\gamma$ ist. Eine mögliche Methode $\\gamma$ zu bestimmen ist deshalb für diese Maxima $\\log\\phi_m$ gegen die Zeit aufzutragen.\n",
    " 4. Alternativ kann man auch eines der Fitting Programme in Python benutzen.  Damit erhält man ein genaueres Ergebnisse, weil so alle Messpunkte und nicht nur die Maxima berücksichtigt werden.  Diese Methode benötigt allerdings Zeit zur Einarbeitung und ausprobieren, wenn man ein solches Programm zum ersten Mal benutzt hat."
   ]
  },
  {
   "cell_type": "markdown",
   "id": "e2592a56-efdf-4d75-a650-01c885bc2ec8",
   "metadata": {},
   "source": [
    "#####  Erste mögliche Schritte zur Bestimmung der Dämpfungskonstante:"
   ]
  },
  {
   "cell_type": "code",
   "execution_count": 67,
   "id": "a17620c0-b13b-40d9-9ab0-332f480c5d73",
   "metadata": {},
   "outputs": [
    {
     "data": {
      "text/plain": [
       "Text(0.5, 1.0, 'Zeitentwicklung des logarithmierten Absolutwerts')"
      ]
     },
     "execution_count": 67,
     "metadata": {},
     "output_type": "execute_result"
    },
    {
     "data": {
      "image/png": "[encoded data removed]",
      "text/plain": [
       "<Figure size 432x288 with 1 Axes>"
      ]
     },
     "metadata": {
      "needs_background": "light"
     },
     "output_type": "display_data"
    }
   ],
   "source": [
    "import matplotlib.pyplot as plt  # Importiere Matplotlib zum Plotten ausserhalb von Pandas\n",
    "logphi=np.log(np.abs(table[\"Acceleration a_z [m/s^2]\"]))  # Logarithmierte absolute Beschleunigung\n",
    "fig = plt.plot(table[\"t [s]\"][50:],logphi[50:])\n",
    "plt.xlabel(\"Zeit [s]\")\n",
    "plt.ylabel(\"log($\\Phi$)\")\n",
    "plt.title(\"Zeitentwicklung des logarithmierten Absolutwerts\")"
   ]
  },
  {
   "cell_type": "markdown",
   "id": "fad09f9a-32ab-4124-a2a8-08c7846a8a52",
   "metadata": {},
   "source": [
    "Die Maxima zeigen wie erwartet nach ca. 10 Sekunden eine linear Abnahme. Aus der Steigung lässt sich nach Tipp 3 also die Dämpfung bestimmen.  Man kann nun zum Beispeil die Maxima auslesen und mit einer linearen Regression diese Steigung und deren Fehler bestimmen."
   ]
  },
  {
   "cell_type": "code",
   "execution_count": null,
   "id": "741ec4ba-2120-45c7-8003-8b79744d5777",
   "metadata": {},
   "outputs": [],
   "source": [
    "# Deine Auswertung."
   ]
  },
  {
   "cell_type": "markdown",
   "id": "6a995fbf-98fb-4c15-a778-7f778d5e7378",
   "metadata": {
    "jp-MarkdownHeadingCollapsed": true,
    "tags": []
   },
   "source": [
    "#### Diskussion der Ergebnisse\n",
    "  - Wo traten Probleme auf?\n",
    "  - Was würdest du bei Wiederholen des Versuchs ändern?\n",
    "  - Wie könnte man die Genauigkeit der Messung weiter erhöhen?"
   ]
  },
  {
   "cell_type": "markdown",
   "id": "855b43e2-4a56-4a5f-818b-da84976d1f72",
   "metadata": {},
   "source": [
    "## Anhänge\n",
    "\n",
    "\n",
    "### A1 Ungedämpfte Pendelschwingung\n",
    "\n",
    "Wir zerlegen die Gravitationskraft $\\vec{F}_G = m\\vec{g}$, die am Gewicht der Pendels der Masse $m$ angreift,  in zwei Komponenten: $\\vec{F}_{\\textrm{rad}}$ entlang der Schnur, welches für die Zugspannung in der Schnur erzeugt und Rückstellkraft $\\vec{F}_{\\textrm{tan}}$ tangential zur Bewegung des Pendels, die das Pendel zurück zur Ruheposition bei $\\phi = 0$ beschleunigt. \n",
    "\n",
    "<center>\n",
    "   <img src=\"figuren/kraefteAmPendel.svg\" width=\"260\"/>\n",
    "</center>\n",
    "   \n",
    "**Bild 1:** *Kräfte an einem Pendel der Länge $L$ bei Auslenkung $\\phi$. Die Schwerkraft $\\vec{F}_G$ erzeugt zum einen eine radiale Zugspannung $\\vec{F}_{\\textrm{rad}}$ im Faden und zum anderen eine Rückstellkraft $\\vec{F}_{\\textrm{tan}}$  tangential zur Pendelbewegung. \n",
    "\n",
    "Für die tangentiale Kraft, die das Pendel beschleunigt, gilt $\\vec{F}_{\\textrm{tan}} = \\vec{F}_G \\sin\\phi$ (siehe Bild 1).\n",
    "Nach dem 2. Newton'schen Gesetzt folgt\n",
    "\\begin{align}\n",
    "m a  & = \\vec{F}_{\\textrm{tan}}, \\\\\n",
    "m L \\ddot\\phi  & =  m g\\sin\\phi. \\tag{A1}\\label{eq:ode}\n",
    "\\end{align}\n",
    "\n",
    "Die Masse $m$ kürzt sich aus (\\ref{eq:ode}).  Die Pendelbewegung ist folglich unabhängig von der Pendelmasse.  Für kleine Winkel $\\phi$ ist $\\sin\\phi\\approx \\phi$.  Mit dieser Näherung ergibt sich \n",
    "\n",
    "\\begin{equation}\n",
    "\\ddot\\phi = \\frac{g}{L} \\phi. \\tag{A2}\\label{eq:harmonic_ode}\n",
    "\\end{equation}\n",
    "\n",
    "Für die Anfangsbedingungen  $\\phi(0)=\\phi_0,\\, \\dot\\phi(t=0) = 0$ ergibt sich als Lösung die harmonische Schwingung\n",
    "\n",
    "\\begin{equation}\n",
    "\\phi(t) = \\phi_0\\cos(\\omega_0 t)\\tag{A3}\\label{eq:harmonic}\n",
    "\\end{equation}\n",
    "\n",
    "mit \n",
    "\n",
    "\\begin{equation}\n",
    "\\omega_0 = \\sqrt{g\\over L}.\\tag{1}\\label{eq:omega0}\n",
    "\\end{equation}\n",
    "\n",
    "\n",
    "### A2 Gedämpfte Pendelschwingung\n",
    "\n",
    "\n",
    "\n",
    "Berücksichtigt man die Reibungsverluste des Pendels and der Luft und am Aufhängepunkt so greift neben der Rückstellkraft wirkt auch noch eine dämpfende Reibungskraft $\\vec{F}_d$ am Pendel.  Wir nehmen an diese proportional zur seiner Geschwindigkeit $v$ des Pendels ist (Proportionalitätskonstante: $m\\gamma$):  $\\vec{F}_d = - m\\gamma v = - m\\gamma L \\dot\\phi$.  Aus (\\ref{eq:ode}) wird \n",
    "\n",
    "\\begin{align}\n",
    "m a  & = \\vec{F}_{\\textrm{tan}} + \\vec{F}_d \\\\\n",
    "m L \\ddot\\phi  & =  m g\\sin\\phi - m\\gamma L\\dot\\phi \\tag{A4}\\label{eq:ode_sin}\n",
    "\\end{align}\n",
    "oder, wenn man wieder für kleine Winkel $\\sin\\phi$ durch $\\phi$ ersetzt,\n",
    "\n",
    "\\begin{equation}\n",
    "\\ddot\\phi  =  \\frac{g}{L} \\phi - \\gamma\\dot\\phi.  \\tag{A5}\\label{eq:damped}\n",
    "\\end{equation}\n",
    "\n",
    "Wenn $\\omega>\\gamma$ ist, ergibt sich also Lösung  von (\\ref{eq:damped}) für die Anfangsbedingungen $\\phi(0)=\\phi_0,\\, \\dot\\phi(0) = 0$:\n",
    "\n",
    "\n",
    "\\begin{equation}\n",
    "\\phi(t) = \\phi_0\\, e^{-\\gamma t} \\cos{\\omega_\\gamma t}, \\tag{3} \\label{eq:phi_ta},\n",
    "\\end{equation}\n",
    "mit\n",
    "\\begin{equation}\n",
    "\\omega_\\gamma = \\sqrt{\\omega_0^2-\\gamma^2},\\tag{4} \\label{eq:omega_g}\n",
    "\\end{equation}\n",
    "\n",
    "\n",
    " wovon man sich durch einsetzen von (\\ref{eq:phi_ta}), (\\ref{eq:omega_g}) in (\\ref{eq:damped}) überzeugen kann.\n",
    " \n",
    " \n",
    "### B Weiterführendes\n",
    "\n",
    "#### B1 Ungedämpfte Pendelperiode für beliebige Auslenkung $\\phi_0$\n",
    "\n",
    "For grössere Auslenkungen $\\phi$, gilt $\\sin\\phi\\approx\\phi$ nicht mehr.\n",
    "Eine gute Näherung für die Periode $T$ eines solchen ungedämpfte Pendels lautet (siehe https://en.wikipedia.org/wiki/Pendulum_(mechanics))\n",
    "\n",
    "\\begin{equation}\n",
    "T \\approx \\frac{T_0}{\\cos^2\\frac{\\phi}{4}}\\approx T_0 \\left(1+\\frac{\\phi^2}{16}\\right)\\tag{B1}\\label{eq:Tphi}\n",
    "\\end{equation}\n",
    "\n",
    "##### Optionale Aufgabe 5\n",
    "\n",
    "Versuche  die Verlängerung der Periode bei grosser Amplitude nachzuweisen.  Vergleiche deins Messung mit (\\ref{eq:Tphi})\n",
    "\n",
    "#### B2 Nichtlineare Reibung\n",
    "\n",
    "Wenn sich das Pendel nicht langsam bewegt, wird die Luftströmung um das Pendel turbulent und die Reibung des Pendels wird in der Regel proportional zum Quadrat der Geschwindigkeit sein, sie Versuch 7:\n",
    "\n",
    "\\begin{equation}\n",
    "|\\vec{F}_d| \\propto -\\dot\\phi^2\n",
    "\\end{equation}\n",
    "\n",
    "##### Optionale Aufgabe 6\n",
    "\n",
    "Diskutiere qualitativ, wie sich die Pendelbewegung dadurch ändert.\n"
   ]
  },
  {
   "cell_type": "code",
   "execution_count": null,
   "id": "5c541d1e-36bd-428e-b7ff-b5499fbcd264",
   "metadata": {},
   "outputs": [],
   "source": []
  }
 ],
 "metadata": {
  "kernelspec": {
   "display_name": "Python 3 (ipykernel)",
   "language": "python",
   "name": "python3"
  },
  "language_info": {
   "codemirror_mode": {
    "name": "ipython",
    "version": 3
   },
   "file_extension": ".py",
   "mimetype": "text/x-python",
   "name": "python",
   "nbconvert_exporter": "python",
   "pygments_lexer": "ipython3",
   "version": "3.9.7"
  }
 },
 "nbformat": 4,
 "nbformat_minor": 5
}
